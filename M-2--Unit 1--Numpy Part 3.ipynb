{
 "cells": [
  {
   "cell_type": "markdown",
   "id": "2ea80a6b-74fb-4a47-9f1e-ead9aa40c0c9",
   "metadata": {},
   "source": [
    "# DATA Types in NUMPY"
   ]
  },
  {
   "cell_type": "code",
   "execution_count": 1,
   "id": "8ce9b375-f1a3-47fa-907d-0fa914fac828",
   "metadata": {},
   "outputs": [
    {
     "name": "stdout",
     "output_type": "stream",
     "text": [
      "The datat type is: int32\n"
     ]
    }
   ],
   "source": [
    "import numpy as np\n",
    "x=np.array([1,2,3,4])\n",
    "print('The datat type is:',x.dtype)"
   ]
  },
  {
   "cell_type": "code",
   "execution_count": 2,
   "id": "5622adb2-55fd-4d4c-a6f4-57ef97f2c79b",
   "metadata": {},
   "outputs": [
    {
     "name": "stdout",
     "output_type": "stream",
     "text": [
      "The data type is: float64\n"
     ]
    }
   ],
   "source": [
    "x1=np.array([1.2,2.3,4.5,3.8,5.5])\n",
    "print('The data type is:',x1.dtype)"
   ]
  },
  {
   "cell_type": "code",
   "execution_count": 3,
   "id": "5b3a7660-4c75-4f5c-9003-d6ca93a326ba",
   "metadata": {},
   "outputs": [
    {
     "name": "stdout",
     "output_type": "stream",
     "text": [
      "The data type is: <U6\n"
     ]
    }
   ],
   "source": [
    "x2=np.array(['apple','chiku','orange','papaya'])\n",
    "print('The data type is:',x2.dtype)"
   ]
  },
  {
   "cell_type": "code",
   "execution_count": 4,
   "id": "bf06bcb1-48cf-4365-9ce7-75cee1b0090e",
   "metadata": {},
   "outputs": [
    {
     "name": "stdout",
     "output_type": "stream",
     "text": [
      "The data type is: <U32\n"
     ]
    }
   ],
   "source": [
    "x3=np.array(['apple','chiku','orange','papaya',1,2,3,3,3.5,5.5])\n",
    "print('The data type is:',x3.dtype)"
   ]
  },
  {
   "cell_type": "markdown",
   "id": "ad14e7cf-9db1-4262-9292-bbc312fc1df9",
   "metadata": {},
   "source": [
    "# converting one data type into another data type"
   ]
  },
  {
   "cell_type": "code",
   "execution_count": 6,
   "id": "8574a457-aed5-4769-a929-6af30d049960",
   "metadata": {},
   "outputs": [
    {
     "name": "stdout",
     "output_type": "stream",
     "text": [
      "[1 2 3 4 5]\n",
      "int32\n",
      "[1 2 3 4 5]\n",
      "int16\n"
     ]
    }
   ],
   "source": [
    "x=np.array([1,2,3,4,5])\n",
    "print(x)\n",
    "print(x.dtype)\n",
    "\n",
    "x1=np.array([1,2,3,4,5],dtype=np.int16)\n",
    "print(x1)\n",
    "print(x1.dtype)"
   ]
  },
  {
   "cell_type": "code",
   "execution_count": 7,
   "id": "287a6d98-18cd-4550-a721-bbf80cdfc0c4",
   "metadata": {},
   "outputs": [
    {
     "name": "stdout",
     "output_type": "stream",
     "text": [
      "[1 2 3 4 5]\n",
      "int32\n",
      "[1. 2. 3. 4. 5.]\n",
      "float32\n"
     ]
    }
   ],
   "source": [
    "x=np.array([1,2,3,4,5])\n",
    "print(x)\n",
    "print(x.dtype)\n",
    "\n",
    "x1=np.array([1,2,3,4,5],dtype='f')\n",
    "print(x1)\n",
    "print(x1.dtype)"
   ]
  },
  {
   "cell_type": "code",
   "execution_count": 9,
   "id": "236d39f1-117b-4d5e-92e8-bda614b98d56",
   "metadata": {},
   "outputs": [
    {
     "name": "stdout",
     "output_type": "stream",
     "text": [
      "[1 2 3 4]\n",
      "int32\n",
      "[1. 2. 3. 4.]\n",
      "float64\n"
     ]
    }
   ],
   "source": [
    "m=np.array([1,2,3,4])\n",
    "print(m)\n",
    "print(m.dtype)\n",
    "\n",
    "m1=np.float64(m)\n",
    "print(m1)\n",
    "print(m1.dtype)"
   ]
  },
  {
   "cell_type": "code",
   "execution_count": 10,
   "id": "66393fc2-ccba-47ea-b907-ae92e210ee2d",
   "metadata": {},
   "outputs": [
    {
     "name": "stdout",
     "output_type": "stream",
     "text": [
      "[1 2 3 4]\n",
      "int32\n",
      "[1. 2. 3. 4.]\n",
      "float64\n",
      "[1 2 3 4]\n",
      "int64\n"
     ]
    }
   ],
   "source": [
    "m=np.array([1,2,3,4])\n",
    "print(m)\n",
    "print(m.dtype)\n",
    "\n",
    "m1=np.float64(m)\n",
    "print(m1)\n",
    "print(m1.dtype)\n",
    "\n",
    "m2=np.int64(m1)\n",
    "print(m2)\n",
    "print(m2.dtype)"
   ]
  },
  {
   "cell_type": "code",
   "execution_count": 11,
   "id": "6a4e3edc-7942-4ba6-a862-90846f28624b",
   "metadata": {},
   "outputs": [
    {
     "name": "stdout",
     "output_type": "stream",
     "text": [
      "[1 2 3 4]\n",
      "int32\n",
      "[1.+0.j 2.+0.j 3.+0.j 4.+0.j]\n",
      "complex128\n"
     ]
    }
   ],
   "source": [
    "x=np.array([1,2,3,4])\n",
    "y=x.astype(complex)\n",
    "print(x)\n",
    "print(x.dtype)\n",
    "print(y)\n",
    "print(y.dtype)"
   ]
  },
  {
   "cell_type": "markdown",
   "id": "1429def8-d826-4c37-8015-22a8f32de690",
   "metadata": {},
   "source": [
    "# arithmatic operations in munpy array"
   ]
  },
  {
   "cell_type": "markdown",
   "id": "a1f07140-9bf6-4e8c-860b-4d26cfe56c24",
   "metadata": {},
   "source": [
    "\"\"\"addition\"\"\""
   ]
  },
  {
   "cell_type": "code",
   "execution_count": 13,
   "id": "da9018db-08fc-4f67-9919-e13ca054898c",
   "metadata": {},
   "outputs": [
    {
     "name": "stdout",
     "output_type": "stream",
     "text": [
      "[4 5 6 7]\n"
     ]
    }
   ],
   "source": [
    "x=np.array([1,2,3,4])\n",
    "y=x+3\n",
    "print(y)"
   ]
  },
  {
   "cell_type": "code",
   "execution_count": 14,
   "id": "35fcc429-b68e-4839-93f8-28835f063fb9",
   "metadata": {},
   "outputs": [
    {
     "name": "stdout",
     "output_type": "stream",
     "text": [
      "[ 6  8 10 12 14]\n"
     ]
    }
   ],
   "source": [
    "x=np.array([1,2,3,4,5])\n",
    "m=np.array([5,6,7,8,9])\n",
    "y=x+m\n",
    "print(y)"
   ]
  },
  {
   "cell_type": "code",
   "execution_count": 15,
   "id": "2842019a-756f-44e4-aed9-ea29e0f003dd",
   "metadata": {},
   "outputs": [
    {
     "name": "stdout",
     "output_type": "stream",
     "text": [
      "[ 6  8 10 12 14]\n"
     ]
    }
   ],
   "source": [
    "x=np.array([1,2,3,4,5])\n",
    "m=np.array([5,6,7,8,9])\n",
    "y=np.add(x,m)\n",
    "print(y)"
   ]
  },
  {
   "cell_type": "markdown",
   "id": "80ccdd97-7f3b-49ba-8c7f-010ab0a0cec0",
   "metadata": {},
   "source": [
    "# Subtraction"
   ]
  },
  {
   "cell_type": "code",
   "execution_count": 16,
   "id": "6d022e6a-85a5-411d-979e-f0491dfa3381",
   "metadata": {},
   "outputs": [
    {
     "name": "stdout",
     "output_type": "stream",
     "text": [
      "[-2 -1  0  1  2]\n"
     ]
    }
   ],
   "source": [
    "x=np.array([1,2,3,4,5])\n",
    "y=x-3\n",
    "print(y)"
   ]
  },
  {
   "cell_type": "code",
   "execution_count": 17,
   "id": "124c423e-e1af-4913-8a69-cbafaa42178c",
   "metadata": {},
   "outputs": [
    {
     "name": "stdout",
     "output_type": "stream",
     "text": [
      "[-4 -4 -4 -4 -4]\n"
     ]
    }
   ],
   "source": [
    "x=np.array([1,2,3,4,5])\n",
    "m=np.array([5,6,7,8,9])\n",
    "y=x-m\n",
    "print(y)"
   ]
  },
  {
   "cell_type": "code",
   "execution_count": 18,
   "id": "939f6ccd-1fc6-4a81-82f8-d3f3aa796ba3",
   "metadata": {},
   "outputs": [
    {
     "name": "stdout",
     "output_type": "stream",
     "text": [
      "[-4 -4 -4 -4 -4]\n"
     ]
    }
   ],
   "source": [
    "x=np.array([1,2,3,4,5])\n",
    "m=np.array([5,6,7,8,9])\n",
    "y=np.subtract(x,m)\n",
    "print(y)"
   ]
  },
  {
   "cell_type": "markdown",
   "id": "27cf7653-59ce-4d74-8a22-b669df651368",
   "metadata": {},
   "source": [
    "# Multiplication"
   ]
  },
  {
   "cell_type": "code",
   "execution_count": 19,
   "id": "02eb0ab0-217d-448e-a4e3-ffc9e16bccc8",
   "metadata": {},
   "outputs": [
    {
     "name": "stdout",
     "output_type": "stream",
     "text": [
      "[ 3  6  9 12]\n"
     ]
    }
   ],
   "source": [
    "x=np.array([1,2,3,4])\n",
    "y=x*3\n",
    "print(y)"
   ]
  },
  {
   "cell_type": "code",
   "execution_count": 20,
   "id": "ea2b2f2f-b683-4729-8c88-09cfcd145cff",
   "metadata": {},
   "outputs": [
    {
     "name": "stdout",
     "output_type": "stream",
     "text": [
      "[ 5 12 21 32 45]\n"
     ]
    }
   ],
   "source": [
    "x=np.array([1,2,3,4,5])\n",
    "m=np.array([5,6,7,8,9])\n",
    "y=np.multiply(x,m)\n",
    "print(y)"
   ]
  },
  {
   "cell_type": "code",
   "execution_count": 21,
   "id": "9678280a-12d9-4009-b694-96c92f16d90e",
   "metadata": {},
   "outputs": [
    {
     "name": "stdout",
     "output_type": "stream",
     "text": [
      "[ 5 12 21 32 45]\n"
     ]
    }
   ],
   "source": [
    "x=np.array([1,2,3,4,5])\n",
    "m=np.array([5,6,7,8,9])\n",
    "y=x*m\n",
    "print(y)"
   ]
  },
  {
   "cell_type": "markdown",
   "id": "1a62ae67-8e1f-4ef1-862a-e27e5668c5fe",
   "metadata": {},
   "source": [
    "# division"
   ]
  },
  {
   "cell_type": "code",
   "execution_count": 22,
   "id": "1a6472c8-0e38-4951-9f9f-979552f8a359",
   "metadata": {},
   "outputs": [
    {
     "name": "stdout",
     "output_type": "stream",
     "text": [
      "[0.33333333 0.66666667 1.         1.33333333]\n"
     ]
    }
   ],
   "source": [
    "x=np.array([1,2,3,4])\n",
    "y=x/3\n",
    "print(y)"
   ]
  },
  {
   "cell_type": "code",
   "execution_count": 23,
   "id": "22849842-221c-4a5d-b279-b6434e27e5d0",
   "metadata": {},
   "outputs": [
    {
     "name": "stdout",
     "output_type": "stream",
     "text": [
      "[0.2        0.33333333 0.42857143 0.5        0.55555556]\n"
     ]
    }
   ],
   "source": [
    "x=np.array([1,2,3,4,5])\n",
    "m=np.array([5,6,7,8,9])\n",
    "y=np.divide(x,m)\n",
    "print(y)"
   ]
  },
  {
   "cell_type": "markdown",
   "id": "8275501c-8722-4bda-bdc4-52cbd17da369",
   "metadata": {},
   "source": [
    "# modulous"
   ]
  },
  {
   "cell_type": "code",
   "execution_count": 24,
   "id": "4273c116-f177-4f93-b781-c6b58af3f321",
   "metadata": {},
   "outputs": [
    {
     "name": "stdout",
     "output_type": "stream",
     "text": [
      "[2 1 0 2]\n"
     ]
    }
   ],
   "source": [
    "x=np.array([11,22,33,44])\n",
    "y=x%3\n",
    "print(y)"
   ]
  },
  {
   "cell_type": "code",
   "execution_count": 25,
   "id": "41b0be5d-386d-4344-8ee5-bf61978ea823",
   "metadata": {},
   "outputs": [
    {
     "name": "stdout",
     "output_type": "stream",
     "text": [
      "[1 2 3 4 5]\n"
     ]
    }
   ],
   "source": [
    "x=np.array([1,2,3,4,5])\n",
    "m=np.array([5,6,7,8,9])\n",
    "y=x%m\n",
    "print(y)"
   ]
  },
  {
   "cell_type": "code",
   "execution_count": 27,
   "id": "7de454df-112d-4b16-87a3-612629f79541",
   "metadata": {},
   "outputs": [
    {
     "name": "stdout",
     "output_type": "stream",
     "text": [
      "[1 2 3 4 5]\n"
     ]
    }
   ],
   "source": [
    "x=np.array([1,2,3,4,5])\n",
    "m=np.array([5,6,7,8,9])\n",
    "y=np.mod(x,m)\n",
    "print(y)"
   ]
  },
  {
   "cell_type": "markdown",
   "id": "abfea5ce-d9f0-41b6-9802-faa31411b5b5",
   "metadata": {},
   "source": [
    "# reciprocal"
   ]
  },
  {
   "cell_type": "code",
   "execution_count": 28,
   "id": "5ef4877b-1661-49de-8b63-fb0d900e2a94",
   "metadata": {},
   "outputs": [
    {
     "name": "stdout",
     "output_type": "stream",
     "text": [
      "[0 0 0 0]\n"
     ]
    }
   ],
   "source": [
    "a=np.array([21,22,23,24])\n",
    "b=np.reciprocal(a)\n",
    "print(b)"
   ]
  },
  {
   "cell_type": "markdown",
   "id": "dfcc0502-faa1-451f-8071-d1ab3bd11e2e",
   "metadata": {},
   "source": [
    "# arithematic operations in 2D array"
   ]
  },
  {
   "cell_type": "code",
   "execution_count": 31,
   "id": "3165cd0c-3432-4f03-802c-eef0acd7a131",
   "metadata": {},
   "outputs": [
    {
     "name": "stdout",
     "output_type": "stream",
     "text": [
      "[[ 2  4  6  8]\n",
      " [10 12 14 16]]\n"
     ]
    }
   ],
   "source": [
    "n1=np.array([[1,2,3,4],[5,6,7,8]])\n",
    "n2=np.array([[1,2,3,4],[5,6,7,8]])\n",
    "x=n1+n2\n",
    "print(x)"
   ]
  },
  {
   "cell_type": "code",
   "execution_count": 32,
   "id": "0f402788-9f7a-4fdb-8944-6606d60e9e07",
   "metadata": {},
   "outputs": [
    {
     "name": "stdout",
     "output_type": "stream",
     "text": [
      "[[0 0 0 0]\n",
      " [0 0 0 0]]\n"
     ]
    }
   ],
   "source": [
    "n1=np.array([[1,2,3,4],[5,6,7,8]])\n",
    "n2=np.array([[1,2,3,4],[5,6,7,8]])\n",
    "x=n1-n2\n",
    "print(x)"
   ]
  },
  {
   "cell_type": "code",
   "execution_count": 33,
   "id": "ff97ec21-02ec-482c-97ab-a3794645033d",
   "metadata": {},
   "outputs": [
    {
     "name": "stdout",
     "output_type": "stream",
     "text": [
      "[[ 1  4  9 16]\n",
      " [25 36 49 64]]\n"
     ]
    }
   ],
   "source": [
    "n1=np.array([[1,2,3,4],[5,6,7,8]])\n",
    "n2=np.array([[1,2,3,4],[5,6,7,8]])\n",
    "x=n1*n2\n",
    "print(x)"
   ]
  },
  {
   "cell_type": "code",
   "execution_count": 34,
   "id": "cb1b3cee-c039-4a10-97ff-becef8bc638e",
   "metadata": {},
   "outputs": [
    {
     "name": "stdout",
     "output_type": "stream",
     "text": [
      "[[1. 1. 1. 1.]\n",
      " [1. 1. 1. 1.]]\n"
     ]
    }
   ],
   "source": [
    "n1=np.array([[1,2,3,4],[5,6,7,8]])\n",
    "n2=np.array([[1,2,3,4],[5,6,7,8]])\n",
    "x=n1/n2\n",
    "print(x)"
   ]
  },
  {
   "cell_type": "code",
   "execution_count": 35,
   "id": "d7f11ed4-9a73-4679-b596-23095e40c76a",
   "metadata": {},
   "outputs": [
    {
     "name": "stdout",
     "output_type": "stream",
     "text": [
      "[[0 0 0 0]\n",
      " [0 0 0 0]]\n"
     ]
    }
   ],
   "source": [
    "n1=np.array([[1,2,3,4],[5,6,7,8]])\n",
    "n2=np.array([[1,2,3,4],[5,6,7,8]])\n",
    "x=n1%n2\n",
    "print(x)"
   ]
  },
  {
   "cell_type": "markdown",
   "id": "281753a1-9a0f-445e-b7c2-b03aaf545ab8",
   "metadata": {},
   "source": [
    "# arithematic operations in 3D array"
   ]
  },
  {
   "cell_type": "code",
   "execution_count": 39,
   "id": "cb22e303-de02-489b-8344-8bb84d306378",
   "metadata": {},
   "outputs": [
    {
     "name": "stdout",
     "output_type": "stream",
     "text": [
      "[[[ 2  4  6  8]\n",
      "  [10 12 14 16]]]\n",
      "3\n"
     ]
    }
   ],
   "source": [
    "n1=np.array([[[1,2,3,4],[5,6,7,8]]])\n",
    "n2=np.array([[[1,2,3,4],[5,6,7,8]]])\n",
    "x=n1+n2\n",
    "print(x)\n",
    "print(x.ndim)"
   ]
  },
  {
   "cell_type": "code",
   "execution_count": 40,
   "id": "d957d509-ed68-40e0-a2dd-9110a371e65d",
   "metadata": {},
   "outputs": [
    {
     "name": "stdout",
     "output_type": "stream",
     "text": [
      "[[[0 0 0 0]\n",
      "  [0 0 0 0]]]\n",
      "3\n"
     ]
    }
   ],
   "source": [
    "n1=np.array([[[1,2,3,4],[5,6,7,8]]])\n",
    "n2=np.array([[[1,2,3,4],[5,6,7,8]]])\n",
    "x=n1-n2\n",
    "print(x)\n",
    "print(x.ndim)"
   ]
  },
  {
   "cell_type": "code",
   "execution_count": 41,
   "id": "4af0832a-bdde-404c-a879-ad7d46ebb1fc",
   "metadata": {},
   "outputs": [
    {
     "name": "stdout",
     "output_type": "stream",
     "text": [
      "[[[ 1  4  9 16]\n",
      "  [25 36 49 64]]]\n",
      "3\n"
     ]
    }
   ],
   "source": [
    "n1=np.array([[[1,2,3,4],[5,6,7,8]]])\n",
    "n2=np.array([[[1,2,3,4],[5,6,7,8]]])\n",
    "x=n1*n2\n",
    "print(x)\n",
    "print(x.ndim)"
   ]
  },
  {
   "cell_type": "code",
   "execution_count": 42,
   "id": "5a4562f0-6896-4f34-bbfd-a6667c047e57",
   "metadata": {},
   "outputs": [
    {
     "name": "stdout",
     "output_type": "stream",
     "text": [
      "[[[1. 1. 1. 1.]\n",
      "  [1. 1. 1. 1.]]]\n",
      "3\n"
     ]
    }
   ],
   "source": [
    "n1=np.array([[[1,2,3,4],[5,6,7,8]]])\n",
    "n2=np.array([[[1,2,3,4],[5,6,7,8]]])\n",
    "x=n1/n2\n",
    "print(x)\n",
    "print(x.ndim)"
   ]
  },
  {
   "cell_type": "markdown",
   "id": "c485d3cb-12a2-4ce3-a06b-389b719a3541",
   "metadata": {},
   "source": [
    "# arithematic functions"
   ]
  },
  {
   "cell_type": "markdown",
   "id": "bd7706bc-fe3c-413e-9b5e-d3386eabe5ab",
   "metadata": {},
   "source": [
    "# max and min alongwith index number"
   ]
  },
  {
   "cell_type": "code",
   "execution_count": 43,
   "id": "fa0bc0a3-79a0-4607-adde-3fc9cf3a0fcc",
   "metadata": {},
   "outputs": [
    {
     "name": "stdout",
     "output_type": "stream",
     "text": [
      "67\n",
      "1\n"
     ]
    }
   ],
   "source": [
    "import numpy as np\n",
    "a=np.array([1,3,2,56,34,67,22,33,44,66])\n",
    "print(np.max(a))\n",
    "print(np.min(a))"
   ]
  },
  {
   "cell_type": "code",
   "execution_count": 45,
   "id": "463b5e3c-0842-4354-8ae0-78dffe93f56e",
   "metadata": {},
   "outputs": [
    {
     "name": "stdout",
     "output_type": "stream",
     "text": [
      "67 5\n",
      "1 0\n"
     ]
    }
   ],
   "source": [
    "import numpy as np\n",
    "a=np.array([1,3,2,56,34,67,22,33,44,66])\n",
    "print(np.max(a),np.argmax(a))\n",
    "print(np.min(a),np.argmin(b))"
   ]
  },
  {
   "cell_type": "code",
   "execution_count": 47,
   "id": "206a6843-1aa0-485c-a55f-991271563082",
   "metadata": {},
   "outputs": [
    {
     "name": "stdout",
     "output_type": "stream",
     "text": [
      "[[ 11  23  45  99  66]\n",
      " [ 57 100 150  89  33]]\n",
      "2\n",
      "[11 23 45 89 33]\n"
     ]
    }
   ],
   "source": [
    "m=np.array([[11,23,45,99,66],[57,100,150,89,33]])\n",
    "print(m)\n",
    "print(m.ndim)\n",
    "n=np.min(m,axis=0)\n",
    "print(n)"
   ]
  },
  {
   "cell_type": "code",
   "execution_count": 48,
   "id": "a4ee8bc5-5075-490b-989b-1dbb7de7f625",
   "metadata": {},
   "outputs": [
    {
     "name": "stdout",
     "output_type": "stream",
     "text": [
      "[[ 11  23  45  99  66]\n",
      " [ 57 100 150  89  33]]\n",
      "2\n",
      "[11 33]\n"
     ]
    }
   ],
   "source": [
    "m=np.array([[11,23,45,99,66],[57,100,150,89,33]])\n",
    "print(m)\n",
    "print(m.ndim)\n",
    "n=np.min(m,axis=1)\n",
    "print(n)"
   ]
  },
  {
   "cell_type": "code",
   "execution_count": 49,
   "id": "717617f3-d1cf-411e-b28a-6faf0a0a4b37",
   "metadata": {},
   "outputs": [
    {
     "name": "stdout",
     "output_type": "stream",
     "text": [
      "[[ 11  23  45  99  66]\n",
      " [ 57 100 150  89  33]]\n",
      "2\n",
      "[ 57 100 150  99  66]\n"
     ]
    }
   ],
   "source": [
    "m=np.array([[11,23,45,99,66],[57,100,150,89,33]])\n",
    "print(m)\n",
    "print(m.ndim)\n",
    "n=np.max(m,axis=0)\n",
    "print(n)"
   ]
  },
  {
   "cell_type": "code",
   "execution_count": 50,
   "id": "bfa4dd03-12ac-4270-bb05-5686df7f12a1",
   "metadata": {},
   "outputs": [
    {
     "name": "stdout",
     "output_type": "stream",
     "text": [
      "[[ 11  23  45  99  66]\n",
      " [ 57 100 150  89  33]]\n",
      "2\n",
      "[ 99 150]\n"
     ]
    }
   ],
   "source": [
    "m=np.array([[11,23,45,99,66],[57,100,150,89,33]])\n",
    "print(m)\n",
    "print(m.ndim)\n",
    "n=np.max(m,axis=1)\n",
    "print(n)"
   ]
  },
  {
   "cell_type": "markdown",
   "id": "7d63b6d8-7120-4a5c-a0fa-76833269718d",
   "metadata": {},
   "source": [
    "# square root"
   ]
  },
  {
   "cell_type": "code",
   "execution_count": 51,
   "id": "54b2048e-fe9d-443c-9474-8e9e745bd553",
   "metadata": {},
   "outputs": [
    {
     "name": "stdout",
     "output_type": "stream",
     "text": [
      "[1.41421356 2.         2.23606798 2.64575131 1.        ]\n"
     ]
    }
   ],
   "source": [
    "a=np.array([2,4,5,7,1])\n",
    "print(np.sqrt(a))"
   ]
  },
  {
   "cell_type": "code",
   "execution_count": 52,
   "id": "4b0920f3-123e-4c02-b70c-2d7c67b00dc1",
   "metadata": {},
   "outputs": [
    {
     "name": "stdout",
     "output_type": "stream",
     "text": [
      "[2. 3. 4. 5. 6.]\n"
     ]
    }
   ],
   "source": [
    "a=np.array([4,9,16,25,36])\n",
    "print(np.sqrt(a))"
   ]
  },
  {
   "cell_type": "code",
   "execution_count": 54,
   "id": "aec625d7-a1d0-4d2a-8c54-cbcc744e65a2",
   "metadata": {},
   "outputs": [
    {
     "name": "stdout",
     "output_type": "stream",
     "text": [
      "[[1.41421356 2.         2.23606798 2.64575131 1.        ]\n",
      " [3.31662479 4.69041576 5.74456265 6.63324958 7.41619849]]\n"
     ]
    }
   ],
   "source": [
    "a=np.array([[2,4,5,7,1],[11,22,33,44,55]])\n",
    "print(np.sqrt(a))"
   ]
  },
  {
   "cell_type": "markdown",
   "id": "586bd394-4797-4f1e-8f29-93e92a61ff45",
   "metadata": {},
   "source": [
    "# Sin value and Cos value"
   ]
  },
  {
   "cell_type": "code",
   "execution_count": 55,
   "id": "03ce9225-8490-42b6-a2c7-847520156deb",
   "metadata": {},
   "outputs": [
    {
     "name": "stdout",
     "output_type": "stream",
     "text": [
      "[0.84147098 0.90929743 0.14112001]\n"
     ]
    }
   ],
   "source": [
    "a=np.array([1,2,3])\n",
    "print(np.sin(a))"
   ]
  },
  {
   "cell_type": "code",
   "execution_count": 57,
   "id": "1989c9dd-905d-4198-99c1-d059266fa950",
   "metadata": {},
   "outputs": [
    {
     "name": "stdout",
     "output_type": "stream",
     "text": [
      "[[ 0.84147098  0.90929743  0.14112001]\n",
      " [-0.7568025  -0.95892427 -0.2794155 ]]\n"
     ]
    }
   ],
   "source": [
    "a=np.array([[1,2,3],[4,5,6]])\n",
    "print(np.sin(a))"
   ]
  },
  {
   "cell_type": "code",
   "execution_count": 56,
   "id": "b8ae31b0-b523-4ad2-b2a3-3e3ad4ce7fc6",
   "metadata": {},
   "outputs": [
    {
     "name": "stdout",
     "output_type": "stream",
     "text": [
      "[ 0.54030231 -0.41614684 -0.9899925 ]\n"
     ]
    }
   ],
   "source": [
    "a=np.array([1,2,3])\n",
    "print(np.cos(a))"
   ]
  },
  {
   "cell_type": "code",
   "execution_count": 58,
   "id": "2e8bdaaa-03e0-4c73-84ff-4b3d3d952cb1",
   "metadata": {},
   "outputs": [
    {
     "name": "stdout",
     "output_type": "stream",
     "text": [
      "[[ 0.54030231 -0.41614684 -0.9899925 ]\n",
      " [-0.65364362  0.28366219  0.96017029]]\n"
     ]
    }
   ],
   "source": [
    "a=np.array([[1,2,3],[4,5,6]])\n",
    "print(np.cos(a))"
   ]
  },
  {
   "cell_type": "markdown",
   "id": "2f20ef8e-dd92-422a-b8e0-68b4edf3b69a",
   "metadata": {},
   "source": [
    "# cumsum"
   ]
  },
  {
   "cell_type": "code",
   "execution_count": 59,
   "id": "fd947aed-a8d0-4794-aada-7b9aab9899a1",
   "metadata": {},
   "outputs": [
    {
     "name": "stdout",
     "output_type": "stream",
     "text": [
      "[ 1  3  6 10]\n"
     ]
    }
   ],
   "source": [
    "a=np.array([1,2,3,4])\n",
    "print(np.cumsum(a))"
   ]
  },
  {
   "cell_type": "code",
   "execution_count": 61,
   "id": "06cccfd5-16c6-4566-af85-140cb1e00752",
   "metadata": {},
   "outputs": [
    {
     "name": "stdout",
     "output_type": "stream",
     "text": [
      "[  1   3   6  10  15  21  28  36  45  55  56  58  61  65  70  76  83  91\n",
      " 100 110]\n"
     ]
    }
   ],
   "source": [
    "a=np.array([[1,2,3,4,5,6,7,8,9,10],[1,2,3,4,5,6,7,8,9,10]])\n",
    "print(np.cumsum(a))"
   ]
  },
  {
   "cell_type": "markdown",
   "id": "87cefd0f-9e80-4776-84f0-e33c6726dbd6",
   "metadata": {},
   "source": [
    "# broadcasting Numpy array"
   ]
  },
  {
   "cell_type": "code",
   "execution_count": 67,
   "id": "c322055c-33f2-4099-9447-5a4c03eeebdc",
   "metadata": {},
   "outputs": [
    {
     "name": "stdout",
     "output_type": "stream",
     "text": [
      "(4,)\n",
      "(3,)\n"
     ]
    },
    {
     "ename": "ValueError",
     "evalue": "operands could not be broadcast together with shapes (4,) (3,) ",
     "output_type": "error",
     "traceback": [
      "\u001b[1;31m---------------------------------------------------------------------------\u001b[0m",
      "\u001b[1;31mValueError\u001b[0m                                Traceback (most recent call last)",
      "Cell \u001b[1;32mIn[67], line 5\u001b[0m\n\u001b[0;32m      3\u001b[0m \u001b[38;5;28mprint\u001b[39m(n1\u001b[38;5;241m.\u001b[39mshape)\n\u001b[0;32m      4\u001b[0m \u001b[38;5;28mprint\u001b[39m(n2\u001b[38;5;241m.\u001b[39mshape)\n\u001b[1;32m----> 5\u001b[0m x\u001b[38;5;241m=\u001b[39m\u001b[43mn1\u001b[49m\u001b[38;5;241;43m+\u001b[39;49m\u001b[43mn2\u001b[49m\n\u001b[0;32m      6\u001b[0m \u001b[38;5;28mprint\u001b[39m(x)\n",
      "\u001b[1;31mValueError\u001b[0m: operands could not be broadcast together with shapes (4,) (3,) "
     ]
    }
   ],
   "source": [
    "n1=np.array([1,2,3,4])\n",
    "n2=np.array([2,3,4,])\n",
    "print(n1.shape)\n",
    "print(n2.shape)\n",
    "x=n1+n2\n",
    "print(x)"
   ]
  },
  {
   "cell_type": "code",
   "execution_count": 70,
   "id": "2fe8a35d-ef65-41e7-814c-915d29421c7c",
   "metadata": {},
   "outputs": [
    {
     "name": "stdout",
     "output_type": "stream",
     "text": [
      "(4,)\n",
      "[1 2 3 4]\n",
      "\n",
      "[[1]\n",
      " [2]\n",
      " [3]\n",
      " [4]]\n",
      "(4, 1)\n",
      "\n",
      "[[2 3 4 5]\n",
      " [3 4 5 6]\n",
      " [4 5 6 7]\n",
      " [5 6 7 8]]\n"
     ]
    }
   ],
   "source": [
    "n1=np.array([1,2,3,4])\n",
    "print(n1.shape)\n",
    "print(n1)\n",
    "print()\n",
    "\n",
    "n2=np.array([[1],[2],[3],[4]])\n",
    "print(n2)\n",
    "print(n2.shape)\n",
    "print()\n",
    "print(n1+n2)"
   ]
  },
  {
   "cell_type": "code",
   "execution_count": 76,
   "id": "7116721a-2dc1-4bb6-843a-83697d50a15a",
   "metadata": {},
   "outputs": [
    {
     "name": "stdout",
     "output_type": "stream",
     "text": [
      "(2, 1)\n",
      "[[4]\n",
      " [3]]\n",
      "\n",
      "(2, 3)\n",
      "[[6 7 3]\n",
      " [1 3 2]]\n",
      "\n",
      "[[10 11  7]\n",
      " [ 4  6  5]]\n",
      "\n",
      "[[-2 -3  1]\n",
      " [ 2  0  1]]\n",
      "\n",
      "[[24 28 12]\n",
      " [ 3  9  6]]\n",
      "\n",
      "[[0.66666667 0.57142857 1.33333333]\n",
      " [3.         1.         1.5       ]]\n"
     ]
    }
   ],
   "source": [
    "x=np.array([[4],[3]])\n",
    "print(x.shape)\n",
    "print(x)\n",
    "print()\n",
    "y=np.array([[6,7,3],[1,3,2]])\n",
    "print(y.shape)\n",
    "print(y)\n",
    "print()\n",
    "\n",
    "print(x+y)\n",
    "print()\n",
    "print(x-y)\n",
    "print()\n",
    "print(x*y)\n",
    "print()\n",
    "print(x/y)"
   ]
  },
  {
   "cell_type": "code",
   "execution_count": 82,
   "id": "9cd61982-1d8e-4855-9816-41d2f984b8fb",
   "metadata": {},
   "outputs": [
    {
     "name": "stdout",
     "output_type": "stream",
     "text": [
      "(3, 2)\n",
      "[[4 8]\n",
      " [3 7]\n",
      " [5 9]]\n",
      "\n",
      "(3, 3)\n",
      "[[6 7 2]\n",
      " [1 3 4]\n",
      " [1 2 3]]\n",
      "\n"
     ]
    },
    {
     "ename": "ValueError",
     "evalue": "operands could not be broadcast together with shapes (3,2) (3,3) ",
     "output_type": "error",
     "traceback": [
      "\u001b[1;31m---------------------------------------------------------------------------\u001b[0m",
      "\u001b[1;31mValueError\u001b[0m                                Traceback (most recent call last)",
      "Cell \u001b[1;32mIn[82], line 10\u001b[0m\n\u001b[0;32m      7\u001b[0m \u001b[38;5;28mprint\u001b[39m(y)\n\u001b[0;32m      8\u001b[0m \u001b[38;5;28mprint\u001b[39m()\n\u001b[1;32m---> 10\u001b[0m \u001b[38;5;28mprint\u001b[39m(\u001b[43mx\u001b[49m\u001b[38;5;241;43m+\u001b[39;49m\u001b[43my\u001b[49m)\n",
      "\u001b[1;31mValueError\u001b[0m: operands could not be broadcast together with shapes (3,2) (3,3) "
     ]
    }
   ],
   "source": [
    "x=np.array([[4,8],[3,7],[5,9]])\n",
    "print(x.shape)\n",
    "print(x)\n",
    "print()\n",
    "y=np.array([[6,7,2],[1,3,4],[1,2,3]])\n",
    "print(y.shape)\n",
    "print(y)\n",
    "print()\n",
    "\n",
    "print(x+y)"
   ]
  },
  {
   "cell_type": "code",
   "execution_count": 83,
   "id": "b4ea6850-9605-4250-82a1-54173170f82f",
   "metadata": {},
   "outputs": [
    {
     "name": "stdout",
     "output_type": "stream",
     "text": [
      "(3, 1)\n",
      "[[4]\n",
      " [3]\n",
      " [5]]\n",
      "\n",
      "(3, 3)\n",
      "[[6 7 2]\n",
      " [1 3 4]\n",
      " [1 2 3]]\n",
      "\n",
      "[[10 11  6]\n",
      " [ 4  6  7]\n",
      " [ 6  7  8]]\n"
     ]
    }
   ],
   "source": [
    "x=np.array([[4],[3],[5]])\n",
    "print(x.shape)\n",
    "print(x)\n",
    "print()\n",
    "y=np.array([[6,7,2],[1,3,4],[1,2,3]])\n",
    "print(y.shape)\n",
    "print(y)\n",
    "print()\n",
    "\n",
    "print(x+y)"
   ]
  },
  {
   "cell_type": "code",
   "execution_count": 84,
   "id": "24aad0e2-8023-405d-a956-b40db0369358",
   "metadata": {},
   "outputs": [
    {
     "name": "stdout",
     "output_type": "stream",
     "text": [
      "(3, 3)\n",
      "[[4 3 1]\n",
      " [3 5 8]\n",
      " [5 4 3]]\n",
      "\n",
      "(3, 3)\n",
      "[[6 7 2]\n",
      " [1 3 4]\n",
      " [1 2 3]]\n",
      "\n",
      "[[10 10  3]\n",
      " [ 4  8 12]\n",
      " [ 6  6  6]]\n"
     ]
    }
   ],
   "source": [
    "x=np.array([[4,3,1],[3,5,8],[5,4,3]])\n",
    "print(x.shape)\n",
    "print(x)\n",
    "print()\n",
    "y=np.array([[6,7,2],[1,3,4],[1,2,3]])\n",
    "print(y.shape)\n",
    "print(y)\n",
    "print()\n",
    "\n",
    "print(x+y)"
   ]
  },
  {
   "cell_type": "code",
   "execution_count": null,
   "id": "7093fac0-933f-4841-9d03-6671b0bfe535",
   "metadata": {},
   "outputs": [],
   "source": []
  },
  {
   "cell_type": "code",
   "execution_count": null,
   "id": "978ff88d-738b-4fc9-947f-b0cbbbd7046f",
   "metadata": {},
   "outputs": [],
   "source": []
  },
  {
   "cell_type": "code",
   "execution_count": null,
   "id": "922c236a-a584-413a-ba72-20567492c6c2",
   "metadata": {},
   "outputs": [],
   "source": []
  },
  {
   "cell_type": "code",
   "execution_count": null,
   "id": "e3d35946-5741-45bd-8751-c1ad66f31cf5",
   "metadata": {},
   "outputs": [],
   "source": []
  },
  {
   "cell_type": "code",
   "execution_count": null,
   "id": "4db6c8c3-ae3e-4964-8117-ba48f107aee4",
   "metadata": {},
   "outputs": [],
   "source": []
  },
  {
   "cell_type": "code",
   "execution_count": null,
   "id": "943a60fa-4c3a-4c21-9f6c-ba170d9b305d",
   "metadata": {},
   "outputs": [],
   "source": []
  },
  {
   "cell_type": "code",
   "execution_count": null,
   "id": "87d2dbce-06cb-4874-be9d-42456f60fbf1",
   "metadata": {},
   "outputs": [],
   "source": []
  },
  {
   "cell_type": "code",
   "execution_count": null,
   "id": "d86b9e1e-9f29-4b41-a640-248a6952c58b",
   "metadata": {},
   "outputs": [],
   "source": []
  },
  {
   "cell_type": "code",
   "execution_count": null,
   "id": "02a9e1f9-9114-4e8a-a5d3-985e897f5961",
   "metadata": {},
   "outputs": [],
   "source": []
  },
  {
   "cell_type": "code",
   "execution_count": null,
   "id": "f2ce362d-dee4-449f-addc-b1d355a216f3",
   "metadata": {},
   "outputs": [],
   "source": []
  },
  {
   "cell_type": "code",
   "execution_count": null,
   "id": "9ea7dbe4-746c-40fd-b8de-f5afdf29e940",
   "metadata": {},
   "outputs": [],
   "source": []
  }
 ],
 "metadata": {
  "kernelspec": {
   "display_name": "Python 3 (ipykernel)",
   "language": "python",
   "name": "python3"
  },
  "language_info": {
   "codemirror_mode": {
    "name": "ipython",
    "version": 3
   },
   "file_extension": ".py",
   "mimetype": "text/x-python",
   "name": "python",
   "nbconvert_exporter": "python",
   "pygments_lexer": "ipython3",
   "version": "3.11.5"
  }
 },
 "nbformat": 4,
 "nbformat_minor": 5
}
