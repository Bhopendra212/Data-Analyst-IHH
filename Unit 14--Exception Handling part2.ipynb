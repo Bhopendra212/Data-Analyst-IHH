{
 "cells": [
  {
   "cell_type": "markdown",
   "id": "d495018f-a46e-4c5b-a572-25f08e09e2e8",
   "metadata": {},
   "source": [
    "# List of general use exception"
   ]
  },
  {
   "cell_type": "code",
   "execution_count": 2,
   "id": "911f324b-2d00-4efe-b20c-7dd2bc4ace24",
   "metadata": {},
   "outputs": [
    {
     "name": "stdout",
     "output_type": "stream",
     "text": [
      "division by zero\n"
     ]
    }
   ],
   "source": [
    "try:\n",
    "    a=19/0\n",
    "except Exception as e:\n",
    "    print(e)"
   ]
  },
  {
   "cell_type": "code",
   "execution_count": 3,
   "id": "2e6d6134-4688-4a8b-aee1-a716a07b756c",
   "metadata": {},
   "outputs": [
    {
     "name": "stdout",
     "output_type": "stream",
     "text": [
      "division by zero\n"
     ]
    }
   ],
   "source": [
    "try:\n",
    "    a=19/0\n",
    "except ZeroDivisionError as e:\n",
    "    print(e)"
   ]
  },
  {
   "cell_type": "code",
   "execution_count": 4,
   "id": "2a3a0d7d-ba1d-40b0-8aba-a87c415546df",
   "metadata": {},
   "outputs": [
    {
     "name": "stdout",
     "output_type": "stream",
     "text": [
      "invalid literal for int() with base 10: 'apple'\n"
     ]
    }
   ],
   "source": [
    "try:\n",
    "    int('apple')\n",
    "except (TypeError,ValueError) as e:\n",
    "    print(e)"
   ]
  },
  {
   "cell_type": "code",
   "execution_count": 5,
   "id": "6bc8dc64-9299-468a-9e21-1e4f60740345",
   "metadata": {},
   "outputs": [
    {
     "name": "stdout",
     "output_type": "stream",
     "text": [
      "This will catch an error\n"
     ]
    }
   ],
   "source": [
    "try:\n",
    "    int('orange')\n",
    "except :\n",
    "    print('This will catch an error')"
   ]
  },
  {
   "cell_type": "code",
   "execution_count": 6,
   "id": "dc12ad47-1c85-440e-a21f-3cf0584ec005",
   "metadata": {},
   "outputs": [
    {
     "name": "stdout",
     "output_type": "stream",
     "text": [
      "No module named 'cherry'\n"
     ]
    }
   ],
   "source": [
    "try:\n",
    "    import cherry\n",
    "except ImportError as e:\n",
    "    print(e)"
   ]
  },
  {
   "cell_type": "code",
   "execution_count": 7,
   "id": "fc916031-e322-492a-98a3-57a53ff13642",
   "metadata": {},
   "outputs": [
    {
     "name": "stdout",
     "output_type": "stream",
     "text": [
      "'key2'\n"
     ]
    }
   ],
   "source": [
    "try:\n",
    "    d={'apple':'banana',104:[11,22,33,44]}\n",
    "    print(d['key2'])\n",
    "except KeyError as e:\n",
    "    print(e)"
   ]
  },
  {
   "cell_type": "code",
   "execution_count": 8,
   "id": "83e106a1-afcc-43f0-b7d7-e53bfb904c3d",
   "metadata": {},
   "outputs": [
    {
     "name": "stdout",
     "output_type": "stream",
     "text": [
      "'str' object has no attribute 'test'\n"
     ]
    }
   ],
   "source": [
    "try:\n",
    "    'apple'.test()\n",
    "except AttributeError as e:\n",
    "    print(e)"
   ]
  },
  {
   "cell_type": "code",
   "execution_count": 9,
   "id": "d79ad7bf-7005-4f4a-ba15-2bb1acfd4f61",
   "metadata": {},
   "outputs": [
    {
     "name": "stdout",
     "output_type": "stream",
     "text": [
      "list index out of range\n"
     ]
    }
   ],
   "source": [
    "try:\n",
    "    a=[11,22,33,44]\n",
    "    print(a[10])\n",
    "except IndexError as e:\n",
    "    print(e)"
   ]
  },
  {
   "cell_type": "code",
   "execution_count": 10,
   "id": "b2c48937-e74e-4de9-96ec-b05fc9796a80",
   "metadata": {},
   "outputs": [
    {
     "name": "stdout",
     "output_type": "stream",
     "text": [
      "unsupported operand type(s) for +: 'int' and 'str'\n"
     ]
    }
   ],
   "source": [
    "try:\n",
    "    15+'apple'\n",
    "except TypeError as e:\n",
    "    print(e)"
   ]
  },
  {
   "cell_type": "code",
   "execution_count": 11,
   "id": "4b96346a-ec6d-4f65-b414-0f43ec0d6a2c",
   "metadata": {},
   "outputs": [
    {
     "name": "stdout",
     "output_type": "stream",
     "text": [
      "[Errno 2] No such file or directory: 'practice.txt'\n"
     ]
    }
   ],
   "source": [
    "try:\n",
    "    with open('practice.txt','r'):\n",
    "        test=f.read()\n",
    "except FileNotFoundError as e:\n",
    "    print(e)"
   ]
  },
  {
   "cell_type": "code",
   "execution_count": 16,
   "id": "20370d37-d647-4a3d-859f-fdcff22f2cce",
   "metadata": {},
   "outputs": [
    {
     "name": "stdout",
     "output_type": "stream",
     "text": [
      "[Errno 2] No such file or directory: 'practice.txt'\n"
     ]
    }
   ],
   "source": [
    "try:\n",
    "    with open('practice.txt','r'):\n",
    "        test=f.read()\n",
    "except Exception as e:\n",
    "    print(e)\n",
    "except FileNotFoundError as e:\n",
    "    print('hello',e)"
   ]
  },
  {
   "cell_type": "code",
   "execution_count": 17,
   "id": "3cadd92f-055f-4ef6-b78f-73969341b243",
   "metadata": {},
   "outputs": [
    {
     "name": "stdout",
     "output_type": "stream",
     "text": [
      "hello [Errno 2] No such file or directory: 'practice.txt'\n"
     ]
    }
   ],
   "source": [
    "try:\n",
    "    with open('practice.txt','r'):\n",
    "        test=f.read()\n",
    "except FileNotFoundError as e:\n",
    "    print('hello',e)\n",
    "except Exception as e:\n",
    "    print(e)"
   ]
  },
  {
   "cell_type": "code",
   "execution_count": 18,
   "id": "ebdbc6a9-5f52-4796-a2c7-424ce623a902",
   "metadata": {},
   "outputs": [
    {
     "name": "stdout",
     "output_type": "stream",
     "text": [
      "hello [Errno 2] No such file or directory: 'practice.txt'\n"
     ]
    }
   ],
   "source": [
    "try:\n",
    "    with open('practice.txt','r'):\n",
    "        test=f.read()\n",
    "except FileNotFoundError as e:\n",
    "    print('hello',e)\n",
    "except TypeError as e:\n",
    "    print('Student',e)\n",
    "except Exception as e:\n",
    "    print(e)"
   ]
  },
  {
   "cell_type": "code",
   "execution_count": 19,
   "id": "1c898fbe-bce3-4740-a876-f05962ec082f",
   "metadata": {},
   "outputs": [
    {
     "name": "stdout",
     "output_type": "stream",
     "text": [
      "hello [Errno 2] No such file or directory: 'practice.txt'\n"
     ]
    }
   ],
   "source": [
    "try:\n",
    "    with open('practice.txt','r'):\n",
    "        test=f.read()\n",
    "\n",
    "except TypeError as e:\n",
    "    print('Student',e)\n",
    "except FileNotFoundError as e:\n",
    "    print('hello',e)\n",
    "\n",
    "except Exception as e:\n",
    "    print(e)"
   ]
  },
  {
   "cell_type": "markdown",
   "id": "b2b377ee-b7f2-4ee4-93d8-7d9815d79b5b",
   "metadata": {},
   "source": [
    "# Best practice Exception Handling"
   ]
  },
  {
   "cell_type": "code",
   "execution_count": 20,
   "id": "e0147ddd-4e84-4198-a762-7c4bc25388bd",
   "metadata": {},
   "outputs": [
    {
     "name": "stdout",
     "output_type": "stream",
     "text": [
      "division by zero\n"
     ]
    }
   ],
   "source": [
    "# always use specific exception\n",
    "\n",
    "try:\n",
    "    15/0\n",
    "\n",
    "except Exception as e:\n",
    "    print(e)"
   ]
  },
  {
   "cell_type": "code",
   "execution_count": 21,
   "id": "d40e5256-d424-4bdf-9ee2-3411075ae806",
   "metadata": {},
   "outputs": [
    {
     "name": "stdout",
     "output_type": "stream",
     "text": [
      "division by zero\n"
     ]
    }
   ],
   "source": [
    "# always use specific exception\n",
    "\n",
    "try:\n",
    "    15/0\n",
    "\n",
    "except ZeroDivisionError as e:\n",
    "    print(e)"
   ]
  },
  {
   "cell_type": "code",
   "execution_count": 23,
   "id": "6260225a-03a1-40ec-93c3-71f156ac1ddd",
   "metadata": {},
   "outputs": [
    {
     "name": "stdout",
     "output_type": "stream",
     "text": [
      "i am trying to handle zero division error. division by zero\n"
     ]
    }
   ],
   "source": [
    "# print always proper message\n",
    "\n",
    "try:\n",
    "    12/0\n",
    "except ZeroDivisionError as e:\n",
    "    print('i am trying to handle zero division error.',e)"
   ]
  },
  {
   "cell_type": "code",
   "execution_count": 25,
   "id": "5ed681d8-11b4-4ead-b95e-e05e155e8ec8",
   "metadata": {},
   "outputs": [],
   "source": [
    "# always try to log error\n",
    "\n",
    "import logging\n",
    "logging.basicConfig(filename='error.log', level=logging.ERROR)\n",
    "try:\n",
    "    10/0\n",
    "\n",
    "except ZeroDivisionError as e:\n",
    "    logging.error('i am trying to handle zero division error{}'.format(e))"
   ]
  },
  {
   "cell_type": "code",
   "execution_count": 31,
   "id": "21090ee9-bf08-4783-8335-16f7add5bf05",
   "metadata": {},
   "outputs": [],
   "source": [
    "# always avoid to write multiple exception handling\n",
    "\n",
    "import logging\n",
    "logging.basicConfig(filename='error.log', level=logging.ERROR)\n",
    "try:\n",
    "    10/0\n",
    "except AttributeError as e:\n",
    "    logging.error('Am trying to solve attribute error{}'.format(e))\n",
    "\n",
    "except FileNotFoundError as e:\n",
    "    logging.error('Am trying to handle file not fipound error {}'.format(e))\n",
    "\n",
    "except ZeroDivisionError as e:\n",
    "    logging.error('i am trying to handle zero division error{}'.format(e))\n",
    "finally:\n",
    "    f.close()"
   ]
  },
  {
   "cell_type": "code",
   "execution_count": 32,
   "id": "5d7d55ae-feb8-4361-945d-7963c93ea225",
   "metadata": {},
   "outputs": [],
   "source": [
    "# document all the error and clean up all the resourses\n",
    "\n",
    "try:\n",
    "    with open('orange.txt','w') as f:\n",
    "        f.write('This is my data in python')\n",
    "\n",
    "except FileNotFoundError as e:\n",
    "    logging.error('am trying to handle python{}'.format(e))\n",
    "\n",
    "finally:\n",
    "    f.close()"
   ]
  },
  {
   "cell_type": "code",
   "execution_count": null,
   "id": "71fe2285-6fc0-443b-8d95-fd027d79e815",
   "metadata": {},
   "outputs": [],
   "source": []
  },
  {
   "cell_type": "code",
   "execution_count": null,
   "id": "ef3723b0-2b37-42e0-89da-42868fdc9901",
   "metadata": {},
   "outputs": [],
   "source": []
  }
 ],
 "metadata": {
  "kernelspec": {
   "display_name": "Python 3 (ipykernel)",
   "language": "python",
   "name": "python3"
  },
  "language_info": {
   "codemirror_mode": {
    "name": "ipython",
    "version": 3
   },
   "file_extension": ".py",
   "mimetype": "text/x-python",
   "name": "python",
   "nbconvert_exporter": "python",
   "pygments_lexer": "ipython3",
   "version": "3.11.5"
  }
 },
 "nbformat": 4,
 "nbformat_minor": 5
}
