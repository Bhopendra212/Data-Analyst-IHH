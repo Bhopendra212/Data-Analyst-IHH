{
 "cells": [
  {
   "cell_type": "markdown",
   "id": "068e32a6-4fbd-4a69-ae74-0fce205390f8",
   "metadata": {},
   "source": [
    "# Strip() Function"
   ]
  },
  {
   "cell_type": "code",
   "execution_count": 1,
   "id": "637cae85-c526-4fdf-9a8d-795eb3a68b30",
   "metadata": {},
   "outputs": [
    {
     "name": "stdout",
     "output_type": "stream",
     "text": [
      "Time is precious\n"
     ]
    }
   ],
   "source": [
    "a=\"              Time is precious                     \"\n",
    "b=a.strip()\n",
    "print(b)"
   ]
  },
  {
   "cell_type": "code",
   "execution_count": 2,
   "id": "12d6452c-2bd0-4e83-a410-9936e42a04bb",
   "metadata": {},
   "outputs": [
    {
     "name": "stdout",
     "output_type": "stream",
     "text": [
      "              Time is precious                     \n"
     ]
    }
   ],
   "source": [
    "print(a)"
   ]
  },
  {
   "cell_type": "code",
   "execution_count": 4,
   "id": "bbfd73f2-f331-46dc-b5f5-593be58035b6",
   "metadata": {},
   "outputs": [
    {
     "name": "stdout",
     "output_type": "stream",
     "text": [
      "Time is precious                   dont waste it\n"
     ]
    }
   ],
   "source": [
    "a=\"              Time is precious                   dont waste it    \"\n",
    "c=a.strip()             # strip() function removes whitespaces from front and back only\n",
    "print(c)"
   ]
  },
  {
   "cell_type": "markdown",
   "id": "373eb831-6034-4b9e-b631-f007350b8efa",
   "metadata": {},
   "source": [
    "# upper() & lower() string function"
   ]
  },
  {
   "cell_type": "code",
   "execution_count": 7,
   "id": "9dec5942-ce93-402e-8df6-e46e0c6e7d49",
   "metadata": {},
   "outputs": [
    {
     "name": "stdout",
     "output_type": "stream",
     "text": [
      " How  Are YOu DoIng ?\n",
      " how  are you doing ?\n"
     ]
    }
   ],
   "source": [
    "a=\" How  Are YOu DoIng ?\"\n",
    "b=a.lower()\n",
    "print(a)\n",
    "print(b)"
   ]
  },
  {
   "cell_type": "code",
   "execution_count": 8,
   "id": "daee0684-1bca-455c-a564-4cca0d794241",
   "metadata": {},
   "outputs": [
    {
     "name": "stdout",
     "output_type": "stream",
     "text": [
      "how are you doing ?\n",
      "how are you doing ?\n"
     ]
    }
   ],
   "source": [
    "a=\"how are you doing ?\"\n",
    "c=a.lower()\n",
    "print(a)\n",
    "print(c)"
   ]
  },
  {
   "cell_type": "code",
   "execution_count": 10,
   "id": "27c4daa8-5093-4faa-9213-83da1a1e021a",
   "metadata": {},
   "outputs": [
    {
     "name": "stdout",
     "output_type": "stream",
     "text": [
      "hello hope you are well whats your plan for sunday ?\n"
     ]
    }
   ],
   "source": [
    "A=\"HELLO HOpe you ARE weLL\"\n",
    "B=\" Whats YOUR Plan foR sunDAY ?\"\n",
    "print(A.lower() + B.lower())"
   ]
  },
  {
   "cell_type": "code",
   "execution_count": 11,
   "id": "3cdd3377-77ed-4f73-9690-731a6b9e0a10",
   "metadata": {},
   "outputs": [
    {
     "name": "stdout",
     "output_type": "stream",
     "text": [
      "PRACTISE MAKES MAN PERFECT\n"
     ]
    }
   ],
   "source": [
    "p=\"pracTISE MAkes maN perFect\"\n",
    "print(p.upper())"
   ]
  },
  {
   "cell_type": "code",
   "execution_count": 13,
   "id": "e3a15722-90c4-4ba3-8113-732a9b1beb92",
   "metadata": {},
   "outputs": [
    {
     "name": "stdout",
     "output_type": "stream",
     "text": [
      "PRACTISE MAKES MAN PERFECT LETS PRACTICE SOME QUESTIONS\n"
     ]
    }
   ],
   "source": [
    "p=\"pracTISE MAkes maN perFect\"\n",
    "q=\" lets practice some questions\"\n",
    "print(p.upper() + q.upper())"
   ]
  },
  {
   "cell_type": "code",
   "execution_count": 16,
   "id": "8ddcca9f-6803-4834-8341-2134475051d5",
   "metadata": {},
   "outputs": [
    {
     "name": "stdout",
     "output_type": "stream",
     "text": [
      "honesty is the best policyhonest man is always good we appriciate honesty\n"
     ]
    }
   ],
   "source": [
    "x=\"            Honesty is the best policy      \"\n",
    "y=\"                        Honest man is always good\"\n",
    "z=\"We appriciate honesty                \"\n",
    "m=x.strip()\n",
    "n=y.strip()\n",
    "o=z.strip()\n",
    "print(m.lower() + n.lower() +\" \"+ o.lower())"
   ]
  },
  {
   "cell_type": "markdown",
   "id": "fbb6c7a2-f3cf-4b55-af15-96d9a84db5b8",
   "metadata": {},
   "source": [
    "# replace() Method"
   ]
  },
  {
   "cell_type": "code",
   "execution_count": 18,
   "id": "29fb6fe5-55eb-46dc-b4b5-a1766c973e8a",
   "metadata": {},
   "outputs": [
    {
     "name": "stdout",
     "output_type": "stream",
     "text": [
      " hey how are you ? \n"
     ]
    }
   ],
   "source": [
    "a=\" Hello how are you ? \"\n",
    "print(a.replace(\"Hello\",'hey'))"
   ]
  },
  {
   "cell_type": "code",
   "execution_count": 19,
   "id": "6d2a3e86-b7ef-4867-a5ec-01971f27f594",
   "metadata": {},
   "outputs": [
    {
     "name": "stdout",
     "output_type": "stream",
     "text": [
      " maths 28 / 30\n",
      "science 27 / 30\n",
      "social 23 / 30\n",
      "english 24 / 30\n"
     ]
    }
   ],
   "source": [
    "a=\"\"\" maths 28 out of 30\n",
    "science 27 out of 30\n",
    "social 23 out of 30\n",
    "english 24 out of 30\"\"\"\n",
    "print(a.replace(\"out of\",\"/\"))"
   ]
  },
  {
   "cell_type": "code",
   "execution_count": 20,
   "id": "0a7985b0-37f8-4d46-bbc7-881b8de0b3a6",
   "metadata": {},
   "outputs": [
    {
     "name": "stdout",
     "output_type": "stream",
     "text": [
      "skills are required to get job  thats why i am learning python\n"
     ]
    }
   ],
   "source": [
    "p=\"skills are required to get job, thats why,i am learning,python\"\n",
    "print(p.replace(\",\",\" \"))"
   ]
  },
  {
   "cell_type": "code",
   "execution_count": 21,
   "id": "2c64e90d-3a4d-4533-9d5e-98fe4948aac2",
   "metadata": {},
   "outputs": [
    {
     "name": "stdout",
     "output_type": "stream",
     "text": [
      "Do you have any extra pencil If you have, please give me three\n"
     ]
    }
   ],
   "source": [
    "m=\"Do you have any extra pen\"\n",
    "n=\" If you have, please give me two\"\n",
    "print(m.replace(\"pen\",\"pencil\") + n.replace(\"two\",\"three\"))"
   ]
  },
  {
   "cell_type": "markdown",
   "id": "a191889b-0a1c-4300-800c-d2291178ea12",
   "metadata": {},
   "source": [
    "# split() Function"
   ]
  },
  {
   "cell_type": "code",
   "execution_count": 22,
   "id": "454e3083-b691-4b78-9494-bffac0909494",
   "metadata": {},
   "outputs": [
    {
     "name": "stdout",
     "output_type": "stream",
     "text": [
      "<class 'str'>\n"
     ]
    }
   ],
   "source": [
    "a=\"this is - the class of - python basics - to advance\"\n",
    "print(type(a))"
   ]
  },
  {
   "cell_type": "code",
   "execution_count": 23,
   "id": "a337957f-d6e5-49c1-8a7f-0209df196ed5",
   "metadata": {},
   "outputs": [
    {
     "name": "stdout",
     "output_type": "stream",
     "text": [
      "['this is ', ' the class of ', ' python basics ', ' to advance']\n"
     ]
    }
   ],
   "source": [
    "a=\"this is - the class of - python basics - to advance\"\n",
    "b=a.split(\"-\")\n",
    "print(b)"
   ]
  },
  {
   "cell_type": "code",
   "execution_count": 24,
   "id": "9e915ebe-719b-41ce-8a29-75104907d0ba",
   "metadata": {},
   "outputs": [
    {
     "name": "stdout",
     "output_type": "stream",
     "text": [
      "<class 'list'>\n"
     ]
    }
   ],
   "source": [
    "print(type(b))"
   ]
  },
  {
   "cell_type": "code",
   "execution_count": 26,
   "id": "a9a03f44-e3ad-4a09-9c54-ce2fc412508a",
   "metadata": {},
   "outputs": [
    {
     "name": "stdout",
     "output_type": "stream",
     "text": [
      "['red', 'blue', 'pink', 'green', ' are the colors of the ball ']\n",
      "<class 'str'>\n",
      "<class 'list'>\n"
     ]
    }
   ],
   "source": [
    "x=\"red,blue,pink,green, are the colors of the ball \"\n",
    "y=x.split(\",\")\n",
    "print(y)\n",
    "print(type(x))\n",
    "print(type(y))"
   ]
  },
  {
   "cell_type": "code",
   "execution_count": 31,
   "id": "d41b7999-26c6-47d0-976c-72da1ab21dd7",
   "metadata": {},
   "outputs": [
    {
     "name": "stdout",
     "output_type": "stream",
     "text": [
      "red\n"
     ]
    }
   ],
   "source": [
    "print(y[0])           #index value"
   ]
  },
  {
   "cell_type": "code",
   "execution_count": 29,
   "id": "38dc148f-df63-4ff1-81b3-da5d4b6b1c6b",
   "metadata": {},
   "outputs": [
    {
     "name": "stdout",
     "output_type": "stream",
     "text": [
      "green\n"
     ]
    }
   ],
   "source": [
    "print(y[3])"
   ]
  },
  {
   "cell_type": "code",
   "execution_count": 30,
   "id": "863309ec-cbe0-492d-8f0e-6bd776d4c4eb",
   "metadata": {},
   "outputs": [
    {
     "name": "stdout",
     "output_type": "stream",
     "text": [
      " are the colors of the ball \n"
     ]
    }
   ],
   "source": [
    "print(y[4])"
   ]
  },
  {
   "cell_type": "code",
   "execution_count": 35,
   "id": "a1cf9cc2-1fbf-4f98-b2f5-a85f470ee568",
   "metadata": {},
   "outputs": [
    {
     "name": "stdout",
     "output_type": "stream",
     "text": [
      "['red ', ' blue ', ' pink ', ' green ', ' are the colors ', ' the ball ']\n",
      "<class 'str'>\n",
      "<class 'list'>\n"
     ]
    }
   ],
   "source": [
    "x=\"red of blue of pink of green of are the colors of the ball \"\n",
    "y=x.split(\"of\")\n",
    "print(y)\n",
    "print(type(x))\n",
    "print(type(y))"
   ]
  },
  {
   "cell_type": "markdown",
   "id": "1cfc0189-8012-4c3f-aba6-100579912114",
   "metadata": {},
   "source": [
    "# capitalize() function"
   ]
  },
  {
   "cell_type": "code",
   "execution_count": 38,
   "id": "fceb1cc8-aad2-484e-a78c-cc7878d6b353",
   "metadata": {},
   "outputs": [
    {
     "name": "stdout",
     "output_type": "stream",
     "text": [
      "Earth revolves around the sun\n"
     ]
    }
   ],
   "source": [
    "a=\"earth revolves around the sun\"\n",
    "print(a.capitalize())"
   ]
  },
  {
   "cell_type": "code",
   "execution_count": 39,
   "id": "77d50d60-b6b5-4165-8891-bacd39ac6d0c",
   "metadata": {},
   "outputs": [
    {
     "name": "stdout",
     "output_type": "stream",
     "text": [
      "Earth revolves around the sun Moon is so beautiful\n"
     ]
    }
   ],
   "source": [
    "a=\"earth revolves around the sun\"\n",
    "b=\"moon is so beautiful\"\n",
    "print(a.capitalize() +\" \"+ b.capitalize())"
   ]
  },
  {
   "cell_type": "markdown",
   "id": "c2686fb1-a14b-42da-990c-a00ea1c42e1c",
   "metadata": {},
   "source": [
    "# title() function"
   ]
  },
  {
   "cell_type": "code",
   "execution_count": 40,
   "id": "cfb5ddc6-d4cb-408a-a6c5-6e9bd7b6e285",
   "metadata": {},
   "outputs": [
    {
     "name": "stdout",
     "output_type": "stream",
     "text": [
      "India Is A Beautiful Country\n"
     ]
    }
   ],
   "source": [
    "a=\"india is a beautiful country\"\n",
    "print(a.title())"
   ]
  },
  {
   "cell_type": "code",
   "execution_count": 41,
   "id": "1d5ea90e-8cba-446c-a47c-423428bde23f",
   "metadata": {},
   "outputs": [
    {
     "name": "stdout",
     "output_type": "stream",
     "text": [
      "Earth Revolves Around The Sun\n"
     ]
    }
   ],
   "source": [
    "b=\"earth Revolves around The sun\"\n",
    "print(b.title())"
   ]
  },
  {
   "cell_type": "code",
   "execution_count": 43,
   "id": "06feecd5-5e8b-45f2-9800-75d7eeecd643",
   "metadata": {},
   "outputs": [
    {
     "name": "stdout",
     "output_type": "stream",
     "text": [
      "earth Revolves around a sun\n",
      "Earth Revolves Around A Sun\n"
     ]
    }
   ],
   "source": [
    "b=\"earth Revolves around The sun\"\n",
    "c=b.replace(\"The\",\"a\")\n",
    "print(c)\n",
    "print(c.title())"
   ]
  },
  {
   "cell_type": "markdown",
   "id": "6dd5a871-2a24-486b-bee6-1885d33c596f",
   "metadata": {},
   "source": [
    "# swapcase() function"
   ]
  },
  {
   "cell_type": "code",
   "execution_count": 44,
   "id": "0cc72393-79de-44be-a8ae-973e9760b72e",
   "metadata": {},
   "outputs": [
    {
     "name": "stdout",
     "output_type": "stream",
     "text": [
      "NEW DELHI IS A CAPITAL OF INDIA\n"
     ]
    }
   ],
   "source": [
    "a=\"new delhi is a capital of india\"\n",
    "print(a.swapcase())"
   ]
  },
  {
   "cell_type": "code",
   "execution_count": 45,
   "id": "81e6997f-025f-477d-81d8-57f59f06732a",
   "metadata": {},
   "outputs": [
    {
     "name": "stdout",
     "output_type": "stream",
     "text": [
      "my name is rishi i live in mumbai\n"
     ]
    }
   ],
   "source": [
    "b=\"MY NAME IS RISHI I LIVE IN MUMBAI\"\n",
    "print(b.swapcase())"
   ]
  },
  {
   "cell_type": "code",
   "execution_count": 46,
   "id": "ca609cf0-bbaf-4ba3-baa6-d4bbe52b22fa",
   "metadata": {},
   "outputs": [
    {
     "name": "stdout",
     "output_type": "stream",
     "text": [
      "NEW DELHI IS A CAPITAL OF INDIA my name is rishi i live in mumbai\n"
     ]
    }
   ],
   "source": [
    "a=\"new delhi is a capital of india\"\n",
    "b=\"MY NAME IS RISHI I LIVE IN MUMBAI\"\n",
    "print(a.swapcase()+ \" \" + b.swapcase())"
   ]
  },
  {
   "cell_type": "markdown",
   "id": "2e46e508-a493-4f5b-8750-d8822109c09e",
   "metadata": {},
   "source": [
    "# find() function"
   ]
  },
  {
   "cell_type": "code",
   "execution_count": 47,
   "id": "47da3f58-61fd-4c7f-bf1d-5568f3dae579",
   "metadata": {},
   "outputs": [
    {
     "name": "stdout",
     "output_type": "stream",
     "text": [
      "15\n",
      "10\n"
     ]
    }
   ],
   "source": [
    "a=\"python is great\"\n",
    "b=a.find(\"g\")\n",
    "print(len(a))\n",
    "print(b)"
   ]
  },
  {
   "cell_type": "code",
   "execution_count": 48,
   "id": "b65d2ab6-a3f4-492a-9f3d-aec618a6d78c",
   "metadata": {},
   "outputs": [
    {
     "name": "stdout",
     "output_type": "stream",
     "text": [
      "15\n",
      "2\n"
     ]
    }
   ],
   "source": [
    "a=\"python is great\"\n",
    "b=a.find(\"thon\")\n",
    "print(len(a))\n",
    "print(b)"
   ]
  },
  {
   "cell_type": "code",
   "execution_count": 49,
   "id": "0ec4ac18-29f3-4dd7-bf31-7609924055ab",
   "metadata": {},
   "outputs": [
    {
     "name": "stdout",
     "output_type": "stream",
     "text": [
      "15\n",
      "-1\n"
     ]
    }
   ],
   "source": [
    "a=\"python is great\"\n",
    "b=a.find(\"world\")\n",
    "print(len(a))\n",
    "print(b)"
   ]
  },
  {
   "cell_type": "markdown",
   "id": "862c3d82-ae30-40c1-868e-5b9f36d7fb28",
   "metadata": {},
   "source": [
    "# index() method"
   ]
  },
  {
   "cell_type": "code",
   "execution_count": 50,
   "id": "c1415a64-a8a8-411d-b398-84e9b6d64fb7",
   "metadata": {},
   "outputs": [
    {
     "name": "stdout",
     "output_type": "stream",
     "text": [
      "5\n"
     ]
    }
   ],
   "source": [
    "a=[10,20,30,40,50,\"python\"]\n",
    "print(a.index(\"python\"))"
   ]
  },
  {
   "cell_type": "code",
   "execution_count": 51,
   "id": "0baf60f2-06b8-4530-888d-9a33117b011b",
   "metadata": {},
   "outputs": [
    {
     "name": "stdout",
     "output_type": "stream",
     "text": [
      "2\n"
     ]
    }
   ],
   "source": [
    "b=[\"apple\",\"banana\",\"grapes\",\"mango\"]\n",
    "print(b.index(\"grapes\"))"
   ]
  },
  {
   "cell_type": "markdown",
   "id": "4c6e127f-9a4a-4da2-bc58-e9b5aaa0f352",
   "metadata": {},
   "source": [
    "# isalnum() function"
   ]
  },
  {
   "cell_type": "code",
   "execution_count": 52,
   "id": "c47498b6-5070-4b7c-aad8-198e06fc218b",
   "metadata": {},
   "outputs": [
    {
     "name": "stdout",
     "output_type": "stream",
     "text": [
      "True\n"
     ]
    }
   ],
   "source": [
    "a=\"students\"\n",
    "print(a.isalnum())"
   ]
  },
  {
   "cell_type": "code",
   "execution_count": 53,
   "id": "019c5867-99b8-4b46-88ee-06bccc3261a7",
   "metadata": {},
   "outputs": [
    {
     "name": "stdout",
     "output_type": "stream",
     "text": [
      "True\n"
     ]
    }
   ],
   "source": [
    "a=\"students123\"\n",
    "print(a.isalnum())"
   ]
  },
  {
   "cell_type": "code",
   "execution_count": 57,
   "id": "6722931e-792e-4651-8239-c78fdb2feb3a",
   "metadata": {},
   "outputs": [
    {
     "name": "stdout",
     "output_type": "stream",
     "text": [
      "False\n"
     ]
    }
   ],
   "source": [
    "a=\"students123@\"                   # isalnum False due to special character @\n",
    "print(a.isalnum())"
   ]
  },
  {
   "cell_type": "code",
   "execution_count": 55,
   "id": "9603bff4-8cc4-4d5d-88a1-811024079629",
   "metadata": {},
   "outputs": [
    {
     "name": "stdout",
     "output_type": "stream",
     "text": [
      "True\n"
     ]
    }
   ],
   "source": [
    "a=\"students123hello5679\"\n",
    "print(a.isalnum())"
   ]
  },
  {
   "cell_type": "code",
   "execution_count": 58,
   "id": "8b486d18-db1a-4003-8c85-b10f5831f113",
   "metadata": {},
   "outputs": [
    {
     "name": "stdout",
     "output_type": "stream",
     "text": [
      "False\n"
     ]
    }
   ],
   "source": [
    "a=\"students hello5679\"\n",
    "print(a.isalnum())"
   ]
  },
  {
   "cell_type": "code",
   "execution_count": 59,
   "id": "2058803f-49f8-44c7-a1ef-4b8a759d9c2b",
   "metadata": {},
   "outputs": [
    {
     "name": "stdout",
     "output_type": "stream",
     "text": [
      "False\n"
     ]
    }
   ],
   "source": [
    "a=\"students,hello5679\"\n",
    "print(a.isalnum())"
   ]
  },
  {
   "cell_type": "code",
   "execution_count": 60,
   "id": "011c789b-fd7b-4068-a40f-41725ff83b9e",
   "metadata": {},
   "outputs": [
    {
     "name": "stdout",
     "output_type": "stream",
     "text": [
      "True\n"
     ]
    }
   ],
   "source": [
    "a=\"ajshduawuHIUIJOLKOPLKPOKkani12y38247246jasnkankij2\"\n",
    "print(a.isalnum())"
   ]
  },
  {
   "cell_type": "markdown",
   "id": "3420a2b9-b7b9-4be1-a7dc-7c8c11605114",
   "metadata": {},
   "source": [
    "# isalpha() function"
   ]
  },
  {
   "cell_type": "code",
   "execution_count": 63,
   "id": "a5ec310f-6b76-4e26-830b-551f3520a21c",
   "metadata": {},
   "outputs": [
    {
     "name": "stdout",
     "output_type": "stream",
     "text": [
      "True\n"
     ]
    }
   ],
   "source": [
    "a=\"teacher\"\n",
    "print(a.isalpha())"
   ]
  },
  {
   "cell_type": "code",
   "execution_count": 64,
   "id": "6355a111-5b45-47ac-a732-10cb2c9f7786",
   "metadata": {},
   "outputs": [
    {
     "name": "stdout",
     "output_type": "stream",
     "text": [
      "True\n"
     ]
    }
   ],
   "source": [
    "a=\"TEACHER\"\n",
    "print(a.isalpha())"
   ]
  },
  {
   "cell_type": "code",
   "execution_count": 65,
   "id": "8c170770-161d-48c5-8df5-b0f8feb11bce",
   "metadata": {},
   "outputs": [
    {
     "name": "stdout",
     "output_type": "stream",
     "text": [
      "True\n"
     ]
    }
   ],
   "source": [
    "a=\"TEAcher\"\n",
    "print(a.isalpha())"
   ]
  },
  {
   "cell_type": "code",
   "execution_count": 66,
   "id": "cab60d9e-fb27-49da-8447-b20c5c0be522",
   "metadata": {},
   "outputs": [
    {
     "name": "stdout",
     "output_type": "stream",
     "text": [
      "False\n"
     ]
    }
   ],
   "source": [
    "a=\"TEAcher123\"\n",
    "print(a.isalpha())"
   ]
  },
  {
   "cell_type": "code",
   "execution_count": 67,
   "id": "b1691af5-c893-416c-93c0-072327fcb950",
   "metadata": {},
   "outputs": [
    {
     "name": "stdout",
     "output_type": "stream",
     "text": [
      "False\n"
     ]
    }
   ],
   "source": [
    "a=\"python is so easy, do you agree?\"\n",
    "print(a.isalpha())"
   ]
  },
  {
   "cell_type": "markdown",
   "id": "2f68be40-25f8-4cb2-a876-a9d813b9101e",
   "metadata": {},
   "source": [
    "# isdigit() function"
   ]
  },
  {
   "cell_type": "code",
   "execution_count": 68,
   "id": "28a85d5d-b065-4653-ac33-194ed2434f69",
   "metadata": {},
   "outputs": [
    {
     "name": "stdout",
     "output_type": "stream",
     "text": [
      "True\n"
     ]
    }
   ],
   "source": [
    "a=\"1234567890\"\n",
    "print(a.isdigit())"
   ]
  },
  {
   "cell_type": "code",
   "execution_count": 70,
   "id": "e7fec060-5eea-4096-b320-1f799b467b8c",
   "metadata": {},
   "outputs": [
    {
     "name": "stdout",
     "output_type": "stream",
     "text": [
      "False\n"
     ]
    }
   ],
   "source": [
    "a=\"1234567890       987654321\"            # value is false due to space which is considered as charcter in this function\n",
    "print(a.isdigit())"
   ]
  },
  {
   "cell_type": "code",
   "execution_count": 71,
   "id": "626dafec-6c08-4f7a-afbf-8634ae42d41d",
   "metadata": {},
   "outputs": [
    {
     "name": "stdout",
     "output_type": "stream",
     "text": [
      "False\n"
     ]
    }
   ],
   "source": [
    "a=\"1234567890hagdygdahsgd\"\n",
    "print(a.isdigit())"
   ]
  },
  {
   "cell_type": "code",
   "execution_count": 73,
   "id": "bcfe02b4-9eca-4972-9090-cbf525ebfedb",
   "metadata": {},
   "outputs": [
    {
     "name": "stdout",
     "output_type": "stream",
     "text": [
      "False\n"
     ]
    }
   ],
   "source": [
    "a=\"1234567890@%&\"                         # symbols are not digit\n",
    "print(a.isdigit())"
   ]
  },
  {
   "cell_type": "code",
   "execution_count": 74,
   "id": "8bbbc0f0-a467-472e-b372-cc389961bad7",
   "metadata": {},
   "outputs": [
    {
     "name": "stdin",
     "output_type": "stream",
     "text": [
      "Enter your mobile number: 9916455965\n"
     ]
    },
    {
     "name": "stdout",
     "output_type": "stream",
     "text": [
      "Mobile no. is valid\n"
     ]
    }
   ],
   "source": [
    "\"\"\"Write a mobile number and take it as a input from user and check mobile number is valid or not\"\"\"\n",
    "\n",
    "a=input(\"Enter your mobile number:\")\n",
    "if a.isdigit()==True:\n",
    "    print(\"Mobile no. is valid\")\n",
    "else:\n",
    "    print(\"Mobile no. is not valid\")\n"
   ]
  },
  {
   "cell_type": "code",
   "execution_count": 75,
   "id": "ace0194e-57c8-42a6-b5d3-4628d594aa17",
   "metadata": {},
   "outputs": [
    {
     "name": "stdin",
     "output_type": "stream",
     "text": [
      "Enter your mobile number: 9916455965habuhabj\n"
     ]
    },
    {
     "name": "stdout",
     "output_type": "stream",
     "text": [
      "Mobile no. is not valid\n"
     ]
    }
   ],
   "source": [
    "\"\"\"Write a mobile number and take it as a input from user and check mobile number is valid or not\"\"\"\n",
    "\n",
    "a=input(\"Enter your mobile number:\")\n",
    "if a.isdigit()==True:\n",
    "    print(\"Mobile no. is valid\")\n",
    "else:\n",
    "    print(\"Mobile no. is not valid\")\n"
   ]
  },
  {
   "cell_type": "markdown",
   "id": "a23cd828-b426-47fe-b8fb-95b1e103bd48",
   "metadata": {},
   "source": [
    "# isupper() function"
   ]
  },
  {
   "cell_type": "code",
   "execution_count": 76,
   "id": "9c8315fa-82f0-4759-a51f-6ac2a60018bf",
   "metadata": {},
   "outputs": [
    {
     "name": "stdout",
     "output_type": "stream",
     "text": [
      "False\n"
     ]
    }
   ],
   "source": [
    "str=\"welcome to python class\"\n",
    "print(str.isupper())"
   ]
  },
  {
   "cell_type": "code",
   "execution_count": 78,
   "id": "033a9e95-a85a-447f-a4f9-44995a8587b2",
   "metadata": {},
   "outputs": [
    {
     "name": "stdout",
     "output_type": "stream",
     "text": [
      "True\n"
     ]
    }
   ],
   "source": [
    "str=\"WELCOME TO PYTHON CLASS\"\n",
    "print(str.isupper())"
   ]
  },
  {
   "cell_type": "code",
   "execution_count": 77,
   "id": "e094690d-577a-4e9c-be5d-6eb73cc3e977",
   "metadata": {},
   "outputs": [
    {
     "name": "stdout",
     "output_type": "stream",
     "text": [
      "True\n"
     ]
    }
   ],
   "source": [
    "str=\"TEACHER\"\n",
    "print(str.isupper())"
   ]
  },
  {
   "cell_type": "code",
   "execution_count": 79,
   "id": "e0ea4b54-1562-450f-a4eb-d176ef4b8f30",
   "metadata": {},
   "outputs": [
    {
     "name": "stdout",
     "output_type": "stream",
     "text": [
      "False\n"
     ]
    }
   ],
   "source": [
    "str=\"TEACHER is our trainer\"\n",
    "print(str.isupper())"
   ]
  },
  {
   "cell_type": "code",
   "execution_count": 81,
   "id": "2562c0d0-601f-4f96-9044-dfbe596cc02a",
   "metadata": {},
   "outputs": [
    {
     "name": "stdout",
     "output_type": "stream",
     "text": [
      "True\n"
     ]
    }
   ],
   "source": [
    "str=\"TEACHER IS OUR GURU NO 123\"\n",
    "print(str.isupper())                        # it accepts alpha numeric value also"
   ]
  },
  {
   "cell_type": "markdown",
   "id": "5a1eac0b-af69-4524-aec1-ddfc6645852c",
   "metadata": {},
   "source": [
    "# islower() function"
   ]
  },
  {
   "cell_type": "code",
   "execution_count": 82,
   "id": "3209f0af-65c4-4456-a719-1e6e3d5cd0cf",
   "metadata": {},
   "outputs": [
    {
     "name": "stdout",
     "output_type": "stream",
     "text": [
      "True\n"
     ]
    }
   ],
   "source": [
    "p=\"how are you ?\"\n",
    "print(p.islower())"
   ]
  },
  {
   "cell_type": "code",
   "execution_count": 83,
   "id": "621385b4-c605-4e7e-b72a-834adf18299b",
   "metadata": {},
   "outputs": [
    {
     "name": "stdout",
     "output_type": "stream",
     "text": [
      "False\n"
     ]
    }
   ],
   "source": [
    "p=\"HOW ARE you?\"\n",
    "print(p.islower())"
   ]
  },
  {
   "cell_type": "code",
   "execution_count": 84,
   "id": "7fddcb63-eda3-4262-9011-ef754ad40082",
   "metadata": {},
   "outputs": [
    {
     "name": "stdout",
     "output_type": "stream",
     "text": [
      "False\n"
     ]
    }
   ],
   "source": [
    "p=\"HOW ARE YOU ?\"\n",
    "print(p.islower())"
   ]
  },
  {
   "cell_type": "code",
   "execution_count": 85,
   "id": "01a23576-2dfe-4d0f-850d-1a6496f4db54",
   "metadata": {},
   "outputs": [
    {
     "name": "stdout",
     "output_type": "stream",
     "text": [
      "True\n"
     ]
    }
   ],
   "source": [
    "p=\"how are you ? 123456\"\n",
    "print(p.islower())"
   ]
  },
  {
   "cell_type": "code",
   "execution_count": 86,
   "id": "ea61ce7b-d633-4ea6-8143-79a90a209524",
   "metadata": {},
   "outputs": [
    {
     "name": "stdout",
     "output_type": "stream",
     "text": [
      "True\n"
     ]
    }
   ],
   "source": [
    "p=\"how are you ? $%&@123456\"\n",
    "print(p.islower())"
   ]
  },
  {
   "cell_type": "markdown",
   "id": "28c66563-ded7-47e2-8148-cbd475fb416d",
   "metadata": {},
   "source": [
    "# istitle() Function"
   ]
  },
  {
   "cell_type": "code",
   "execution_count": 87,
   "id": "44049b3f-49d8-4aff-b244-28405b35e28f",
   "metadata": {},
   "outputs": [
    {
     "name": "stdout",
     "output_type": "stream",
     "text": [
      "True\n"
     ]
    }
   ],
   "source": [
    "p=\"Python Is Easy\"\n",
    "print(p.istitle())"
   ]
  },
  {
   "cell_type": "code",
   "execution_count": 88,
   "id": "b1ab9e0a-903d-4cb2-96a1-931d8ff99d32",
   "metadata": {},
   "outputs": [
    {
     "name": "stdout",
     "output_type": "stream",
     "text": [
      "False\n"
     ]
    }
   ],
   "source": [
    "p=\"python is easy\"\n",
    "print(p.istitle())"
   ]
  },
  {
   "cell_type": "code",
   "execution_count": 89,
   "id": "89e440c1-b140-4526-9a52-37141b9383cb",
   "metadata": {},
   "outputs": [
    {
     "name": "stdout",
     "output_type": "stream",
     "text": [
      "False\n"
     ]
    }
   ],
   "source": [
    "p=\"Python is Easy\"\n",
    "print(p.istitle())"
   ]
  },
  {
   "cell_type": "code",
   "execution_count": 91,
   "id": "e24d4a69-7042-4c92-84d1-62760880d3d8",
   "metadata": {},
   "outputs": [
    {
     "name": "stdout",
     "output_type": "stream",
     "text": [
      "True\n"
     ]
    }
   ],
   "source": [
    "p=\"Python Is Easy 12345\"\n",
    "print(p.istitle())"
   ]
  },
  {
   "cell_type": "code",
   "execution_count": 92,
   "id": "ef7c177c-b5ca-4994-b8ac-def8c6aec686",
   "metadata": {},
   "outputs": [
    {
     "name": "stdout",
     "output_type": "stream",
     "text": [
      "False\n"
     ]
    }
   ],
   "source": [
    "p=\"PYTHON IS EASY\"\n",
    "print(p.istitle())"
   ]
  },
  {
   "cell_type": "markdown",
   "id": "7731ae84-ebf3-4357-841e-465dfd75fa67",
   "metadata": {},
   "source": [
    "# startswith() function"
   ]
  },
  {
   "cell_type": "code",
   "execution_count": 93,
   "id": "94f48f83-b1fe-4506-8d31-e4a506dbd2b2",
   "metadata": {},
   "outputs": [
    {
     "name": "stdout",
     "output_type": "stream",
     "text": [
      "True\n"
     ]
    }
   ],
   "source": [
    "a=\"python is easy\"\n",
    "print(a.startswith(\"python\"))"
   ]
  },
  {
   "cell_type": "code",
   "execution_count": 94,
   "id": "cc57cc00-b74b-47a6-9858-8e8d97a736a8",
   "metadata": {},
   "outputs": [
    {
     "name": "stdout",
     "output_type": "stream",
     "text": [
      "False\n"
     ]
    }
   ],
   "source": [
    "a=\"Python is easy\"\n",
    "print(a.startswith(\"python\"))"
   ]
  },
  {
   "cell_type": "code",
   "execution_count": 95,
   "id": "fac8a85e-3988-474f-ab29-94823ebe8329",
   "metadata": {},
   "outputs": [
    {
     "name": "stdout",
     "output_type": "stream",
     "text": [
      "False\n"
     ]
    }
   ],
   "source": [
    "A=\"Hello how are you?\"\n",
    "print(A.startswith(\"hey\"))"
   ]
  },
  {
   "cell_type": "code",
   "execution_count": 96,
   "id": "66b1a7f4-e5c1-457d-8947-44d6771737df",
   "metadata": {},
   "outputs": [
    {
     "name": "stdout",
     "output_type": "stream",
     "text": [
      "True\n"
     ]
    }
   ],
   "source": [
    "A=\"Hello how are you?\"\n",
    "print(A.startswith(\"Hello\"))"
   ]
  },
  {
   "cell_type": "markdown",
   "id": "2ed02245-6670-4c5a-8626-06833a9a8974",
   "metadata": {},
   "source": [
    "# endswith() function"
   ]
  },
  {
   "cell_type": "code",
   "execution_count": 97,
   "id": "6c4e1b2c-4b86-4b20-b8e1-3395ae06e0fd",
   "metadata": {},
   "outputs": [
    {
     "name": "stdout",
     "output_type": "stream",
     "text": [
      "True\n"
     ]
    }
   ],
   "source": [
    "a=\"India is amazing\"\n",
    "print(a.endswith(\"amazing\"))"
   ]
  },
  {
   "cell_type": "code",
   "execution_count": 98,
   "id": "4fddfb95-6bf8-4f73-8c55-b9c49bc58e7d",
   "metadata": {},
   "outputs": [
    {
     "name": "stdout",
     "output_type": "stream",
     "text": [
      "False\n"
     ]
    }
   ],
   "source": [
    "a=\"India is amazing\"\n",
    "print(a.endswith(\"Amazing\"))"
   ]
  },
  {
   "cell_type": "code",
   "execution_count": 99,
   "id": "2569181b-6caa-4906-bc20-1a071b673b55",
   "metadata": {},
   "outputs": [
    {
     "name": "stdout",
     "output_type": "stream",
     "text": [
      "True\n"
     ]
    }
   ],
   "source": [
    "A=\"what a wonderful day\"\n",
    "print(A.endswith(\"day\"))"
   ]
  },
  {
   "cell_type": "code",
   "execution_count": 100,
   "id": "434e14d8-0df6-4716-b537-25b1f018ca96",
   "metadata": {},
   "outputs": [
    {
     "name": "stdout",
     "output_type": "stream",
     "text": [
      "False\n"
     ]
    }
   ],
   "source": [
    "A=\"what a wonderful Day\"\n",
    "print(A.endswith(\"day\"))"
   ]
  },
  {
   "cell_type": "code",
   "execution_count": 101,
   "id": "1183cbd5-247e-4736-8a07-609d6043b7ec",
   "metadata": {},
   "outputs": [
    {
     "name": "stdout",
     "output_type": "stream",
     "text": [
      "True\n"
     ]
    }
   ],
   "source": [
    "A=\"what a wonderful Day 1122334455\"\n",
    "print(A.endswith(\"1122334455\"))"
   ]
  },
  {
   "cell_type": "code",
   "execution_count": 103,
   "id": "5efd1754-7f40-4837-9e8b-26e537dd8847",
   "metadata": {},
   "outputs": [
    {
     "name": "stdout",
     "output_type": "stream",
     "text": [
      "True\n"
     ]
    }
   ],
   "source": [
    "A=\"what a wonderful Day 1122334455 @#$&%\"\n",
    "print(A.endswith(\"@#$&%\"))"
   ]
  },
  {
   "cell_type": "markdown",
   "id": "7a5d9ffb-6a22-4f0b-a6f0-498b88f0a012",
   "metadata": {},
   "source": [
    "# How to check a particular substring is part of a string or not?"
   ]
  },
  {
   "cell_type": "code",
   "execution_count": 104,
   "id": "fe52e2ef-94ac-4410-a7d4-a080ca8598f7",
   "metadata": {},
   "outputs": [
    {
     "name": "stdout",
     "output_type": "stream",
     "text": [
      "True\n"
     ]
    }
   ],
   "source": [
    "a=\"I am learning python\"\n",
    "print(\"learning\" in a)"
   ]
  },
  {
   "cell_type": "code",
   "execution_count": 105,
   "id": "7a46dfd1-70fb-4119-9f8c-ddbc8d896719",
   "metadata": {},
   "outputs": [
    {
     "name": "stdout",
     "output_type": "stream",
     "text": [
      "False\n"
     ]
    }
   ],
   "source": [
    "a=\"I am learning python from IHH\"\n",
    "print(\"learning\" not in a)"
   ]
  },
  {
   "cell_type": "code",
   "execution_count": 106,
   "id": "835ad1b6-1625-4eac-9ecc-7e434450dc58",
   "metadata": {},
   "outputs": [
    {
     "name": "stdout",
     "output_type": "stream",
     "text": [
      "True\n"
     ]
    }
   ],
   "source": [
    "a=\"I am learning python from IHH\"\n",
    "print(\"Hello\" not in a)"
   ]
  },
  {
   "cell_type": "code",
   "execution_count": null,
   "id": "95160ad7-91fb-496b-a934-13b568eabe26",
   "metadata": {},
   "outputs": [],
   "source": []
  },
  {
   "cell_type": "code",
   "execution_count": null,
   "id": "57864696-66ca-40fa-83fc-35518e545cd8",
   "metadata": {},
   "outputs": [],
   "source": []
  },
  {
   "cell_type": "code",
   "execution_count": null,
   "id": "0a8c82e3-daf4-4ff1-a188-07909581998c",
   "metadata": {},
   "outputs": [],
   "source": []
  }
 ],
 "metadata": {
  "kernelspec": {
   "display_name": "Python 3 (ipykernel)",
   "language": "python",
   "name": "python3"
  },
  "language_info": {
   "codemirror_mode": {
    "name": "ipython",
    "version": 3
   },
   "file_extension": ".py",
   "mimetype": "text/x-python",
   "name": "python",
   "nbconvert_exporter": "python",
   "pygments_lexer": "ipython3",
   "version": "3.11.5"
  }
 },
 "nbformat": 4,
 "nbformat_minor": 5
}
