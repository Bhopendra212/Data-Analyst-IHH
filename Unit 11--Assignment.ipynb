{
 "cells": [
  {
   "cell_type": "markdown",
   "id": "9214eb57-170c-4b43-8938-2e65718510e7",
   "metadata": {},
   "source": [
    "# question 1:- write a python script to concatenate the following dictionaries to create a new one \n",
    "# input- a={1:10,2:20}\n",
    "#        b={3:30,4:40}\n",
    "#        c={5:50,6:60}\n",
    "# output - {1:10,2:20,3:30,4:40,5:50,6:60}"
   ]
  },
  {
   "cell_type": "code",
   "execution_count": 3,
   "id": "b6f97484-0480-4301-9338-a93dac0bdb9c",
   "metadata": {},
   "outputs": [
    {
     "name": "stdout",
     "output_type": "stream",
     "text": [
      "{1: 10, 2: 20, 3: 30, 4: 40, 5: 50, 6: 60}\n"
     ]
    }
   ],
   "source": [
    "a={1:10,2:20}\n",
    "b={3:30,4:40}\n",
    "c={5:50,6:60}\n",
    "a.update(b)\n",
    "a.update(c)\n",
    "print(a)"
   ]
  },
  {
   "cell_type": "markdown",
   "id": "87cbb72b-ce47-4270-9ecf-2a522cfbdb08",
   "metadata": {},
   "source": [
    "# question 2:- Write a python program to check whether a given key already exist in the dictionary "
   ]
  },
  {
   "cell_type": "code",
   "execution_count": 6,
   "id": "bb6f27c9-5485-46fb-a1bb-22f92a7ac122",
   "metadata": {},
   "outputs": [],
   "source": [
    "d={1:10,2:20,3:30,4:40,5:50,6:60}\n",
    "def key_present(x):\n",
    "    if x in d:\n",
    "        print(\"key present in dictionary\")\n",
    "    else:\n",
    "        print(\" key not present in dictionary\")"
   ]
  },
  {
   "cell_type": "code",
   "execution_count": 10,
   "id": "97b8f59c-b69c-4cbe-893a-d850ba9664e3",
   "metadata": {},
   "outputs": [
    {
     "name": "stdout",
     "output_type": "stream",
     "text": [
      "key present in dictionary\n",
      " key not present in dictionary\n"
     ]
    }
   ],
   "source": [
    "key_present(5)\n",
    "key_present(10)"
   ]
  },
  {
   "cell_type": "markdown",
   "id": "7c47a8f8-2afc-49f1-9a39-97dba5c15ac3",
   "metadata": {},
   "source": [
    "# question 3:-Write a python program to sum all the items in a dictionary\n",
    "# input--{'a1':200,'a2':300,'a3':400}\n",
    "# output-- 900"
   ]
  },
  {
   "cell_type": "code",
   "execution_count": 11,
   "id": "538c2ce3-8724-4233-a303-375b9318ec87",
   "metadata": {},
   "outputs": [
    {
     "name": "stdout",
     "output_type": "stream",
     "text": [
      "900\n"
     ]
    }
   ],
   "source": [
    "d={'a1':200,'a2':300,'a3':400}\n",
    "print(sum(d.values()))"
   ]
  },
  {
   "cell_type": "markdown",
   "id": "1ca155e0-7309-4978-8b3f-0aff5959abb1",
   "metadata": {},
   "source": [
    "# question 4:- Write a python program to get the maximum and minimum values of a dictionary\n",
    "# input-- {'x':270,'y':360,'z':550}\n",
    "# maximum value=550\n",
    "# minimum value=270"
   ]
  },
  {
   "cell_type": "code",
   "execution_count": 13,
   "id": "d033f558-6401-4659-ab08-b25503530dc0",
   "metadata": {},
   "outputs": [
    {
     "name": "stdout",
     "output_type": "stream",
     "text": [
      "Maximum value is: 550\n",
      "Minimum value is: 270\n"
     ]
    }
   ],
   "source": [
    "a={'x':270,'y':360,'z':550}\n",
    "print('Maximum value is:',max(a.values()))\n",
    "print('Minimum value is:',min(a.values()))"
   ]
  },
  {
   "cell_type": "markdown",
   "id": "325fa01a-f0cb-4c1b-8737-f4f9624333ce",
   "metadata": {},
   "source": [
    "# question 5:- Write a python program to remove a key from a dictionary\n",
    "# input-{'a':1,'b':2,'c':3,'d':4}\n",
    "# output--{'b':2,'c':3,'d':4}"
   ]
  },
  {
   "cell_type": "code",
   "execution_count": 17,
   "id": "da255b7c-7fa2-4d09-b121-9ba63f3972a5",
   "metadata": {},
   "outputs": [
    {
     "name": "stdout",
     "output_type": "stream",
     "text": [
      "{'a': 1, 'b': 2, 'c': 3, 'd': 4}\n",
      "{'b': 2, 'c': 3, 'd': 4}\n"
     ]
    }
   ],
   "source": [
    "z={'a':1,'b':2,'c':3,'d':4}\n",
    "print(z)\n",
    "z.pop('a')\n",
    "print(z)"
   ]
  },
  {
   "cell_type": "markdown",
   "id": "4bd23ee8-5f4a-44aa-b2f0-797b2a9e25b5",
   "metadata": {},
   "source": [
    "# question 6:-Write a python program to sort a given dictionary by key\n",
    "# input--{ 'red':'#FF0000',\n",
    "#           'green':'#008000',\n",
    "#            'black':'#000000',\n",
    "#            'white':'#FFFFFF'}\n",
    "# output-- black:#000000\n",
    "#           green:#008000\n",
    "#           red:#FF0000\n",
    "#           white:#FFFFFF"
   ]
  },
  {
   "cell_type": "code",
   "execution_count": 20,
   "id": "0403f7c4-ad0f-4c6e-89c2-55d4dfc8110b",
   "metadata": {},
   "outputs": [
    {
     "name": "stdout",
     "output_type": "stream",
     "text": [
      "black #000000\n",
      "green #008000\n",
      "red #FF0000\n",
      "white #FFFFFF\n"
     ]
    }
   ],
   "source": [
    "r={ 'red':'#FF0000',\n",
    "'green':'#008000',\n",
    "'black':'#000000',\n",
    "'white':'#FFFFFF'}\n",
    "for key in sorted(r):\n",
    "    print(key,r[key])"
   ]
  },
  {
   "cell_type": "markdown",
   "id": "fd87933c-6b16-45fd-a09a-2be3f2514e7f",
   "metadata": {},
   "source": [
    "# question 7:- Write a python program to access dictionary key's element by index\n",
    "# input-- {'physics':80,'math':90,'chemistry':86}\n",
    "# output-- \n",
    "# physics\n",
    "# math\n",
    "# chemistry"
   ]
  },
  {
   "cell_type": "code",
   "execution_count": 23,
   "id": "a84008b3-fc5c-441d-9e32-b5b6dca53da8",
   "metadata": {},
   "outputs": [
    {
     "name": "stdout",
     "output_type": "stream",
     "text": [
      "physics\n",
      "math\n",
      "chemistry\n"
     ]
    }
   ],
   "source": [
    "a={'physics':80,'math':90,'chemistry':86}\n",
    "a=list(a)\n",
    "print(list(a)[0])\n",
    "print(list(a)[1])\n",
    "print(list(a)[2])"
   ]
  },
  {
   "cell_type": "code",
   "execution_count": null,
   "id": "9a9c624c-fe25-481f-a407-16a52fcfcd60",
   "metadata": {},
   "outputs": [],
   "source": []
  }
 ],
 "metadata": {
  "kernelspec": {
   "display_name": "Python 3 (ipykernel)",
   "language": "python",
   "name": "python3"
  },
  "language_info": {
   "codemirror_mode": {
    "name": "ipython",
    "version": 3
   },
   "file_extension": ".py",
   "mimetype": "text/x-python",
   "name": "python",
   "nbconvert_exporter": "python",
   "pygments_lexer": "ipython3",
   "version": "3.11.5"
  }
 },
 "nbformat": 4,
 "nbformat_minor": 5
}
