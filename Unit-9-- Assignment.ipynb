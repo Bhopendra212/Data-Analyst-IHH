{
 "cells": [
  {
   "cell_type": "markdown",
   "id": "60f92967-f7c8-4f69-91a2-30eff4f23963",
   "metadata": {},
   "source": [
    "# question 2:- Write a program to find the repeated items in a tuple"
   ]
  },
  {
   "cell_type": "code",
   "execution_count": 23,
   "id": "c8c53ea2-2180-4999-9064-8ad270228896",
   "metadata": {},
   "outputs": [],
   "source": [
    "def repeated_list(input_tuple):\n",
    "    input_list=list(input_tuple)\n",
    "    repeated_items=[]\n",
    "    for item in input_list:\n",
    "        if input_list.count(item)>1 and item not in repeated_items:\n",
    "            repeated_items.append(item)\n",
    "    return repeated_items\n",
    "    "
   ]
  },
  {
   "cell_type": "code",
   "execution_count": 24,
   "id": "a28031a0-d40f-4905-93ed-549bf149da71",
   "metadata": {},
   "outputs": [
    {
     "data": {
      "text/plain": [
       "[2, 3, 5]"
      ]
     },
     "execution_count": 24,
     "metadata": {},
     "output_type": "execute_result"
    }
   ],
   "source": [
    "input_tuple=(2,3,5,2,3,6,7,8,5,9,1,0,-21,2)\n",
    "repeated_list(input_tuple)"
   ]
  },
  {
   "cell_type": "markdown",
   "id": "44a0964d-1493-4745-a31d-d98342f4e223",
   "metadata": {},
   "source": [
    "# question 3:- write a program to check whether an element 'r' and 'e' exists in tuple\n",
    "# input=('w',5,'a','d','o','p','u','m','c','e')\n",
    "# output= false,true"
   ]
  },
  {
   "cell_type": "code",
   "execution_count": 25,
   "id": "67cdf665-7256-4df1-a5c2-0449f7597217",
   "metadata": {},
   "outputs": [
    {
     "name": "stdout",
     "output_type": "stream",
     "text": [
      "False\n",
      "True\n"
     ]
    }
   ],
   "source": [
    "a=('w',5,'a','d','o','p','u','m','c','e')\n",
    "print('r' in a)\n",
    "print('e'in a)"
   ]
  },
  {
   "cell_type": "markdown",
   "id": "9d015635-592a-45cb-b6a5-c5bf85a20fc6",
   "metadata": {},
   "source": [
    "# question 4:- program to remove an item 'p' from a tuple.\n",
    "# input=('a',5,'r','l','p','u','r','m','e')\n",
    "# output=('a',5,'r','l','u','r','m','e')"
   ]
  },
  {
   "cell_type": "code",
   "execution_count": 1,
   "id": "f7064c8e-c07c-4616-9917-f4a193e7e22c",
   "metadata": {},
   "outputs": [
    {
     "name": "stdout",
     "output_type": "stream",
     "text": [
      "('a', 5, 'r', 'l', 'u', 'r', 'm', 'e')\n"
     ]
    }
   ],
   "source": [
    "a=('a',5,'r','l','p','u','r','m','e')\n",
    "a=list(a)\n",
    "a.remove('p')\n",
    "print(tuple(a))"
   ]
  },
  {
   "cell_type": "markdown",
   "id": "a8774788-9e2a-4419-a00f-3aaac22e5561",
   "metadata": {},
   "source": [
    "# question 5:- program to accept the numbers from user and insert it at the end of tuple\n",
    "# input=(23,32,4,5,2,12,23,7,9,10,23)\n",
    "# output=(23,32,4,5,2,12,23,7,9,10,23,55,66,77)"
   ]
  },
  {
   "cell_type": "code",
   "execution_count": 6,
   "id": "ea58ec23-9a61-4b77-820e-5d03398feb6b",
   "metadata": {},
   "outputs": [
    {
     "name": "stdin",
     "output_type": "stream",
     "text": [
      "Enter the numbers 55\n",
      "Enter the numbers 66\n",
      "Enter the numbers 77\n"
     ]
    },
    {
     "name": "stdout",
     "output_type": "stream",
     "text": [
      "(23, 32, 4, 5, 2, 12, 23, 7, 9, 10, 23, 55, 66, 77)\n"
     ]
    }
   ],
   "source": [
    "a=(23,32,4,5,2,12,23,7,9,10,23)\n",
    "b=()\n",
    "for i in range(3):\n",
    "    x=int(input('Enter the numbers'))\n",
    "    b=b+(x,)\n",
    "a=a+b\n",
    "print(a)"
   ]
  },
  {
   "cell_type": "markdown",
   "id": "a3455f84-ed9a-4c68-8462-f6741b4f1a95",
   "metadata": {},
   "source": [
    "# question 6:- program to get the 4th element from the last element of a tuple\n",
    "# input=('w',503,'r','e','s','o','u','r','c','e')\n",
    "# output=('w',503,'r','e','s','o','u','r','c','e')\n",
    "# e\n",
    "# u"
   ]
  },
  {
   "cell_type": "code",
   "execution_count": 7,
   "id": "16605273-bc55-4c1e-ac73-a6cd2d469a07",
   "metadata": {},
   "outputs": [
    {
     "name": "stdout",
     "output_type": "stream",
     "text": [
      "('w', 503, 'r', 'e', 's', 'o', 'u', 'r', 'c', 'e')\n",
      "e\n",
      "u\n"
     ]
    }
   ],
   "source": [
    "tuplex=('w',503,'r','e','s','o','u','r','c','e')\n",
    "print(tuplex)\n",
    "item=tuplex[3]\n",
    "print(item)\n",
    "item1=tuplex[-4]\n",
    "print(item1)"
   ]
  },
  {
   "cell_type": "code",
   "execution_count": null,
   "id": "0d7e5da6-f321-499f-b611-c461186d6e7f",
   "metadata": {},
   "outputs": [],
   "source": []
  }
 ],
 "metadata": {
  "kernelspec": {
   "display_name": "Python 3 (ipykernel)",
   "language": "python",
   "name": "python3"
  },
  "language_info": {
   "codemirror_mode": {
    "name": "ipython",
    "version": 3
   },
   "file_extension": ".py",
   "mimetype": "text/x-python",
   "name": "python",
   "nbconvert_exporter": "python",
   "pygments_lexer": "ipython3",
   "version": "3.11.5"
  }
 },
 "nbformat": 4,
 "nbformat_minor": 5
}
