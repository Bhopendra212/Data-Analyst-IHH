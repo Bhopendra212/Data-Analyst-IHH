{
 "cells": [
  {
   "cell_type": "markdown",
   "id": "3614f6b2-d696-4ad3-bddc-c69622790d4c",
   "metadata": {},
   "source": [
    "# static method"
   ]
  },
  {
   "cell_type": "code",
   "execution_count": 1,
   "id": "4ed6f9fe-8614-4975-8b4f-1b589d7c073e",
   "metadata": {},
   "outputs": [],
   "source": [
    "class ihh1():\n",
    "    def student_details(self,name,email_id,phone_number):\n",
    "        print(name,email_id,phone_number)\n",
    "\n",
    "    def mentor_class(self,mentor_list):\n",
    "        self.mentor_list=mentor_list\n",
    "        print(mentor_list)\n",
    "        "
   ]
  },
  {
   "cell_type": "code",
   "execution_count": 2,
   "id": "cfb0c0b0-138a-4b14-9b8a-64a71d390473",
   "metadata": {},
   "outputs": [],
   "source": [
    "st1=ihh1()"
   ]
  },
  {
   "cell_type": "code",
   "execution_count": 3,
   "id": "cee58124-26c9-4938-80c2-6fdc68e5456b",
   "metadata": {},
   "outputs": [
    {
     "name": "stdout",
     "output_type": "stream",
     "text": [
      "rishi rishi@gmail.com 987654\n"
     ]
    }
   ],
   "source": [
    "st1.student_details('rishi','rishi@gmail.com',987654)"
   ]
  },
  {
   "cell_type": "code",
   "execution_count": 4,
   "id": "3460cc03-3c59-473c-968f-7d44cc4bdbc2",
   "metadata": {},
   "outputs": [],
   "source": [
    "st2=ihh1()"
   ]
  },
  {
   "cell_type": "code",
   "execution_count": 5,
   "id": "c529e481-bde0-469b-86da-0d6596be6dbb",
   "metadata": {},
   "outputs": [
    {
     "name": "stdout",
     "output_type": "stream",
     "text": [
      "rakhi 123@gmail.com 12345\n"
     ]
    }
   ],
   "source": [
    "st2.student_details('rakhi','123@gmail.com','12345')"
   ]
  },
  {
   "cell_type": "code",
   "execution_count": 6,
   "id": "bd92f601-6c08-481c-99c0-5b3d861df003",
   "metadata": {},
   "outputs": [
    {
     "name": "stdout",
     "output_type": "stream",
     "text": [
      "['monika', 'ashish']\n"
     ]
    }
   ],
   "source": [
    "st1.mentor_class(['monika','ashish'])"
   ]
  },
  {
   "cell_type": "code",
   "execution_count": 7,
   "id": "190e991b-1c0d-47d1-9301-a1414ca6edf7",
   "metadata": {},
   "outputs": [
    {
     "name": "stdout",
     "output_type": "stream",
     "text": [
      "['monika', 'ashish']\n"
     ]
    }
   ],
   "source": [
    "st2.mentor_class(['monika','ashish'])"
   ]
  },
  {
   "cell_type": "code",
   "execution_count": 9,
   "id": "2811d3dc-aeb6-48d1-8e08-be1ee6fb8d14",
   "metadata": {},
   "outputs": [],
   "source": [
    "class ihh1():\n",
    "    def student_details(self,name,email_id,phone_number):\n",
    "        print(name,email_id,phone_number)\n",
    "    @staticmethod\n",
    "    def mentor_class(mentor_list):\n",
    "        print(mentor_list)\n",
    "        "
   ]
  },
  {
   "cell_type": "code",
   "execution_count": 10,
   "id": "a4295f49-4fdb-4e72-906d-307aa1caf2cf",
   "metadata": {},
   "outputs": [
    {
     "name": "stdout",
     "output_type": "stream",
     "text": [
      "['monika', 'ashish']\n"
     ]
    }
   ],
   "source": [
    "ihh1.mentor_class(['monika','ashish'])"
   ]
  },
  {
   "cell_type": "code",
   "execution_count": 11,
   "id": "6b7ccc37-b367-494e-a330-2d0a2a36ca54",
   "metadata": {},
   "outputs": [],
   "source": [
    "st1=ihh1()"
   ]
  },
  {
   "cell_type": "code",
   "execution_count": 12,
   "id": "a6e14466-2f1a-43d5-81f7-c88d412cfc42",
   "metadata": {},
   "outputs": [
    {
     "name": "stdout",
     "output_type": "stream",
     "text": [
      "Ravi 123@gmail.com 122345\n"
     ]
    }
   ],
   "source": [
    "st1.student_details('Ravi','123@gmail.com',122345)"
   ]
  },
  {
   "cell_type": "code",
   "execution_count": 13,
   "id": "a149e809-d110-48ce-972e-63f04c77936d",
   "metadata": {},
   "outputs": [],
   "source": [
    "st2=ihh1()"
   ]
  },
  {
   "cell_type": "code",
   "execution_count": 14,
   "id": "3abbe2c9-c2a0-49ef-a4d3-036c0d7149cb",
   "metadata": {},
   "outputs": [
    {
     "name": "stdout",
     "output_type": "stream",
     "text": [
      "priya 324@gmail.com 12345678\n"
     ]
    }
   ],
   "source": [
    "st2.student_details('priya','324@gmail.com',12345678)"
   ]
  },
  {
   "cell_type": "code",
   "execution_count": 15,
   "id": "88d373be-322f-4542-a34c-d87261d5e541",
   "metadata": {},
   "outputs": [],
   "source": [
    "class ihh1():\n",
    "    def student_details(self,name,email_id,phone_number):\n",
    "        print(name,email_id,phone_number)\n",
    "    @staticmethod\n",
    "    def mentor_class(mentor_list):\n",
    "        print(mentor_list)\n",
    "    @classmethod\n",
    "    def class_name(cls):\n",
    "        cls.mentor_class(['Rishi','Rakhi'])"
   ]
  },
  {
   "cell_type": "code",
   "execution_count": 16,
   "id": "5778d064-737e-4a96-b349-abb7afb3406c",
   "metadata": {},
   "outputs": [
    {
     "name": "stdout",
     "output_type": "stream",
     "text": [
      "['Rishi', 'Rakhi']\n"
     ]
    }
   ],
   "source": [
    "ihh1.class_name()"
   ]
  },
  {
   "cell_type": "code",
   "execution_count": 18,
   "id": "a1c7593e-7484-48a1-96f8-b30228a5eb31",
   "metadata": {},
   "outputs": [],
   "source": [
    "class ihh1():\n",
    "    def student_details(self,name,email_id,phone_number):\n",
    "        print(name,email_id,phone_number)\n",
    "    @staticmethod\n",
    "    def mentor_mail(mail_id):\n",
    "        print(mail_id)\n",
    "    @staticmethod\n",
    "    def mentor_class(mentor_list):\n",
    "        ihh1.mentor_mail(['rishi@gmail.com','123@gmail.com'])\n",
    "        print(mentor_list)\n",
    "    @classmethod\n",
    "    def class_name(cls):\n",
    "        cls.mentor_class(['Rishi','Rakhi'])"
   ]
  },
  {
   "cell_type": "code",
   "execution_count": 19,
   "id": "b35d7526-7be2-4dd8-b574-451b01201e3e",
   "metadata": {},
   "outputs": [
    {
     "name": "stdout",
     "output_type": "stream",
     "text": [
      "['rishi@gmail.com', '123@gmail.com']\n",
      "['rishi', 'rakhi']\n"
     ]
    }
   ],
   "source": [
    "ihh1.mentor_class(['rishi','rakhi'])"
   ]
  },
  {
   "cell_type": "markdown",
   "id": "e12253ab-757d-4b3b-a38e-d24733acc0d8",
   "metadata": {},
   "source": [
    "# special -- magic/dunder method"
   ]
  },
  {
   "cell_type": "code",
   "execution_count": 20,
   "id": "3483a1b8-a0aa-4d27-af56-bc87a02bc2d8",
   "metadata": {},
   "outputs": [
    {
     "data": {
      "text/plain": [
       "['__abs__',\n",
       " '__add__',\n",
       " '__and__',\n",
       " '__bool__',\n",
       " '__ceil__',\n",
       " '__class__',\n",
       " '__delattr__',\n",
       " '__dir__',\n",
       " '__divmod__',\n",
       " '__doc__',\n",
       " '__eq__',\n",
       " '__float__',\n",
       " '__floor__',\n",
       " '__floordiv__',\n",
       " '__format__',\n",
       " '__ge__',\n",
       " '__getattribute__',\n",
       " '__getnewargs__',\n",
       " '__getstate__',\n",
       " '__gt__',\n",
       " '__hash__',\n",
       " '__index__',\n",
       " '__init__',\n",
       " '__init_subclass__',\n",
       " '__int__',\n",
       " '__invert__',\n",
       " '__le__',\n",
       " '__lshift__',\n",
       " '__lt__',\n",
       " '__mod__',\n",
       " '__mul__',\n",
       " '__ne__',\n",
       " '__neg__',\n",
       " '__new__',\n",
       " '__or__',\n",
       " '__pos__',\n",
       " '__pow__',\n",
       " '__radd__',\n",
       " '__rand__',\n",
       " '__rdivmod__',\n",
       " '__reduce__',\n",
       " '__reduce_ex__',\n",
       " '__repr__',\n",
       " '__rfloordiv__',\n",
       " '__rlshift__',\n",
       " '__rmod__',\n",
       " '__rmul__',\n",
       " '__ror__',\n",
       " '__round__',\n",
       " '__rpow__',\n",
       " '__rrshift__',\n",
       " '__rshift__',\n",
       " '__rsub__',\n",
       " '__rtruediv__',\n",
       " '__rxor__',\n",
       " '__setattr__',\n",
       " '__sizeof__',\n",
       " '__str__',\n",
       " '__sub__',\n",
       " '__subclasshook__',\n",
       " '__truediv__',\n",
       " '__trunc__',\n",
       " '__xor__',\n",
       " 'as_integer_ratio',\n",
       " 'bit_count',\n",
       " 'bit_length',\n",
       " 'conjugate',\n",
       " 'denominator',\n",
       " 'from_bytes',\n",
       " 'imag',\n",
       " 'numerator',\n",
       " 'real',\n",
       " 'to_bytes']"
      ]
     },
     "execution_count": 20,
     "metadata": {},
     "output_type": "execute_result"
    }
   ],
   "source": [
    "dir(int)"
   ]
  },
  {
   "cell_type": "code",
   "execution_count": 21,
   "id": "5145d987-30e7-448d-9510-a1cd48c6aa86",
   "metadata": {},
   "outputs": [
    {
     "data": {
      "text/plain": [
       "['__add__',\n",
       " '__class__',\n",
       " '__contains__',\n",
       " '__delattr__',\n",
       " '__dir__',\n",
       " '__doc__',\n",
       " '__eq__',\n",
       " '__format__',\n",
       " '__ge__',\n",
       " '__getattribute__',\n",
       " '__getitem__',\n",
       " '__getnewargs__',\n",
       " '__getstate__',\n",
       " '__gt__',\n",
       " '__hash__',\n",
       " '__init__',\n",
       " '__init_subclass__',\n",
       " '__iter__',\n",
       " '__le__',\n",
       " '__len__',\n",
       " '__lt__',\n",
       " '__mod__',\n",
       " '__mul__',\n",
       " '__ne__',\n",
       " '__new__',\n",
       " '__reduce__',\n",
       " '__reduce_ex__',\n",
       " '__repr__',\n",
       " '__rmod__',\n",
       " '__rmul__',\n",
       " '__setattr__',\n",
       " '__sizeof__',\n",
       " '__str__',\n",
       " '__subclasshook__',\n",
       " 'capitalize',\n",
       " 'casefold',\n",
       " 'center',\n",
       " 'count',\n",
       " 'encode',\n",
       " 'endswith',\n",
       " 'expandtabs',\n",
       " 'find',\n",
       " 'format',\n",
       " 'format_map',\n",
       " 'index',\n",
       " 'isalnum',\n",
       " 'isalpha',\n",
       " 'isascii',\n",
       " 'isdecimal',\n",
       " 'isdigit',\n",
       " 'isidentifier',\n",
       " 'islower',\n",
       " 'isnumeric',\n",
       " 'isprintable',\n",
       " 'isspace',\n",
       " 'istitle',\n",
       " 'isupper',\n",
       " 'join',\n",
       " 'ljust',\n",
       " 'lower',\n",
       " 'lstrip',\n",
       " 'maketrans',\n",
       " 'partition',\n",
       " 'removeprefix',\n",
       " 'removesuffix',\n",
       " 'replace',\n",
       " 'rfind',\n",
       " 'rindex',\n",
       " 'rjust',\n",
       " 'rpartition',\n",
       " 'rsplit',\n",
       " 'rstrip',\n",
       " 'split',\n",
       " 'splitlines',\n",
       " 'startswith',\n",
       " 'strip',\n",
       " 'swapcase',\n",
       " 'title',\n",
       " 'translate',\n",
       " 'upper',\n",
       " 'zfill']"
      ]
     },
     "execution_count": 21,
     "metadata": {},
     "output_type": "execute_result"
    }
   ],
   "source": [
    "dir(str)"
   ]
  },
  {
   "cell_type": "code",
   "execution_count": 22,
   "id": "6cccb821-dc83-49a0-8a23-d02302b014ac",
   "metadata": {},
   "outputs": [
    {
     "data": {
      "text/plain": [
       "['__abs__',\n",
       " '__add__',\n",
       " '__bool__',\n",
       " '__ceil__',\n",
       " '__class__',\n",
       " '__delattr__',\n",
       " '__dir__',\n",
       " '__divmod__',\n",
       " '__doc__',\n",
       " '__eq__',\n",
       " '__float__',\n",
       " '__floor__',\n",
       " '__floordiv__',\n",
       " '__format__',\n",
       " '__ge__',\n",
       " '__getattribute__',\n",
       " '__getformat__',\n",
       " '__getnewargs__',\n",
       " '__getstate__',\n",
       " '__gt__',\n",
       " '__hash__',\n",
       " '__init__',\n",
       " '__init_subclass__',\n",
       " '__int__',\n",
       " '__le__',\n",
       " '__lt__',\n",
       " '__mod__',\n",
       " '__mul__',\n",
       " '__ne__',\n",
       " '__neg__',\n",
       " '__new__',\n",
       " '__pos__',\n",
       " '__pow__',\n",
       " '__radd__',\n",
       " '__rdivmod__',\n",
       " '__reduce__',\n",
       " '__reduce_ex__',\n",
       " '__repr__',\n",
       " '__rfloordiv__',\n",
       " '__rmod__',\n",
       " '__rmul__',\n",
       " '__round__',\n",
       " '__rpow__',\n",
       " '__rsub__',\n",
       " '__rtruediv__',\n",
       " '__setattr__',\n",
       " '__sizeof__',\n",
       " '__str__',\n",
       " '__sub__',\n",
       " '__subclasshook__',\n",
       " '__truediv__',\n",
       " '__trunc__',\n",
       " 'as_integer_ratio',\n",
       " 'conjugate',\n",
       " 'fromhex',\n",
       " 'hex',\n",
       " 'imag',\n",
       " 'is_integer',\n",
       " 'real']"
      ]
     },
     "execution_count": 22,
     "metadata": {},
     "output_type": "execute_result"
    }
   ],
   "source": [
    "dir(float)"
   ]
  },
  {
   "cell_type": "code",
   "execution_count": 23,
   "id": "36c3ac0d-28c7-48dc-90f5-5990fc4e94e8",
   "metadata": {},
   "outputs": [
    {
     "data": {
      "text/plain": [
       "55"
      ]
     },
     "execution_count": 23,
     "metadata": {},
     "output_type": "execute_result"
    }
   ],
   "source": [
    "a=50\n",
    "a+5"
   ]
  },
  {
   "cell_type": "code",
   "execution_count": 24,
   "id": "5766dac4-50c8-430c-b4fe-d1dc4045f8da",
   "metadata": {},
   "outputs": [
    {
     "data": {
      "text/plain": [
       "55"
      ]
     },
     "execution_count": 24,
     "metadata": {},
     "output_type": "execute_result"
    }
   ],
   "source": [
    "a.__add__(5)"
   ]
  },
  {
   "cell_type": "code",
   "execution_count": 27,
   "id": "6e8e9e7c-a762-4e2a-beb1-5218a6c1c1e3",
   "metadata": {},
   "outputs": [],
   "source": [
    "class demo:\n",
    "    def __new__(cls):\n",
    "        print('This si python')\n",
    "    def __init__(self):\n",
    "        print('This si init')"
   ]
  },
  {
   "cell_type": "code",
   "execution_count": 28,
   "id": "a06c9e19-aee3-49d1-8b1f-90cd40704edb",
   "metadata": {},
   "outputs": [
    {
     "name": "stdout",
     "output_type": "stream",
     "text": [
      "This si python\n"
     ]
    }
   ],
   "source": [
    "box=demo()"
   ]
  },
  {
   "cell_type": "markdown",
   "id": "c030da5d-33a5-43cc-afcc-1c3b979e30e1",
   "metadata": {},
   "source": [
    "# property decoraters -- getters,setters and delete"
   ]
  },
  {
   "cell_type": "code",
   "execution_count": 45,
   "id": "f0486991-38a2-479c-b1a7-f9820a0144ee",
   "metadata": {},
   "outputs": [],
   "source": [
    "class movie:\n",
    "    def __init__(self,movie_name,ticket_price):\n",
    "        self.movie_name=movie_name\n",
    "        self.__ticket_price=ticket_price\n",
    "    @property\n",
    "    def ticket_price_access(self):\n",
    "        return self.__ticket_price\n",
    "    @ticket_price_access.setter\n",
    "    def ticket_price_set(self,price):\n",
    "        if price<=500:\n",
    "            pass\n",
    "        else:\n",
    "            self.__ticket_price=price"
   ]
  },
  {
   "cell_type": "code",
   "execution_count": 46,
   "id": "a06a5bb6-c2bd-4ef2-8d7e-1763d3a8ae02",
   "metadata": {},
   "outputs": [],
   "source": [
    "movie_obj=movie('wanted',500)"
   ]
  },
  {
   "cell_type": "code",
   "execution_count": 47,
   "id": "59e25ddd-fda1-4072-affe-f43f8b89e48d",
   "metadata": {},
   "outputs": [
    {
     "data": {
      "text/plain": [
       "500"
      ]
     },
     "execution_count": 47,
     "metadata": {},
     "output_type": "execute_result"
    }
   ],
   "source": [
    "movie_obj.ticket_price_access"
   ]
  },
  {
   "cell_type": "code",
   "execution_count": 48,
   "id": "400aaa28-eb94-42e3-9c95-8e950542573c",
   "metadata": {},
   "outputs": [],
   "source": [
    "movie_obj.ticket_price_set =1000"
   ]
  },
  {
   "cell_type": "code",
   "execution_count": 49,
   "id": "bcfed4c8-0f55-495b-8b33-6dfc0c2a1e50",
   "metadata": {},
   "outputs": [
    {
     "data": {
      "text/plain": [
       "1000"
      ]
     },
     "execution_count": 49,
     "metadata": {},
     "output_type": "execute_result"
    }
   ],
   "source": [
    "movie_obj.ticket_price_access"
   ]
  },
  {
   "cell_type": "code",
   "execution_count": 51,
   "id": "ddec82c8-cfe9-40ac-9023-663d3d5a90a6",
   "metadata": {},
   "outputs": [],
   "source": [
    "class movie:\n",
    "    def __init__(self,movie_name,ticket_price):\n",
    "        self.movie_name=movie_name\n",
    "        self.__ticket_price=ticket_price\n",
    "    @property\n",
    "    def ticket_price_access(self):\n",
    "        return self.__ticket_price\n",
    "    @ticket_price_access.setter\n",
    "    def ticket_price_set(self,price):\n",
    "        if price<=500:\n",
    "            pass\n",
    "        else:\n",
    "            self.__ticket_price=price\n",
    "\n",
    "    @ticket_price_access.deleter\n",
    "    def ticket_price_delete(self):\n",
    "        del self.__ticket_price"
   ]
  },
  {
   "cell_type": "code",
   "execution_count": 53,
   "id": "d65e1a77-6f82-410e-9d83-6641e4b826bd",
   "metadata": {},
   "outputs": [],
   "source": [
    "movie1_obj=movie('saajan',700)"
   ]
  },
  {
   "cell_type": "code",
   "execution_count": 54,
   "id": "5d1a23dc-ffb8-4ed1-87ba-df7ca46ef600",
   "metadata": {},
   "outputs": [
    {
     "data": {
      "text/plain": [
       "700"
      ]
     },
     "execution_count": 54,
     "metadata": {},
     "output_type": "execute_result"
    }
   ],
   "source": [
    "movie1_obj.ticket_price_access"
   ]
  },
  {
   "cell_type": "code",
   "execution_count": 55,
   "id": "e822f0b3-07d8-4150-9928-c30f157f3ca9",
   "metadata": {},
   "outputs": [],
   "source": [
    "movie1_obj.ticket_price_set=1200"
   ]
  },
  {
   "cell_type": "code",
   "execution_count": 56,
   "id": "99ab1236-1abb-45f9-b4b1-47ea43e250e7",
   "metadata": {},
   "outputs": [
    {
     "data": {
      "text/plain": [
       "1200"
      ]
     },
     "execution_count": 56,
     "metadata": {},
     "output_type": "execute_result"
    }
   ],
   "source": [
    "movie1_obj.ticket_price_access"
   ]
  },
  {
   "cell_type": "code",
   "execution_count": 57,
   "id": "8fac3e2d-e351-4245-acc9-3588fb57fdf2",
   "metadata": {},
   "outputs": [],
   "source": [
    "del movie1_obj.ticket_price_delete"
   ]
  },
  {
   "cell_type": "code",
   "execution_count": 58,
   "id": "d0eb0f58-42f8-40d3-a894-7b684f2d2e30",
   "metadata": {},
   "outputs": [
    {
     "ename": "AttributeError",
     "evalue": "'movie' object has no attribute '_movie__ticket_price'",
     "output_type": "error",
     "traceback": [
      "\u001b[1;31m---------------------------------------------------------------------------\u001b[0m",
      "\u001b[1;31mAttributeError\u001b[0m                            Traceback (most recent call last)",
      "Cell \u001b[1;32mIn[58], line 1\u001b[0m\n\u001b[1;32m----> 1\u001b[0m \u001b[43mmovie1_obj\u001b[49m\u001b[38;5;241;43m.\u001b[39;49m\u001b[43mticket_price_access\u001b[49m\n",
      "Cell \u001b[1;32mIn[51], line 7\u001b[0m, in \u001b[0;36mmovie.ticket_price_access\u001b[1;34m(self)\u001b[0m\n\u001b[0;32m      5\u001b[0m \u001b[38;5;129m@property\u001b[39m\n\u001b[0;32m      6\u001b[0m \u001b[38;5;28;01mdef\u001b[39;00m \u001b[38;5;21mticket_price_access\u001b[39m(\u001b[38;5;28mself\u001b[39m):\n\u001b[1;32m----> 7\u001b[0m     \u001b[38;5;28;01mreturn\u001b[39;00m \u001b[38;5;28;43mself\u001b[39;49m\u001b[38;5;241;43m.\u001b[39;49m\u001b[43m__ticket_price\u001b[49m\n",
      "\u001b[1;31mAttributeError\u001b[0m: 'movie' object has no attribute '_movie__ticket_price'"
     ]
    }
   ],
   "source": [
    "movie1_obj.ticket_price_access"
   ]
  },
  {
   "cell_type": "code",
   "execution_count": null,
   "id": "0dcfc132-358f-47ca-abf1-7a6ca994550e",
   "metadata": {},
   "outputs": [],
   "source": []
  }
 ],
 "metadata": {
  "kernelspec": {
   "display_name": "Python 3 (ipykernel)",
   "language": "python",
   "name": "python3"
  },
  "language_info": {
   "codemirror_mode": {
    "name": "ipython",
    "version": 3
   },
   "file_extension": ".py",
   "mimetype": "text/x-python",
   "name": "python",
   "nbconvert_exporter": "python",
   "pygments_lexer": "ipython3",
   "version": "3.11.5"
  }
 },
 "nbformat": 4,
 "nbformat_minor": 5
}
