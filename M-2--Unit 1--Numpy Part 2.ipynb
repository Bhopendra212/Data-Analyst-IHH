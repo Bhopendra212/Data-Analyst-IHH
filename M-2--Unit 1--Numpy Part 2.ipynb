{
 "cells": [
  {
   "cell_type": "markdown",
   "id": "28df3fe5-cd67-403a-8a31-7e35b09690cd",
   "metadata": {},
   "source": [
    "# Numpy array with all its element values as zero"
   ]
  },
  {
   "cell_type": "code",
   "execution_count": 1,
   "id": "de05f5f0-6ff8-4bd6-82c6-b05c673ae0a4",
   "metadata": {},
   "outputs": [
    {
     "name": "stdout",
     "output_type": "stream",
     "text": [
      "[0. 0. 0. 0. 0.]\n",
      "1\n"
     ]
    }
   ],
   "source": [
    "import numpy as np\n",
    "ar=np.zeros(5)\n",
    "print(ar)\n",
    "print(ar.ndim)"
   ]
  },
  {
   "cell_type": "code",
   "execution_count": 2,
   "id": "ba11f830-aade-447b-91b2-e220a8110540",
   "metadata": {},
   "outputs": [
    {
     "name": "stdout",
     "output_type": "stream",
     "text": [
      "[[0. 0. 0.]\n",
      " [0. 0. 0.]\n",
      " [0. 0. 0.]\n",
      " [0. 0. 0.]]\n",
      "2\n"
     ]
    }
   ],
   "source": [
    "ar1=np.zeros((4,3))\n",
    "print(ar1)\n",
    "print(ar1.ndim)"
   ]
  },
  {
   "cell_type": "code",
   "execution_count": 4,
   "id": "01d75f32-a121-4245-a607-392331fad5b4",
   "metadata": {},
   "outputs": [
    {
     "name": "stdout",
     "output_type": "stream",
     "text": [
      "[[[0. 0. 0. 0.]\n",
      "  [0. 0. 0. 0.]\n",
      "  [0. 0. 0. 0.]]]\n",
      "3\n"
     ]
    }
   ],
   "source": [
    "ar2=np.zeros(((1,3,4)))\n",
    "print(ar2)\n",
    "print(ar2.ndim)"
   ]
  },
  {
   "cell_type": "code",
   "execution_count": 5,
   "id": "5f354ef2-a52c-4b07-a0fb-0889ef959429",
   "metadata": {},
   "outputs": [
    {
     "name": "stdout",
     "output_type": "stream",
     "text": [
      "[[[0. 0. 0. 0.]\n",
      "  [0. 0. 0. 0.]\n",
      "  [0. 0. 0. 0.]]\n",
      "\n",
      " [[0. 0. 0. 0.]\n",
      "  [0. 0. 0. 0.]\n",
      "  [0. 0. 0. 0.]]]\n",
      "3\n"
     ]
    }
   ],
   "source": [
    "ar2=np.zeros(((2,3,4)))\n",
    "print(ar2)\n",
    "print(ar2.ndim)"
   ]
  },
  {
   "cell_type": "code",
   "execution_count": 6,
   "id": "887058a4-5115-41a0-9681-7e083d41bd5c",
   "metadata": {},
   "outputs": [
    {
     "name": "stdout",
     "output_type": "stream",
     "text": [
      "[[[0. 0. 0. 0.]\n",
      "  [0. 0. 0. 0.]\n",
      "  [0. 0. 0. 0.]]\n",
      "\n",
      " [[0. 0. 0. 0.]\n",
      "  [0. 0. 0. 0.]\n",
      "  [0. 0. 0. 0.]]\n",
      "\n",
      " [[0. 0. 0. 0.]\n",
      "  [0. 0. 0. 0.]\n",
      "  [0. 0. 0. 0.]]\n",
      "\n",
      " [[0. 0. 0. 0.]\n",
      "  [0. 0. 0. 0.]\n",
      "  [0. 0. 0. 0.]]]\n",
      "3\n"
     ]
    }
   ],
   "source": [
    "ar2=np.zeros(((4,3,4)))\n",
    "print(ar2)\n",
    "print(ar2.ndim)"
   ]
  },
  {
   "cell_type": "markdown",
   "id": "b2812ac0-7d92-4f5f-8b1b-8905c9a3467f",
   "metadata": {},
   "source": [
    "# Numpy array with all its element values as one"
   ]
  },
  {
   "cell_type": "code",
   "execution_count": 7,
   "id": "927c12f5-c4a3-4be1-be7e-73049ad6a237",
   "metadata": {},
   "outputs": [
    {
     "name": "stdout",
     "output_type": "stream",
     "text": [
      "[1. 1. 1. 1. 1. 1.]\n",
      "1\n"
     ]
    }
   ],
   "source": [
    "arr=np.ones(6)\n",
    "print(arr)\n",
    "print(arr.ndim)"
   ]
  },
  {
   "cell_type": "code",
   "execution_count": 8,
   "id": "0fe957ca-2594-4cae-8e40-76b845d94ecf",
   "metadata": {},
   "outputs": [
    {
     "name": "stdout",
     "output_type": "stream",
     "text": [
      "[[1. 1. 1. 1. 1.]\n",
      " [1. 1. 1. 1. 1.]\n",
      " [1. 1. 1. 1. 1.]\n",
      " [1. 1. 1. 1. 1.]]\n",
      "2\n"
     ]
    }
   ],
   "source": [
    "arr1=np.ones((4,5))\n",
    "print(arr1)\n",
    "print(arr1.ndim)"
   ]
  },
  {
   "cell_type": "code",
   "execution_count": 14,
   "id": "3d5bde77-9ce1-45ba-8193-7734eeebec0e",
   "metadata": {},
   "outputs": [
    {
     "name": "stdout",
     "output_type": "stream",
     "text": [
      "[[[1. 1. 1.]\n",
      "  [1. 1. 1.]\n",
      "  [1. 1. 1.]]]\n",
      "dimension is: 3\n"
     ]
    }
   ],
   "source": [
    "arr2=np.ones((1,3,3))\n",
    "print(arr2)\n",
    "print('dimension is:',arr2.ndim)"
   ]
  },
  {
   "cell_type": "code",
   "execution_count": 13,
   "id": "8f5d71dd-4a1f-4e16-92b6-07ba75a7a8f5",
   "metadata": {},
   "outputs": [
    {
     "name": "stdout",
     "output_type": "stream",
     "text": [
      "[[[1. 1. 1.]\n",
      "  [1. 1. 1.]\n",
      "  [1. 1. 1.]]\n",
      "\n",
      " [[1. 1. 1.]\n",
      "  [1. 1. 1.]\n",
      "  [1. 1. 1.]]\n",
      "\n",
      " [[1. 1. 1.]\n",
      "  [1. 1. 1.]\n",
      "  [1. 1. 1.]]]\n",
      "dimension is: 3\n"
     ]
    }
   ],
   "source": [
    "arr2=np.ones((3,3,3))\n",
    "print(arr2)\n",
    "print('dimension is:',arr2.ndim)"
   ]
  },
  {
   "cell_type": "code",
   "execution_count": 15,
   "id": "37686185-e076-4436-a4f0-5944b03e5082",
   "metadata": {},
   "outputs": [
    {
     "name": "stdout",
     "output_type": "stream",
     "text": [
      "[[[ True  True  True]\n",
      "  [ True  True  True]\n",
      "  [ True  True  True]]\n",
      "\n",
      " [[ True  True  True]\n",
      "  [ True  True  True]\n",
      "  [ True  True  True]]\n",
      "\n",
      " [[ True  True  True]\n",
      "  [ True  True  True]\n",
      "  [ True  True  True]]]\n",
      "dimension is: 3\n"
     ]
    }
   ],
   "source": [
    "arr2=np.ones((3,3,3),dtype='bool')\n",
    "print(arr2)\n",
    "print('dimension is:',arr2.ndim)"
   ]
  },
  {
   "cell_type": "markdown",
   "id": "d1bbeb2a-df2e-4959-8398-97906b758ca4",
   "metadata": {},
   "source": [
    "# creating an empty array"
   ]
  },
  {
   "cell_type": "code",
   "execution_count": 16,
   "id": "71e2ce0f-df7a-4535-8c3a-0c91d74ac355",
   "metadata": {},
   "outputs": [
    {
     "name": "stdout",
     "output_type": "stream",
     "text": [
      "[0. 0. 0.]\n",
      "1\n"
     ]
    }
   ],
   "source": [
    "k=np.empty(3)\n",
    "print(k)\n",
    "print(k.ndim)"
   ]
  },
  {
   "cell_type": "code",
   "execution_count": 17,
   "id": "2d1acc6b-8eba-4e81-8a2a-2451817f1137",
   "metadata": {},
   "outputs": [
    {
     "name": "stdout",
     "output_type": "stream",
     "text": [
      "[[1. 1. 1.]\n",
      " [1. 1. 1.]\n",
      " [1. 1. 1.]]\n",
      "2\n"
     ]
    }
   ],
   "source": [
    "l=np.empty((3,3))\n",
    "print(l)\n",
    "print(l.ndim)"
   ]
  },
  {
   "cell_type": "code",
   "execution_count": 18,
   "id": "87e59ef7-977c-47fe-a310-fbc9740c5da2",
   "metadata": {},
   "outputs": [
    {
     "name": "stdout",
     "output_type": "stream",
     "text": [
      "[[0. 0. 0.]\n",
      " [0. 0. 0.]\n",
      " [0. 0. 0.]\n",
      " [0. 0. 0.]]\n",
      "2\n"
     ]
    }
   ],
   "source": [
    "l=np.empty((4,3))\n",
    "print(l)\n",
    "print(l.ndim)"
   ]
  },
  {
   "cell_type": "markdown",
   "id": "8d6bad8d-ce02-4ae7-bd08-066ce737a780",
   "metadata": {},
   "source": [
    "# creating an array with range"
   ]
  },
  {
   "cell_type": "code",
   "execution_count": 19,
   "id": "61d7d6d6-b042-4267-b85d-aeacf2259d61",
   "metadata": {},
   "outputs": [
    {
     "name": "stdout",
     "output_type": "stream",
     "text": [
      "[ 1  2  3  4  5  6  7  8  9 10 11 12 13 14 15 16 17 18 19 20]\n",
      "1\n"
     ]
    }
   ],
   "source": [
    "b=np.arange(1,21)\n",
    "print(b)\n",
    "print(b.ndim)"
   ]
  },
  {
   "cell_type": "code",
   "execution_count": 20,
   "id": "be64ccbd-5977-4932-8e54-e0f94a9d7bcf",
   "metadata": {},
   "outputs": [
    {
     "name": "stdout",
     "output_type": "stream",
     "text": [
      "[  3   4   5   6   7   8   9  10  11  12  13  14  15  16  17  18  19  20\n",
      "  21  22  23  24  25  26  27  28  29  30  31  32  33  34  35  36  37  38\n",
      "  39  40  41  42  43  44  45  46  47  48  49  50  51  52  53  54  55  56\n",
      "  57  58  59  60  61  62  63  64  65  66  67  68  69  70  71  72  73  74\n",
      "  75  76  77  78  79  80  81  82  83  84  85  86  87  88  89  90  91  92\n",
      "  93  94  95  96  97  98  99 100]\n",
      "1\n"
     ]
    }
   ],
   "source": [
    "b=np.arange(3,101)\n",
    "print(b)\n",
    "print(b.ndim)"
   ]
  },
  {
   "cell_type": "code",
   "execution_count": 21,
   "id": "e7f8da6b-474a-4749-956b-43b940021a8c",
   "metadata": {},
   "outputs": [
    {
     "name": "stdout",
     "output_type": "stream",
     "text": [
      "[ 3  6  9 12 15 18 21 24 27 30 33 36 39 42 45 48 51 54 57 60 63 66 69 72\n",
      " 75 78 81 84 87 90 93 96 99]\n",
      "1\n"
     ]
    }
   ],
   "source": [
    "b=np.arange(3,101,3)\n",
    "print(b)\n",
    "print(b.ndim)"
   ]
  },
  {
   "cell_type": "code",
   "execution_count": 22,
   "id": "6ac3506b-a8b8-4213-b6f1-016818eca38a",
   "metadata": {},
   "outputs": [
    {
     "name": "stdout",
     "output_type": "stream",
     "text": [
      "[   5   10   15   20   25   30   35   40   45   50   55   60   65   70\n",
      "   75   80   85   90   95  100  105  110  115  120  125  130  135  140\n",
      "  145  150  155  160  165  170  175  180  185  190  195  200  205  210\n",
      "  215  220  225  230  235  240  245  250  255  260  265  270  275  280\n",
      "  285  290  295  300  305  310  315  320  325  330  335  340  345  350\n",
      "  355  360  365  370  375  380  385  390  395  400  405  410  415  420\n",
      "  425  430  435  440  445  450  455  460  465  470  475  480  485  490\n",
      "  495  500  505  510  515  520  525  530  535  540  545  550  555  560\n",
      "  565  570  575  580  585  590  595  600  605  610  615  620  625  630\n",
      "  635  640  645  650  655  660  665  670  675  680  685  690  695  700\n",
      "  705  710  715  720  725  730  735  740  745  750  755  760  765  770\n",
      "  775  780  785  790  795  800  805  810  815  820  825  830  835  840\n",
      "  845  850  855  860  865  870  875  880  885  890  895  900  905  910\n",
      "  915  920  925  930  935  940  945  950  955  960  965  970  975  980\n",
      "  985  990  995 1000]\n",
      "1\n"
     ]
    }
   ],
   "source": [
    "b=np.arange(5,1001,5)\n",
    "print(b)\n",
    "print(b.ndim)"
   ]
  },
  {
   "cell_type": "markdown",
   "id": "48b1ce9b-39a9-4572-966e-5bc70742c57b",
   "metadata": {},
   "source": [
    "# linspace"
   ]
  },
  {
   "cell_type": "code",
   "execution_count": 23,
   "id": "1548af2b-befa-4869-a766-eaf0c197a3d7",
   "metadata": {},
   "outputs": [
    {
     "name": "stdout",
     "output_type": "stream",
     "text": [
      "[ 1.    3.25  5.5   7.75 10.  ]\n",
      "1\n"
     ]
    }
   ],
   "source": [
    "a=np.linspace(1,10,5)\n",
    "print(a)\n",
    "print(a.ndim)"
   ]
  },
  {
   "cell_type": "code",
   "execution_count": 24,
   "id": "f0977a87-04df-4ad7-82c6-7572765ad07b",
   "metadata": {},
   "outputs": [
    {
     "name": "stdout",
     "output_type": "stream",
     "text": [
      "[ 1.          5.14285714  9.28571429 13.42857143 17.57142857 21.71428571\n",
      " 25.85714286 30.        ]\n",
      "1\n"
     ]
    }
   ],
   "source": [
    "a=np.linspace(1,30,8)\n",
    "print(a)\n",
    "print(a.ndim)"
   ]
  },
  {
   "cell_type": "code",
   "execution_count": 25,
   "id": "f26de984-62de-4a15-a14d-bb211cb2d2b0",
   "metadata": {},
   "outputs": [
    {
     "name": "stdout",
     "output_type": "stream",
     "text": [
      "[ 5.  8. 11. 14. 17. 20.]\n",
      "1\n"
     ]
    }
   ],
   "source": [
    "a=np.linspace(5,20,6)\n",
    "print(a)\n",
    "print(a.ndim)"
   ]
  },
  {
   "cell_type": "markdown",
   "id": "22109813-7172-4055-8bae-75090ac09dd6",
   "metadata": {},
   "source": [
    "# shape function"
   ]
  },
  {
   "cell_type": "code",
   "execution_count": 27,
   "id": "9a991a08-bf9a-401d-8399-a991c4084428",
   "metadata": {},
   "outputs": [
    {
     "name": "stdout",
     "output_type": "stream",
     "text": [
      "[[ 1  2  3]\n",
      " [11 22 33]]\n",
      "2\n",
      "(2, 3)\n"
     ]
    }
   ],
   "source": [
    "ar=np.array([[1,2,3],[11,22,33]])\n",
    "print(ar)\n",
    "print(ar.ndim)\n",
    "print(ar.shape)"
   ]
  },
  {
   "cell_type": "code",
   "execution_count": 28,
   "id": "cd024df4-4c30-44e2-91b1-1db74530e4b5",
   "metadata": {},
   "outputs": [
    {
     "name": "stdout",
     "output_type": "stream",
     "text": [
      "[[ 1  2  3]\n",
      " [11 22 33]\n",
      " [13 15 16]]\n",
      "2\n",
      "(3, 3)\n"
     ]
    }
   ],
   "source": [
    "ar=np.array([[1,2,3],[11,22,33],[13,15,16]])\n",
    "print(ar)\n",
    "print(ar.ndim)\n",
    "print(ar.shape)"
   ]
  },
  {
   "cell_type": "code",
   "execution_count": 29,
   "id": "e6810735-eb3e-446b-839f-6466e74dda57",
   "metadata": {},
   "outputs": [
    {
     "name": "stdout",
     "output_type": "stream",
     "text": [
      "[[[ 1  2  3]\n",
      "  [ 5  6  7]\n",
      "  [ 7  8  9]\n",
      "  [11 22 33]]]\n",
      "3\n",
      "(1, 4, 3)\n"
     ]
    }
   ],
   "source": [
    "ar=np.array([[[1,2,3],[5,6,7],[7,8,9],[11,22,33]]])\n",
    "print(ar)\n",
    "print(ar.ndim)\n",
    "print(ar.shape)"
   ]
  },
  {
   "cell_type": "markdown",
   "id": "20409269-4b35-4a37-acc0-f9b19511ab9c",
   "metadata": {},
   "source": [
    "# reshape function"
   ]
  },
  {
   "cell_type": "code",
   "execution_count": 32,
   "id": "756fb8f8-ee52-4c79-8a41-2a8d030713e5",
   "metadata": {},
   "outputs": [
    {
     "name": "stdout",
     "output_type": "stream",
     "text": [
      "[[ 1  2  3  4  5]\n",
      " [ 6  7  8  9 10]]\n",
      "2\n",
      "\n",
      "[ 1  2  3  4  5  6  7  8  9 10]\n"
     ]
    }
   ],
   "source": [
    "m=np.array([1,2,3,4,5,6,7,8,9,10])\n",
    "n=m.reshape(2,5)\n",
    "print(n)\n",
    "print(n.ndim)\n",
    "print()\n",
    "print(m)"
   ]
  },
  {
   "cell_type": "code",
   "execution_count": 34,
   "id": "6f92c2e6-f2f8-495d-bd9d-a3ad80c258dd",
   "metadata": {},
   "outputs": [
    {
     "name": "stdout",
     "output_type": "stream",
     "text": [
      "[[1 2 3]\n",
      " [4 5 6]\n",
      " [7 8 9]]\n",
      "2\n",
      "\n",
      "[1 2 3 4 5 6 7 8 9]\n"
     ]
    }
   ],
   "source": [
    "m=np.array([1,2,3,4,5,6,7,8,9])\n",
    "n=m.reshape(3,3)\n",
    "print(n)\n",
    "print(n.ndim)\n",
    "print()\n",
    "print(m)"
   ]
  },
  {
   "cell_type": "code",
   "execution_count": 35,
   "id": "f08479e0-1bf6-40b5-a679-a39552feed1e",
   "metadata": {},
   "outputs": [
    {
     "name": "stdout",
     "output_type": "stream",
     "text": [
      "[[[ 1  2  3]\n",
      "  [ 4  5  6]]\n",
      "\n",
      " [[ 7  8  9]\n",
      "  [10 11 12]]\n",
      "\n",
      " [[13 14 15]\n",
      "  [16 17 18]]]\n",
      "3\n",
      "\n",
      "[ 1  2  3  4  5  6  7  8  9 10 11 12 13 14 15 16 17 18]\n"
     ]
    }
   ],
   "source": [
    "m=np.array([1,2,3,4,5,6,7,8,9,10,11,12,13,14,15,16,17,18])\n",
    "n=m.reshape(3,2,3)\n",
    "print(n)\n",
    "print(n.ndim)\n",
    "print()\n",
    "print(m)"
   ]
  },
  {
   "cell_type": "code",
   "execution_count": 37,
   "id": "f901d8a1-0499-4879-ae5e-3862f1078fd2",
   "metadata": {},
   "outputs": [
    {
     "name": "stdout",
     "output_type": "stream",
     "text": [
      "[[[ 1  2  3]\n",
      "  [ 4  5  6]]\n",
      "\n",
      " [[ 7  8  9]\n",
      "  [10 11 12]]\n",
      "\n",
      " [[13 14 15]\n",
      "  [16 17 18]]]\n",
      "3\n",
      "\n",
      "[ 1  2  3  4  5  6  7  8  9 10 11 12 13 14 15 16 17 18]\n"
     ]
    }
   ],
   "source": [
    "m=np.array([1,2,3,4,5,6,7,8,9,10,11,12,13,14,15,16,17,18])\n",
    "n=m.reshape(3,2,3)\n",
    "print(n)\n",
    "print(n.ndim)\n",
    "print()\n",
    "print(m)"
   ]
  },
  {
   "cell_type": "code",
   "execution_count": 40,
   "id": "eb625e7b-7aba-4055-bc7e-9c1823a90525",
   "metadata": {},
   "outputs": [
    {
     "name": "stdout",
     "output_type": "stream",
     "text": [
      "2\n",
      "[[1 2 3 4]\n",
      " [4 5 6 7]\n",
      " [6 7 8 9]]\n",
      "\n",
      "\n",
      "[[[[1 2 3]\n",
      "   [4 4 5]]]\n",
      "\n",
      "\n",
      " [[[6 7 6]\n",
      "   [7 8 9]]]]\n",
      "\n",
      "4\n"
     ]
    }
   ],
   "source": [
    "x=np.array([[1,2,3,4],[4,5,6,7],[6,7,8,9]])\n",
    "print(x.ndim)\n",
    "print(x)\n",
    "print()\n",
    "y=x.reshape(2,1,2,3)\n",
    "print()\n",
    "print(y)\n",
    "print()\n",
    "print(y.ndim)"
   ]
  },
  {
   "cell_type": "markdown",
   "id": "fd3df99c-7e75-43aa-9770-a7eb9180b04c",
   "metadata": {},
   "source": [
    "# ravel & flatten -- converts multidimensional array into 1D array"
   ]
  },
  {
   "cell_type": "code",
   "execution_count": 43,
   "id": "eb51758a-ff04-466f-b9a3-bc1d19e4d919",
   "metadata": {},
   "outputs": [
    {
     "name": "stdout",
     "output_type": "stream",
     "text": [
      "[[[1 2 3]\n",
      "  [4 5 6]\n",
      "  [7 8 9]]]\n",
      "Dimension is: 3\n",
      "\n",
      "[1 2 3 4 5 6 7 8 9]\n",
      "now the new dimension is 1\n"
     ]
    }
   ],
   "source": [
    "m=np.array([[[1,2,3],[4,5,6],[7,8,9]]])\n",
    "print(m)\n",
    "print('Dimension is:',m.ndim)\n",
    "print()\n",
    "n=m.ravel()\n",
    "print(n)\n",
    "print('now the new dimension is',n.ndim)"
   ]
  },
  {
   "cell_type": "code",
   "execution_count": 44,
   "id": "990bdae3-18bd-4ee8-af7f-e0a757925e3a",
   "metadata": {},
   "outputs": [
    {
     "name": "stdout",
     "output_type": "stream",
     "text": [
      "[[[1 2 3]\n",
      "  [4 5 6]\n",
      "  [7 8 9]]]\n",
      "Dimension is: 3\n",
      "\n",
      "[1 2 3 4 5 6 7 8 9]\n",
      "now the new dimension is 1\n"
     ]
    }
   ],
   "source": [
    "m=np.array([[[1,2,3],[4,5,6],[7,8,9]]])\n",
    "print(m)\n",
    "print('Dimension is:',m.ndim)\n",
    "print()\n",
    "n=m.flatten()\n",
    "print(n)\n",
    "print('now the new dimension is',n.ndim)"
   ]
  },
  {
   "cell_type": "code",
   "execution_count": 49,
   "id": "28b94275-0ef1-4304-a325-8f7ae41541cf",
   "metadata": {},
   "outputs": [
    {
     "name": "stdout",
     "output_type": "stream",
     "text": [
      "[[[[ 1  2  3]\n",
      "   [ 4  5  6]\n",
      "   [11 22 33]\n",
      "   [55 66 77]]]]\n",
      "4\n",
      "\n",
      "[ 1  2  3  4  5  6 11 22 33 55 66 77]\n",
      "Now dimension is : 1\n"
     ]
    }
   ],
   "source": [
    "c=np.array([[[[1,2,3],[4,5,6],[11,22,33],[55,66,77]]]])\n",
    "print(c)\n",
    "print(c.ndim)\n",
    "print()\n",
    "d=c.flatten()\n",
    "print(d)\n",
    "print('Now dimension is :',d.ndim)"
   ]
  },
  {
   "cell_type": "code",
   "execution_count": 50,
   "id": "133fbbbb-91a6-4824-9f92-de74fae89041",
   "metadata": {},
   "outputs": [
    {
     "name": "stdout",
     "output_type": "stream",
     "text": [
      "[[[[ 1  2  3]\n",
      "   [ 4  5  6]\n",
      "   [11 22 33]\n",
      "   [55 66 77]]]]\n",
      "4\n",
      "\n",
      "[ 1  2  3  4  5  6 11 22 33 55 66 77]\n",
      "Now dimension is : 1\n"
     ]
    }
   ],
   "source": [
    "c=np.array([[[[1,2,3],[4,5,6],[11,22,33],[55,66,77]]]])\n",
    "print(c)\n",
    "print(c.ndim)\n",
    "print()\n",
    "d=c.ravel()\n",
    "print(d)\n",
    "print('Now dimension is :',d.ndim)"
   ]
  },
  {
   "cell_type": "markdown",
   "id": "ba420cf9-455b-4d63-98ac-39e8c0cac7fb",
   "metadata": {},
   "source": [
    "# Create an array with diagnol elements filled  with 1- identity matrix"
   ]
  },
  {
   "cell_type": "code",
   "execution_count": 51,
   "id": "686347fe-37e8-472c-9525-d383a376da96",
   "metadata": {},
   "outputs": [
    {
     "name": "stdout",
     "output_type": "stream",
     "text": [
      "[[1. 0. 0. 0. 0.]\n",
      " [0. 1. 0. 0. 0.]\n",
      " [0. 0. 1. 0. 0.]\n",
      " [0. 0. 0. 1. 0.]\n",
      " [0. 0. 0. 0. 1.]]\n"
     ]
    }
   ],
   "source": [
    "arr=np.eye(5)\n",
    "print(arr)"
   ]
  },
  {
   "cell_type": "code",
   "execution_count": 52,
   "id": "2669875a-d56c-42c1-a6a5-a5e677e01c43",
   "metadata": {},
   "outputs": [
    {
     "name": "stdout",
     "output_type": "stream",
     "text": [
      "[[1. 0. 0. 0. 0. 0.]\n",
      " [0. 1. 0. 0. 0. 0.]\n",
      " [0. 0. 1. 0. 0. 0.]]\n"
     ]
    }
   ],
   "source": [
    "ar1=np.eye(3,6)\n",
    "print(ar1)"
   ]
  },
  {
   "cell_type": "code",
   "execution_count": 53,
   "id": "225c6b51-6349-40ce-83d9-61d16127c8f9",
   "metadata": {},
   "outputs": [
    {
     "name": "stdout",
     "output_type": "stream",
     "text": [
      "[[1. 0. 0. 0. 0. 0. 0. 0.]\n",
      " [0. 1. 0. 0. 0. 0. 0. 0.]\n",
      " [0. 0. 1. 0. 0. 0. 0. 0.]\n",
      " [0. 0. 0. 1. 0. 0. 0. 0.]\n",
      " [0. 0. 0. 0. 1. 0. 0. 0.]]\n"
     ]
    }
   ],
   "source": [
    "ar1=np.eye(5,8)\n",
    "print(ar1)"
   ]
  },
  {
   "cell_type": "markdown",
   "id": "650c125d-35b7-43f5-8d41-1e23b5d42e42",
   "metadata": {},
   "source": [
    "# rand function -- create numpy array with random numbers"
   ]
  },
  {
   "cell_type": "markdown",
   "id": "b0c02294-dd5d-45f8-ae4a-e0587f1b7c07",
   "metadata": {},
   "source": [
    "# rand()-- random module's rand() method returns a random float between 0 and 1 "
   ]
  },
  {
   "cell_type": "code",
   "execution_count": 56,
   "id": "e497235e-5c7a-4d12-bc99-3742f561c756",
   "metadata": {},
   "outputs": [
    {
     "name": "stdout",
     "output_type": "stream",
     "text": [
      "[0.99346915 0.35368709 0.59877716 0.93192332 0.9127547 ]\n"
     ]
    }
   ],
   "source": [
    "var=np.random.rand(5)\n",
    "print(var)"
   ]
  },
  {
   "cell_type": "code",
   "execution_count": null,
   "id": "dcb39723-9e4c-4fdb-900b-444c907ed5a2",
   "metadata": {},
   "outputs": [],
   "source": [
    "[0.27464945 0.82398566 0.02690527 0.27637313 0.2857531 ]"
   ]
  },
  {
   "cell_type": "code",
   "execution_count": null,
   "id": "f81c0030-997e-46cc-bfb5-209f41989807",
   "metadata": {},
   "outputs": [],
   "source": [
    "[0.72750777 0.84422993 0.86652419 0.08057546 0.07264946]"
   ]
  },
  {
   "cell_type": "code",
   "execution_count": 58,
   "id": "d7efbf9f-91f8-43d8-a7cf-ab7f361ce467",
   "metadata": {},
   "outputs": [
    {
     "name": "stdout",
     "output_type": "stream",
     "text": [
      "[[0.10097855 0.46844681 0.47757511 0.26877576]\n",
      " [0.35658693 0.50853635 0.6401446  0.43994135]\n",
      " [0.64901784 0.43799045 0.10545477 0.26064289]]\n"
     ]
    }
   ],
   "source": [
    "var=np.random.rand(3,4)\n",
    "print(var)"
   ]
  },
  {
   "cell_type": "code",
   "execution_count": 60,
   "id": "d8e1c5db-28d0-48df-b352-2684a3f1cada",
   "metadata": {},
   "outputs": [
    {
     "name": "stdout",
     "output_type": "stream",
     "text": [
      "[[[0.24968567 0.30032548 0.78027779 0.40753625]\n",
      "  [0.51615794 0.13361161 0.40666389 0.22745444]\n",
      "  [0.12735989 0.51562916 0.7525443  0.40189072]]\n",
      "\n",
      " [[0.40376532 0.12721904 0.74589212 0.53103906]\n",
      "  [0.38628315 0.2570879  0.63807986 0.79598742]\n",
      "  [0.03805211 0.77142286 0.07922626 0.78424678]]]\n"
     ]
    }
   ],
   "source": [
    "var=np.random.rand(2,3,4)\n",
    "print(var)"
   ]
  },
  {
   "cell_type": "markdown",
   "id": "a2b7f5a3-0572-4f4b-be15-4ba9b8ab96c3",
   "metadata": {},
   "source": [
    "# randn()- The function is used to generate a value close to zero and this may return positive as well as negative"
   ]
  },
  {
   "cell_type": "code",
   "execution_count": 62,
   "id": "606bbd69-2b25-42ba-8f75-a5084b02ab88",
   "metadata": {},
   "outputs": [
    {
     "name": "stdout",
     "output_type": "stream",
     "text": [
      "[-1.16863175 -0.31448187 -0.31714863 -0.635963    0.44536864]\n",
      "the dimension is: 1\n"
     ]
    }
   ],
   "source": [
    "n=np.random.randn(5)\n",
    "print(n)\n",
    "print('the dimension is:',n.ndim)"
   ]
  },
  {
   "cell_type": "code",
   "execution_count": 63,
   "id": "7b6ec76c-96ea-4a73-b19f-54de06c364b9",
   "metadata": {},
   "outputs": [
    {
     "name": "stdout",
     "output_type": "stream",
     "text": [
      "[[-0.30893307 -0.91125405 -0.17316345 -0.21675361  1.24982008]\n",
      " [ 0.71894308 -0.51071828 -0.98824823  0.23885687  0.35041212]]\n",
      "2\n",
      "(2, 5)\n"
     ]
    }
   ],
   "source": [
    "n=np.random.randn(2,5)\n",
    "print(n)\n",
    "print(n.ndim)\n",
    "print(n.shape)"
   ]
  },
  {
   "cell_type": "code",
   "execution_count": 64,
   "id": "b19cf94f-21ce-42e7-a6aa-e1af34f95d08",
   "metadata": {},
   "outputs": [
    {
     "name": "stdout",
     "output_type": "stream",
     "text": [
      "[[[ 1.05677193  1.05572589 -1.18797758  1.94193302  0.35524293]\n",
      "  [ 1.35294521 -0.23814099  1.48961397 -0.10638331  0.96553574]]]\n",
      "3\n",
      "(1, 2, 5)\n"
     ]
    }
   ],
   "source": [
    "n=np.random.randn(1,2,5)\n",
    "print(n)\n",
    "print(n.ndim)\n",
    "print(n.shape)"
   ]
  },
  {
   "cell_type": "markdown",
   "id": "b32f92b0-593d-4f9c-bf66-f669d958f7f5",
   "metadata": {},
   "source": [
    "# randint"
   ]
  },
  {
   "cell_type": "code",
   "execution_count": 65,
   "id": "631f89d4-52e3-4f25-aa9c-5a9eecf2aea9",
   "metadata": {},
   "outputs": [
    {
     "name": "stdout",
     "output_type": "stream",
     "text": [
      "[17 16  9 12 11]\n",
      "1\n"
     ]
    }
   ],
   "source": [
    "a=np.random.randint(4,20,5)\n",
    "print(a)\n",
    "print(a.ndim)"
   ]
  },
  {
   "cell_type": "code",
   "execution_count": 66,
   "id": "efd56971-6b83-4fc1-9b58-c0487f132dfe",
   "metadata": {},
   "outputs": [
    {
     "name": "stdout",
     "output_type": "stream",
     "text": [
      "[68 79  8 98 52  9 23 49]\n",
      "1\n"
     ]
    }
   ],
   "source": [
    "a=np.random.randint(4,100,8)\n",
    "print(a)\n",
    "print(a.ndim)"
   ]
  },
  {
   "cell_type": "markdown",
   "id": "88cebc95-2bfc-4485-b832-6c3f35c50d70",
   "metadata": {},
   "source": [
    "# ranf -- use for doing random sampling in numpy. It returns an array of specified shape and fills it with random floats in the half open interval between 0 and 1"
   ]
  },
  {
   "cell_type": "code",
   "execution_count": 68,
   "id": "5ec4b8b6-06de-470d-82e1-c11978a9ad9a",
   "metadata": {},
   "outputs": [
    {
     "name": "stdout",
     "output_type": "stream",
     "text": [
      "[0.23778038 0.34819672 0.22868464 0.06635919]\n"
     ]
    }
   ],
   "source": [
    "x=np.random.ranf(4)\n",
    "print(x)"
   ]
  },
  {
   "cell_type": "code",
   "execution_count": 70,
   "id": "ad2dc459-1a88-4584-8a74-3f37f745129b",
   "metadata": {},
   "outputs": [
    {
     "name": "stdout",
     "output_type": "stream",
     "text": [
      "[[0.00448473 0.4954856  0.22054341 0.13741375]\n",
      " [0.03491298 0.69454881 0.1822704  0.76214061]]\n",
      "2\n"
     ]
    }
   ],
   "source": [
    "x=np.random.ranf((2,4))\n",
    "print(x)\n",
    "print(x.ndim)"
   ]
  },
  {
   "cell_type": "code",
   "execution_count": null,
   "id": "277d307d-f7b8-4dc1-b6e1-cd963cd62bd1",
   "metadata": {},
   "outputs": [],
   "source": []
  },
  {
   "cell_type": "code",
   "execution_count": null,
   "id": "b1733ab1-3f69-4073-a7b1-2411efd061fa",
   "metadata": {},
   "outputs": [],
   "source": []
  },
  {
   "cell_type": "code",
   "execution_count": null,
   "id": "380579d2-0bf2-4477-a355-54cb2dfcf566",
   "metadata": {},
   "outputs": [],
   "source": []
  },
  {
   "cell_type": "code",
   "execution_count": null,
   "id": "0226d841-569e-474e-a036-7adf5851e405",
   "metadata": {},
   "outputs": [],
   "source": []
  },
  {
   "cell_type": "code",
   "execution_count": null,
   "id": "0fdf5dd3-3788-4a7c-a5a8-00f15026e08d",
   "metadata": {},
   "outputs": [],
   "source": []
  },
  {
   "cell_type": "code",
   "execution_count": null,
   "id": "7ac87196-6179-4227-9db0-da7e8ef06d35",
   "metadata": {},
   "outputs": [],
   "source": []
  },
  {
   "cell_type": "code",
   "execution_count": null,
   "id": "6ab232ae-c7a8-48fd-8730-61b6a0357ce5",
   "metadata": {},
   "outputs": [],
   "source": []
  }
 ],
 "metadata": {
  "kernelspec": {
   "display_name": "Python 3 (ipykernel)",
   "language": "python",
   "name": "python3"
  },
  "language_info": {
   "codemirror_mode": {
    "name": "ipython",
    "version": 3
   },
   "file_extension": ".py",
   "mimetype": "text/x-python",
   "name": "python",
   "nbconvert_exporter": "python",
   "pygments_lexer": "ipython3",
   "version": "3.11.5"
  }
 },
 "nbformat": 4,
 "nbformat_minor": 5
}
