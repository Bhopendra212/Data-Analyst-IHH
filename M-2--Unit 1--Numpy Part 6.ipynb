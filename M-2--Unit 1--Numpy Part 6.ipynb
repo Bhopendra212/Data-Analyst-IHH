{
 "cells": [
  {
   "cell_type": "markdown",
   "id": "5cbcb63c-44b8-4872-bf18-3e39c5211d98",
   "metadata": {},
   "source": [
    "# Split array"
   ]
  },
  {
   "cell_type": "code",
   "execution_count": 4,
   "id": "1f2429fa-d152-4464-8522-d85640e350f6",
   "metadata": {},
   "outputs": [
    {
     "name": "stdout",
     "output_type": "stream",
     "text": [
      "[1 2 3 4 5 6 7 8 9]\n",
      "\n",
      "[array([1, 2, 3]), array([4, 5, 6]), array([7, 8, 9])]\n",
      "<class 'list'>\n",
      "[1 2 3]\n"
     ]
    }
   ],
   "source": [
    "import numpy as np\n",
    "a=np.array([1,2,3,4,5,6,7,8,9])\n",
    "print(a)\n",
    "print()\n",
    "v=np.array_split(a,3)\n",
    "print(v)\n",
    "print(type(v))\n",
    "print(v[0])"
   ]
  },
  {
   "cell_type": "code",
   "execution_count": 6,
   "id": "926fa378-6500-49ed-af8f-b748f44ec50c",
   "metadata": {},
   "outputs": [
    {
     "name": "stdout",
     "output_type": "stream",
     "text": [
      "[[1 2]\n",
      " [4 5]\n",
      " [6 7]\n",
      " [8 9]]\n",
      "\n",
      "[array([[1],\n",
      "       [4],\n",
      "       [6],\n",
      "       [8]]), array([[2],\n",
      "       [5],\n",
      "       [7],\n",
      "       [9]]), array([], shape=(4, 0), dtype=int32), array([], shape=(4, 0), dtype=int32)]\n"
     ]
    }
   ],
   "source": [
    "a=np.array([[1,2,],[4,5],[6,7],[8,9]])\n",
    "print(a)\n",
    "print()\n",
    "v=np.array_split(a,4,axis=1)\n",
    "print(v)"
   ]
  },
  {
   "cell_type": "code",
   "execution_count": 7,
   "id": "56ee3a7b-db5f-438b-96bb-27205635f1fc",
   "metadata": {},
   "outputs": [
    {
     "name": "stdout",
     "output_type": "stream",
     "text": [
      "[[1 2]\n",
      " [4 5]\n",
      " [6 7]\n",
      " [8 9]]\n",
      "\n",
      "[array([[1, 2]]), array([[4, 5]]), array([[6, 7]]), array([[8, 9]])]\n"
     ]
    }
   ],
   "source": [
    "a=np.array([[1,2,],[4,5],[6,7],[8,9]])\n",
    "print(a)\n",
    "print()\n",
    "v=np.array_split(a,4,axis=0)\n",
    "print(v)"
   ]
  },
  {
   "cell_type": "code",
   "execution_count": 8,
   "id": "9fb7ea64-3fe5-4e5c-8bb5-ac8cded18a3a",
   "metadata": {},
   "outputs": [
    {
     "name": "stdout",
     "output_type": "stream",
     "text": [
      "[[1 2]\n",
      " [4 5]\n",
      " [6 7]\n",
      " [8 9]]\n",
      "\n",
      "[array([[1, 2],\n",
      "       [4, 5]]), array([[6, 7],\n",
      "       [8, 9]])]\n"
     ]
    }
   ],
   "source": [
    "a=np.array([[1,2,],[4,5],[6,7],[8,9]])\n",
    "print(a)\n",
    "print()\n",
    "v=np.array_split(a,2,axis=0)\n",
    "print(v)"
   ]
  },
  {
   "cell_type": "markdown",
   "id": "005f85bd-0b9f-4e1b-b402-2ea16f86f1a3",
   "metadata": {},
   "source": [
    "# Search array"
   ]
  },
  {
   "cell_type": "code",
   "execution_count": 9,
   "id": "c8ca6a4d-031b-438a-a9fd-c2401ec92a54",
   "metadata": {},
   "outputs": [
    {
     "name": "stdout",
     "output_type": "stream",
     "text": [
      "(array([2], dtype=int64),)\n"
     ]
    }
   ],
   "source": [
    "import numpy as np\n",
    "a=np.array([1,2,3,4,5,4,2,6,1,8])\n",
    "x=np.where(a==3)\n",
    "print(x)"
   ]
  },
  {
   "cell_type": "code",
   "execution_count": 10,
   "id": "033db3e1-c9b7-495f-a8d3-0849d27e8e5b",
   "metadata": {},
   "outputs": [
    {
     "name": "stdout",
     "output_type": "stream",
     "text": [
      "(array([1, 3, 5, 6, 7, 9], dtype=int64),)\n"
     ]
    }
   ],
   "source": [
    "import numpy as np\n",
    "a=np.array([1,2,3,4,5,4,2,6,1,8])\n",
    "x=np.where(a%2==0)\n",
    "print(x)"
   ]
  },
  {
   "cell_type": "markdown",
   "id": "aaa84882-d118-43ad-a7b5-60f1163238d6",
   "metadata": {},
   "source": [
    "# Search sorted array"
   ]
  },
  {
   "cell_type": "code",
   "execution_count": 11,
   "id": "428ee7e5-b100-451a-b490-ab54dff0ac49",
   "metadata": {},
   "outputs": [
    {
     "name": "stdout",
     "output_type": "stream",
     "text": [
      "4\n"
     ]
    }
   ],
   "source": [
    "z=np.array([11,12,13,14,18,19])\n",
    "x=np.searchsorted(z,15)\n",
    "print(x)"
   ]
  },
  {
   "cell_type": "code",
   "execution_count": 13,
   "id": "fb88f3be-57d8-4f48-9ac2-f106329384c0",
   "metadata": {},
   "outputs": [
    {
     "name": "stdout",
     "output_type": "stream",
     "text": [
      "6\n"
     ]
    }
   ],
   "source": [
    "z=np.array([11,12,13,14,18,19,22,23])\n",
    "x=np.searchsorted(z,20,side='right')\n",
    "print(x)"
   ]
  },
  {
   "cell_type": "code",
   "execution_count": 14,
   "id": "0ea04d3d-3048-43b9-ac5e-9af69bad83ba",
   "metadata": {},
   "outputs": [
    {
     "name": "stdout",
     "output_type": "stream",
     "text": [
      "6\n"
     ]
    }
   ],
   "source": [
    "z=np.array([11,12,13,14,18,19,22,23])\n",
    "x=np.searchsorted(z,20,side='left')\n",
    "print(x)"
   ]
  },
  {
   "cell_type": "code",
   "execution_count": 15,
   "id": "863a35f3-c0a5-4671-bf25-1aa1488fd511",
   "metadata": {},
   "outputs": [
    {
     "name": "stdout",
     "output_type": "stream",
     "text": [
      "[3 3 3]\n"
     ]
    }
   ],
   "source": [
    "p=np.array([21,22,23,31,32,33])\n",
    "n=np.searchsorted(p,[25,28,30])\n",
    "print(n)"
   ]
  },
  {
   "cell_type": "markdown",
   "id": "1751dd47-7ee7-491b-94fa-4702e577a1c7",
   "metadata": {},
   "source": [
    "# sort array"
   ]
  },
  {
   "cell_type": "code",
   "execution_count": 16,
   "id": "1e44ed50-8adb-4c2b-9789-2ab0660acd19",
   "metadata": {},
   "outputs": [
    {
     "name": "stdout",
     "output_type": "stream",
     "text": [
      "[-32  12  17  43  65  78  80  87  90]\n"
     ]
    }
   ],
   "source": [
    "a=np.array([12,78,87,43,65,90,17,80,-32])\n",
    "print(np.sort(a))"
   ]
  },
  {
   "cell_type": "code",
   "execution_count": 18,
   "id": "4dc317e2-6a71-4d5a-967b-b942f16f2ca1",
   "metadata": {},
   "outputs": [
    {
     "name": "stdout",
     "output_type": "stream",
     "text": [
      "['a' 'b' 'k' 'n' 'o' 'q' 't' 'w' 'y' 'z']\n"
     ]
    }
   ],
   "source": [
    "b=np.array(['o','w','k','z','a','n','b','q','t','y'])\n",
    "print(np.sort(b))"
   ]
  },
  {
   "cell_type": "code",
   "execution_count": 20,
   "id": "5d59455c-1106-49ff-bc62-991b05833ed5",
   "metadata": {},
   "outputs": [
    {
     "name": "stdout",
     "output_type": "stream",
     "text": [
      "[[ 48  65  22]\n",
      " [ 11  22  33]\n",
      " [-23  87  55]]\n",
      "2\n",
      "\n",
      "[[ 22  48  65]\n",
      " [ 11  22  33]\n",
      " [-23  55  87]]\n"
     ]
    }
   ],
   "source": [
    "a=np.array([[48,65,22,],[11,22,33],[-23,87,55]])\n",
    "print(a)\n",
    "print(a.ndim)\n",
    "print()\n",
    "print(np.sort(a))"
   ]
  },
  {
   "cell_type": "code",
   "execution_count": 22,
   "id": "d0e2966a-5284-44a4-91b4-5b21e6eaff58",
   "metadata": {},
   "outputs": [
    {
     "name": "stdout",
     "output_type": "stream",
     "text": [
      "[[[  14   18   -9]\n",
      "  [  11   22   33]\n",
      "  [  12   89 -100]]]\n",
      "3\n",
      "\n",
      "[[[  -9   14   18]\n",
      "  [  11   22   33]\n",
      "  [-100   12   89]]]\n"
     ]
    }
   ],
   "source": [
    "x=np.array([[[14,18,-9],[11,22,33],[12,89,-100]]])\n",
    "print(x)\n",
    "print(x.ndim)\n",
    "print()\n",
    "print(np.sort(x))"
   ]
  },
  {
   "cell_type": "markdown",
   "id": "280f9124-01b4-4586-aec6-c664ac0212ba",
   "metadata": {},
   "source": [
    "# Filter array"
   ]
  },
  {
   "cell_type": "code",
   "execution_count": 24,
   "id": "fae71922-5c61-4b6c-a07d-df8582e53ba0",
   "metadata": {},
   "outputs": [
    {
     "name": "stdout",
     "output_type": "stream",
     "text": [
      "[ 1  3 45 99]\n"
     ]
    }
   ],
   "source": [
    "a=np.array([1,2,3,22,45,68,99])\n",
    "f=[True,False,True,False,True,False,True]\n",
    "b=a[f]\n",
    "print(b)"
   ]
  },
  {
   "cell_type": "markdown",
   "id": "62bef882-6443-4684-9777-13c866a876d8",
   "metadata": {},
   "source": [
    "# Shuffle function"
   ]
  },
  {
   "cell_type": "code",
   "execution_count": 30,
   "id": "a930da99-408f-4ef7-9f75-82e19e674a7b",
   "metadata": {},
   "outputs": [
    {
     "name": "stdout",
     "output_type": "stream",
     "text": [
      "The array is: [ 11  44 777  88  33 101 200  35  78]\n",
      "Now the array is: [ 44  35  33 777  11 200 101  88  78]\n"
     ]
    }
   ],
   "source": [
    "import numpy as np\n",
    "k=np.array([11,44,777,88,33,101,200,35,78])\n",
    "print('The array is:',k)\n",
    "np.random.shuffle(k)\n",
    "print('Now the array is:',k)"
   ]
  },
  {
   "cell_type": "markdown",
   "id": "55e04af7-7bdc-4727-a756-57e674221895",
   "metadata": {},
   "source": [
    "# Unique function"
   ]
  },
  {
   "cell_type": "code",
   "execution_count": 32,
   "id": "bd89caa9-4946-45fc-9b45-f3cc6bb31500",
   "metadata": {},
   "outputs": [
    {
     "name": "stdout",
     "output_type": "stream",
     "text": [
      "[12 14 11 99 87 45 33 88 33 11 12 99 33 45 14 12]\n",
      "[11 12 14 33 45 87 88 99]\n"
     ]
    }
   ],
   "source": [
    "k=np.array([12,14,11,99,87,45,33,88,33,11,12,99,33,45,14,12])\n",
    "print(k)\n",
    "x=np.unique(k)\n",
    "print(x)"
   ]
  },
  {
   "cell_type": "code",
   "execution_count": 33,
   "id": "f768b37b-0b22-4bb7-8fd8-020aa320fd4a",
   "metadata": {},
   "outputs": [
    {
     "name": "stdout",
     "output_type": "stream",
     "text": [
      "[12 14 11 99 87 45 33 88 33 11 12 99 33 45 14 12]\n",
      "(array([11, 12, 14, 33, 45, 87, 88, 99]), array([2, 0, 1, 6, 5, 4, 7, 3], dtype=int64))\n"
     ]
    }
   ],
   "source": [
    "k=np.array([12,14,11,99,87,45,33,88,33,11,12,99,33,45,14,12])\n",
    "print(k)\n",
    "x=np.unique(k,return_index=True)\n",
    "print(x)"
   ]
  },
  {
   "cell_type": "code",
   "execution_count": 35,
   "id": "053fc0cd-efda-40f1-b78b-a9e329406e6a",
   "metadata": {},
   "outputs": [
    {
     "name": "stdout",
     "output_type": "stream",
     "text": [
      "[12 14 11 99 87 45 33 88 33 11 12 99 33 45 14 12]\n",
      "\n",
      "(array([11, 12, 14, 33, 45, 87, 88, 99]), array([2, 0, 1, 6, 5, 4, 7, 3], dtype=int64), array([2, 3, 2, 3, 2, 1, 1, 2], dtype=int64))\n"
     ]
    }
   ],
   "source": [
    "k=np.array([12,14,11,99,87,45,33,88,33,11,12,99,33,45,14,12])\n",
    "print(k)\n",
    "print()\n",
    "x=np.unique(k,return_index=True,return_counts=True)\n",
    "print(x)"
   ]
  },
  {
   "cell_type": "markdown",
   "id": "e77c150a-d8c3-4f8a-bfa9-6b451fa6d2c4",
   "metadata": {},
   "source": [
    "# Resize function"
   ]
  },
  {
   "cell_type": "code",
   "execution_count": 39,
   "id": "72231348-604b-4db2-ab30-347e0e9ad8b0",
   "metadata": {},
   "outputs": [
    {
     "name": "stdout",
     "output_type": "stream",
     "text": [
      "[1 2 3 4 5 6 7 8 9]\n",
      "1\n",
      "(9,)\n",
      "Now the size is:\n",
      "[[1 2]\n",
      " [3 4]\n",
      " [5 6]]\n",
      "the dimension is 2\n",
      "the shape is (3, 2)\n"
     ]
    }
   ],
   "source": [
    "import numpy as np\n",
    "a=np.array([1,2,3,4,5,6,7,8,9])\n",
    "print(a)\n",
    "print(a.ndim)\n",
    "print(a.shape)\n",
    "b=np.resize(a,(3,2))\n",
    "print('Now the size is:')\n",
    "print(b)\n",
    "print('the dimension is',b.ndim)\n",
    "print('the shape is',b.shape)"
   ]
  },
  {
   "cell_type": "markdown",
   "id": "a093c81e-6724-4a56-93f9-9e4558cf530e",
   "metadata": {},
   "source": [
    "# Insert function"
   ]
  },
  {
   "cell_type": "code",
   "execution_count": 41,
   "id": "503de19e-341a-498a-aa95-79e2a50038dd",
   "metadata": {},
   "outputs": [
    {
     "name": "stdout",
     "output_type": "stream",
     "text": [
      "[1 2 3 4 5 6 7 8 9]\n",
      "[  1   2   3 200   4   5   6   7   8   9]\n"
     ]
    }
   ],
   "source": [
    "n=np.array([1,2,3,4,5,6,7,8,9])\n",
    "print(n)\n",
    "v=np.insert(n,3,200)\n",
    "print(v)"
   ]
  },
  {
   "cell_type": "code",
   "execution_count": 42,
   "id": "31250c3d-a233-4f14-a98e-a5bea08981f5",
   "metadata": {},
   "outputs": [
    {
     "name": "stdout",
     "output_type": "stream",
     "text": [
      "[1 2 3 4 5 6 7 8 9]\n",
      "[ 1  2  3 20  4  5 40  6  7  8  9]\n"
     ]
    }
   ],
   "source": [
    "n=np.array([1,2,3,4,5,6,7,8,9])\n",
    "print(n)\n",
    "v=np.insert(n,(3,5),(20,40))\n",
    "print(v)"
   ]
  },
  {
   "cell_type": "markdown",
   "id": "85b5cc9a-4fa1-4eb0-8092-28c5b88bafcc",
   "metadata": {},
   "source": [
    "# Insert function-- 2D array"
   ]
  },
  {
   "cell_type": "code",
   "execution_count": 45,
   "id": "fe3057fd-1683-4f50-ac89-b79949980da1",
   "metadata": {},
   "outputs": [
    {
     "name": "stdout",
     "output_type": "stream",
     "text": [
      "[[2 7 5 3 8]\n",
      " [1 4 2 6 9]]\n",
      "\n",
      "[[ 2  7 24  5  3  8]\n",
      " [ 1  4 24  2  6  9]]\n"
     ]
    }
   ],
   "source": [
    "x=np.array([[2,7,5,3,8],[1,4,2,6,9]])\n",
    "print(x)\n",
    "print()\n",
    "x1=np.insert(x,2,24,axis=1)\n",
    "print(x1)"
   ]
  },
  {
   "cell_type": "code",
   "execution_count": 46,
   "id": "1052faa1-339a-402a-a0d6-e76350120ffd",
   "metadata": {},
   "outputs": [
    {
     "name": "stdout",
     "output_type": "stream",
     "text": [
      "[[2 7 5 3 8]\n",
      " [1 4 2 6 9]]\n",
      "\n",
      "[[ 2  7  5  3  8]\n",
      " [ 1  4  2  6  9]\n",
      " [24 24 24 24 24]]\n"
     ]
    }
   ],
   "source": [
    "x=np.array([[2,7,5,3,8],[1,4,2,6,9]])\n",
    "print(x)\n",
    "print()\n",
    "x1=np.insert(x,2,24,axis=0)\n",
    "print(x1)"
   ]
  },
  {
   "cell_type": "code",
   "execution_count": 47,
   "id": "9fd6e6ce-2ffd-4275-a7ae-2d88cbf9339d",
   "metadata": {},
   "outputs": [
    {
     "name": "stdout",
     "output_type": "stream",
     "text": [
      "[[2 7 5 3 8]\n",
      " [1 4 2 6 9]]\n",
      "\n",
      "[[ 2  7  5  3  8]\n",
      " [ 1  4  2  6  9]\n",
      " [25 26 27 28 29]]\n"
     ]
    }
   ],
   "source": [
    "x=np.array([[2,7,5,3,8],[1,4,2,6,9]])\n",
    "print(x)\n",
    "print()\n",
    "x1=np.insert(x,2,[25,26,27,28,29],axis=0)\n",
    "print(x1)"
   ]
  },
  {
   "cell_type": "markdown",
   "id": "5925310b-4a5e-4242-b6fd-26340946f495",
   "metadata": {},
   "source": [
    "# append"
   ]
  },
  {
   "cell_type": "code",
   "execution_count": 48,
   "id": "2e5589ca-2b73-40b6-b654-7ce5689ed856",
   "metadata": {},
   "outputs": [
    {
     "name": "stdout",
     "output_type": "stream",
     "text": [
      "[12.  13.  14.   3.5]\n"
     ]
    }
   ],
   "source": [
    "import numpy as np\n",
    "a=np.array([12,13,14])\n",
    "x=np.append(a,3.5)\n",
    "print(x)"
   ]
  },
  {
   "cell_type": "code",
   "execution_count": 50,
   "id": "422612c0-677e-429a-80fd-09f6eb03f974",
   "metadata": {},
   "outputs": [
    {
     "name": "stdout",
     "output_type": "stream",
     "text": [
      "[[2 7 9 6 8]\n",
      " [4 5 7 1 3]]\n",
      "\n",
      "[[ 2  7  9  6  8]\n",
      " [ 4  5  7  1  3]\n",
      " [-4 -5 -6 -7 -8]]\n"
     ]
    }
   ],
   "source": [
    "x=np.array([[2,7,9,6,8],[4,5,7,1,3]])\n",
    "m=np.append(x,[[-4,-5,-6,-7,-8]],axis=0)\n",
    "print(x)\n",
    "print()\n",
    "print(m)"
   ]
  },
  {
   "cell_type": "markdown",
   "id": "c7729311-83a2-4409-80f2-ad98ec69446e",
   "metadata": {},
   "source": [
    "# Delete function"
   ]
  },
  {
   "cell_type": "code",
   "execution_count": 51,
   "id": "666a4f14-af30-4100-9b86-5ff35d066b20",
   "metadata": {},
   "outputs": [
    {
     "name": "stdout",
     "output_type": "stream",
     "text": [
      "[12 13 14 15]\n",
      "\n",
      "[12 14 15]\n"
     ]
    }
   ],
   "source": [
    "a=np.array([12,13,14,15])\n",
    "print(a)\n",
    "print()\n",
    "d=np.delete(a,[1])\n",
    "print(d)"
   ]
  },
  {
   "cell_type": "code",
   "execution_count": 53,
   "id": "27a88915-83ee-4c21-9958-61d62ad63a8a",
   "metadata": {},
   "outputs": [
    {
     "name": "stdout",
     "output_type": "stream",
     "text": [
      "[[ 2  5  4  8  9]\n",
      " [ 5 11  3  7  9]\n",
      " [22 44 88 65 99]]\n",
      "\n",
      "[[ 5 11  3  7  9]\n",
      " [22 44 88 65 99]]\n"
     ]
    }
   ],
   "source": [
    "x=np.array([[2,5,4,8,9],[5,11,3,7,9],[22,44,88,65,99]])\n",
    "print(x)\n",
    "print()\n",
    "m=np.delete(x,0,axis=0)\n",
    "print(m)"
   ]
  },
  {
   "cell_type": "code",
   "execution_count": null,
   "id": "4e853837-92e3-4e47-b09f-9441d704a97b",
   "metadata": {},
   "outputs": [],
   "source": []
  },
  {
   "cell_type": "code",
   "execution_count": null,
   "id": "5b74d2f3-d127-4afc-8615-e32e3b814dd7",
   "metadata": {},
   "outputs": [],
   "source": []
  },
  {
   "cell_type": "code",
   "execution_count": null,
   "id": "b1489386-5567-499d-9c76-1ff6d7089f74",
   "metadata": {},
   "outputs": [],
   "source": []
  },
  {
   "cell_type": "code",
   "execution_count": null,
   "id": "58bda908-9d2d-4d04-9004-4d997cee2a17",
   "metadata": {},
   "outputs": [],
   "source": []
  },
  {
   "cell_type": "code",
   "execution_count": null,
   "id": "fc6924db-102b-4f21-b589-8a4fc3bff9b1",
   "metadata": {},
   "outputs": [],
   "source": []
  },
  {
   "cell_type": "code",
   "execution_count": null,
   "id": "a5cc134a-a524-41e3-b6fd-90adc888f6e8",
   "metadata": {},
   "outputs": [],
   "source": []
  },
  {
   "cell_type": "code",
   "execution_count": null,
   "id": "c970196c-dcf3-41b7-937e-e18884150e7b",
   "metadata": {},
   "outputs": [],
   "source": []
  },
  {
   "cell_type": "code",
   "execution_count": null,
   "id": "b84f62e2-1dde-441a-9a99-3c5bcb891fb9",
   "metadata": {},
   "outputs": [],
   "source": []
  },
  {
   "cell_type": "code",
   "execution_count": null,
   "id": "e90beb96-b481-471d-91c5-8c5f86b9179c",
   "metadata": {},
   "outputs": [],
   "source": []
  },
  {
   "cell_type": "code",
   "execution_count": null,
   "id": "233c37ac-fe56-4db0-b566-3ab792c79d6a",
   "metadata": {},
   "outputs": [],
   "source": []
  },
  {
   "cell_type": "code",
   "execution_count": null,
   "id": "c83789e4-d32a-4893-a4c1-aae53b539ada",
   "metadata": {},
   "outputs": [],
   "source": []
  },
  {
   "cell_type": "code",
   "execution_count": null,
   "id": "75ae70b5-dd56-4d4f-8c0e-d282f48273b4",
   "metadata": {},
   "outputs": [],
   "source": []
  },
  {
   "cell_type": "code",
   "execution_count": null,
   "id": "55833dae-5b34-4c5d-a5da-c97e8b7ca14a",
   "metadata": {},
   "outputs": [],
   "source": []
  },
  {
   "cell_type": "code",
   "execution_count": null,
   "id": "cfeb9c11-ae07-4d4b-af7c-b487eba15a02",
   "metadata": {},
   "outputs": [],
   "source": []
  },
  {
   "cell_type": "code",
   "execution_count": null,
   "id": "66cdb085-296b-4db2-b110-fc5ef3cd4849",
   "metadata": {},
   "outputs": [],
   "source": []
  },
  {
   "cell_type": "code",
   "execution_count": null,
   "id": "1ee6ab11-a097-4fc0-bb44-00647ea4804f",
   "metadata": {},
   "outputs": [],
   "source": []
  },
  {
   "cell_type": "code",
   "execution_count": null,
   "id": "82e7deb3-407d-47ff-b127-f630689c3302",
   "metadata": {},
   "outputs": [],
   "source": []
  },
  {
   "cell_type": "code",
   "execution_count": null,
   "id": "21eaf1b7-637f-496d-b490-bdb28ac21c53",
   "metadata": {},
   "outputs": [],
   "source": []
  },
  {
   "cell_type": "code",
   "execution_count": null,
   "id": "2f3f3fc3-a7c0-4cec-b9bc-90e49d1da6a8",
   "metadata": {},
   "outputs": [],
   "source": []
  },
  {
   "cell_type": "code",
   "execution_count": null,
   "id": "4f247932-3dba-45b4-b81c-57f0146edd38",
   "metadata": {},
   "outputs": [],
   "source": []
  },
  {
   "cell_type": "code",
   "execution_count": null,
   "id": "9da937a5-4df7-4b2c-a371-6bf9a589ff52",
   "metadata": {},
   "outputs": [],
   "source": []
  },
  {
   "cell_type": "code",
   "execution_count": null,
   "id": "6eaf3aa0-fd69-44e7-8ccd-5144db17c61f",
   "metadata": {},
   "outputs": [],
   "source": []
  },
  {
   "cell_type": "code",
   "execution_count": null,
   "id": "242569f4-b1d0-4083-ae13-4d26e7fde16e",
   "metadata": {},
   "outputs": [],
   "source": []
  },
  {
   "cell_type": "code",
   "execution_count": null,
   "id": "e2676731-ad1c-407a-acdf-49e73007c2b7",
   "metadata": {},
   "outputs": [],
   "source": []
  },
  {
   "cell_type": "code",
   "execution_count": null,
   "id": "a56c0b03-46ee-4cc5-842c-bd25d3c40457",
   "metadata": {},
   "outputs": [],
   "source": []
  },
  {
   "cell_type": "code",
   "execution_count": null,
   "id": "9c59a9ad-5bb4-4245-ac3e-87a30825e2f0",
   "metadata": {},
   "outputs": [],
   "source": []
  },
  {
   "cell_type": "code",
   "execution_count": null,
   "id": "b81b37a1-0ce8-4f96-aa30-43c1721419f3",
   "metadata": {},
   "outputs": [],
   "source": []
  },
  {
   "cell_type": "code",
   "execution_count": null,
   "id": "daa3c6c8-f2e9-4ae3-921a-c6825718b086",
   "metadata": {},
   "outputs": [],
   "source": []
  },
  {
   "cell_type": "code",
   "execution_count": null,
   "id": "d6a68b67-2953-4086-98f3-fae024d9d9e9",
   "metadata": {},
   "outputs": [],
   "source": []
  },
  {
   "cell_type": "code",
   "execution_count": null,
   "id": "97c3f7cc-869d-4951-8ede-71e7cf581938",
   "metadata": {},
   "outputs": [],
   "source": []
  },
  {
   "cell_type": "code",
   "execution_count": null,
   "id": "ac2ac5df-467a-47ec-ab87-e9368000a4b5",
   "metadata": {},
   "outputs": [],
   "source": []
  },
  {
   "cell_type": "code",
   "execution_count": null,
   "id": "bc3a1ba3-5115-4c1e-8612-69c618d7ac5d",
   "metadata": {},
   "outputs": [],
   "source": []
  },
  {
   "cell_type": "code",
   "execution_count": null,
   "id": "c4115187-6ef0-45d9-8e0b-788d983f4d9e",
   "metadata": {},
   "outputs": [],
   "source": []
  },
  {
   "cell_type": "code",
   "execution_count": null,
   "id": "ac1e7329-20d6-4644-a2eb-4c9620730e61",
   "metadata": {},
   "outputs": [],
   "source": []
  },
  {
   "cell_type": "code",
   "execution_count": null,
   "id": "2804203a-b12d-4869-a67b-89bd44b398af",
   "metadata": {},
   "outputs": [],
   "source": []
  },
  {
   "cell_type": "code",
   "execution_count": null,
   "id": "863825e9-706a-413b-b747-9821e3252435",
   "metadata": {},
   "outputs": [],
   "source": []
  },
  {
   "cell_type": "code",
   "execution_count": null,
   "id": "0cca6e99-ca87-4020-8e75-86501dece810",
   "metadata": {},
   "outputs": [],
   "source": []
  },
  {
   "cell_type": "code",
   "execution_count": null,
   "id": "2bc891e3-67c5-4e5d-9d16-0b53c2151946",
   "metadata": {},
   "outputs": [],
   "source": []
  },
  {
   "cell_type": "code",
   "execution_count": null,
   "id": "f10fc4f3-5b63-4f20-b6d9-fe65b3e387b2",
   "metadata": {},
   "outputs": [],
   "source": []
  },
  {
   "cell_type": "code",
   "execution_count": null,
   "id": "be65c1b3-c8f4-4def-b009-ef859e626f06",
   "metadata": {},
   "outputs": [],
   "source": []
  },
  {
   "cell_type": "code",
   "execution_count": null,
   "id": "ccb752de-83c4-4faa-b61b-a0612aab66cf",
   "metadata": {},
   "outputs": [],
   "source": []
  },
  {
   "cell_type": "code",
   "execution_count": null,
   "id": "bb50d65c-ab8d-4e4b-98c9-7b76b5028101",
   "metadata": {},
   "outputs": [],
   "source": []
  }
 ],
 "metadata": {
  "kernelspec": {
   "display_name": "Python 3 (ipykernel)",
   "language": "python",
   "name": "python3"
  },
  "language_info": {
   "codemirror_mode": {
    "name": "ipython",
    "version": 3
   },
   "file_extension": ".py",
   "mimetype": "text/x-python",
   "name": "python",
   "nbconvert_exporter": "python",
   "pygments_lexer": "ipython3",
   "version": "3.11.5"
  }
 },
 "nbformat": 4,
 "nbformat_minor": 5
}
