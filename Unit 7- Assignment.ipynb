{
 "cells": [
  {
   "cell_type": "markdown",
   "id": "8adf6c7e-e400-4ac9-8d65-4735717d5f1f",
   "metadata": {},
   "source": [
    "# question 1:- python program to print even length words in a string\n",
    "# input s=\"This is a python language\"\n",
    "# output: This is python language"
   ]
  },
  {
   "cell_type": "code",
   "execution_count": 3,
   "id": "15724f54-0e05-4f07-855c-0e068a47f4e6",
   "metadata": {},
   "outputs": [
    {
     "name": "stdout",
     "output_type": "stream",
     "text": [
      "This\n",
      "is\n",
      "python\n",
      "language\n"
     ]
    }
   ],
   "source": [
    "n=\"This is a python language\"\n",
    "x=n.split(\" \")\n",
    "for i in x:\n",
    "    if len(i)%2==0:\n",
    "        print(i)"
   ]
  },
  {
   "cell_type": "markdown",
   "id": "e2d2c60f-77a0-49f5-a600-d253eccd4d91",
   "metadata": {},
   "source": [
    "# question 2:- python program to check if a string has at least one letter and one number \n",
    "# input:- welcome2ourcountry34\n",
    "# output:- True"
   ]
  },
  {
   "cell_type": "code",
   "execution_count": 5,
   "id": "64b84b43-18e6-44f0-b83a-e550e52056bb",
   "metadata": {},
   "outputs": [],
   "source": [
    "def checkstring(str):\n",
    "    flag_l=False\n",
    "    flag_n=False\n",
    "    for i in str:\n",
    "        if i.isalpha():\n",
    "            flag_l=True\n",
    "        if i.isdigit():\n",
    "            flag_n=True\n",
    "\n",
    "    return flag_l and flag_n\n"
   ]
  },
  {
   "cell_type": "code",
   "execution_count": 7,
   "id": "d8038ea0-c03d-4803-a2dc-ac3dbc660dcf",
   "metadata": {},
   "outputs": [
    {
     "data": {
      "text/plain": [
       "True"
      ]
     },
     "execution_count": 7,
     "metadata": {},
     "output_type": "execute_result"
    }
   ],
   "source": [
    "checkstring(\"welcome2ourcountry34\")"
   ]
  },
  {
   "cell_type": "markdown",
   "id": "73358cda-1dfb-45b6-8b0d-0ec886d54356",
   "metadata": {},
   "source": [
    "# question 3:- python program to find the frequency of numbers in string \n",
    "\n",
    "# output:- The original string is : python for data analyst is no. 1 4 python count of numerics in string :2 "
   ]
  },
  {
   "cell_type": "code",
   "execution_count": 9,
   "id": "08e3dbf6-d2b4-4b31-8ed4-5485eff87ce2",
   "metadata": {},
   "outputs": [
    {
     "name": "stdout",
     "output_type": "stream",
     "text": [
      "The original string is:python for data analyst is no.1 4 python\n",
      "Count of numerics in string:2\n"
     ]
    }
   ],
   "source": [
    "import re\n",
    "test_str=\"python for data analyst is no.1 4 python\"\n",
    "print(\"The original string is:\" + test_str)\n",
    "res=len(re.findall(r\"\\d+\",test_str))\n",
    "\n",
    "print(\"Count of numerics in string:\"+str(res))"
   ]
  },
  {
   "cell_type": "markdown",
   "id": "9e4067bf-1912-4f42-bf58-badaf77febdb",
   "metadata": {},
   "source": [
    "# question 4:- Write a program to swap commas and dot in a string \n",
    "# input=14,625,498.002\n",
    "# output=14625.498,002"
   ]
  },
  {
   "cell_type": "code",
   "execution_count": 11,
   "id": "b3b0c278-2549-4fd9-a01c-4235187376f3",
   "metadata": {},
   "outputs": [],
   "source": [
    "def Replace(str1):\n",
    "    str1=str1.replace(',','third')\n",
    "    str1=str1.replace('.',',')\n",
    "    str1=str1.replace('third','.')\n",
    "    return str1\n",
    "string=\"14,625,498.002\""
   ]
  },
  {
   "cell_type": "code",
   "execution_count": 12,
   "id": "7841662a-49ac-495c-a9a4-c370813c1fa0",
   "metadata": {},
   "outputs": [
    {
     "data": {
      "text/plain": [
       "'14.625.498,002'"
      ]
     },
     "execution_count": 12,
     "metadata": {},
     "output_type": "execute_result"
    }
   ],
   "source": [
    "Replace(string)"
   ]
  },
  {
   "cell_type": "markdown",
   "id": "ac50a099-c8ea-4706-9baf-06c03d27a2ad",
   "metadata": {},
   "source": [
    "# question 5:- Calculate the sum and average of the digits present in a string\n",
    "# input_str-Datapython29@#8469\n",
    "# output- Sum is: 38 Average is:6.3333333333"
   ]
  },
  {
   "cell_type": "code",
   "execution_count": 16,
   "id": "1b4c5aec-59da-4105-94c8-f8d9da92fe6a",
   "metadata": {},
   "outputs": [
    {
     "name": "stdout",
     "output_type": "stream",
     "text": [
      "Sum is: 38 Average is: 6.333333333333333\n"
     ]
    }
   ],
   "source": [
    "input_str=\"Datapython29@#8469\"\n",
    "total=0\n",
    "count=0\n",
    "for char in input_str:\n",
    "    if char.isdigit():\n",
    "        total+=int(char)\n",
    "        count+=1\n",
    "\n",
    "avg=total/count\n",
    "print('Sum is:',total,'Average is:',avg)"
   ]
  },
  {
   "cell_type": "markdown",
   "id": "713ed053-cfb5-45e2-a8ea-e3135ab19269",
   "metadata": {},
   "source": [
    "# question 6:- Count all letters, digits and special symbols from a given string\n",
    "# input:- \"A@un2st&#i5ve\"\n",
    "# output:- Chars=8 digits=2symbol=3"
   ]
  },
  {
   "cell_type": "code",
   "execution_count": 17,
   "id": "da3ceeaa-2bdb-42d1-9299-bbc0c9f03019",
   "metadata": {},
   "outputs": [
    {
     "name": "stdout",
     "output_type": "stream",
     "text": [
      "total counts of chars,digits and symbols\n",
      "\n"
     ]
    }
   ],
   "source": [
    "def find_digit_char_symbols(sample_str):\n",
    "    char_count=0\n",
    "    digit_count=0\n",
    "    symbol_count=0\n",
    "    for char in sample_str:\n",
    "        if char.isalpha():\n",
    "            char_count+=1\n",
    "        elif char.isdigit():\n",
    "            digit_count+=1\n",
    "        else:\n",
    "            symbol_count+=1\n",
    "\n",
    "    print(\"chars=\",char_count,\"Digits=\",digit_count,\"symbol=\",symbol_count)\n",
    "sample_str=\"A@un2st&#i5ve\"\n",
    "print('total counts of chars,digits and symbols\\n')"
   ]
  },
  {
   "cell_type": "code",
   "execution_count": 18,
   "id": "a1e264e2-057e-4658-a7df-77be88dd1b0d",
   "metadata": {},
   "outputs": [
    {
     "name": "stdout",
     "output_type": "stream",
     "text": [
      "chars= 8 Digits= 2 symbol= 3\n"
     ]
    }
   ],
   "source": [
    "find_digit_char_symbols(sample_str)"
   ]
  },
  {
   "cell_type": "markdown",
   "id": "68138ab9-dcff-4b79-8b44-360467a97447",
   "metadata": {},
   "source": [
    "# question 7:- Take the input from the user and reverse it"
   ]
  },
  {
   "cell_type": "code",
   "execution_count": 21,
   "id": "6e423d6b-6a98-4fc4-983b-551e0f4787e4",
   "metadata": {},
   "outputs": [
    {
     "name": "stdin",
     "output_type": "stream",
     "text": [
      "Enter the string Rishi\n"
     ]
    },
    {
     "name": "stdout",
     "output_type": "stream",
     "text": [
      "Reverse of the string is: ihsiR\n"
     ]
    }
   ],
   "source": [
    "a=input(\"Enter the string\")\n",
    "print('Reverse of the string is:',a[::-1])"
   ]
  },
  {
   "cell_type": "code",
   "execution_count": null,
   "id": "8bb7b9fb-7669-405d-8e49-26486eda47b9",
   "metadata": {},
   "outputs": [],
   "source": []
  },
  {
   "cell_type": "code",
   "execution_count": null,
   "id": "31bda784-45b7-4f78-96ea-43652546a1c1",
   "metadata": {},
   "outputs": [],
   "source": []
  },
  {
   "cell_type": "code",
   "execution_count": null,
   "id": "5e5386dd-8fa5-4701-a4db-3cd884aebf53",
   "metadata": {},
   "outputs": [],
   "source": []
  },
  {
   "cell_type": "code",
   "execution_count": null,
   "id": "931c057f-6e88-4b29-966e-1bfb1cd3757b",
   "metadata": {},
   "outputs": [],
   "source": []
  },
  {
   "cell_type": "code",
   "execution_count": null,
   "id": "dc30665a-bc6e-41b8-a5e1-462c438bd750",
   "metadata": {},
   "outputs": [],
   "source": []
  }
 ],
 "metadata": {
  "kernelspec": {
   "display_name": "Python 3 (ipykernel)",
   "language": "python",
   "name": "python3"
  },
  "language_info": {
   "codemirror_mode": {
    "name": "ipython",
    "version": 3
   },
   "file_extension": ".py",
   "mimetype": "text/x-python",
   "name": "python",
   "nbconvert_exporter": "python",
   "pygments_lexer": "ipython3",
   "version": "3.11.5"
  }
 },
 "nbformat": 4,
 "nbformat_minor": 5
}
