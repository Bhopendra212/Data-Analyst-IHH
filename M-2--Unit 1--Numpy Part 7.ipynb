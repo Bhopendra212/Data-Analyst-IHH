{
 "cells": [
  {
   "cell_type": "markdown",
   "id": "e1b15666-70a6-453b-8f91-c1def471a036",
   "metadata": {},
   "source": [
    "# Matrix"
   ]
  },
  {
   "cell_type": "code",
   "execution_count": 3,
   "id": "fe6b0b94-9c23-4f72-a7ca-474274ebddb5",
   "metadata": {},
   "outputs": [
    {
     "name": "stdout",
     "output_type": "stream",
     "text": [
      "[[1 2 3]\n",
      " [1 2 3]]\n",
      "<class 'numpy.matrix'>\n"
     ]
    }
   ],
   "source": [
    "import numpy as np\n",
    "a=np.matrix([[1,2,3],[1,2,3]])\n",
    "print(a)\n",
    "print(type(a))"
   ]
  },
  {
   "cell_type": "code",
   "execution_count": 4,
   "id": "760fe4c4-501b-4339-a6ea-ff5e92c4331e",
   "metadata": {},
   "outputs": [
    {
     "name": "stdout",
     "output_type": "stream",
     "text": [
      "[[1 2 3]\n",
      " [1 2 3]]\n",
      "<class 'numpy.ndarray'>\n"
     ]
    }
   ],
   "source": [
    "b=np.array([[1,2,3],[1,2,3]])\n",
    "print(b)\n",
    "print(type(b))"
   ]
  },
  {
   "cell_type": "markdown",
   "id": "570e5e84-5edb-4cff-9073-f7dc1bea2df5",
   "metadata": {},
   "source": [
    "# arethematic operations in matrix"
   ]
  },
  {
   "cell_type": "code",
   "execution_count": 7,
   "id": "9f0c93b1-f3dd-4f09-bcfd-e18138f54632",
   "metadata": {},
   "outputs": [
    {
     "name": "stdout",
     "output_type": "stream",
     "text": [
      "we are talking about matrix\n",
      "[[1 2 3]\n",
      " [1 2 3]]\n",
      "\n",
      "[[4 5 6]\n",
      " [4 5 6]]\n",
      "\n",
      "[[5 7 9]\n",
      " [5 7 9]]\n",
      "\n",
      "We are talking about array\n",
      "[[1 2 3]\n",
      " [1 2 3]]\n",
      "\n",
      "[[4 5 6]\n",
      " [4 5 6]]\n",
      "\n",
      "[[5 7 9]\n",
      " [5 7 9]]\n"
     ]
    }
   ],
   "source": [
    "print('we are talking about matrix')\n",
    "a=np.matrix([[1,2,3],[1,2,3]])\n",
    "c=np.matrix([[4,5,6],[4,5,6]])\n",
    "print(a)\n",
    "print()\n",
    "print(c)\n",
    "print()\n",
    "print(a+c)\n",
    "print()\n",
    "print('We are talking about array')\n",
    "n=np.array([[1,2,3],[1,2,3]])\n",
    "m=np.array([[4,5,6],[4,5,6]])\n",
    "print(n)\n",
    "print()\n",
    "print(m)\n",
    "print()\n",
    "print(n+m)"
   ]
  },
  {
   "cell_type": "code",
   "execution_count": 8,
   "id": "cf616c2d-c825-4a40-bfaa-9d8306533cac",
   "metadata": {},
   "outputs": [
    {
     "name": "stdout",
     "output_type": "stream",
     "text": [
      "we are talking about matrix\n",
      "[[1 2 3]\n",
      " [1 2 3]]\n",
      "\n",
      "[[4 5 6]\n",
      " [4 5 6]]\n",
      "\n",
      "[[-3 -3 -3]\n",
      " [-3 -3 -3]]\n",
      "\n",
      "We are talking about array\n",
      "[[1 2 3]\n",
      " [1 2 3]]\n",
      "\n",
      "[[4 5 6]\n",
      " [4 5 6]]\n",
      "\n",
      "[[-3 -3 -3]\n",
      " [-3 -3 -3]]\n"
     ]
    }
   ],
   "source": [
    "print('we are talking about matrix')\n",
    "a=np.matrix([[1,2,3],[1,2,3]])\n",
    "c=np.matrix([[4,5,6],[4,5,6]])\n",
    "print(a)\n",
    "print()\n",
    "print(c)\n",
    "print()\n",
    "print(a-c)\n",
    "print()\n",
    "print('We are talking about array')\n",
    "n=np.array([[1,2,3],[1,2,3]])\n",
    "m=np.array([[4,5,6],[4,5,6]])\n",
    "print(n)\n",
    "print()\n",
    "print(m)\n",
    "print()\n",
    "print(n-m)"
   ]
  },
  {
   "cell_type": "code",
   "execution_count": 13,
   "id": "a5a61d59-0106-41bc-a5bb-bc574ce9f5af",
   "metadata": {},
   "outputs": [
    {
     "name": "stdout",
     "output_type": "stream",
     "text": [
      "we are talking about matrix\n",
      "[[1 2]\n",
      " [3 4]]\n",
      "\n",
      "[[5 6]\n",
      " [7 8]]\n",
      "\n",
      "[[19 22]\n",
      " [43 50]]\n",
      "[[19 22]\n",
      " [43 50]]\n",
      "we are talking about array\n",
      "[[1 2]\n",
      " [3 4]]\n",
      "\n",
      "[[5 6]\n",
      " [7 8]]\n",
      "\n",
      "[[ 5 12]\n",
      " [21 32]]\n"
     ]
    }
   ],
   "source": [
    "print('we are talking about matrix')\n",
    "a=np.matrix([[1,2],[3,4]])\n",
    "b=np.matrix([[5,6],[7,8]])\n",
    "print(a)\n",
    "print()\n",
    "print(b)\n",
    "print()\n",
    "l=a.dot(b)\n",
    "print(l)\n",
    "print(a*b)\n",
    "print('we are talking about array')\n",
    "m=np.array([[1,2],[3,4]])\n",
    "n=np.array([[5,6],[7,8]])\n",
    "print(m)\n",
    "print()\n",
    "print(n)\n",
    "print()\n",
    "print(m*n)"
   ]
  },
  {
   "cell_type": "code",
   "execution_count": 16,
   "id": "2ed56455-b39a-4f29-805e-b764ecdea68f",
   "metadata": {},
   "outputs": [
    {
     "name": "stdout",
     "output_type": "stream",
     "text": [
      "we are talking about matrix\n",
      "[[1 2]\n",
      " [3 4]]\n",
      "\n",
      "[[5 6]\n",
      " [7 8]]\n",
      "\n",
      "[[5.         3.        ]\n",
      " [2.33333333 2.        ]]\n",
      "we are talking about array\n",
      "[[1 2]\n",
      " [3 4]]\n",
      "\n",
      "[[5 6]\n",
      " [7 8]]\n",
      "\n",
      "[[5.         3.        ]\n",
      " [2.33333333 2.        ]]\n"
     ]
    }
   ],
   "source": [
    "print('we are talking about matrix')\n",
    "a=np.matrix([[1,2],[3,4]])\n",
    "b=np.matrix([[5,6],[7,8]])\n",
    "print(a)\n",
    "print()\n",
    "print(b)\n",
    "print()\n",
    "print(b/a)\n",
    "print('we are talking about array')\n",
    "m=np.array([[1,2],[3,4]])\n",
    "n=np.array([[5,6],[7,8]])\n",
    "print(m)\n",
    "print()\n",
    "print(n)\n",
    "print()\n",
    "print(n/m)"
   ]
  },
  {
   "cell_type": "markdown",
   "id": "c44ccaa6-bcb2-4a54-84db-2494c20120c0",
   "metadata": {},
   "source": [
    "# matrix functions"
   ]
  },
  {
   "cell_type": "markdown",
   "id": "4d976390-9719-4062-9fb8-12eea1837f81",
   "metadata": {},
   "source": [
    "# transpose function --- interchage rows into column and column into rows and vice versa"
   ]
  },
  {
   "cell_type": "code",
   "execution_count": 18,
   "id": "78411389-7ba1-458e-9a07-7e764111182c",
   "metadata": {},
   "outputs": [
    {
     "name": "stdout",
     "output_type": "stream",
     "text": [
      "[[ 4  5  6]\n",
      " [14 16 18]\n",
      " [ 9 17 43]]\n",
      "\n",
      "[[ 4 14  9]\n",
      " [ 5 16 17]\n",
      " [ 6 18 43]]\n"
     ]
    }
   ],
   "source": [
    "a=np.matrix([[4,5,6],[14,16,18],[9,17,43]])\n",
    "print(a)\n",
    "print()\n",
    "print(np.transpose(a))"
   ]
  },
  {
   "cell_type": "code",
   "execution_count": 19,
   "id": "55c9d94d-a45e-485c-a387-d4d88fd0f93c",
   "metadata": {},
   "outputs": [
    {
     "name": "stdout",
     "output_type": "stream",
     "text": [
      "[[ 4  5  6]\n",
      " [14 16 18]\n",
      " [ 9 17 43]]\n",
      "\n",
      "[[ 4 14  9]\n",
      " [ 5 16 17]\n",
      " [ 6 18 43]]\n"
     ]
    }
   ],
   "source": [
    "a=np.matrix([[4,5,6],[14,16,18],[9,17,43]])\n",
    "print(a)\n",
    "print()\n",
    "print(a.T)"
   ]
  },
  {
   "cell_type": "markdown",
   "id": "05e3a7e7-1a09-4c4e-b121-7c193f6b0c59",
   "metadata": {},
   "source": [
    "# swapaxes function"
   ]
  },
  {
   "cell_type": "code",
   "execution_count": 22,
   "id": "da719eb6-72a4-4827-b325-0a7bf37cb512",
   "metadata": {},
   "outputs": [
    {
     "name": "stdout",
     "output_type": "stream",
     "text": [
      "[[ 4  5  6]\n",
      " [14 16 18]\n",
      " [ 9 17 43]]\n",
      "\n",
      "[[ 4 14  9]\n",
      " [ 5 16 17]\n",
      " [ 6 18 43]]\n"
     ]
    }
   ],
   "source": [
    "a=np.matrix([[4,5,6],[14,16,18],[9,17,43]])\n",
    "print(a)\n",
    "print()\n",
    "print(np.swapaxes(a,1,0))"
   ]
  },
  {
   "cell_type": "code",
   "execution_count": 23,
   "id": "9b7b682a-1c35-4761-b130-b2d7fbda7943",
   "metadata": {},
   "outputs": [
    {
     "name": "stdout",
     "output_type": "stream",
     "text": [
      "[[ 4  5  6]\n",
      " [14 16 18]\n",
      " [ 9 17 43]]\n",
      "\n",
      "[[ 4 14  9]\n",
      " [ 5 16 17]\n",
      " [ 6 18 43]]\n"
     ]
    }
   ],
   "source": [
    "a=np.matrix([[4,5,6],[14,16,18],[9,17,43]])\n",
    "print(a)\n",
    "print()\n",
    "print(np.swapaxes(a,0,1))"
   ]
  },
  {
   "cell_type": "markdown",
   "id": "8fd47417-a99b-46e1-83e9-99d3f8c73b25",
   "metadata": {},
   "source": [
    "# Inverse function"
   ]
  },
  {
   "cell_type": "code",
   "execution_count": 24,
   "id": "8a164e0c-3757-4076-b90f-3d5b9763bc8e",
   "metadata": {},
   "outputs": [
    {
     "name": "stdout",
     "output_type": "stream",
     "text": [
      "[[3 4]\n",
      " [2 1]]\n",
      "\n",
      "[[-0.2  0.8]\n",
      " [ 0.4 -0.6]]\n"
     ]
    }
   ],
   "source": [
    "a=np.matrix([[3,4],[2,1]])\n",
    "print(a)\n",
    "print()\n",
    "print(np.linalg.inv(a))"
   ]
  },
  {
   "cell_type": "markdown",
   "id": "6a11db5b-e455-46e3-bf1e-d4544736846c",
   "metadata": {},
   "source": [
    "# power function"
   ]
  },
  {
   "cell_type": "code",
   "execution_count": 29,
   "id": "5d0b8685-5cdc-41a3-bfe5-c08c6e911136",
   "metadata": {},
   "outputs": [
    {
     "name": "stdout",
     "output_type": "stream",
     "text": [
      "[[1 2]\n",
      " [4 5]]\n",
      "\n",
      "[[ 9 12]\n",
      " [24 33]]\n",
      "\n",
      "[[1 0]\n",
      " [0 1]]\n",
      "\n",
      "[[ 3.66666667 -1.33333333]\n",
      " [-2.66666667  1.        ]]\n"
     ]
    }
   ],
   "source": [
    "a=np.matrix([[1,2],[4,5]])\n",
    "print(a)\n",
    "print()\n",
    "print(np.linalg.matrix_power(a,2))\n",
    "print()\n",
    "print(np.linalg.matrix_power(a,0))\n",
    "print()\n",
    "print(np.linalg.matrix_power(a,-2))"
   ]
  },
  {
   "cell_type": "markdown",
   "id": "71008560-e01f-471e-be9d-15dc7e1c0719",
   "metadata": {},
   "source": [
    "# Determinate"
   ]
  },
  {
   "cell_type": "code",
   "execution_count": 32,
   "id": "81299143-8ba7-4418-be1f-f9c7b8227a09",
   "metadata": {},
   "outputs": [
    {
     "name": "stdout",
     "output_type": "stream",
     "text": [
      "[[ 1  3  5]\n",
      " [ 2  4  6]\n",
      " [10 11 12]]\n",
      "\n",
      "0.0\n"
     ]
    }
   ],
   "source": [
    "a=np.matrix([[1,3,5],[2,4,6],[10,11,12]])\n",
    "print(a)\n",
    "print()\n",
    "print(np.linalg.det(a))"
   ]
  },
  {
   "cell_type": "code",
   "execution_count": null,
   "id": "2bff8ac2-6ea3-48dc-9dd6-ccfb3cadff80",
   "metadata": {},
   "outputs": [],
   "source": []
  },
  {
   "cell_type": "code",
   "execution_count": null,
   "id": "2df7e886-0c26-4439-a975-0300410f143e",
   "metadata": {},
   "outputs": [],
   "source": []
  }
 ],
 "metadata": {
  "kernelspec": {
   "display_name": "Python 3 (ipykernel)",
   "language": "python",
   "name": "python3"
  },
  "language_info": {
   "codemirror_mode": {
    "name": "ipython",
    "version": 3
   },
   "file_extension": ".py",
   "mimetype": "text/x-python",
   "name": "python",
   "nbconvert_exporter": "python",
   "pygments_lexer": "ipython3",
   "version": "3.11.5"
  }
 },
 "nbformat": 4,
 "nbformat_minor": 5
}
