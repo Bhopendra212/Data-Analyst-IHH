{
 "cells": [
  {
   "cell_type": "markdown",
   "id": "d372c6a0-edaa-4e34-b957-9d4672d61df5",
   "metadata": {},
   "source": [
    "# Indexing in Numpy array"
   ]
  },
  {
   "cell_type": "code",
   "execution_count": 1,
   "id": "543954bb-feb5-472a-a09d-cb6e66f9e7eb",
   "metadata": {},
   "outputs": [
    {
     "name": "stdout",
     "output_type": "stream",
     "text": [
      "55\n"
     ]
    }
   ],
   "source": [
    "import numpy as np\n",
    "x=np.array([11,22,33,44,55,66,77,88])\n",
    "print(x[4])"
   ]
  },
  {
   "cell_type": "code",
   "execution_count": 2,
   "id": "96f8b03f-c393-4596-ab6b-515b814a3030",
   "metadata": {},
   "outputs": [
    {
     "name": "stdout",
     "output_type": "stream",
     "text": [
      "77\n"
     ]
    }
   ],
   "source": [
    "import numpy as np\n",
    "x=np.array([11,22,33,44,55,66,77,88])\n",
    "print(x[6])"
   ]
  },
  {
   "cell_type": "code",
   "execution_count": 5,
   "id": "4a3ba41f-4995-44cd-9e8b-62173bef8d7a",
   "metadata": {},
   "outputs": [
    {
     "name": "stdout",
     "output_type": "stream",
     "text": [
      "88\n"
     ]
    }
   ],
   "source": [
    "x=np.array([11,22,33,44,55,66,77,88])\n",
    "print(x[-1])"
   ]
  },
  {
   "cell_type": "code",
   "execution_count": 6,
   "id": "4f3b45b1-514d-4f10-afed-a3ea459e7d20",
   "metadata": {},
   "outputs": [
    {
     "name": "stdout",
     "output_type": "stream",
     "text": [
      "66\n"
     ]
    }
   ],
   "source": [
    "x=np.array([11,22,33,44,55,66,77,88])\n",
    "print(x[-3])"
   ]
  },
  {
   "cell_type": "markdown",
   "id": "40e12dfc-8165-4411-951e-ef616baa1a39",
   "metadata": {},
   "source": [
    "# Indexing in 2D array"
   ]
  },
  {
   "cell_type": "code",
   "execution_count": 7,
   "id": "a2c8d66b-b69c-42de-af22-a09598b26f93",
   "metadata": {},
   "outputs": [
    {
     "name": "stdout",
     "output_type": "stream",
     "text": [
      "13\n"
     ]
    }
   ],
   "source": [
    "x=np.array([[11,12],[13,14]])\n",
    "print(x[1,0])"
   ]
  },
  {
   "cell_type": "code",
   "execution_count": 8,
   "id": "90963d54-0484-4292-af10-bb2a253e005a",
   "metadata": {},
   "outputs": [
    {
     "name": "stdout",
     "output_type": "stream",
     "text": [
      "12\n"
     ]
    }
   ],
   "source": [
    "x=np.array([[11,12],[13,14]])\n",
    "print(x[0,1])"
   ]
  },
  {
   "cell_type": "code",
   "execution_count": 9,
   "id": "50ed8213-c262-4914-a95b-8cb216a32808",
   "metadata": {},
   "outputs": [
    {
     "name": "stdout",
     "output_type": "stream",
     "text": [
      "11\n"
     ]
    }
   ],
   "source": [
    "x=np.array([[11,12],[13,14]])\n",
    "print(x[0,0])"
   ]
  },
  {
   "cell_type": "code",
   "execution_count": 10,
   "id": "f6e0de6b-f2f6-451f-bcb3-4085d1e9dd8c",
   "metadata": {},
   "outputs": [
    {
     "name": "stdout",
     "output_type": "stream",
     "text": [
      "12\n"
     ]
    }
   ],
   "source": [
    "x=np.array([[1,2,3,4,5],[6,7,8,9,11],[10,12,13,14,15]])\n",
    "print(x[2,1])"
   ]
  },
  {
   "cell_type": "code",
   "execution_count": 11,
   "id": "0b500cbe-c3c2-4953-b2a4-1f94716aac02",
   "metadata": {},
   "outputs": [
    {
     "name": "stdout",
     "output_type": "stream",
     "text": [
      "6\n"
     ]
    }
   ],
   "source": [
    "x=np.array([[1,2,3,4,5],[6,7,8,9,11],[10,12,13,14,15]])\n",
    "print(x[1,0])"
   ]
  },
  {
   "cell_type": "code",
   "execution_count": 12,
   "id": "dc09b218-a20d-41a9-97ca-acab1ff61c75",
   "metadata": {},
   "outputs": [
    {
     "name": "stdout",
     "output_type": "stream",
     "text": [
      "14\n"
     ]
    }
   ],
   "source": [
    "x=np.array([[1,2,3,4,5],[6,7,8,9,11],[10,12,13,14,15]])\n",
    "print(x[2,3])"
   ]
  },
  {
   "cell_type": "markdown",
   "id": "0f2cda33-17b6-4be4-89ac-e3968a298c1d",
   "metadata": {},
   "source": [
    "# Indexing in 3D array"
   ]
  },
  {
   "cell_type": "code",
   "execution_count": 15,
   "id": "a70a4d33-4ef5-418a-a448-1a06247805b5",
   "metadata": {},
   "outputs": [
    {
     "name": "stdout",
     "output_type": "stream",
     "text": [
      "[[[11 12]\n",
      "  [13 14]]\n",
      "\n",
      " [[15 16]\n",
      "  [17 18]]]\n",
      "3\n",
      "17\n"
     ]
    }
   ],
   "source": [
    "b=np.array([[[11,12],[13,14]],[[15,16],[17,18]]])\n",
    "print(b)\n",
    "print(b.ndim)\n",
    "print(b[1,1,0])"
   ]
  },
  {
   "cell_type": "code",
   "execution_count": 16,
   "id": "66418d6b-150e-451b-ab88-e3348e79295b",
   "metadata": {},
   "outputs": [
    {
     "name": "stdout",
     "output_type": "stream",
     "text": [
      "[[[11 12]\n",
      "  [13 14]]\n",
      "\n",
      " [[15 16]\n",
      "  [17 18]]]\n",
      "3\n",
      "13\n"
     ]
    }
   ],
   "source": [
    "b=np.array([[[11,12],[13,14]],[[15,16],[17,18]]])\n",
    "print(b)\n",
    "print(b.ndim)\n",
    "print(b[0,1,0])"
   ]
  },
  {
   "cell_type": "code",
   "execution_count": 17,
   "id": "b24166d4-2007-4d85-9c94-7d4fed7ccb3f",
   "metadata": {},
   "outputs": [
    {
     "name": "stdout",
     "output_type": "stream",
     "text": [
      "[[[11 12]\n",
      "  [13 14]]\n",
      "\n",
      " [[15 16]\n",
      "  [17 18]]]\n",
      "3\n",
      "16\n"
     ]
    }
   ],
   "source": [
    "b=np.array([[[11,12],[13,14]],[[15,16],[17,18]]])\n",
    "print(b)\n",
    "print(b.ndim)\n",
    "print(b[1,0,1])"
   ]
  },
  {
   "cell_type": "code",
   "execution_count": 22,
   "id": "08c93f1c-00e1-4519-95f2-077c7f1846db",
   "metadata": {},
   "outputs": [
    {
     "name": "stdout",
     "output_type": "stream",
     "text": [
      "[[[ 3  6  9]\n",
      "  [11 22 33]\n",
      "  [ 1  5  7]]]\n",
      "3\n",
      "33\n"
     ]
    }
   ],
   "source": [
    "a=np.array([[[3,6,9],[11,22,33],[1,5,7]]])\n",
    "print(a)\n",
    "print(a.ndim)\n",
    "print(a[0,1,2])"
   ]
  },
  {
   "cell_type": "code",
   "execution_count": 24,
   "id": "f135dacb-a99f-452d-843d-a713d2447b7d",
   "metadata": {},
   "outputs": [
    {
     "name": "stdout",
     "output_type": "stream",
     "text": [
      "[[[ 3  6  9]\n",
      "  [11 22 33]\n",
      "  [ 1  5  7]]]\n",
      "3\n",
      "1\n"
     ]
    }
   ],
   "source": [
    "a=np.array([[[3,6,9],[11,22,33],[1,5,7]]])\n",
    "print(a)\n",
    "print(a.ndim)\n",
    "print(a[0,2,0])"
   ]
  },
  {
   "cell_type": "markdown",
   "id": "a84fdc52-c803-4e50-ae3b-6df16dea4dbf",
   "metadata": {},
   "source": [
    "# indexing in 5D array"
   ]
  },
  {
   "cell_type": "code",
   "execution_count": 26,
   "id": "01648a59-9a30-493d-ad85-5c75e62ea4e2",
   "metadata": {},
   "outputs": [
    {
     "name": "stdout",
     "output_type": "stream",
     "text": [
      "[[[[[1 2 3]\n",
      "    [4 5 6]\n",
      "    [7 8 9]]]]]\n",
      "5\n",
      "5\n"
     ]
    }
   ],
   "source": [
    "a=np.array([[[[[1,2,3],[4,5,6],[7,8,9]]]]])\n",
    "print(a)\n",
    "print(a.ndim)\n",
    "print(a[0,0,0,1,1])"
   ]
  },
  {
   "cell_type": "code",
   "execution_count": 27,
   "id": "3940eef4-fe14-419c-aca7-de23144b29c6",
   "metadata": {},
   "outputs": [
    {
     "name": "stdout",
     "output_type": "stream",
     "text": [
      "[[[[[1 2 3]\n",
      "    [4 5 6]\n",
      "    [7 8 9]]]]]\n",
      "5\n",
      "8\n"
     ]
    }
   ],
   "source": [
    "a=np.array([[[[[1,2,3],[4,5,6],[7,8,9]]]]])\n",
    "print(a)\n",
    "print(a.ndim)\n",
    "print(a[0,0,0,2,1])"
   ]
  },
  {
   "cell_type": "markdown",
   "id": "67a162ea-6ef7-446d-bad9-50f48a97de16",
   "metadata": {},
   "source": [
    "# Slicing in Numpy array"
   ]
  },
  {
   "cell_type": "markdown",
   "id": "9cbd0e4b-3a2e-447f-9b58-d926c72da5e0",
   "metadata": {},
   "source": [
    "# 1D array"
   ]
  },
  {
   "cell_type": "code",
   "execution_count": 2,
   "id": "b6db4413-63ba-4f92-841f-20d15fcdd075",
   "metadata": {},
   "outputs": [
    {
     "name": "stdout",
     "output_type": "stream",
     "text": [
      "[13 14 15 16 17]\n"
     ]
    }
   ],
   "source": [
    "import numpy as np\n",
    "a=np.array([11,12,13,14,15,16,17,18,19])\n",
    "print(a[2:7])"
   ]
  },
  {
   "cell_type": "code",
   "execution_count": 3,
   "id": "b9355713-c273-4bc4-9709-25d314e2e766",
   "metadata": {},
   "outputs": [
    {
     "name": "stdout",
     "output_type": "stream",
     "text": [
      "[13 15 17]\n"
     ]
    }
   ],
   "source": [
    "import numpy as np\n",
    "a=np.array([11,12,13,14,15,16,17,18,19])\n",
    "print(a[2:7:2])"
   ]
  },
  {
   "cell_type": "code",
   "execution_count": 4,
   "id": "3ba43fbf-b507-4272-8a57-702e212d64c8",
   "metadata": {},
   "outputs": [
    {
     "name": "stdout",
     "output_type": "stream",
     "text": [
      "[1 2 3 4 5]\n"
     ]
    }
   ],
   "source": [
    "a=np.array([1,2,3,4,5,6,7,8,9])\n",
    "print(a[:5])"
   ]
  },
  {
   "cell_type": "code",
   "execution_count": 5,
   "id": "568b065d-7114-4ccf-9deb-ea79acadc47d",
   "metadata": {},
   "outputs": [
    {
     "name": "stdout",
     "output_type": "stream",
     "text": [
      "[1 2 3 4 5 6 7 8 9]\n"
     ]
    }
   ],
   "source": [
    "a=np.array([1,2,3,4,5,6,7,8,9])\n",
    "print(a[:])"
   ]
  },
  {
   "cell_type": "code",
   "execution_count": 6,
   "id": "9309aa44-db2e-4266-9a07-e6d8e584cb97",
   "metadata": {},
   "outputs": [
    {
     "name": "stdout",
     "output_type": "stream",
     "text": [
      "[66 35 89 87 76 56 54 33 22 11]\n"
     ]
    }
   ],
   "source": [
    "a=np.array([11,22,33,54,56,76,87,89,35,66])\n",
    "print(a[::-1])"
   ]
  },
  {
   "cell_type": "code",
   "execution_count": 7,
   "id": "251c0afb-f9cb-4143-96fc-ce5c7fd79e29",
   "metadata": {},
   "outputs": [
    {
     "name": "stdout",
     "output_type": "stream",
     "text": [
      "[54 56 76]\n"
     ]
    }
   ],
   "source": [
    "a=np.array([11,22,33,54,56,76,87,89,35,66])\n",
    "print(a[3:6])"
   ]
  },
  {
   "cell_type": "markdown",
   "id": "57b0a02b-638c-4e1b-a0af-fde83023e961",
   "metadata": {},
   "source": [
    "#  Slicing in 2D array"
   ]
  },
  {
   "cell_type": "code",
   "execution_count": 10,
   "id": "344087b7-b125-4aa7-b400-90bb968e65ac",
   "metadata": {},
   "outputs": [
    {
     "name": "stdout",
     "output_type": "stream",
     "text": [
      "[[10 11 12 13 14 15]\n",
      " [20 21 22 23 24 25]]\n",
      "[21 22 23]\n"
     ]
    }
   ],
   "source": [
    "import numpy as np\n",
    "b=np.array([[10,11,12,13,14,15],[20,21,22,23,24,25]])\n",
    "print(b)\n",
    "print(b[1,1:4])"
   ]
  },
  {
   "cell_type": "code",
   "execution_count": 11,
   "id": "b0ef4fd1-5fbb-4368-9fb4-8a82f98f50a7",
   "metadata": {},
   "outputs": [
    {
     "name": "stdout",
     "output_type": "stream",
     "text": [
      "[[10 11 12 13 14 15]\n",
      " [20 21 22 23 24 25]]\n",
      "[11 12 13]\n"
     ]
    }
   ],
   "source": [
    "import numpy as np\n",
    "b=np.array([[10,11,12,13,14,15],[20,21,22,23,24,25]])\n",
    "print(b)\n",
    "print(b[0,1:4])"
   ]
  },
  {
   "cell_type": "code",
   "execution_count": 12,
   "id": "ec507337-1837-463e-9d1d-836feda25439",
   "metadata": {},
   "outputs": [
    {
     "name": "stdout",
     "output_type": "stream",
     "text": [
      "[[10 11 12 13 14 15]\n",
      " [20 21 22 23 24 25]]\n",
      "[20 22 24]\n"
     ]
    }
   ],
   "source": [
    "import numpy as np\n",
    "b=np.array([[10,11,12,13,14,15],[20,21,22,23,24,25]])\n",
    "print(b)\n",
    "print(b[1,0:5:2])"
   ]
  },
  {
   "cell_type": "code",
   "execution_count": 13,
   "id": "2a9f195a-e50f-46bf-aada-7c3431356000",
   "metadata": {},
   "outputs": [
    {
     "name": "stdout",
     "output_type": "stream",
     "text": [
      "[[10 11 12 13 14 15]\n",
      " [20 21 22 23 24 25]]\n",
      "[20 22 24]\n"
     ]
    }
   ],
   "source": [
    "import numpy as np\n",
    "b=np.array([[10,11,12,13,14,15],[20,21,22,23,24,25]])\n",
    "print(b)\n",
    "print(b[1,::2])"
   ]
  },
  {
   "cell_type": "code",
   "execution_count": 14,
   "id": "90bb3631-3313-4c70-be68-a0a9d2c07ec9",
   "metadata": {},
   "outputs": [
    {
     "name": "stdout",
     "output_type": "stream",
     "text": [
      "[[10 11 12 13 14 15]\n",
      " [20 21 22 23 24 25]]\n",
      "[25 24 23 22 21 20]\n"
     ]
    }
   ],
   "source": [
    "import numpy as np\n",
    "b=np.array([[10,11,12,13,14,15],[20,21,22,23,24,25]])\n",
    "print(b)\n",
    "print(b[1,::-1])"
   ]
  },
  {
   "cell_type": "code",
   "execution_count": 15,
   "id": "aecfd702-699d-4559-b986-2159a5354739",
   "metadata": {},
   "outputs": [
    {
     "name": "stdout",
     "output_type": "stream",
     "text": [
      "[[10 11 12 13 14 15]\n",
      " [20 21 22 23 24 25]]\n",
      "[15 14 13 12 11 10]\n"
     ]
    }
   ],
   "source": [
    "import numpy as np\n",
    "b=np.array([[10,11,12,13,14,15],[20,21,22,23,24,25]])\n",
    "print(b)\n",
    "print(b[0,::-1])"
   ]
  },
  {
   "cell_type": "markdown",
   "id": "d9d21971-ea13-4ffe-a7f9-6a6cf8eb1dc5",
   "metadata": {},
   "source": [
    "# slicing in 3D array"
   ]
  },
  {
   "cell_type": "code",
   "execution_count": 17,
   "id": "6cab27b6-5fae-4ea8-9f3d-5ddb750a392e",
   "metadata": {},
   "outputs": [
    {
     "name": "stdout",
     "output_type": "stream",
     "text": [
      "[[[ 1  2  3  7  9]\n",
      "  [ 4  5  6  9 10]\n",
      "  [ 7  8  9  1  2]]]\n",
      "[5 6 9]\n"
     ]
    }
   ],
   "source": [
    "a=np.array([[[1,2,3,7,9],[4,5,6,9,10],[7,8,9,1,2]]])\n",
    "print(a)\n",
    "print(a[0,1,1:4])"
   ]
  },
  {
   "cell_type": "code",
   "execution_count": 22,
   "id": "ef00551c-4c85-42aa-9661-5ea017388075",
   "metadata": {},
   "outputs": [
    {
     "name": "stdout",
     "output_type": "stream",
     "text": [
      "[7 9 2]\n"
     ]
    }
   ],
   "source": [
    "a=np.array([[[1,2,3,7,9],[4,5,6,9,10],[7,8,9,1,2]]])\n",
    "print(a[0,2,::2])"
   ]
  },
  {
   "cell_type": "code",
   "execution_count": 23,
   "id": "2923d74e-53ac-44ac-add8-9bc2bf8f9488",
   "metadata": {},
   "outputs": [
    {
     "name": "stdout",
     "output_type": "stream",
     "text": [
      "[2 1 9 8 7]\n"
     ]
    }
   ],
   "source": [
    "a=np.array([[[1,2,3,7,9],[4,5,6,9,10],[7,8,9,1,2]]])\n",
    "print(a[0,2,::-1])"
   ]
  },
  {
   "cell_type": "code",
   "execution_count": 24,
   "id": "7ce59c24-5b8b-4a4a-a551-d37129392062",
   "metadata": {},
   "outputs": [
    {
     "name": "stdout",
     "output_type": "stream",
     "text": [
      "[10  9  6  5  4]\n"
     ]
    }
   ],
   "source": [
    "a=np.array([[[1,2,3,7,9],[4,5,6,9,10],[7,8,9,1,2]]])\n",
    "print(a[0,1,::-1])"
   ]
  },
  {
   "cell_type": "code",
   "execution_count": null,
   "id": "84ce1e48-b333-43b3-a229-549c23845b25",
   "metadata": {},
   "outputs": [],
   "source": []
  }
 ],
 "metadata": {
  "kernelspec": {
   "display_name": "Python 3 (ipykernel)",
   "language": "python",
   "name": "python3"
  },
  "language_info": {
   "codemirror_mode": {
    "name": "ipython",
    "version": 3
   },
   "file_extension": ".py",
   "mimetype": "text/x-python",
   "name": "python",
   "nbconvert_exporter": "python",
   "pygments_lexer": "ipython3",
   "version": "3.11.5"
  }
 },
 "nbformat": 4,
 "nbformat_minor": 5
}
