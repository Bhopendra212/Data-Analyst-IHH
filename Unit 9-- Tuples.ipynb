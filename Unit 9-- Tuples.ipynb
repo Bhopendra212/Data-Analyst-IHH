{
 "cells": [
  {
   "cell_type": "code",
   "execution_count": 1,
   "id": "f3aee410-8b4b-4085-8999-ec1277c0f41c",
   "metadata": {},
   "outputs": [
    {
     "name": "stdout",
     "output_type": "stream",
     "text": [
      "(1, 2, 3, 4, 5, 6, 7)\n",
      "<class 'tuple'>\n"
     ]
    }
   ],
   "source": [
    "T=(1,2,3,4,5,6,7)\n",
    "print(T)\n",
    "print(type(T))"
   ]
  },
  {
   "cell_type": "code",
   "execution_count": 2,
   "id": "7073d4b0-cc59-4f65-a3b6-fecf07311a92",
   "metadata": {},
   "outputs": [
    {
     "name": "stdout",
     "output_type": "stream",
     "text": [
      "(1, 2, 3, 4, 5, 6, 7, -85, 'apples', 'red', 2.3, 4.5)\n",
      "<class 'tuple'>\n"
     ]
    }
   ],
   "source": [
    "T=(1,2,3,4,5,6,7,-32-53,\"apples\",'red',2.3,4.5)\n",
    "print(T)\n",
    "print(type(T))"
   ]
  },
  {
   "cell_type": "code",
   "execution_count": 3,
   "id": "f015c2d9-f5d3-49d5-a236-4d53134c99da",
   "metadata": {},
   "outputs": [
    {
     "name": "stdout",
     "output_type": "stream",
     "text": [
      "()\n",
      "<class 'tuple'>\n"
     ]
    }
   ],
   "source": [
    "T=()\n",
    "print(T)\n",
    "print(type(T))"
   ]
  },
  {
   "cell_type": "code",
   "execution_count": 5,
   "id": "4c946915-d1ab-4045-b866-bff100b51477",
   "metadata": {},
   "outputs": [
    {
     "name": "stdout",
     "output_type": "stream",
     "text": [
      "<class 'tuple'>\n"
     ]
    }
   ],
   "source": [
    "a=(25,)\n",
    "print(type(a))"
   ]
  },
  {
   "cell_type": "code",
   "execution_count": 6,
   "id": "bdc5f247-89bf-47e2-ad6f-32647b8fa5e0",
   "metadata": {},
   "outputs": [
    {
     "name": "stdout",
     "output_type": "stream",
     "text": [
      "<class 'tuple'>\n"
     ]
    }
   ],
   "source": [
    "a=(25.3,)\n",
    "print(type(a))"
   ]
  },
  {
   "cell_type": "code",
   "execution_count": 7,
   "id": "181668de-b698-46c0-a6bc-3ba075a24d00",
   "metadata": {},
   "outputs": [
    {
     "name": "stdout",
     "output_type": "stream",
     "text": [
      "<class 'tuple'>\n"
     ]
    }
   ],
   "source": [
    "a=(\"hello\",)\n",
    "print(type(a))"
   ]
  },
  {
   "cell_type": "code",
   "execution_count": 8,
   "id": "a08451bb-98e7-4fd3-90bd-d7a2f6e23454",
   "metadata": {},
   "outputs": [
    {
     "name": "stdout",
     "output_type": "stream",
     "text": [
      "(12, 35, 78, (2, 3, 4), (2.4, 3.5, 5.5), ('world', 'hello'))\n",
      "<class 'tuple'>\n"
     ]
    }
   ],
   "source": [
    "T=(12,35,78,(2,3,4,),(2.4,3.5,5.5),(\"world\",\"hello\"))\n",
    "print(T)\n",
    "print(type(T))"
   ]
  },
  {
   "cell_type": "markdown",
   "id": "5cc28105-f97b-4c53-84f1-d4ada6fef9a5",
   "metadata": {},
   "source": [
    "# Concatenation of tuple"
   ]
  },
  {
   "cell_type": "code",
   "execution_count": 9,
   "id": "883a6047-bacd-422a-b9d4-11ac4a3b3e4b",
   "metadata": {},
   "outputs": [
    {
     "name": "stdout",
     "output_type": "stream",
     "text": [
      "(1, 2, 3, 4, 5, 6, 7, 8)\n"
     ]
    }
   ],
   "source": [
    "a=(1,2,3,4)\n",
    "b=(5,6,7,8)\n",
    "print(a+b)"
   ]
  },
  {
   "cell_type": "markdown",
   "id": "caa62679-388e-473f-9bb3-f99f1865df31",
   "metadata": {},
   "source": [
    "# nesting of tuple"
   ]
  },
  {
   "cell_type": "code",
   "execution_count": 12,
   "id": "4da78a2c-c08e-43f7-a1d1-d44f4e69530c",
   "metadata": {},
   "outputs": [
    {
     "name": "stdout",
     "output_type": "stream",
     "text": [
      "(1, 2, 3, 4, 5)\n",
      "(6, 7, 8, 9, 10)\n",
      "((1, 2, 3, 4, 5), (6, 7, 8, 9, 10))\n"
     ]
    }
   ],
   "source": [
    "a=(1,2,3,4,5)\n",
    "b=(6,7,8,9,10)\n",
    "c=(a,b)\n",
    "print(a)\n",
    "print(b)\n",
    "print(c)"
   ]
  },
  {
   "cell_type": "markdown",
   "id": "2b48bb82-dd9f-4752-b4d7-e2b72ec12071",
   "metadata": {},
   "source": [
    "# multiplying tuple"
   ]
  },
  {
   "cell_type": "code",
   "execution_count": 13,
   "id": "b9801fdd-b940-40fd-affe-7452cfaab1ae",
   "metadata": {},
   "outputs": [
    {
     "name": "stdout",
     "output_type": "stream",
     "text": [
      "('bat', 'mat', 'rat', 'cat', 'bat', 'mat', 'rat', 'cat')\n",
      "<class 'tuple'>\n"
     ]
    }
   ],
   "source": [
    "a=(\"bat\",\"mat\",\"rat\",\"cat\")\n",
    "b=a*2\n",
    "print(b)\n",
    "print(type(b))"
   ]
  },
  {
   "cell_type": "code",
   "execution_count": 14,
   "id": "8c6ed712-c665-4851-a54c-2714926d1382",
   "metadata": {},
   "outputs": [
    {
     "name": "stdout",
     "output_type": "stream",
     "text": [
      "('bat', 'mat', 'rat', 'cat', 'bat', 'mat', 'rat', 'cat', 'bat', 'mat', 'rat', 'cat')\n",
      "<class 'tuple'>\n"
     ]
    }
   ],
   "source": [
    "a=(\"bat\",\"mat\",\"rat\",\"cat\")\n",
    "b=a*3\n",
    "print(b)\n",
    "print(type(b))"
   ]
  },
  {
   "cell_type": "markdown",
   "id": "a3f6295c-0ad8-4991-b0a1-be4e2d264dbc",
   "metadata": {},
   "source": [
    "# length of the tuple"
   ]
  },
  {
   "cell_type": "code",
   "execution_count": 15,
   "id": "87bd68fe-8fc4-4b77-b330-a19cbab1429f",
   "metadata": {},
   "outputs": [
    {
     "name": "stdout",
     "output_type": "stream",
     "text": [
      "8\n"
     ]
    }
   ],
   "source": [
    "a=(12,34,45,56,\"cat\",\"bat\",\"mat\",\"rat\")\n",
    "print(len(a))"
   ]
  },
  {
   "cell_type": "code",
   "execution_count": 16,
   "id": "3d439653-e201-4a56-bed2-50d64d7474a9",
   "metadata": {},
   "outputs": [
    {
     "name": "stdout",
     "output_type": "stream",
     "text": [
      "(1, 2, 3, 4, 5, 6, 7, 8, 9, 1, 2, 3, 4, 10, 11, 12, 12, 13, 14, 15)\n",
      "<class 'tuple'>\n"
     ]
    }
   ],
   "source": [
    "a=(1,2,3,4,5,6,7,8,9,1,2,3,4,10,11,12,12,13,14,15)\n",
    "print(a)\n",
    "print(type(a))"
   ]
  },
  {
   "cell_type": "markdown",
   "id": "94307065-2a31-4931-992b-53e80911fd26",
   "metadata": {},
   "source": [
    "# count() method"
   ]
  },
  {
   "cell_type": "code",
   "execution_count": 18,
   "id": "424828df-405c-4e33-8c82-c7173b319f86",
   "metadata": {},
   "outputs": [
    {
     "name": "stdout",
     "output_type": "stream",
     "text": [
      "4\n",
      "2\n",
      "(1, 2, 3, 4, 5, 6, 7, 8, 9, 1, 2, 3, 4, 10, 11, 12, 12, 2, 13, 14, 15, 2)\n",
      "<class 'tuple'>\n"
     ]
    }
   ],
   "source": [
    "a=(1,2,3,4,5,6,7,8,9,1,2,3,4,10,11,12,12,2,13,14,15,2)\n",
    "print(a.count(2))\n",
    "print(a.count(12))\n",
    "print(a)\n",
    "print(type(a))"
   ]
  },
  {
   "cell_type": "markdown",
   "id": "3cd9adac-d545-45a5-b977-1e71d25f37af",
   "metadata": {},
   "source": [
    "# indexing in tuple"
   ]
  },
  {
   "cell_type": "code",
   "execution_count": 19,
   "id": "5d78d100-6f5c-4283-b382-8abda7bbb519",
   "metadata": {},
   "outputs": [
    {
     "name": "stdout",
     "output_type": "stream",
     "text": [
      "99\n"
     ]
    }
   ],
   "source": [
    "a=(47,32,49,53,65,77,22,33,99,19)\n",
    "print(a[8])"
   ]
  },
  {
   "cell_type": "code",
   "execution_count": 20,
   "id": "642b4605-76c6-4e98-a7ee-627c273b13e7",
   "metadata": {},
   "outputs": [
    {
     "name": "stdout",
     "output_type": "stream",
     "text": [
      "49\n"
     ]
    }
   ],
   "source": [
    "a=(47,32,49,53,65,77,22,33,99,19)\n",
    "print(a[2])"
   ]
  },
  {
   "cell_type": "code",
   "execution_count": 21,
   "id": "5ff6b47b-2f51-4706-abb4-5f1cc98f3aa9",
   "metadata": {},
   "outputs": [
    {
     "name": "stdout",
     "output_type": "stream",
     "text": [
      "22\n"
     ]
    }
   ],
   "source": [
    "a=(47,32,49,53,65,77,22,33,99,19)\n",
    "print(a[-4])"
   ]
  },
  {
   "cell_type": "code",
   "execution_count": 22,
   "id": "6a3ec072-4f00-45fe-99f0-12bde4c11f51",
   "metadata": {},
   "outputs": [
    {
     "name": "stdout",
     "output_type": "stream",
     "text": [
      "49\n"
     ]
    }
   ],
   "source": [
    "a=(47,32,49,53,65,77,22,33,99,19)\n",
    "print(a[-8])"
   ]
  },
  {
   "cell_type": "markdown",
   "id": "c4868a27-de20-4100-b98e-8cc2dd530f08",
   "metadata": {},
   "source": [
    "# index() method"
   ]
  },
  {
   "cell_type": "code",
   "execution_count": 23,
   "id": "99705602-6c4d-4aad-aa4e-a64405a3a0e8",
   "metadata": {},
   "outputs": [
    {
     "name": "stdout",
     "output_type": "stream",
     "text": [
      "4\n"
     ]
    }
   ],
   "source": [
    "a=(14,12,36,56,77,33,22,55,11)\n",
    "x=a.index(77)\n",
    "print(x)"
   ]
  },
  {
   "cell_type": "code",
   "execution_count": 24,
   "id": "c4502a9d-de50-4e49-9add-22c49f823ee1",
   "metadata": {},
   "outputs": [
    {
     "name": "stdout",
     "output_type": "stream",
     "text": [
      "10\n"
     ]
    }
   ],
   "source": [
    "a=(14,12,36,56,77,33,22,55,11,\"python\",\"code\",\"data\")\n",
    "x=a.index(\"code\")\n",
    "print(x)"
   ]
  },
  {
   "cell_type": "markdown",
   "id": "015ec999-0d47-48da-9944-94afaee3f515",
   "metadata": {},
   "source": [
    "# slicing in tuple"
   ]
  },
  {
   "cell_type": "code",
   "execution_count": 26,
   "id": "1ca6b111-5440-4e30-ac97-205eef63137b",
   "metadata": {},
   "outputs": [
    {
     "name": "stdout",
     "output_type": "stream",
     "text": [
      "9\n",
      "(14, 12, 36, 56, 77, 33)\n"
     ]
    }
   ],
   "source": [
    "a=(14,12,36,56,77,33,22,55,11)\n",
    "print(len(a))\n",
    "print(a[0:6])"
   ]
  },
  {
   "cell_type": "code",
   "execution_count": 28,
   "id": "b55316cb-abf6-458d-abd9-6fa45a7c0259",
   "metadata": {},
   "outputs": [
    {
     "name": "stdout",
     "output_type": "stream",
     "text": [
      "9\n",
      "(14, 12, 36, 56, 77, 33, 22, 55)\n"
     ]
    }
   ],
   "source": [
    "a=(14,12,36,56,77,33,22,55,11)\n",
    "print(len(a))\n",
    "print(a[:8])"
   ]
  },
  {
   "cell_type": "code",
   "execution_count": 29,
   "id": "a20a810c-3d78-44a7-b1fb-577b9d1df7c1",
   "metadata": {},
   "outputs": [
    {
     "name": "stdout",
     "output_type": "stream",
     "text": [
      "9\n",
      "(14, 36, 77, 22, 11)\n"
     ]
    }
   ],
   "source": [
    "a=(14,12,36,56,77,33,22,55,11)\n",
    "print(len(a))\n",
    "print(a[0::2])"
   ]
  },
  {
   "cell_type": "code",
   "execution_count": 30,
   "id": "6cb1a6bf-ea18-4f1a-99d2-1470536114ba",
   "metadata": {},
   "outputs": [
    {
     "name": "stdout",
     "output_type": "stream",
     "text": [
      "9\n",
      "(14, 56, 22)\n"
     ]
    }
   ],
   "source": [
    "a=(14,12,36,56,77,33,22,55,11)\n",
    "print(len(a))\n",
    "print(a[0::3])"
   ]
  },
  {
   "cell_type": "code",
   "execution_count": 31,
   "id": "acbde2b7-b897-478e-b9d2-4106dde5ddef",
   "metadata": {},
   "outputs": [
    {
     "name": "stdout",
     "output_type": "stream",
     "text": [
      "9\n",
      "(14, 56, 22)\n"
     ]
    }
   ],
   "source": [
    "a=(14,12,36,56,77,33,22,55,11)\n",
    "print(len(a))\n",
    "print(a[::3])"
   ]
  },
  {
   "cell_type": "code",
   "execution_count": 32,
   "id": "cea87db5-3816-462f-8528-04fa46eb5aaa",
   "metadata": {},
   "outputs": [
    {
     "name": "stdout",
     "output_type": "stream",
     "text": [
      "(11, 55, 22, 33, 77, 56, 36, 12, 14)\n"
     ]
    }
   ],
   "source": [
    "a=(14,12,36,56,77,33,22,55,11)\n",
    "print(a[::-1])"
   ]
  },
  {
   "cell_type": "markdown",
   "id": "6bbcc5f3-f845-4dde-aa7d-bdf7bcfd4fd7",
   "metadata": {},
   "source": [
    "# repetition in tuple"
   ]
  },
  {
   "cell_type": "code",
   "execution_count": 33,
   "id": "b88da458-4bc4-47b1-8f93-0c394b19debb",
   "metadata": {},
   "outputs": [
    {
     "name": "stdout",
     "output_type": "stream",
     "text": [
      "60\n"
     ]
    }
   ],
   "source": [
    "t=(20)*3\n",
    "print(t)"
   ]
  },
  {
   "cell_type": "code",
   "execution_count": 34,
   "id": "7dbcf069-0c6b-4fa7-a36f-51da8e6a8b06",
   "metadata": {},
   "outputs": [
    {
     "name": "stdout",
     "output_type": "stream",
     "text": [
      "61.67999999999999\n"
     ]
    }
   ],
   "source": [
    "t=(20.56)*3\n",
    "print(t)"
   ]
  },
  {
   "cell_type": "code",
   "execution_count": 36,
   "id": "88dcd4ac-5868-477a-bd7f-d6d1fc49e690",
   "metadata": {},
   "outputs": [
    {
     "name": "stdout",
     "output_type": "stream",
     "text": [
      "Apple Apple Apple \n"
     ]
    }
   ],
   "source": [
    "t=('Apple ')*3\n",
    "print(t)"
   ]
  },
  {
   "cell_type": "code",
   "execution_count": 37,
   "id": "97b2b618-e1ca-48fa-857d-5f1673e873d8",
   "metadata": {},
   "outputs": [
    {
     "ename": "TypeError",
     "evalue": "'tuple' object does not support item assignment",
     "output_type": "error",
     "traceback": [
      "\u001b[1;31m---------------------------------------------------------------------------\u001b[0m",
      "\u001b[1;31mTypeError\u001b[0m                                 Traceback (most recent call last)",
      "Cell \u001b[1;32mIn[37], line 2\u001b[0m\n\u001b[0;32m      1\u001b[0m t1\u001b[38;5;241m=\u001b[39m(\u001b[38;5;241m10\u001b[39m,\u001b[38;5;241m9\u001b[39m,\u001b[38;5;241m8\u001b[39m,\u001b[38;5;241m7\u001b[39m)\n\u001b[1;32m----> 2\u001b[0m \u001b[43mt1\u001b[49m\u001b[43m[\u001b[49m\u001b[38;5;241;43m1\u001b[39;49m\u001b[43m]\u001b[49m\u001b[38;5;241m=\u001b[39m\u001b[38;5;241m10\u001b[39m\n",
      "\u001b[1;31mTypeError\u001b[0m: 'tuple' object does not support item assignment"
     ]
    }
   ],
   "source": [
    "t1=(10,9,8,7)\n",
    "t1[1]=10"
   ]
  },
  {
   "cell_type": "markdown",
   "id": "5e26389f-efbb-4c6d-8a27-67d49197d9f6",
   "metadata": {},
   "source": [
    "# deleting in tiple"
   ]
  },
  {
   "cell_type": "code",
   "execution_count": 38,
   "id": "0facc8ab-4d2c-427e-80e0-0a9d6e2a3d0e",
   "metadata": {},
   "outputs": [
    {
     "ename": "NameError",
     "evalue": "name 'a' is not defined",
     "output_type": "error",
     "traceback": [
      "\u001b[1;31m---------------------------------------------------------------------------\u001b[0m",
      "\u001b[1;31mNameError\u001b[0m                                 Traceback (most recent call last)",
      "Cell \u001b[1;32mIn[38], line 3\u001b[0m\n\u001b[0;32m      1\u001b[0m a\u001b[38;5;241m=\u001b[39m(\u001b[38;5;241m1\u001b[39m,\u001b[38;5;241m2\u001b[39m,\u001b[38;5;241m3\u001b[39m,\u001b[38;5;241m4\u001b[39m,\u001b[38;5;241m5\u001b[39m,\u001b[38;5;241m6\u001b[39m,\u001b[38;5;241m7\u001b[39m)\n\u001b[0;32m      2\u001b[0m \u001b[38;5;28;01mdel\u001b[39;00m(a)\n\u001b[1;32m----> 3\u001b[0m \u001b[38;5;28mprint\u001b[39m(\u001b[43ma\u001b[49m)\n",
      "\u001b[1;31mNameError\u001b[0m: name 'a' is not defined"
     ]
    }
   ],
   "source": [
    "a=(1,2,3,4,5,6,7)\n",
    "del(a)\n",
    "print(a)"
   ]
  },
  {
   "cell_type": "markdown",
   "id": "7a9fdcf0-e32c-43a6-bfc5-0067fc0deac1",
   "metadata": {},
   "source": [
    "# tuple() method"
   ]
  },
  {
   "cell_type": "code",
   "execution_count": 39,
   "id": "58b27453-acde-4a8e-a15e-c16ce82d2565",
   "metadata": {},
   "outputs": [
    {
     "name": "stdout",
     "output_type": "stream",
     "text": [
      "(12, 15, 33, 44, 55, 66)\n",
      "<class 'tuple'>\n"
     ]
    }
   ],
   "source": [
    "b=[12,15,33,44,55,66]\n",
    "x=tuple(b)\n",
    "print(x)\n",
    "print(type(x))"
   ]
  },
  {
   "cell_type": "code",
   "execution_count": 41,
   "id": "474dee33-b00c-4ab6-83e1-fd51a935b43d",
   "metadata": {},
   "outputs": [
    {
     "name": "stdout",
     "output_type": "stream",
     "text": [
      "('rishi', 'hello', 66, 55, 44, 33, 15, 12)\n"
     ]
    }
   ],
   "source": [
    "\"\"\"Convert a list into tuple and reverse it\"\"\"\n",
    "\n",
    "b=[12,15,33,44,55,66,\"hello\",\"rishi\"]\n",
    "x=tuple(b)\n",
    "print(x[::-1])"
   ]
  },
  {
   "cell_type": "markdown",
   "id": "fb963fc6-e68a-4dc6-9ed9-32200df42bec",
   "metadata": {},
   "source": [
    "# add items in tuple"
   ]
  },
  {
   "cell_type": "code",
   "execution_count": 53,
   "id": "a903f6ec-6d56-40ad-9a1f-fd3b3139a44a",
   "metadata": {},
   "outputs": [
    {
     "name": "stdout",
     "output_type": "stream",
     "text": [
      "[12, 13, 14, 15, 16, 17]\n",
      "[12, 13, 14, 15, 16, 17, 18]\n",
      "(12, 13, 14, 15, 16, 17, 18)\n"
     ]
    }
   ],
   "source": [
    "\"\"\"Add the value 18 in the tuple\"\"\"\n",
    "\n",
    "t1=(12,13,14,15,16,17)\n",
    "l1=list(t1)\n",
    "print(l1)\n",
    "l1.append(18)\n",
    "print(l1)\n",
    "t1=tuple(l1)\n",
    "print(t1)\n",
    "\n"
   ]
  },
  {
   "cell_type": "markdown",
   "id": "8ace3d18-e310-4a6e-90d3-ae827a82f08e",
   "metadata": {},
   "source": [
    "# remove item from tuple"
   ]
  },
  {
   "cell_type": "code",
   "execution_count": 56,
   "id": "4dd956f0-6ef0-4c0f-949f-90317cfabb26",
   "metadata": {},
   "outputs": [
    {
     "name": "stdout",
     "output_type": "stream",
     "text": [
      "[12, 13, 14, 15, 16, 17]\n",
      "[12, 13, 14, 15, 17]\n",
      "(12, 13, 14, 15, 17)\n"
     ]
    }
   ],
   "source": [
    "a=(12,13,14,15,16,17)\n",
    "t2=list(a)\n",
    "print(t2)\n",
    "t2.remove(16)\n",
    "print(t2)\n",
    "t2=tuple(t2)\n",
    "print(t2)"
   ]
  },
  {
   "cell_type": "markdown",
   "id": "1ccf636a-192d-4f35-8e65-af0b516aabe3",
   "metadata": {},
   "source": [
    "# max() in tuple"
   ]
  },
  {
   "cell_type": "code",
   "execution_count": 1,
   "id": "8fcba599-f77a-4b03-b16a-c6d01976d492",
   "metadata": {},
   "outputs": [
    {
     "name": "stdout",
     "output_type": "stream",
     "text": [
      "99\n"
     ]
    }
   ],
   "source": [
    "a=(12,35,46,77,88,99)\n",
    "print(max(a))"
   ]
  },
  {
   "cell_type": "code",
   "execution_count": 3,
   "id": "83a5cba3-8cc8-4e47-9d97-7a420122ba29",
   "metadata": {},
   "outputs": [
    {
     "name": "stdout",
     "output_type": "stream",
     "text": [
      "88.25\n"
     ]
    }
   ],
   "source": [
    "a=(12.89,35.55,46,-77,88.25,-99)\n",
    "print(max(a))"
   ]
  },
  {
   "cell_type": "code",
   "execution_count": 4,
   "id": "488d01bb-0f25-4dc9-8e78-3511779c8a79",
   "metadata": {},
   "outputs": [
    {
     "name": "stdout",
     "output_type": "stream",
     "text": [
      "orange\n"
     ]
    }
   ],
   "source": [
    "a=('hello','apple','orange','brown','datascience')\n",
    "print(max(a))"
   ]
  },
  {
   "cell_type": "markdown",
   "id": "102a1139-6596-4943-841f-ddad841fe4e4",
   "metadata": {},
   "source": [
    "# min() in tuple"
   ]
  },
  {
   "cell_type": "code",
   "execution_count": 5,
   "id": "a70f6dc3-0f7b-4f55-bc1d-36fa12328df5",
   "metadata": {},
   "outputs": [
    {
     "name": "stdout",
     "output_type": "stream",
     "text": [
      "12\n"
     ]
    }
   ],
   "source": [
    "a=(12,35,46,77,88,99)\n",
    "print(min(a))"
   ]
  },
  {
   "cell_type": "code",
   "execution_count": 7,
   "id": "12cc5c29-b12d-4434-a1be-12c5b2e595d8",
   "metadata": {},
   "outputs": [
    {
     "name": "stdout",
     "output_type": "stream",
     "text": [
      "-99.15\n"
     ]
    }
   ],
   "source": [
    "a=(12.89,35.55,46,-77,88.25,-99.15)\n",
    "print(min(a))"
   ]
  },
  {
   "cell_type": "code",
   "execution_count": 8,
   "id": "67a84aee-3bf6-4925-a2b0-71b6c0a0cdde",
   "metadata": {},
   "outputs": [
    {
     "name": "stdout",
     "output_type": "stream",
     "text": [
      "apple\n"
     ]
    }
   ],
   "source": [
    "a=('hello','apple','orange','brown','datascience')\n",
    "print(min(a))"
   ]
  },
  {
   "cell_type": "markdown",
   "id": "17059a7f-e105-412a-b506-683584bb3ca3",
   "metadata": {},
   "source": [
    "# unpacking of tuple"
   ]
  },
  {
   "cell_type": "code",
   "execution_count": 9,
   "id": "914f3364-2072-4aa7-a697-f9c65d8a8fac",
   "metadata": {},
   "outputs": [
    {
     "name": "stdout",
     "output_type": "stream",
     "text": [
      "apple\n",
      "banana\n",
      "cherry\n"
     ]
    }
   ],
   "source": [
    "fruits=('apple','banana','cherry')\n",
    "(green,yellow,red)=fruits\n",
    "print(green)\n",
    "print(yellow)\n",
    "print(red)"
   ]
  },
  {
   "cell_type": "markdown",
   "id": "6bd67d6d-a225-432f-a196-638cec3ba93d",
   "metadata": {},
   "source": [
    "# using astrisk*"
   ]
  },
  {
   "cell_type": "code",
   "execution_count": 10,
   "id": "24eb0139-766f-4ed2-9713-79311350b24b",
   "metadata": {},
   "outputs": [
    {
     "name": "stdout",
     "output_type": "stream",
     "text": [
      "apple\n",
      "banana\n",
      "['cherry', 'papita', 'chiku']\n"
     ]
    }
   ],
   "source": [
    "a=('apple','banana','cherry','papita','chiku')\n",
    "(green,yellow,*red)=a\n",
    "print(green)\n",
    "print(yellow)\n",
    "print(red)"
   ]
  },
  {
   "cell_type": "code",
   "execution_count": 11,
   "id": "6c7cda2d-4b34-4072-bd9b-6f446b1484c4",
   "metadata": {},
   "outputs": [
    {
     "name": "stdout",
     "output_type": "stream",
     "text": [
      "apple\n",
      "['mango', 'papaya', 'cherry']\n",
      "strawberry\n"
     ]
    }
   ],
   "source": [
    "fruits=('apple','mango','papaya','cherry','strawberry')\n",
    "(green,*pink,red)=fruits\n",
    "print(green)\n",
    "print(pink)\n",
    "print(red)"
   ]
  },
  {
   "cell_type": "code",
   "execution_count": 16,
   "id": "86e5ab78-8174-4bb1-9db1-2e4162895a30",
   "metadata": {},
   "outputs": [
    {
     "name": "stdout",
     "output_type": "stream",
     "text": [
      "[23, 67, 54, 76, 98, 91, 34, 54, -32]\n",
      "[-32, 23, 34, 54, 54, 67, 76, 91, 98]\n",
      "(-32, 23, 34, 54, 54, 67, 76, 91, 98)\n"
     ]
    }
   ],
   "source": [
    "\"\"\"Sort a tuple\"\"\"\n",
    "\n",
    "a=(23,67,54,76,98,91,34,54,-32)\n",
    "b=list(a)\n",
    "print(b)\n",
    "b.sort()\n",
    "print(b)\n",
    "b=tuple(b)\n",
    "print(b)"
   ]
  },
  {
   "cell_type": "markdown",
   "id": "8de19044-1452-4517-a4b3-2569b859b0f8",
   "metadata": {},
   "source": [
    "# using loops in tuple"
   ]
  },
  {
   "cell_type": "code",
   "execution_count": 17,
   "id": "975f0f5a-8c61-41bf-a8df-ecf917071ee2",
   "metadata": {},
   "outputs": [
    {
     "name": "stdout",
     "output_type": "stream",
     "text": [
      "[12, 45, 76, 78, 67, 77, 88]\n",
      "(12, 45, 76, 78, 67, 77, 88)\n",
      "[-21, -32, -54, -22, -11, -55, -44]\n",
      "(-21, -32, -54, -22, -11, -55, -44)\n"
     ]
    }
   ],
   "source": [
    "\"\"\"Separate positive and negative integer from the tuple\"\"\"\n",
    "a=(12,-21,45,76,78,-32,-54,-22,-11,67,77,88,-55,-44)\n",
    "n1=[]\n",
    "n2=[]\n",
    "a=list(a)\n",
    "for i in range(len(a)):\n",
    "    if a[i]>=0:\n",
    "        n1.append(a[i])\n",
    "print(n1)\n",
    "print(tuple(n1))\n",
    "\n",
    "for i in range(len(a)):\n",
    "    if a[i]<0:\n",
    "        n2.append(a[i])\n",
    "print(n2)\n",
    "print(tuple(n2))"
   ]
  },
  {
   "cell_type": "code",
   "execution_count": 26,
   "id": "214802fe-1827-4050-b1f6-2dfc07acdd5c",
   "metadata": {},
   "outputs": [
    {
     "name": "stdout",
     "output_type": "stream",
     "text": [
      "<class 'list'>\n",
      "[[1, 2], [2, 3], [3, 4]]\n"
     ]
    }
   ],
   "source": [
    "\"\"\"original list of tuple [(1,2),(2,3),(3,4)]\n",
    "convert it into list of lists [[1,2],[2,3],[3,4]]\"\"\"\n",
    "\n",
    "a= [(1,2),(2,3),(3,4)]\n",
    "b=[]\n",
    "print(type(a))\n",
    "n1=list(a[0])\n",
    "n2=list(a[1])\n",
    "n3=list(a[2])\n",
    "b.append(n1)\n",
    "b.append(n2)\n",
    "b.append(n3)\n",
    "print(b)\n"
   ]
  },
  {
   "cell_type": "code",
   "execution_count": 28,
   "id": "99c9c0d7-a7f8-4e47-8b73-4098737374a5",
   "metadata": {},
   "outputs": [
    {
     "name": "stdout",
     "output_type": "stream",
     "text": [
      "<class 'list'>\n",
      "3\n",
      "5\n",
      "7\n",
      "[3, 5, 7]\n"
     ]
    }
   ],
   "source": [
    "\"\"\"original list of tuple [(1,2),(2,3),(3,4)]\n",
    "convert [3,5,7]\"\"\"\n",
    "\n",
    "a=[(1,2),(2,3),(3,4)]\n",
    "b=[]\n",
    "print(type(a))\n",
    "n1=a[0]\n",
    "m1=n1[0]+n1[1]\n",
    "print(m1)\n",
    "n2=a[1]\n",
    "m2=n2[0]+n2[1]\n",
    "print(m2)\n",
    "n3=a[2]\n",
    "m3=n3[0]+n3[1]\n",
    "print(m3)\n",
    "b.append(m1)\n",
    "b.append(m2)\n",
    "b.append(m3)\n",
    "print(b)"
   ]
  },
  {
   "cell_type": "code",
   "execution_count": 31,
   "id": "6b12c7e9-0bf0-43d2-98f6-05e1ff4a8302",
   "metadata": {},
   "outputs": [
    {
     "name": "stdin",
     "output_type": "stream",
     "text": [
      "Enter the number of values 3\n",
      "Enter the elements 1\n",
      "Enter the elements 2\n",
      "Enter the elements 3\n"
     ]
    },
    {
     "name": "stdout",
     "output_type": "stream",
     "text": [
      "[1, 2, 3]\n",
      "(1, 2, 3)\n"
     ]
    }
   ],
   "source": [
    "a=[]\n",
    "n=int(input('Enter the number of values'))\n",
    "for i in range(n):\n",
    "    a.append(int(input('Enter the elements')))\n",
    "print(a)\n",
    "print(tuple(a))"
   ]
  },
  {
   "cell_type": "code",
   "execution_count": null,
   "id": "d884cd61-535e-4abb-a3c5-ad5d95f7cd9d",
   "metadata": {},
   "outputs": [],
   "source": []
  },
  {
   "cell_type": "code",
   "execution_count": null,
   "id": "09ee44f2-6f3e-4f0f-bd4d-99181cf607f5",
   "metadata": {},
   "outputs": [],
   "source": []
  },
  {
   "cell_type": "code",
   "execution_count": null,
   "id": "af7c1dec-7b76-487a-8068-330ac48af3a3",
   "metadata": {},
   "outputs": [],
   "source": []
  }
 ],
 "metadata": {
  "kernelspec": {
   "display_name": "Python 3 (ipykernel)",
   "language": "python",
   "name": "python3"
  },
  "language_info": {
   "codemirror_mode": {
    "name": "ipython",
    "version": 3
   },
   "file_extension": ".py",
   "mimetype": "text/x-python",
   "name": "python",
   "nbconvert_exporter": "python",
   "pygments_lexer": "ipython3",
   "version": "3.11.5"
  }
 },
 "nbformat": 4,
 "nbformat_minor": 5
}
