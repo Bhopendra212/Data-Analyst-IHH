{
 "cells": [
  {
   "cell_type": "code",
   "execution_count": 2,
   "id": "dbf96c5a-7ad1-4b04-9488-c99cb7036c59",
   "metadata": {},
   "outputs": [],
   "source": [
    "f=open('text.txt','w')"
   ]
  },
  {
   "cell_type": "code",
   "execution_count": 3,
   "id": "ff42d667-46ce-4915-80d3-494854d2b97d",
   "metadata": {},
   "outputs": [
    {
     "data": {
      "text/plain": [
       "'C:\\\\Users\\\\HP\\\\Desktop\\\\IHH Data Analyst\\\\Python\\\\Unit 13'"
      ]
     },
     "execution_count": 3,
     "metadata": {},
     "output_type": "execute_result"
    }
   ],
   "source": [
    "pwd"
   ]
  },
  {
   "cell_type": "code",
   "execution_count": 4,
   "id": "846cf15a-c794-472e-b0b8-d13d296a856a",
   "metadata": {},
   "outputs": [
    {
     "name": "stdout",
     "output_type": "stream",
     "text": [
      " Volume in drive C has no label.\n",
      " Volume Serial Number is 8826-298C\n",
      "\n",
      " Directory of C:\\Users\\HP\\Desktop\\IHH Data Analyst\\Python\\Unit 13\n",
      "\n",
      "31-10-2023  21:39    <DIR>          .\n",
      "31-10-2023  21:39    <DIR>          ..\n",
      "31-10-2023  21:26    <DIR>          .ipynb_checkpoints\n",
      "01-11-2023  11:16                 0 text.txt\n",
      "31-10-2023  21:39            10,189 Unit 13--File Handling.ipynb\n",
      "               2 File(s)         10,189 bytes\n",
      "               3 Dir(s)  160,697,110,528 bytes free\n"
     ]
    }
   ],
   "source": [
    "ls"
   ]
  },
  {
   "cell_type": "code",
   "execution_count": 5,
   "id": "87ca3ce6-6ceb-4333-8739-0479d3fd2b3c",
   "metadata": {},
   "outputs": [
    {
     "data": {
      "text/plain": [
       "22"
      ]
     },
     "execution_count": 5,
     "metadata": {},
     "output_type": "execute_result"
    }
   ],
   "source": [
    "f.write(\"This is the first file\")"
   ]
  },
  {
   "cell_type": "code",
   "execution_count": 6,
   "id": "3571a486-8b8f-4079-81fe-fe606e44d2cb",
   "metadata": {},
   "outputs": [],
   "source": [
    "f.close()"
   ]
  },
  {
   "cell_type": "code",
   "execution_count": 7,
   "id": "4e89abff-9d69-4f17-a6e7-eeabed3e1455",
   "metadata": {},
   "outputs": [],
   "source": [
    "f=open('text.txt','w')"
   ]
  },
  {
   "cell_type": "code",
   "execution_count": 15,
   "id": "98f8e81e-e01e-4db9-889c-a69ea4ad21ab",
   "metadata": {},
   "outputs": [
    {
     "data": {
      "text/plain": [
       "23"
      ]
     },
     "execution_count": 15,
     "metadata": {},
     "output_type": "execute_result"
    }
   ],
   "source": [
    "f.write('This is the second file')"
   ]
  },
  {
   "cell_type": "code",
   "execution_count": 8,
   "id": "9eaabc4c-3d3b-4c37-853a-5f401775e6e7",
   "metadata": {},
   "outputs": [],
   "source": [
    "f.close()"
   ]
  },
  {
   "cell_type": "code",
   "execution_count": 9,
   "id": "0c0d584e-09fc-425b-b925-1387b02d074b",
   "metadata": {},
   "outputs": [],
   "source": [
    "f=open('test.txt','a')"
   ]
  },
  {
   "cell_type": "code",
   "execution_count": 10,
   "id": "5d8a4918-caa3-4482-bea5-5c7d6e416118",
   "metadata": {},
   "outputs": [],
   "source": [
    "f.close()"
   ]
  },
  {
   "cell_type": "code",
   "execution_count": 11,
   "id": "b96a115c-e5cb-45b9-802c-eac276064564",
   "metadata": {},
   "outputs": [],
   "source": [
    "f=open('text.txt','a')"
   ]
  },
  {
   "cell_type": "code",
   "execution_count": 12,
   "id": "0bfd1147-265a-44c9-b51e-a27e22b4a95b",
   "metadata": {},
   "outputs": [
    {
     "data": {
      "text/plain": [
       "770"
      ]
     },
     "execution_count": 12,
     "metadata": {},
     "output_type": "execute_result"
    }
   ],
   "source": [
    "f.write(\"The term data science has been traced back to 1974, when Peter Naur proposed it as an alternative name to computer science.[6] In 1996, the International Federation of Classification Societies became the first conference to specifically feature data science as a topic.[6] However, the definition was still in flux. After the 1985 lecture at the Chinese Academy of Sciences in Beijing, in 1997 C. F. Jeff Wu again suggested that statistics should be renamed data science. He reasoned that a new name would help statistics shed inaccurate stereotypes, such as being synonymous with accounting or limited to describing data.[24] In 1998, Hayashi Chikio argued for data science as a new, interdisciplinary concept, with three aspects: data design, collection, and analysis.\")"
   ]
  },
  {
   "cell_type": "code",
   "execution_count": 13,
   "id": "8a69c1e6-6cdf-4e4a-851b-971493f66b67",
   "metadata": {},
   "outputs": [],
   "source": [
    "f.close()"
   ]
  },
  {
   "cell_type": "code",
   "execution_count": 14,
   "id": "61c9d220-f0ed-431c-833a-a4dd46a1a0ca",
   "metadata": {},
   "outputs": [],
   "source": [
    "f=open('text.txt','r')"
   ]
  },
  {
   "cell_type": "code",
   "execution_count": 15,
   "id": "db997d87-d5ba-4c09-9cd8-9f217124f0dc",
   "metadata": {},
   "outputs": [
    {
     "data": {
      "text/plain": [
       "'The term data science has been traced back to 1974, when Peter Naur proposed it as an alternative name to computer science.[6] In 1996, the International Federation of Classification Societies became the first conference to specifically feature data science as a topic.[6] However, the definition was still in flux. After the 1985 lecture at the Chinese Academy of Sciences in Beijing, in 1997 C. F. Jeff Wu again suggested that statistics should be renamed data science. He reasoned that a new name would help statistics shed inaccurate stereotypes, such as being synonymous with accounting or limited to describing data.[24] In 1998, Hayashi Chikio argued for data science as a new, interdisciplinary concept, with three aspects: data design, collection, and analysis.'"
      ]
     },
     "execution_count": 15,
     "metadata": {},
     "output_type": "execute_result"
    }
   ],
   "source": [
    "f.read()"
   ]
  },
  {
   "cell_type": "code",
   "execution_count": 16,
   "id": "fca3b54b-ace0-49a8-a328-4eff5d76afa5",
   "metadata": {},
   "outputs": [
    {
     "data": {
      "text/plain": [
       "''"
      ]
     },
     "execution_count": 16,
     "metadata": {},
     "output_type": "execute_result"
    }
   ],
   "source": [
    "f.readline()"
   ]
  },
  {
   "cell_type": "code",
   "execution_count": 17,
   "id": "219731db-28d7-42f6-9393-9df6f1ac4cc6",
   "metadata": {},
   "outputs": [
    {
     "data": {
      "text/plain": [
       "0"
      ]
     },
     "execution_count": 17,
     "metadata": {},
     "output_type": "execute_result"
    }
   ],
   "source": [
    "f.seek(0)"
   ]
  },
  {
   "cell_type": "code",
   "execution_count": 18,
   "id": "c42a17ea-2045-4670-b273-5f0491be0042",
   "metadata": {},
   "outputs": [
    {
     "data": {
      "text/plain": [
       "'The term data science has been traced back to 1974, when Peter Naur proposed it as an alternative name to computer science.[6] In 1996, the International Federation of Classification Societies became the first conference to specifically feature data science as a topic.[6] However, the definition was still in flux. After the 1985 lecture at the Chinese Academy of Sciences in Beijing, in 1997 C. F. Jeff Wu again suggested that statistics should be renamed data science. He reasoned that a new name would help statistics shed inaccurate stereotypes, such as being synonymous with accounting or limited to describing data.[24] In 1998, Hayashi Chikio argued for data science as a new, interdisciplinary concept, with three aspects: data design, collection, and analysis.'"
      ]
     },
     "execution_count": 18,
     "metadata": {},
     "output_type": "execute_result"
    }
   ],
   "source": [
    "f.readline()"
   ]
  },
  {
   "cell_type": "code",
   "execution_count": 19,
   "id": "c0419410-ddba-4b1f-8d56-c281cad927a6",
   "metadata": {},
   "outputs": [
    {
     "data": {
      "text/plain": [
       "5"
      ]
     },
     "execution_count": 19,
     "metadata": {},
     "output_type": "execute_result"
    }
   ],
   "source": [
    "f.seek(5)"
   ]
  },
  {
   "cell_type": "code",
   "execution_count": 20,
   "id": "67c141ea-95ea-4e50-b6a6-489d06a45707",
   "metadata": {},
   "outputs": [
    {
     "data": {
      "text/plain": [
       "'erm data science has been traced back to 1974, when Peter Naur proposed it as an alternative name to computer science.[6] In 1996, the International Federation of Classification Societies became the first conference to specifically feature data science as a topic.[6] However, the definition was still in flux. After the 1985 lecture at the Chinese Academy of Sciences in Beijing, in 1997 C. F. Jeff Wu again suggested that statistics should be renamed data science. He reasoned that a new name would help statistics shed inaccurate stereotypes, such as being synonymous with accounting or limited to describing data.[24] In 1998, Hayashi Chikio argued for data science as a new, interdisciplinary concept, with three aspects: data design, collection, and analysis.'"
      ]
     },
     "execution_count": 20,
     "metadata": {},
     "output_type": "execute_result"
    }
   ],
   "source": [
    "f.readline()"
   ]
  },
  {
   "cell_type": "code",
   "execution_count": 21,
   "id": "cd5208b9-36ea-4772-91b7-7e35e42cf53a",
   "metadata": {},
   "outputs": [],
   "source": [
    "import os"
   ]
  },
  {
   "cell_type": "code",
   "execution_count": 22,
   "id": "10a90b8d-961f-45a6-9cbc-e294eb780e79",
   "metadata": {},
   "outputs": [
    {
     "data": {
      "text/plain": [
       "770"
      ]
     },
     "execution_count": 22,
     "metadata": {},
     "output_type": "execute_result"
    }
   ],
   "source": [
    "os.path.getsize('text.txt')"
   ]
  },
  {
   "cell_type": "code",
   "execution_count": 23,
   "id": "ff556056-23e5-4a22-b80e-3148933b47b8",
   "metadata": {},
   "outputs": [],
   "source": [
    "os.remove('test.txt')"
   ]
  },
  {
   "cell_type": "code",
   "execution_count": 26,
   "id": "9b75be80-570e-4781-869e-0788bc4b30cf",
   "metadata": {},
   "outputs": [],
   "source": [
    "f.close()"
   ]
  },
  {
   "cell_type": "code",
   "execution_count": 27,
   "id": "f84b5837-b7d5-436d-89fe-7425fb44deab",
   "metadata": {},
   "outputs": [],
   "source": [
    "os.remove('text.txt')"
   ]
  },
  {
   "cell_type": "code",
   "execution_count": 28,
   "id": "972e6ff0-a46d-48fc-b4e8-6e9d05f4b994",
   "metadata": {},
   "outputs": [],
   "source": [
    "f=open('test.txt','w')"
   ]
  },
  {
   "cell_type": "code",
   "execution_count": 29,
   "id": "3581e5ad-fcba-42ed-b9ea-93c5aa52e9ec",
   "metadata": {},
   "outputs": [
    {
     "data": {
      "text/plain": [
       "47"
      ]
     },
     "execution_count": 29,
     "metadata": {},
     "output_type": "execute_result"
    }
   ],
   "source": [
    "f.write('This is the python class and am enjoying python')"
   ]
  },
  {
   "cell_type": "code",
   "execution_count": 30,
   "id": "2f47c8ba-5d70-49eb-adde-a02ce2d68e8f",
   "metadata": {},
   "outputs": [],
   "source": [
    "f.close()"
   ]
  },
  {
   "cell_type": "code",
   "execution_count": 31,
   "id": "6e2e3870-9cd4-4b22-bbed-4d38f5f28b7b",
   "metadata": {},
   "outputs": [],
   "source": [
    "os.rename('test.txt','new.txt')"
   ]
  },
  {
   "cell_type": "code",
   "execution_count": 32,
   "id": "153c40f4-fdeb-42cb-8b90-1e4c79c4f7d7",
   "metadata": {},
   "outputs": [],
   "source": [
    "import shutil"
   ]
  },
  {
   "cell_type": "code",
   "execution_count": 33,
   "id": "7fe18461-2a2e-4109-b93a-80f78aa6a1e5",
   "metadata": {},
   "outputs": [
    {
     "data": {
      "text/plain": [
       "'copy_new.txt'"
      ]
     },
     "execution_count": 33,
     "metadata": {},
     "output_type": "execute_result"
    }
   ],
   "source": [
    "shutil.copy('new.txt','copy_new.txt')"
   ]
  },
  {
   "cell_type": "code",
   "execution_count": 34,
   "id": "1f455d23-2909-47dc-8461-0daf99a13065",
   "metadata": {},
   "outputs": [],
   "source": [
    "f.close()"
   ]
  },
  {
   "cell_type": "markdown",
   "id": "9a850605-0f36-45aa-9f4f-626fb64787e5",
   "metadata": {},
   "source": [
    "# reading and writing files"
   ]
  },
  {
   "cell_type": "code",
   "execution_count": 35,
   "id": "8eae9165-3987-47f3-b13f-b6eb46eb1e36",
   "metadata": {},
   "outputs": [],
   "source": [
    "data={ 'name':'Rishi',\n",
    "      'email':'rishi@gmail.com',\n",
    "      'phone_number':987654321,\n",
    "      'subject':['english','hindi','science']\n",
    "    }"
   ]
  },
  {
   "cell_type": "code",
   "execution_count": 36,
   "id": "f97a06c4-81bc-4f14-aaa0-3a00b82228de",
   "metadata": {},
   "outputs": [],
   "source": [
    "import json"
   ]
  },
  {
   "cell_type": "code",
   "execution_count": 37,
   "id": "007d9452-755f-4e8d-a4e8-ebe3767c2109",
   "metadata": {},
   "outputs": [],
   "source": [
    "with open('data.json','w') as f:\n",
    "    json.dump(data,f)"
   ]
  },
  {
   "cell_type": "code",
   "execution_count": 38,
   "id": "0d39884c-0309-4ad0-890a-c782e5ab2792",
   "metadata": {},
   "outputs": [],
   "source": [
    "with open('data.json','r') as f:\n",
    "    data1=json.load(f)"
   ]
  },
  {
   "cell_type": "code",
   "execution_count": 39,
   "id": "1bc55ac8-3b16-497e-bd39-7f6ec1de096f",
   "metadata": {},
   "outputs": [
    {
     "data": {
      "text/plain": [
       "{'name': 'Rishi',\n",
       " 'email': 'rishi@gmail.com',\n",
       " 'phone_number': 987654321,\n",
       " 'subject': ['english', 'hindi', 'science']}"
      ]
     },
     "execution_count": 39,
     "metadata": {},
     "output_type": "execute_result"
    }
   ],
   "source": [
    "data1"
   ]
  },
  {
   "cell_type": "code",
   "execution_count": 40,
   "id": "364f92fd-ce2c-4d28-875f-017f051773f0",
   "metadata": {},
   "outputs": [
    {
     "data": {
      "text/plain": [
       "'hindi'"
      ]
     },
     "execution_count": 40,
     "metadata": {},
     "output_type": "execute_result"
    }
   ],
   "source": [
    "data1['subject'][1]"
   ]
  },
  {
   "cell_type": "markdown",
   "id": "5730bb9f-c1e5-4a73-90c5-c446aa3598b6",
   "metadata": {},
   "source": [
    "# csv file format"
   ]
  },
  {
   "cell_type": "code",
   "execution_count": 41,
   "id": "605a9afd-7479-4afe-9e1a-bf699ad1349c",
   "metadata": {},
   "outputs": [],
   "source": [
    "import csv"
   ]
  },
  {
   "cell_type": "code",
   "execution_count": 42,
   "id": "a2ffb475-f6e6-4ddf-94b4-c655d87c0494",
   "metadata": {},
   "outputs": [],
   "source": [
    "data= [['name','email_id','phone_number'],\n",
    "      ['swati','swati@gmail.com',1234567890],\n",
    "      ['Rakhi','rakhi@gmail.com',987654321]]"
   ]
  },
  {
   "cell_type": "code",
   "execution_count": 43,
   "id": "84a095ac-76b4-4f5e-bf96-63814a2e9a99",
   "metadata": {},
   "outputs": [],
   "source": [
    "with open('data.csv','w') as f:\n",
    "    writer= csv.writer(f)\n",
    "    for i in data:\n",
    "        writer.writerow(i)"
   ]
  },
  {
   "cell_type": "code",
   "execution_count": 44,
   "id": "ae95fc7d-b50e-4d97-82cd-1e9791e7d553",
   "metadata": {},
   "outputs": [
    {
     "name": "stdout",
     "output_type": "stream",
     "text": [
      "['name', 'email_id', 'phone_number']\n",
      "[]\n",
      "['swati', 'swati@gmail.com', '1234567890']\n",
      "[]\n",
      "['Rakhi', 'rakhi@gmail.com', '987654321']\n",
      "[]\n"
     ]
    }
   ],
   "source": [
    "with open('data.csv','r') as f:\n",
    "    read_data = csv.reader(f)\n",
    "    for i in read_data:\n",
    "        print(i)"
   ]
  },
  {
   "cell_type": "code",
   "execution_count": 45,
   "id": "3651e42b-7f84-499d-a7c3-e98cbfe54052",
   "metadata": {},
   "outputs": [],
   "source": [
    "f.close()"
   ]
  },
  {
   "cell_type": "code",
   "execution_count": null,
   "id": "7925814d-bcb3-4068-a253-a14ade2c31b8",
   "metadata": {},
   "outputs": [],
   "source": []
  },
  {
   "cell_type": "code",
   "execution_count": null,
   "id": "d83e41c3-32e6-447f-9e44-cb71aa545b62",
   "metadata": {},
   "outputs": [],
   "source": []
  },
  {
   "cell_type": "code",
   "execution_count": null,
   "id": "55f7ae4f-3b26-41ac-b380-e9ce05bad769",
   "metadata": {},
   "outputs": [],
   "source": []
  },
  {
   "cell_type": "code",
   "execution_count": null,
   "id": "2dde4ffc-0a63-45cb-85f9-3e7f5f8a570c",
   "metadata": {},
   "outputs": [],
   "source": []
  },
  {
   "cell_type": "code",
   "execution_count": null,
   "id": "a5ae7a77-1c7f-4d4c-99f7-6ccfa4a4e92c",
   "metadata": {},
   "outputs": [],
   "source": []
  },
  {
   "cell_type": "code",
   "execution_count": null,
   "id": "7ad649fd-8aa3-4781-9c59-7e27b7ce9fcc",
   "metadata": {},
   "outputs": [],
   "source": []
  },
  {
   "cell_type": "code",
   "execution_count": null,
   "id": "4d02b133-d0bc-431b-9a7c-9844e10929fb",
   "metadata": {},
   "outputs": [],
   "source": []
  },
  {
   "cell_type": "code",
   "execution_count": null,
   "id": "536772f9-26f2-402b-a34d-9a80f3e57baa",
   "metadata": {},
   "outputs": [],
   "source": []
  },
  {
   "cell_type": "code",
   "execution_count": null,
   "id": "b8dfbc0b-ebbb-4538-9b39-8ee730ed1348",
   "metadata": {},
   "outputs": [],
   "source": []
  },
  {
   "cell_type": "code",
   "execution_count": null,
   "id": "6b6da019-428a-4509-aa8e-193ae3f7a900",
   "metadata": {},
   "outputs": [],
   "source": []
  },
  {
   "cell_type": "code",
   "execution_count": null,
   "id": "b1666f51-bc35-45f8-a42c-550e13ce833e",
   "metadata": {},
   "outputs": [],
   "source": []
  },
  {
   "cell_type": "code",
   "execution_count": null,
   "id": "ba409733-e416-462b-ae07-f1006a15d05d",
   "metadata": {},
   "outputs": [],
   "source": []
  },
  {
   "cell_type": "code",
   "execution_count": null,
   "id": "4300b3a0-29b5-4258-8893-f3f570fae5ae",
   "metadata": {},
   "outputs": [],
   "source": []
  },
  {
   "cell_type": "code",
   "execution_count": null,
   "id": "862501c0-309e-40c9-ad1b-be81cbc03c46",
   "metadata": {},
   "outputs": [],
   "source": []
  },
  {
   "cell_type": "code",
   "execution_count": null,
   "id": "062fc159-6b06-485e-8d47-35d3c9355352",
   "metadata": {},
   "outputs": [],
   "source": []
  },
  {
   "cell_type": "code",
   "execution_count": null,
   "id": "1a483c53-17ed-4454-b05b-7261b7961842",
   "metadata": {},
   "outputs": [],
   "source": []
  },
  {
   "cell_type": "code",
   "execution_count": null,
   "id": "d5281267-018c-4a72-a1b2-4a095c22896a",
   "metadata": {},
   "outputs": [],
   "source": []
  }
 ],
 "metadata": {
  "kernelspec": {
   "display_name": "Python 3 (ipykernel)",
   "language": "python",
   "name": "python3"
  },
  "language_info": {
   "codemirror_mode": {
    "name": "ipython",
    "version": 3
   },
   "file_extension": ".py",
   "mimetype": "text/x-python",
   "name": "python",
   "nbconvert_exporter": "python",
   "pygments_lexer": "ipython3",
   "version": "3.11.5"
  }
 },
 "nbformat": 4,
 "nbformat_minor": 5
}
