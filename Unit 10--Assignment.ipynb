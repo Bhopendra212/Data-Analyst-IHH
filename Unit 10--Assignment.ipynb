{
 "cells": [
  {
   "cell_type": "markdown",
   "id": "d26a58bb-3dfa-4e18-aff0-833dba15ed4f",
   "metadata": {},
   "source": [
    "# question 1:- write a python program to create an intersection of sets\n",
    "# input-{'green','blue'}\n",
    "# input-{'blue','yellow'}\n",
    "# output{'blue'}"
   ]
  },
  {
   "cell_type": "code",
   "execution_count": 2,
   "id": "0e001bf1-f1a3-4585-b30e-3f3c90109adb",
   "metadata": {},
   "outputs": [
    {
     "name": "stdout",
     "output_type": "stream",
     "text": [
      "{'blue'}\n"
     ]
    }
   ],
   "source": [
    "a={'green','blue'}\n",
    "b={'blue','yellow'}\n",
    "c=a.intersection(b)\n",
    "print(c)"
   ]
  },
  {
   "cell_type": "markdown",
   "id": "00d664a6-fdb7-4d91-80b1-3c3390de3314",
   "metadata": {},
   "source": [
    "# question 2:- write a python program to create a union of sets\n",
    "# input-{'green','blue'}\n",
    "# input-{'blue','yellow'}\n",
    "# output{'blue','yellow','green'}"
   ]
  },
  {
   "cell_type": "code",
   "execution_count": 3,
   "id": "8bf99354-6c6b-4c54-9e13-2a56e5993f35",
   "metadata": {},
   "outputs": [
    {
     "name": "stdout",
     "output_type": "stream",
     "text": [
      "{'yellow', 'blue', 'green'}\n"
     ]
    }
   ],
   "source": [
    "a={'green','blue'}\n",
    "b={'blue','yellow'}\n",
    "c=a.union(b)\n",
    "print(c)"
   ]
  },
  {
   "cell_type": "markdown",
   "id": "dc92e2b6-9fde-4a98-9502-34be95241358",
   "metadata": {},
   "source": [
    "# question 3:- write a python program to remove all the elements from a given set\n",
    "# input-{'green','black','red','white'}\n",
    "# output-set()"
   ]
  },
  {
   "cell_type": "code",
   "execution_count": 7,
   "id": "c61b78dd-8a48-49d5-a44b-6e7df93ef861",
   "metadata": {},
   "outputs": [
    {
     "name": "stdout",
     "output_type": "stream",
     "text": [
      "{'black', 'red', 'green', 'white'}\n",
      "set()\n"
     ]
    }
   ],
   "source": [
    "x={'green','black','red','white'}\n",
    "print(x)\n",
    "x.clear()\n",
    "print(x)"
   ]
  },
  {
   "cell_type": "markdown",
   "id": "ab80b904-a649-4e27-bd02-230573acfafe",
   "metadata": {},
   "source": [
    "# question 4:- python program to count number of vowels using sets in given string\n",
    "# str=\"helloeveryone\"\n",
    "# output-no. of vowels=6"
   ]
  },
  {
   "cell_type": "code",
   "execution_count": 12,
   "id": "e4ed117a-5d68-40a2-81c4-c3eaad9a6f0b",
   "metadata": {},
   "outputs": [],
   "source": [
    "def vowel_count(str):\n",
    "    count=0\n",
    "    vowel=set('aeiouAEIOU')\n",
    "    for i in str:\n",
    "        if i in vowel:\n",
    "            count+=1\n",
    "    print(\"no. of vowels:\",count)\n",
    "\n",
    "str=\"helloeveryone\""
   ]
  },
  {
   "cell_type": "code",
   "execution_count": 13,
   "id": "d1df8da6-3e06-4a87-8798-2ce465e5314b",
   "metadata": {},
   "outputs": [
    {
     "name": "stdout",
     "output_type": "stream",
     "text": [
      "no. of vowels: 6\n"
     ]
    }
   ],
   "source": [
    "vowel_count(str)"
   ]
  },
  {
   "cell_type": "markdown",
   "id": "f31202ca-9aab-4f75-b8e3-c4c60c90dfc0",
   "metadata": {},
   "source": [
    "# question 5:-find the elements in a given set that are not in another set\n",
    "# input-{1,2,3,4,5}and {4,5,6,7,8}\n",
    "# difference of s1 and s2 using difference():\n",
    "# {1,2,3}\n",
    "# diference of s2 and s1 using difference():\n",
    "# {8,6,7}\n",
    "# difference of s1 and s2 using - operator:\n",
    "# {1,2,3}\n",
    "# difference of s2 and s1 using - operator\n",
    "# {8,6,7}"
   ]
  },
  {
   "cell_type": "code",
   "execution_count": 15,
   "id": "d6b1f2d9-8e81-4b4d-a4d2-79ea496860ff",
   "metadata": {},
   "outputs": [
    {
     "name": "stdout",
     "output_type": "stream",
     "text": [
      "original sets:\n",
      "{1, 2, 3, 4, 5}\n",
      "{4, 5, 6, 7, 8}\n",
      "difference of s1 and s2 using difference():\n",
      "{1, 2, 3}\n",
      "difference of s2 and s1 using difference():\n",
      "{8, 6, 7}\n",
      "difference of s1 and s2 using - operator:\n",
      "{1, 2, 3}\n",
      "difference of s2 and s1 using - operator:\n",
      "{8, 6, 7}\n"
     ]
    }
   ],
   "source": [
    "s1={1,2,3,4,5}\n",
    "s2={4,5,6,7,8}\n",
    "print('original sets:')\n",
    "print(s1)\n",
    "print(s2)\n",
    "print(\"difference of s1 and s2 using difference():\")\n",
    "print(s1.difference(s2))\n",
    "print(\"difference of s2 and s1 using difference():\")\n",
    "print(s2.difference(s1))\n",
    "print(\"difference of s1 and s2 using - operator:\")\n",
    "print(s1-s2)\n",
    "print(\"difference of s2 and s1 using - operator:\")\n",
    "print(s2-s1)"
   ]
  },
  {
   "cell_type": "markdown",
   "id": "4907c07f-9033-48ee-8bfc-ebdb8d8d1e4a",
   "metadata": {},
   "source": [
    "# question 6:- write a python program to add members to a set\n",
    "# Input- set()\n",
    "# output- Add single element:\n",
    "# {'red'}\n",
    "# Add multiple items:\n",
    "# {'red','green','blue'}"
   ]
  },
  {
   "cell_type": "code",
   "execution_count": 17,
   "id": "4aa4a633-669c-42c6-8a62-4c528f7a61a9",
   "metadata": {},
   "outputs": [
    {
     "name": "stdout",
     "output_type": "stream",
     "text": [
      "set()\n",
      "Add single element:\n",
      "{'red'}\n",
      "Add multiple element:\n",
      "{'blue', 'green', 'red'}\n"
     ]
    }
   ],
   "source": [
    "color_set= set()\n",
    "print(color_set)\n",
    "print('Add single element:')\n",
    "color_set.add('red')\n",
    "print(color_set)\n",
    "print('Add multiple element:')\n",
    "color_set.update(['green','blue'])\n",
    "print(color_set)"
   ]
  },
  {
   "cell_type": "markdown",
   "id": "7884eda2-fd87-40cf-bf80-086f1f51a036",
   "metadata": {},
   "source": [
    "# question 7:- check if two given sets have no elements in common\n",
    "# input-{1,2,3,4}\n",
    "# {4,5,6,7}\n",
    "# {8}\n",
    "# output- Confirm two given sets have no elements in common\n",
    "# compare x and y:\n",
    "# False\n",
    "# compare x and z:\n",
    "# True\n",
    "# compare y and z:\n",
    "# True"
   ]
  },
  {
   "cell_type": "code",
   "execution_count": 18,
   "id": "fe620f9e-6db1-40fd-a6a8-4f10c8f92311",
   "metadata": {},
   "outputs": [
    {
     "name": "stdout",
     "output_type": "stream",
     "text": [
      "original set elements:\n",
      "{1, 2, 3, 4}\n",
      "{4, 5, 6, 7}\n",
      "{8}\n",
      "Confirm two given sets  have no elements in common:\n",
      "compare x and y:\n",
      "False\n",
      "compare x and z:\n",
      "True\n",
      "compare y and z\n",
      "True\n"
     ]
    }
   ],
   "source": [
    "x={1,2,3,4}\n",
    "y={4,5,6,7}\n",
    "z={8}\n",
    "print('original set elements:')\n",
    "print(x)\n",
    "print(y)\n",
    "print(z)\n",
    "print(\"Confirm two given sets  have no elements in common:\")\n",
    "print(\"compare x and y:\")\n",
    "print(x.isdisjoint(y))\n",
    "print(\"compare x and z:\")\n",
    "print(x.isdisjoint(z))\n",
    "print(\"compare y and z\")\n",
    "print(y.isdisjoint(z))"
   ]
  },
  {
   "cell_type": "markdown",
   "id": "68f222bd-01c6-4bd3-aadc-8141738a9653",
   "metadata": {},
   "source": [
    "# question 8:- write a python program to  find the  maximum and minimum value in set.\n",
    "# input-{2,3,20,5,10,15}\n",
    "# output - maximum value of the set :\n",
    "# 20\n",
    "# minimum value of the set:\n",
    "# 2"
   ]
  },
  {
   "cell_type": "code",
   "execution_count": 20,
   "id": "8a9fae6a-925d-43f6-a180-4cb1e7b81a35",
   "metadata": {},
   "outputs": [
    {
     "name": "stdout",
     "output_type": "stream",
     "text": [
      "original set elements :\n",
      "{2, 3, 20, 5, 10, 15}\n",
      "maximum value in the set:\n",
      "20\n",
      "minimum value in the set:\n",
      "2\n"
     ]
    }
   ],
   "source": [
    "s={2,3,20,5,10,15}\n",
    "print(\"original set elements :\")\n",
    "print(s)\n",
    "print(\"maximum value in the set:\")\n",
    "print(max(s))\n",
    "print(\"minimum value in the set:\")\n",
    "print(min(s))"
   ]
  },
  {
   "cell_type": "code",
   "execution_count": null,
   "id": "c01ae5de-8fdc-4b5a-811e-07af88e8c90b",
   "metadata": {},
   "outputs": [],
   "source": []
  },
  {
   "cell_type": "code",
   "execution_count": null,
   "id": "9533d35c-51e8-41ad-b187-fe2db1de989d",
   "metadata": {},
   "outputs": [],
   "source": []
  },
  {
   "cell_type": "code",
   "execution_count": null,
   "id": "90b82ddc-c711-475e-9ca7-b5a7795ebcef",
   "metadata": {},
   "outputs": [],
   "source": []
  },
  {
   "cell_type": "code",
   "execution_count": null,
   "id": "5286f9a1-0116-4584-81b2-f8e302b21f9b",
   "metadata": {},
   "outputs": [],
   "source": []
  }
 ],
 "metadata": {
  "kernelspec": {
   "display_name": "Python 3 (ipykernel)",
   "language": "python",
   "name": "python3"
  },
  "language_info": {
   "codemirror_mode": {
    "name": "ipython",
    "version": 3
   },
   "file_extension": ".py",
   "mimetype": "text/x-python",
   "name": "python",
   "nbconvert_exporter": "python",
   "pygments_lexer": "ipython3",
   "version": "3.11.5"
  }
 },
 "nbformat": 4,
 "nbformat_minor": 5
}
