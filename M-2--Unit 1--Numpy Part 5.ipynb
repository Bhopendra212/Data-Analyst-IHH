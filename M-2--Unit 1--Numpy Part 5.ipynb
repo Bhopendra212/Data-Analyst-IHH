{
 "cells": [
  {
   "cell_type": "markdown",
   "id": "9caa0b12-a3ee-4655-9c4c-8987b3cb1a4e",
   "metadata": {},
   "source": [
    "# iterating in array"
   ]
  },
  {
   "cell_type": "markdown",
   "id": "766b9c98-a378-45e6-abe6-454cef856cf4",
   "metadata": {},
   "source": [
    "# 1D array"
   ]
  },
  {
   "cell_type": "code",
   "execution_count": 6,
   "id": "33599f04-42e5-4f22-b882-5a6a254cdc1b",
   "metadata": {},
   "outputs": [
    {
     "name": "stdout",
     "output_type": "stream",
     "text": [
      "[1 2 3 4]\n",
      "1\n",
      "\n",
      "1\n",
      "2\n",
      "3\n",
      "4\n"
     ]
    }
   ],
   "source": [
    "import numpy as np\n",
    "a=np.array([1,2,3,4])\n",
    "print(a)\n",
    "print(a.ndim)\n",
    "print()\n",
    "for i in a:\n",
    "    print(i)\n"
   ]
  },
  {
   "cell_type": "markdown",
   "id": "b7d69728-debd-4d6f-8565-c5a64fc0e4cc",
   "metadata": {},
   "source": [
    "# 2D array"
   ]
  },
  {
   "cell_type": "code",
   "execution_count": 9,
   "id": "2487026a-d507-494d-9a8b-ea3583bad2dc",
   "metadata": {},
   "outputs": [
    {
     "name": "stdout",
     "output_type": "stream",
     "text": [
      "[[1 2 3 4]\n",
      " [5 6 7 8]]\n",
      "2\n",
      "\n",
      "1\n",
      "2\n",
      "3\n",
      "4\n",
      "5\n",
      "6\n",
      "7\n",
      "8\n"
     ]
    }
   ],
   "source": [
    "x=np.array([[1,2,3,4],[5,6,7,8]])\n",
    "print(x)\n",
    "print(x.ndim)\n",
    "print()\n",
    "for i in x:\n",
    "    for j in i:\n",
    "        print(j)"
   ]
  },
  {
   "cell_type": "markdown",
   "id": "42cf1df8-c392-4c48-8f6e-6e2dc69f1f3c",
   "metadata": {},
   "source": [
    "# 3D array"
   ]
  },
  {
   "cell_type": "code",
   "execution_count": 12,
   "id": "ce7429e0-0633-4730-bcdb-c150356d9dd2",
   "metadata": {},
   "outputs": [
    {
     "name": "stdout",
     "output_type": "stream",
     "text": [
      "[[[ 1  2  3  4]\n",
      "  [ 5  6  7  8]\n",
      "  [ 9 10 11 12]]]\n",
      "3\n",
      "\n",
      "1\n",
      "2\n",
      "3\n",
      "4\n",
      "5\n",
      "6\n",
      "7\n",
      "8\n",
      "9\n",
      "10\n",
      "11\n",
      "12\n"
     ]
    }
   ],
   "source": [
    "x=np.array([[[1,2,3,4],[5,6,7,8],[9,10,11,12]]])\n",
    "print(x)\n",
    "print(x.ndim)\n",
    "print()\n",
    "for i in x:\n",
    "    for j in i:\n",
    "        for k in j:\n",
    "            print(k)"
   ]
  },
  {
   "cell_type": "markdown",
   "id": "793d2d5c-4b74-4b7a-a838-a8e941e6f09d",
   "metadata": {},
   "source": [
    "# nditer function"
   ]
  },
  {
   "cell_type": "code",
   "execution_count": 16,
   "id": "de905461-cac4-4e40-8ff3-e44e45565ea8",
   "metadata": {},
   "outputs": [
    {
     "name": "stdout",
     "output_type": "stream",
     "text": [
      "[[[ 1  2  3  4]\n",
      "  [ 5  6  7  8]\n",
      "  [ 9 10 11 12]]]\n",
      "3\n",
      "\n",
      "1\n",
      "2\n",
      "3\n",
      "4\n",
      "5\n",
      "6\n",
      "7\n",
      "8\n",
      "9\n",
      "10\n",
      "11\n",
      "12\n"
     ]
    }
   ],
   "source": [
    "x=np.array([[[1,2,3,4],[5,6,7,8],[9,10,11,12]]])\n",
    "print(x)\n",
    "print(x.ndim)\n",
    "print()\n",
    "for i in np.nditer(x):\n",
    "    print(i)"
   ]
  },
  {
   "cell_type": "code",
   "execution_count": 17,
   "id": "ae17ce33-0ec5-419d-9a32-56f489f8eea4",
   "metadata": {},
   "outputs": [
    {
     "name": "stdout",
     "output_type": "stream",
     "text": [
      "[[[ 1  2  3  4]\n",
      "  [ 5  6  7  8]\n",
      "  [ 9 10 11 12]]]\n",
      "3\n",
      "\n",
      "b'1'\n",
      "b'2'\n",
      "b'3'\n",
      "b'4'\n",
      "b'5'\n",
      "b'6'\n",
      "b'7'\n",
      "b'8'\n",
      "b'9'\n",
      "b'10'\n",
      "b'11'\n",
      "b'12'\n"
     ]
    }
   ],
   "source": [
    "x=np.array([[[1,2,3,4],[5,6,7,8],[9,10,11,12]]])\n",
    "print(x)\n",
    "print(x.ndim)\n",
    "print()\n",
    "for i in np.nditer(x,flags=['buffered'],op_dtypes=['S']):\n",
    "    print(i)"
   ]
  },
  {
   "cell_type": "markdown",
   "id": "4cbf57c8-ca3d-4afd-a57c-bb77019f0872",
   "metadata": {},
   "source": [
    "# ndenumerate function -- gives the index position of the elements also"
   ]
  },
  {
   "cell_type": "code",
   "execution_count": 18,
   "id": "e279bcd8-0231-4610-aa31-bc7642bef7ff",
   "metadata": {},
   "outputs": [
    {
     "name": "stdout",
     "output_type": "stream",
     "text": [
      "((0, 0, 0), 1)\n",
      "((0, 0, 1), 2)\n",
      "((0, 0, 2), 3)\n",
      "((0, 0, 3), 4)\n",
      "((0, 1, 0), 5)\n",
      "((0, 1, 1), 6)\n",
      "((0, 1, 2), 7)\n",
      "((0, 1, 3), 8)\n",
      "((0, 2, 0), 9)\n",
      "((0, 2, 1), 10)\n",
      "((0, 2, 2), 11)\n",
      "((0, 2, 3), 12)\n"
     ]
    }
   ],
   "source": [
    "x=np.array([[[1,2,3,4],[5,6,7,8],[9,10,11,12]]])\n",
    "for i in np.ndenumerate(x):\n",
    "    print(i)"
   ]
  },
  {
   "cell_type": "code",
   "execution_count": 20,
   "id": "29f48903-2e3a-4f88-a66f-0382c83ff4e9",
   "metadata": {},
   "outputs": [
    {
     "name": "stdout",
     "output_type": "stream",
     "text": [
      "[[[[2 5 6 7]\n",
      "   [8 9 5 6]\n",
      "   [2 3 5 6]]]]\n",
      "4\n",
      "\n",
      "((0, 0, 0, 0), 2)\n",
      "((0, 0, 0, 1), 5)\n",
      "((0, 0, 0, 2), 6)\n",
      "((0, 0, 0, 3), 7)\n",
      "((0, 0, 1, 0), 8)\n",
      "((0, 0, 1, 1), 9)\n",
      "((0, 0, 1, 2), 5)\n",
      "((0, 0, 1, 3), 6)\n",
      "((0, 0, 2, 0), 2)\n",
      "((0, 0, 2, 1), 3)\n",
      "((0, 0, 2, 2), 5)\n",
      "((0, 0, 2, 3), 6)\n"
     ]
    }
   ],
   "source": [
    "x=np.array([[[[2,5,6,7],[8,9,5,6],[2,3,5,6]]]])\n",
    "print(x)\n",
    "print(x.ndim)\n",
    "print()\n",
    "for i in np.ndenumerate(x):\n",
    "    print(i)\n"
   ]
  },
  {
   "cell_type": "markdown",
   "id": "05599159-b2dc-45f2-af41-c589449fff33",
   "metadata": {},
   "source": [
    "# copy vs view  in numpy array"
   ]
  },
  {
   "cell_type": "code",
   "execution_count": 21,
   "id": "a308e327-4de0-4779-9089-0a6a03c73702",
   "metadata": {},
   "outputs": [
    {
     "name": "stdout",
     "output_type": "stream",
     "text": [
      "[1 2 3 4 5 6]\n",
      "\n",
      "[1 2 3 4 5 6]\n"
     ]
    }
   ],
   "source": [
    "x=np.array([1,2,3,4,5,6])\n",
    "v=x.view()\n",
    "print(v)\n",
    "print()\n",
    "print(x)"
   ]
  },
  {
   "cell_type": "code",
   "execution_count": 22,
   "id": "1bf89f2d-bc9e-4958-9f54-5059da7e829e",
   "metadata": {},
   "outputs": [
    {
     "name": "stdout",
     "output_type": "stream",
     "text": [
      "[ 1  2  3 56  5  6]\n",
      "\n",
      "[ 1  2  3 56  5  6]\n"
     ]
    }
   ],
   "source": [
    "x=np.array([1,2,3,4,5,6])\n",
    "v=x.view()\n",
    "x[3]=56\n",
    "print(v)\n",
    "print()\n",
    "print(x)"
   ]
  },
  {
   "cell_type": "code",
   "execution_count": 24,
   "id": "24957365-8725-439d-886d-ade74cfc314b",
   "metadata": {},
   "outputs": [
    {
     "name": "stdout",
     "output_type": "stream",
     "text": [
      "[1 2 3 4 5 6]\n",
      "\n",
      "[ 1  2  3 85  5  6]\n"
     ]
    }
   ],
   "source": [
    "x=np.array([1,2,3,4,5,6])\n",
    "v=x.copy()\n",
    "x[3]=85\n",
    "print(v)\n",
    "print()\n",
    "print(x)"
   ]
  },
  {
   "cell_type": "code",
   "execution_count": 26,
   "id": "3cfa5c51-4278-4af2-afe0-bab36e60209d",
   "metadata": {},
   "outputs": [
    {
     "name": "stdout",
     "output_type": "stream",
     "text": [
      "[ 1  2  3 85  5  6]\n",
      "\n",
      "[1 2 3 4 5 6]\n"
     ]
    }
   ],
   "source": [
    "x=np.array([1,2,3,4,5,6])\n",
    "v=x.copy()\n",
    "v[3]=85\n",
    "print(v)\n",
    "print()\n",
    "print(x)"
   ]
  },
  {
   "cell_type": "markdown",
   "id": "2bb11a88-e0e2-4dd2-8e83-d1cbb9623622",
   "metadata": {},
   "source": [
    "# join array"
   ]
  },
  {
   "cell_type": "markdown",
   "id": "f28b4479-b5de-472d-9aaa-a8e20ebef359",
   "metadata": {},
   "source": [
    "# concatenate function"
   ]
  },
  {
   "cell_type": "code",
   "execution_count": 31,
   "id": "99783b35-7002-41a6-a572-8545d473412c",
   "metadata": {},
   "outputs": [
    {
     "name": "stdout",
     "output_type": "stream",
     "text": [
      "[1 2 3 4]\n",
      "\n",
      "[5 6 7 8]\n",
      "\n",
      "[1 2 3 4 5 6 7 8]\n"
     ]
    }
   ],
   "source": [
    "x=np.array([1,2,3,4])\n",
    "x1=np.array([5,6,7,8])\n",
    "v=np.concatenate((x,x1))\n",
    "print(x)\n",
    "print()\n",
    "print(x1)\n",
    "print()\n",
    "print(v)"
   ]
  },
  {
   "cell_type": "code",
   "execution_count": 33,
   "id": "8fcc38b2-2e73-46ce-ba7e-e1fbf2ffc4ef",
   "metadata": {},
   "outputs": [
    {
     "name": "stdout",
     "output_type": "stream",
     "text": [
      "[[ 5  0 15 20]\n",
      " [ 3  6  8  1]]\n",
      "\n",
      "[[ 1  2  3  4]\n",
      " [56 67 87 43]]\n",
      "\n",
      "[[ 5  0 15 20  1  2  3  4]\n",
      " [ 3  6  8  1 56 67 87 43]]\n"
     ]
    }
   ],
   "source": [
    "x=np.array([[5,0,15,20],[3,6,8,1]])\n",
    "x1=np.array([[1,2,3,4],[56,67,87,43]])\n",
    "print(x)\n",
    "print()\n",
    "print(x1)\n",
    "print()\n",
    "v=np.concatenate((x,x1), axis=1)\n",
    "print(v)"
   ]
  },
  {
   "cell_type": "code",
   "execution_count": 34,
   "id": "b1aa7e58-9760-4dc5-8a04-f268b40dc165",
   "metadata": {},
   "outputs": [
    {
     "name": "stdout",
     "output_type": "stream",
     "text": [
      "[[ 5  0 15 20]\n",
      " [ 3  6  8  1]]\n",
      "\n",
      "[[ 1  2  3  4]\n",
      " [56 67 87 43]]\n",
      "\n",
      "[[ 5  0 15 20]\n",
      " [ 3  6  8  1]\n",
      " [ 1  2  3  4]\n",
      " [56 67 87 43]]\n"
     ]
    }
   ],
   "source": [
    "x=np.array([[5,0,15,20],[3,6,8,1]])\n",
    "x1=np.array([[1,2,3,4],[56,67,87,43]])\n",
    "print(x)\n",
    "print()\n",
    "print(x1)\n",
    "print()\n",
    "v=np.concatenate((x,x1), axis=0)\n",
    "print(v)"
   ]
  },
  {
   "cell_type": "markdown",
   "id": "ed6cb756-8afc-4cbb-981a-5bfa03b36d47",
   "metadata": {},
   "source": [
    "# hstack,vstack and dstack function"
   ]
  },
  {
   "cell_type": "code",
   "execution_count": 40,
   "id": "2b62541d-e22c-4c1c-9099-1f096003498a",
   "metadata": {},
   "outputs": [
    {
     "name": "stdout",
     "output_type": "stream",
     "text": [
      "[1 2 3 4]\n",
      "\n",
      "[5 6 7 8]\n",
      "\n",
      "[100 200 300 400]\n",
      "\n",
      "[  1   2   3   4   5   6   7   8 100 200 300 400]\n",
      "\n",
      "[[  1   2   3   4]\n",
      " [  5   6   7   8]\n",
      " [100 200 300 400]]\n",
      "\n",
      "[[[  1   5 100]\n",
      "  [  2   6 200]\n",
      "  [  3   7 300]\n",
      "  [  4   8 400]]]\n"
     ]
    }
   ],
   "source": [
    "x=np.array([1,2,3,4])\n",
    "x1=np.array([5,6,7,8])\n",
    "x2=np.array([100,200,300,400])\n",
    "print(x)\n",
    "print()\n",
    "print(x1)\n",
    "print()\n",
    "print(x2)\n",
    "print()\n",
    "v=np.hstack((x,x1,x2))\n",
    "print(v)\n",
    "print()\n",
    "m=np.vstack((x,x1,x2))\n",
    "print(m)\n",
    "print()\n",
    "p=np.dstack((x,x1,x2))\n",
    "print(p)"
   ]
  },
  {
   "cell_type": "code",
   "execution_count": null,
   "id": "3f8016c3-b4a7-482f-97ee-80a0bf421ef3",
   "metadata": {},
   "outputs": [],
   "source": []
  }
 ],
 "metadata": {
  "kernelspec": {
   "display_name": "Python 3 (ipykernel)",
   "language": "python",
   "name": "python3"
  },
  "language_info": {
   "codemirror_mode": {
    "name": "ipython",
    "version": 3
   },
   "file_extension": ".py",
   "mimetype": "text/x-python",
   "name": "python",
   "nbconvert_exporter": "python",
   "pygments_lexer": "ipython3",
   "version": "3.11.5"
  }
 },
 "nbformat": 4,
 "nbformat_minor": 5
}
