{
 "cells": [
  {
   "cell_type": "code",
   "execution_count": 1,
   "id": "02486035-e3bf-4ee7-9bfd-9cdf45bb99a5",
   "metadata": {},
   "outputs": [],
   "source": [
    "import numpy"
   ]
  },
  {
   "cell_type": "code",
   "execution_count": 2,
   "id": "bf4c509d-cf87-4cea-8aca-c37814378918",
   "metadata": {},
   "outputs": [],
   "source": [
    "import numpy as np"
   ]
  },
  {
   "cell_type": "code",
   "execution_count": 3,
   "id": "5e8bf12b-d11f-4d0d-9fad-75de374a8a88",
   "metadata": {},
   "outputs": [
    {
     "name": "stdout",
     "output_type": "stream",
     "text": [
      "[1 2 3 4 5 6]\n"
     ]
    }
   ],
   "source": [
    "x=np.array([1,2,3,4,5,6])\n",
    "print(x)"
   ]
  },
  {
   "cell_type": "code",
   "execution_count": 4,
   "id": "5444d1a1-ca8a-4177-8cb2-100df657c523",
   "metadata": {},
   "outputs": [
    {
     "name": "stdout",
     "output_type": "stream",
     "text": [
      "<class 'numpy.ndarray'>\n"
     ]
    }
   ],
   "source": [
    "print(type(x))"
   ]
  },
  {
   "cell_type": "code",
   "execution_count": 5,
   "id": "a37bba5e-51af-4c98-acd4-08a24e0c3027",
   "metadata": {},
   "outputs": [
    {
     "name": "stdout",
     "output_type": "stream",
     "text": [
      "[1, 2, 3, 4, 5, 6]\n",
      "<class 'list'>\n"
     ]
    }
   ],
   "source": [
    "l=[1,2,3,4,5,6]\n",
    "print(l)\n",
    "print(type(l))"
   ]
  },
  {
   "cell_type": "markdown",
   "id": "d433962e-5ac2-4b3d-b2f5-008798758d5e",
   "metadata": {},
   "source": [
    "# array is faster than list"
   ]
  },
  {
   "cell_type": "code",
   "execution_count": 6,
   "id": "97945f87-e670-49c9-a6d6-db9a760f4cd2",
   "metadata": {},
   "outputs": [
    {
     "name": "stdout",
     "output_type": "stream",
     "text": [
      "2.3 µs ± 31.3 ns per loop (mean ± std. dev. of 7 runs, 100,000 loops each)\n"
     ]
    }
   ],
   "source": [
    "%timeit [i**5 for i in range(1,10)]"
   ]
  },
  {
   "cell_type": "code",
   "execution_count": 7,
   "id": "72073c2a-acad-43b0-a469-dcf9fa0ae618",
   "metadata": {},
   "outputs": [],
   "source": [
    "import numpy as np"
   ]
  },
  {
   "cell_type": "code",
   "execution_count": 9,
   "id": "9a0e237c-0d34-44de-91b1-8ba11365c853",
   "metadata": {},
   "outputs": [
    {
     "name": "stdout",
     "output_type": "stream",
     "text": [
      "4.78 µs ± 41.9 ns per loop (mean ± std. dev. of 7 runs, 100,000 loops each)\n"
     ]
    }
   ],
   "source": [
    "%timeit np.arange(1,10)**5"
   ]
  },
  {
   "cell_type": "code",
   "execution_count": 10,
   "id": "cb025cf8-4bb1-4f3b-a413-e32c568c3762",
   "metadata": {},
   "outputs": [
    {
     "name": "stdout",
     "output_type": "stream",
     "text": [
      "4.87 µs ± 39.6 ns per loop (mean ± std. dev. of 7 runs, 100,000 loops each)\n"
     ]
    }
   ],
   "source": [
    "%timeit np.arange(1,10)**5"
   ]
  },
  {
   "cell_type": "markdown",
   "id": "972dfa2b-a9f7-49d1-9388-5dcb0cb6e021",
   "metadata": {},
   "source": [
    "# creating NUMPY array"
   ]
  },
  {
   "cell_type": "code",
   "execution_count": 11,
   "id": "dcb3bb23-717b-472b-b719-7312c975060a",
   "metadata": {},
   "outputs": [
    {
     "name": "stdout",
     "output_type": "stream",
     "text": [
      "[1 2 3]\n"
     ]
    }
   ],
   "source": [
    "import numpy as rishi\n",
    "x=rishi.array([1,2,3])\n",
    "print(x)"
   ]
  },
  {
   "cell_type": "code",
   "execution_count": 12,
   "id": "d1811703-2dd5-4fe4-9c30-6f75e5963d32",
   "metadata": {},
   "outputs": [
    {
     "name": "stdout",
     "output_type": "stream",
     "text": [
      "[1 2 3]\n"
     ]
    }
   ],
   "source": [
    "import numpy as rishi\n",
    "x=np.array([1,2,3])\n",
    "print(x)"
   ]
  },
  {
   "cell_type": "code",
   "execution_count": 13,
   "id": "f52f6bf2-d7a1-4dc7-be2a-b69f3166bf5d",
   "metadata": {},
   "outputs": [
    {
     "name": "stdout",
     "output_type": "stream",
     "text": [
      "[1 2 3]\n"
     ]
    }
   ],
   "source": [
    "import numpy as ola\n",
    "x=np.array([1,2,3])\n",
    "print(x)"
   ]
  },
  {
   "cell_type": "code",
   "execution_count": 18,
   "id": "32219939-04f1-48be-891f-faf5b912b43a",
   "metadata": {},
   "outputs": [
    {
     "name": "stdout",
     "output_type": "stream",
     "text": [
      "[11 22 33]\n",
      "<class 'numpy.ndarray'>\n",
      "1\n"
     ]
    }
   ],
   "source": [
    "import numpy as np\n",
    "x=np.array([11,22,33])\n",
    "print(x)\n",
    "print(type(x))\n",
    "print(x.ndim)"
   ]
  },
  {
   "cell_type": "code",
   "execution_count": 16,
   "id": "990cd6d5-1949-4bf3-b657-af164c10c455",
   "metadata": {},
   "outputs": [
    {
     "name": "stdout",
     "output_type": "stream",
     "text": [
      "[[11 22 33]]\n",
      "<class 'numpy.ndarray'>\n",
      "2\n"
     ]
    }
   ],
   "source": [
    "import numpy as np\n",
    "x=np.array([[11,22,33]])\n",
    "print(x)\n",
    "print(type(x))\n",
    "print(x.ndim)"
   ]
  },
  {
   "cell_type": "code",
   "execution_count": 17,
   "id": "f2ef8f56-29ff-49eb-80cf-48c2a6f63d1f",
   "metadata": {},
   "outputs": [
    {
     "name": "stdout",
     "output_type": "stream",
     "text": [
      "[[[11 22 33]]]\n",
      "<class 'numpy.ndarray'>\n",
      "3\n"
     ]
    }
   ],
   "source": [
    "import numpy as np\n",
    "x=np.array([[[11,22,33]]])\n",
    "print(x)\n",
    "print(type(x))\n",
    "print(x.ndim)"
   ]
  },
  {
   "cell_type": "code",
   "execution_count": 21,
   "id": "9c154a5b-b8ce-47d3-b2fc-ca389638239a",
   "metadata": {},
   "outputs": [
    {
     "name": "stdin",
     "output_type": "stream",
     "text": [
      "Enter number 1\n",
      "Enter number 2\n",
      "Enter number 3\n",
      "Enter number 4\n",
      "Enter number 5\n"
     ]
    },
    {
     "name": "stdout",
     "output_type": "stream",
     "text": [
      "['1' '2' '3' '4' '5']\n",
      "<class 'numpy.ndarray'>\n"
     ]
    }
   ],
   "source": [
    "import numpy as np\n",
    "m=[]\n",
    "for i in range(5):\n",
    "    num=input('Enter number')\n",
    "    m.append(num)\n",
    "\n",
    "y=np.array(m)\n",
    "print(y)\n",
    "print(type(y))"
   ]
  },
  {
   "cell_type": "markdown",
   "id": "1703e4d1-1684-40c2-ae0c-af91747380a3",
   "metadata": {},
   "source": [
    "# creating 2D array"
   ]
  },
  {
   "cell_type": "code",
   "execution_count": 22,
   "id": "8de4ac7b-bd6c-4a26-bc29-a8b6a5d1130a",
   "metadata": {},
   "outputs": [
    {
     "name": "stdout",
     "output_type": "stream",
     "text": [
      "[[ 1  2  3  4]\n",
      " [ 5  6  7  8]\n",
      " [11 22 33 44]]\n",
      "2\n"
     ]
    }
   ],
   "source": [
    "ar2=np.array([[1,2,3,4],[5,6,7,8],[11,22,33,44]])\n",
    "print(ar2)\n",
    "print(ar2.ndim)"
   ]
  },
  {
   "cell_type": "code",
   "execution_count": 24,
   "id": "d04a9ee5-2ce4-4937-80a9-691d67226955",
   "metadata": {},
   "outputs": [
    {
     "name": "stdout",
     "output_type": "stream",
     "text": [
      "[[ 1  2  3  4]\n",
      " [ 5  6  7  8]\n",
      " [11 22 33 55]]\n",
      "2\n"
     ]
    }
   ],
   "source": [
    "ar2=np.array([[1,2,3,4],[5,6,7,8],[11,22,33,55]])\n",
    "print(ar2)\n",
    "print(ar2.ndim)"
   ]
  },
  {
   "cell_type": "code",
   "execution_count": 25,
   "id": "a11805b1-6e5d-4167-980f-b42134796160",
   "metadata": {},
   "outputs": [
    {
     "name": "stdout",
     "output_type": "stream",
     "text": [
      "[[ 1  2  3  4  5  6  7]\n",
      " [ 5  6  7  8  9 10 21]\n",
      " [11 22 33 55 66 77 88]]\n",
      "2\n"
     ]
    }
   ],
   "source": [
    "ar2=np.array([[1,2,3,4,5,6,7],[5,6,7,8,9,10,21],[11,22,33,55,66,77,88]])\n",
    "print(ar2)\n",
    "print(ar2.ndim)"
   ]
  },
  {
   "cell_type": "markdown",
   "id": "f73cb7b7-0dab-464d-9905-e59d987fc36f",
   "metadata": {},
   "source": [
    "# creating a 3D array"
   ]
  },
  {
   "cell_type": "code",
   "execution_count": 26,
   "id": "01d17ee2-4817-4bee-9a0f-c8e78fabbdbe",
   "metadata": {},
   "outputs": [
    {
     "name": "stdout",
     "output_type": "stream",
     "text": [
      "[[[ 1  2  3  4]\n",
      "  [ 4  5  6  7]\n",
      "  [ 7  8  9 10]]]\n",
      "3\n"
     ]
    }
   ],
   "source": [
    "ar3=np.array([[[1,2,3,4],[4,5,6,7],[7,8,9,10]]])\n",
    "print(ar3)\n",
    "print(ar3.ndim)"
   ]
  },
  {
   "cell_type": "markdown",
   "id": "d201517c-6a9a-4a0d-a064-150aeb24186b",
   "metadata": {},
   "source": [
    "# creating a multidimensional array"
   ]
  },
  {
   "cell_type": "code",
   "execution_count": 28,
   "id": "30785e4e-7f4e-4a9f-a6bb-30ef1cbcb090",
   "metadata": {},
   "outputs": [
    {
     "name": "stdout",
     "output_type": "stream",
     "text": [
      "[[[[[[[[[[[[[[[1 2 3 4]]]]]]]]]]]]]]]\n",
      "15\n"
     ]
    }
   ],
   "source": [
    "arn=np.array([1,2,3,4],ndmin=15)\n",
    "print(arn)\n",
    "print(arn.ndim)"
   ]
  },
  {
   "cell_type": "code",
   "execution_count": 30,
   "id": "5d437495-9b35-4589-9ee7-9e248e072096",
   "metadata": {},
   "outputs": [
    {
     "name": "stdout",
     "output_type": "stream",
     "text": [
      "[[[[[[[[[[[[[[[[[[[[[[[[[1 2 3 4]\n",
      "                        [5 6 7 8]]]]]]]]]]]]]]]]]]]]]]]]]\n",
      "25\n"
     ]
    }
   ],
   "source": [
    "arn=np.array(([1,2,3,4],[5,6,7,8]),ndmin=25)\n",
    "print(arn)\n",
    "print(arn.ndim)"
   ]
  },
  {
   "cell_type": "code",
   "execution_count": null,
   "id": "d8ff74a7-ea7e-47e3-ac8c-6c37b0f95c94",
   "metadata": {},
   "outputs": [],
   "source": []
  },
  {
   "cell_type": "code",
   "execution_count": null,
   "id": "2335ac14-d1aa-4196-88fb-20337c74122e",
   "metadata": {},
   "outputs": [],
   "source": []
  },
  {
   "cell_type": "code",
   "execution_count": null,
   "id": "298f23b5-57c1-46dd-b823-e75261e861be",
   "metadata": {},
   "outputs": [],
   "source": []
  },
  {
   "cell_type": "code",
   "execution_count": null,
   "id": "d956cef0-0fda-4647-97f9-8725f4b64388",
   "metadata": {},
   "outputs": [],
   "source": []
  },
  {
   "cell_type": "code",
   "execution_count": null,
   "id": "a4761e2a-c797-4910-b857-2f7ad684853a",
   "metadata": {},
   "outputs": [],
   "source": []
  },
  {
   "cell_type": "code",
   "execution_count": null,
   "id": "442fe88a-5cb9-470d-b2f6-24b96efe31cb",
   "metadata": {},
   "outputs": [],
   "source": []
  },
  {
   "cell_type": "code",
   "execution_count": null,
   "id": "678ddaa9-44e7-4e6c-adae-514b2e70714a",
   "metadata": {},
   "outputs": [],
   "source": []
  },
  {
   "cell_type": "code",
   "execution_count": null,
   "id": "2d3b7b6a-51c0-4bfb-b3d5-20f15dc9e74d",
   "metadata": {},
   "outputs": [],
   "source": []
  },
  {
   "cell_type": "code",
   "execution_count": null,
   "id": "5009fc07-5d09-4c00-9f50-e455a4a70bff",
   "metadata": {},
   "outputs": [],
   "source": []
  },
  {
   "cell_type": "code",
   "execution_count": null,
   "id": "cacb91bf-a6e0-4740-9f7d-90434b570c9e",
   "metadata": {},
   "outputs": [],
   "source": []
  },
  {
   "cell_type": "code",
   "execution_count": null,
   "id": "d27e9ad0-4676-41d5-a01e-b1995c670d3f",
   "metadata": {},
   "outputs": [],
   "source": []
  },
  {
   "cell_type": "code",
   "execution_count": null,
   "id": "48f8f8df-dfe9-46c2-8fc2-98d69fdaf354",
   "metadata": {},
   "outputs": [],
   "source": []
  },
  {
   "cell_type": "code",
   "execution_count": null,
   "id": "b302456d-4026-4418-aa2c-9054c91a595b",
   "metadata": {},
   "outputs": [],
   "source": []
  },
  {
   "cell_type": "code",
   "execution_count": null,
   "id": "dedf4653-de8f-4e99-a12b-2797fbbde7bb",
   "metadata": {},
   "outputs": [],
   "source": []
  },
  {
   "cell_type": "code",
   "execution_count": null,
   "id": "af5474eb-484d-430a-9301-fd0263eed4be",
   "metadata": {},
   "outputs": [],
   "source": []
  },
  {
   "cell_type": "code",
   "execution_count": null,
   "id": "66342fcb-c80a-4b2f-a99e-bebee2ace447",
   "metadata": {},
   "outputs": [],
   "source": []
  },
  {
   "cell_type": "code",
   "execution_count": null,
   "id": "ad7ba835-c698-45db-8316-87cfa98195a6",
   "metadata": {},
   "outputs": [],
   "source": []
  },
  {
   "cell_type": "code",
   "execution_count": null,
   "id": "ffdbdca4-339b-4436-8aca-3c609891c759",
   "metadata": {},
   "outputs": [],
   "source": []
  },
  {
   "cell_type": "code",
   "execution_count": null,
   "id": "55e92a44-c626-46da-8b37-084d000783d6",
   "metadata": {},
   "outputs": [],
   "source": []
  },
  {
   "cell_type": "code",
   "execution_count": null,
   "id": "a136db67-519b-4b35-bfcc-b3be91c2c121",
   "metadata": {},
   "outputs": [],
   "source": []
  },
  {
   "cell_type": "code",
   "execution_count": null,
   "id": "67ebc604-ec86-4714-961c-ced82f3a4a57",
   "metadata": {},
   "outputs": [],
   "source": []
  },
  {
   "cell_type": "code",
   "execution_count": null,
   "id": "06581165-046f-4df2-8087-590e7edf50a1",
   "metadata": {},
   "outputs": [],
   "source": []
  },
  {
   "cell_type": "code",
   "execution_count": null,
   "id": "d4723505-aa19-4a2a-90fe-a2ef0a1d4d37",
   "metadata": {},
   "outputs": [],
   "source": []
  },
  {
   "cell_type": "code",
   "execution_count": null,
   "id": "7c980e08-ac7d-4f2e-8de2-8dd2a10eecdc",
   "metadata": {},
   "outputs": [],
   "source": []
  },
  {
   "cell_type": "code",
   "execution_count": null,
   "id": "10ec0d97-2f23-4da3-a791-f53be26e3d26",
   "metadata": {},
   "outputs": [],
   "source": []
  },
  {
   "cell_type": "code",
   "execution_count": null,
   "id": "9397d5d7-a58d-4ae5-a598-cf6b265a7bf4",
   "metadata": {},
   "outputs": [],
   "source": []
  },
  {
   "cell_type": "code",
   "execution_count": null,
   "id": "67b095a6-b2ee-475f-aaa9-221ea7475293",
   "metadata": {},
   "outputs": [],
   "source": []
  },
  {
   "cell_type": "code",
   "execution_count": null,
   "id": "75530c2f-2e3b-41b0-9bc7-8f33007dc5c7",
   "metadata": {},
   "outputs": [],
   "source": []
  },
  {
   "cell_type": "code",
   "execution_count": null,
   "id": "733942c0-0474-4bbd-b91a-eb43db0afc86",
   "metadata": {},
   "outputs": [],
   "source": []
  }
 ],
 "metadata": {
  "kernelspec": {
   "display_name": "Python 3 (ipykernel)",
   "language": "python",
   "name": "python3"
  },
  "language_info": {
   "codemirror_mode": {
    "name": "ipython",
    "version": 3
   },
   "file_extension": ".py",
   "mimetype": "text/x-python",
   "name": "python",
   "nbconvert_exporter": "python",
   "pygments_lexer": "ipython3",
   "version": "3.11.5"
  }
 },
 "nbformat": 4,
 "nbformat_minor": 5
}
