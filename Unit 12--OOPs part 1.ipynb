{
 "cells": [
  {
   "cell_type": "code",
   "execution_count": 1,
   "id": "7fb46eb5-2288-4683-a65c-b1f9272083ef",
   "metadata": {},
   "outputs": [],
   "source": [
    "a=3"
   ]
  },
  {
   "cell_type": "code",
   "execution_count": 2,
   "id": "f0c57d29-aede-46e6-bb89-5801fc9ab95d",
   "metadata": {},
   "outputs": [
    {
     "name": "stdout",
     "output_type": "stream",
     "text": [
      "<class 'int'>\n"
     ]
    }
   ],
   "source": [
    "print(type(a))"
   ]
  },
  {
   "cell_type": "code",
   "execution_count": 3,
   "id": "4acaf43c-831d-45e0-8a75-9f7973519c14",
   "metadata": {},
   "outputs": [
    {
     "name": "stdout",
     "output_type": "stream",
     "text": [
      "<class 'str'>\n",
      "datascience\n"
     ]
    }
   ],
   "source": [
    "b='datascience'\n",
    "print(type(b))\n",
    "print(b)"
   ]
  },
  {
   "cell_type": "code",
   "execution_count": 4,
   "id": "d1fbdaa1-16b1-477a-b372-ee66e74af1bf",
   "metadata": {},
   "outputs": [],
   "source": [
    "class test:\n",
    "    pass"
   ]
  },
  {
   "cell_type": "code",
   "execution_count": 5,
   "id": "b6811068-6b48-45d5-9a07-ce6ba1841bf8",
   "metadata": {},
   "outputs": [],
   "source": [
    "a=test()"
   ]
  },
  {
   "cell_type": "code",
   "execution_count": 6,
   "id": "f42d546e-4146-4d98-a6c9-97a3f3fc8dd4",
   "metadata": {},
   "outputs": [
    {
     "data": {
      "text/plain": [
       "__main__.test"
      ]
     },
     "execution_count": 6,
     "metadata": {},
     "output_type": "execute_result"
    }
   ],
   "source": [
    "type(a)"
   ]
  },
  {
   "cell_type": "code",
   "execution_count": 7,
   "id": "346afe1a-ce46-40e3-8c5f-5ffb9d4fb2cb",
   "metadata": {},
   "outputs": [],
   "source": [
    "class ihh:\n",
    "    def welcome_msg():\n",
    "        print('Welcome to ihh')"
   ]
  },
  {
   "cell_type": "code",
   "execution_count": 8,
   "id": "5d94ec70-768c-4abc-896e-593e8da1cf99",
   "metadata": {},
   "outputs": [],
   "source": [
    "rahul=ihh()"
   ]
  },
  {
   "cell_type": "code",
   "execution_count": 9,
   "id": "a5f1ee88-d10e-4015-b192-bbd0b6d2fc62",
   "metadata": {},
   "outputs": [
    {
     "ename": "TypeError",
     "evalue": "ihh.welcome_msg() takes 0 positional arguments but 1 was given",
     "output_type": "error",
     "traceback": [
      "\u001b[1;31m---------------------------------------------------------------------------\u001b[0m",
      "\u001b[1;31mTypeError\u001b[0m                                 Traceback (most recent call last)",
      "Cell \u001b[1;32mIn[9], line 1\u001b[0m\n\u001b[1;32m----> 1\u001b[0m \u001b[43mrahul\u001b[49m\u001b[38;5;241;43m.\u001b[39;49m\u001b[43mwelcome_msg\u001b[49m\u001b[43m(\u001b[49m\u001b[43m)\u001b[49m\n",
      "\u001b[1;31mTypeError\u001b[0m: ihh.welcome_msg() takes 0 positional arguments but 1 was given"
     ]
    }
   ],
   "source": [
    "rahul.welcome_msg()"
   ]
  },
  {
   "cell_type": "code",
   "execution_count": 10,
   "id": "86131e7e-85fb-4d36-af23-0bcac801dff9",
   "metadata": {},
   "outputs": [],
   "source": [
    "class ihh:\n",
    "    def welcome_msg(self):\n",
    "        print('Welcome to ihh')"
   ]
  },
  {
   "cell_type": "code",
   "execution_count": 11,
   "id": "df50260b-8680-4704-8970-6d675d8a3433",
   "metadata": {},
   "outputs": [],
   "source": [
    "rahul=ihh()"
   ]
  },
  {
   "cell_type": "code",
   "execution_count": 12,
   "id": "5f565b6c-29f8-4b4f-8ab2-b6d5ff232834",
   "metadata": {},
   "outputs": [
    {
     "name": "stdout",
     "output_type": "stream",
     "text": [
      "Welcome to ihh\n"
     ]
    }
   ],
   "source": [
    "rahul.welcome_msg()"
   ]
  },
  {
   "cell_type": "code",
   "execution_count": null,
   "id": "36730ed6-5a10-4dbe-a471-e3d1188206b1",
   "metadata": {},
   "outputs": [],
   "source": [
    "gautam=ihh()"
   ]
  },
  {
   "cell_type": "code",
   "execution_count": 14,
   "id": "4fcb1596-397d-4a0a-ac73-6edee9932a77",
   "metadata": {},
   "outputs": [
    {
     "name": "stdout",
     "output_type": "stream",
     "text": [
      "Welcome to ihh\n"
     ]
    }
   ],
   "source": [
    "gautam.welcome_msg()"
   ]
  },
  {
   "cell_type": "code",
   "execution_count": 15,
   "id": "588cae86-3013-4314-8298-a46524eddfdc",
   "metadata": {},
   "outputs": [],
   "source": [
    "class ihh:\n",
    "    def welcome_msg():\n",
    "        print('Welcome to ihh')\n",
    "    def python_class(self):\n",
    "        print('Hello students this is your python class')"
   ]
  },
  {
   "cell_type": "code",
   "execution_count": 16,
   "id": "d96ba8ba-8ea9-4583-8d10-7af926095fc4",
   "metadata": {},
   "outputs": [],
   "source": [
    "obj=ihh()"
   ]
  },
  {
   "cell_type": "code",
   "execution_count": 18,
   "id": "7c6593d2-653b-4ea5-b9b0-2f3176cd8618",
   "metadata": {},
   "outputs": [
    {
     "name": "stdout",
     "output_type": "stream",
     "text": [
      "Hello students this is your python class\n"
     ]
    }
   ],
   "source": [
    "obj.python_class()"
   ]
  },
  {
   "cell_type": "markdown",
   "id": "727fe1d5-0500-45f1-824d-d2022e111394",
   "metadata": {},
   "source": [
    "# init-- the init() function is called automatically every time the class is being used to create a new object "
   ]
  },
  {
   "cell_type": "code",
   "execution_count": 25,
   "id": "cc7fde2c-c71b-4dd7-ae26-9f254971245d",
   "metadata": {},
   "outputs": [],
   "source": [
    "class ihh1:\n",
    "    def __init__(self,phone_number,email_id,student_id):\n",
    "        self.phone_number=phone_number\n",
    "        self.email_id=email_id\n",
    "        self.student_id=student_id\n",
    "\n",
    "    def return_student_details(self):\n",
    "        return self.student_id,self.phone_number,self.email_id"
   ]
  },
  {
   "cell_type": "code",
   "execution_count": 26,
   "id": "f799b8a9-e5df-45cf-b4ba-6829adbf7843",
   "metadata": {},
   "outputs": [],
   "source": [
    "rishi=ihh1(9916455965,'rishi21989@gmail.com',177)"
   ]
  },
  {
   "cell_type": "code",
   "execution_count": 27,
   "id": "93da5580-1a93-4190-b00e-a4a8e06dd87c",
   "metadata": {},
   "outputs": [
    {
     "data": {
      "text/plain": [
       "(177, 9916455965, 'rishi21989@gmail.com')"
      ]
     },
     "execution_count": 27,
     "metadata": {},
     "output_type": "execute_result"
    }
   ],
   "source": [
    "rishi.return_student_details()"
   ]
  },
  {
   "cell_type": "code",
   "execution_count": 39,
   "id": "bf95084f-5da0-4d66-90d8-1a8dc1cfebdb",
   "metadata": {},
   "outputs": [],
   "source": [
    "class ihh2:\n",
    "    def __init__(rakhi,phone_number,email_id,student_id):\n",
    "        rakhi.phone_number=phone_number\n",
    "        rakhi.email_id=email_id\n",
    "        rakhi.student_id=student_id\n",
    "\n",
    "    def return_student_details(rakhi):\n",
    "        return rakhi.student_id,rakhi.phone_number,rakhi.email_id"
   ]
  },
  {
   "cell_type": "code",
   "execution_count": 44,
   "id": "a3f75294-6245-4842-b2c6-90cbf0f3dc81",
   "metadata": {},
   "outputs": [],
   "source": [
    "ihh1_obj=ihh2(8828365106,'rishi@gmail.com',101)"
   ]
  },
  {
   "cell_type": "code",
   "execution_count": 45,
   "id": "b6494bb0-a739-4104-a331-152198c34f10",
   "metadata": {},
   "outputs": [
    {
     "data": {
      "text/plain": [
       "(101, 8828365106, 'rishi@gmail.com')"
      ]
     },
     "execution_count": 45,
     "metadata": {},
     "output_type": "execute_result"
    }
   ],
   "source": [
    "ihh1_obj.return_student_details()"
   ]
  },
  {
   "cell_type": "markdown",
   "id": "09cd024d-5d38-43d7-bae0-65a91125dfe9",
   "metadata": {},
   "source": [
    "# Polymorphism\n",
    "\n",
    "# means having many forms"
   ]
  },
  {
   "cell_type": "code",
   "execution_count": 47,
   "id": "f25a4de6-1b24-4b34-b679-1bd3ea3e27cd",
   "metadata": {},
   "outputs": [],
   "source": [
    "def test(a,b):\n",
    "    return a+b"
   ]
  },
  {
   "cell_type": "code",
   "execution_count": 51,
   "id": "912d4792-50c3-4ca1-99a8-f2eb0d6a9de1",
   "metadata": {},
   "outputs": [
    {
     "data": {
      "text/plain": [
       "5"
      ]
     },
     "execution_count": 51,
     "metadata": {},
     "output_type": "execute_result"
    }
   ],
   "source": [
    "test(2,3)"
   ]
  },
  {
   "cell_type": "code",
   "execution_count": 52,
   "id": "9de43079-7cd4-4648-acdf-4212924d1c0e",
   "metadata": {},
   "outputs": [
    {
     "data": {
      "text/plain": [
       "'pythonclass'"
      ]
     },
     "execution_count": 52,
     "metadata": {},
     "output_type": "execute_result"
    }
   ],
   "source": [
    "test('python','class')"
   ]
  },
  {
   "cell_type": "code",
   "execution_count": 53,
   "id": "4cdd1eb5-040b-4264-a342-e3873d1b1856",
   "metadata": {},
   "outputs": [
    {
     "data": {
      "text/plain": [
       "[1, 2, 3, 11, 22, 33]"
      ]
     },
     "execution_count": 53,
     "metadata": {},
     "output_type": "execute_result"
    }
   ],
   "source": [
    "test([1,2,3],[11,22,33])"
   ]
  },
  {
   "cell_type": "code",
   "execution_count": 54,
   "id": "6d6c95a3-09f7-4d4a-a308-ff36cbd81807",
   "metadata": {},
   "outputs": [],
   "source": [
    "class data_science():\n",
    "    def syllabus(self):\n",
    "        print('This is the syllabus of data science')"
   ]
  },
  {
   "cell_type": "code",
   "execution_count": 55,
   "id": "ac8e9486-7f67-4caf-a7d0-e6a65f09695a",
   "metadata": {},
   "outputs": [],
   "source": [
    "class python():\n",
    "    def syllabus(self):\n",
    "        print('This is the class of python')"
   ]
  },
  {
   "cell_type": "code",
   "execution_count": 56,
   "id": "8cc8fbf3-66b7-412a-acf5-9bce9efe8748",
   "metadata": {},
   "outputs": [],
   "source": [
    "def demo(class_obj):\n",
    "    for i in class_obj:\n",
    "        i.syllabus()"
   ]
  },
  {
   "cell_type": "code",
   "execution_count": 57,
   "id": "345a6e4b-9349-4c7e-8778-32f51f0965e3",
   "metadata": {},
   "outputs": [],
   "source": [
    "x=data_science()"
   ]
  },
  {
   "cell_type": "code",
   "execution_count": 60,
   "id": "299842e8-34a5-4b79-aff6-1e6f1fb400ee",
   "metadata": {},
   "outputs": [],
   "source": [
    "y=python()"
   ]
  },
  {
   "cell_type": "code",
   "execution_count": 61,
   "id": "46f80454-8e0a-4baf-8f6b-bc88562375d7",
   "metadata": {},
   "outputs": [],
   "source": [
    "class_obj=[x,y]"
   ]
  },
  {
   "cell_type": "code",
   "execution_count": 62,
   "id": "0323fbe4-9698-4cb3-a443-842b9ad82265",
   "metadata": {},
   "outputs": [
    {
     "name": "stdout",
     "output_type": "stream",
     "text": [
      "This is the syllabus of data science\n",
      "This is the class of python\n"
     ]
    }
   ],
   "source": [
    "demo(class_obj)"
   ]
  },
  {
   "cell_type": "code",
   "execution_count": null,
   "id": "324f8238-5158-43b0-9985-95bafaa07241",
   "metadata": {},
   "outputs": [],
   "source": []
  },
  {
   "cell_type": "code",
   "execution_count": null,
   "id": "04fbe4f4-34c0-409a-b767-a809561d7b3e",
   "metadata": {},
   "outputs": [],
   "source": []
  },
  {
   "cell_type": "code",
   "execution_count": null,
   "id": "5f37b51a-756d-4fd2-bf88-793ecb304005",
   "metadata": {},
   "outputs": [],
   "source": []
  },
  {
   "cell_type": "code",
   "execution_count": null,
   "id": "442cd994-b49d-4baf-840c-3a03d0df6df4",
   "metadata": {},
   "outputs": [],
   "source": []
  },
  {
   "cell_type": "code",
   "execution_count": null,
   "id": "a9fceb83-691e-451f-accb-ccd6310f859b",
   "metadata": {},
   "outputs": [],
   "source": []
  },
  {
   "cell_type": "code",
   "execution_count": null,
   "id": "aacd4362-f1d6-4d2d-b3fb-10387e58c481",
   "metadata": {},
   "outputs": [],
   "source": []
  }
 ],
 "metadata": {
  "kernelspec": {
   "display_name": "Python 3 (ipykernel)",
   "language": "python",
   "name": "python3"
  },
  "language_info": {
   "codemirror_mode": {
    "name": "ipython",
    "version": 3
   },
   "file_extension": ".py",
   "mimetype": "text/x-python",
   "name": "python",
   "nbconvert_exporter": "python",
   "pygments_lexer": "ipython3",
   "version": "3.11.5"
  }
 },
 "nbformat": 4,
 "nbformat_minor": 5
}
