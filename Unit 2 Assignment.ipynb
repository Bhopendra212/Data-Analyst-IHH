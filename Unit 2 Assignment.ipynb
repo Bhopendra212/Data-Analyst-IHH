{
 "cells": [
  {
   "cell_type": "markdown",
   "id": "11a58fb1-de45-4dd8-8b8f-26aa9e27df8a",
   "metadata": {},
   "source": [
    "# 1 -Write a Python program to print the following string in a specific format"
   ]
  },
  {
   "cell_type": "code",
   "execution_count": 1,
   "id": "7782cc6b-704a-464d-b5df-f039f51c3f0c",
   "metadata": {},
   "outputs": [],
   "source": [
    "# Input:-Twinkle twinkle little star,How I wonder what you are! Up above the world so high,Like a diamond in the sky,Twinkle twinkle little star,How I wonder what you are.\n",
    "\n",
    "# Output:- Twinkle twinkle little star.\n",
    "#How I wonder what you are,\n",
    "#Up above the world so high,\n",
    "#Like a diamond in the sky,\n",
    "#Twinkle twinkle little star,\n",
    "#How I wonder what you are."
   ]
  },
  {
   "cell_type": "code",
   "execution_count": 3,
   "id": "430f5894-0c2f-4b87-a65e-0929f6560e9d",
   "metadata": {},
   "outputs": [
    {
     "name": "stdout",
     "output_type": "stream",
     "text": [
      "Twinkle twinkle little star,\n",
      "How I wonder what you are! \n",
      "Up above the world so high, \n",
      "Like a diamond in the sky, \n",
      "Twinkle twinkle little star, \n",
      "How I wonder what you are\n"
     ]
    }
   ],
   "source": [
    "print('Twinkle twinkle little star,\\nHow I wonder what you are! \\nUp above the world so high, \\nLike a diamond in the sky, \\nTwinkle twinkle little star, \\nHow I wonder what you are')"
   ]
  },
  {
   "cell_type": "markdown",
   "id": "c02f8aa9-f72e-4fc2-8961-6cca55a5c0ee",
   "metadata": {},
   "source": [
    "# 2 -Write a python program to calculate the area of circle based on the radius 10 cm,12 cm,25.67cm"
   ]
  },
  {
   "cell_type": "code",
   "execution_count": 4,
   "id": "d5d9b16d-e8cf-4fb4-97a7-3111a4360568",
   "metadata": {},
   "outputs": [
    {
     "name": "stdout",
     "output_type": "stream",
     "text": [
      "The area of circle based on 10cm radius is: 314.0\n",
      "The area of circle based on 12cm radius is: 452.16\n",
      "The area of circle based on 25.67cm radius is: 2069.0995460000004\n"
     ]
    }
   ],
   "source": [
    "a=10\n",
    "print('The area of circle based on 10cm radius is:',3.14*(a**2))\n",
    "b=12\n",
    "print('The area of circle based on 12cm radius is:',3.14*(b**2))\n",
    "c=25.67\n",
    "print('The area of circle based on 25.67cm radius is:',3.14*(c**2))"
   ]
  },
  {
   "cell_type": "markdown",
   "id": "290c8c8a-347e-45da-9e80-2b21c352a5fb",
   "metadata": {},
   "source": [
    "# 3 -Write a python program to get the volume of a sphere with radius six"
   ]
  },
  {
   "cell_type": "code",
   "execution_count": 7,
   "id": "69de7563-ba59-4479-96a6-977cd6ef5ac1",
   "metadata": {},
   "outputs": [
    {
     "name": "stdout",
     "output_type": "stream",
     "text": [
      "Volume of sphere is: 904.3199999999999\n"
     ]
    }
   ],
   "source": [
    "r=6\n",
    "print('Volume of sphere is:', 4/3*3.14*(r**3))"
   ]
  },
  {
   "cell_type": "markdown",
   "id": "d40ee9c5-acb5-454b-a2ec-0a14a95866d1",
   "metadata": {},
   "source": [
    "# 4 -Write a python program that will accept the base and height of a triangle and compute its area. Height 12cm and base 6cm"
   ]
  },
  {
   "cell_type": "code",
   "execution_count": 9,
   "id": "cb2545e4-283b-4556-a854-ecbcb1b88811",
   "metadata": {},
   "outputs": [
    {
     "name": "stdout",
     "output_type": "stream",
     "text": [
      "The area of Triangle is : 36.0\n"
     ]
    }
   ],
   "source": [
    "h=12\n",
    "b=6\n",
    "print('The area of Triangle is :', (h*b)/2)"
   ]
  },
  {
   "cell_type": "markdown",
   "id": "bdccebb0-6fa1-4f2f-ab73-8f2eb0bf7415",
   "metadata": {},
   "source": [
    "# 5 -Write a python program to compute the simple interest, P=100000,r=8%,T=1 year."
   ]
  },
  {
   "cell_type": "code",
   "execution_count": 11,
   "id": "dcf534b8-c38f-48fa-a071-17b4b540785d",
   "metadata": {},
   "outputs": [
    {
     "name": "stdout",
     "output_type": "stream",
     "text": [
      "The simple interest is: 8000.0\n"
     ]
    }
   ],
   "source": [
    "p=100000\n",
    "r=8\n",
    "t=1\n",
    "SI=(p*r*t)/100\n",
    "print('The simple interest is:',SI)"
   ]
  },
  {
   "cell_type": "markdown",
   "id": "77872d32-68be-4fc3-8236-ba9b07ef5f30",
   "metadata": {},
   "source": [
    "# 6 -Write a python program to convert the distance(in foot) to inches, yards, and miles"
   ]
  },
  {
   "cell_type": "code",
   "execution_count": 12,
   "id": "4d0f4e7b-9f36-4569-8ce0-ff0cb52eadeb",
   "metadata": {},
   "outputs": [
    {
     "name": "stdout",
     "output_type": "stream",
     "text": [
      "The inches are: 144\n",
      "The yards are: 3.96\n",
      "The miles are: 0.002272728\n"
     ]
    }
   ],
   "source": [
    "#1 foot=12 inches\n",
    "#1 foot=0.33 yards\n",
    "#1 foot=0.000189394 miles\n",
    "\n",
    "f=12\n",
    "d_inches=f*12\n",
    "d_yards=f*0.33\n",
    "d_miles=f*0.000189394\n",
    "\n",
    "print('The inches are:',d_inches)\n",
    "print('The yards are:',d_yards)\n",
    "print('The miles are:',d_miles)"
   ]
  },
  {
   "cell_type": "markdown",
   "id": "27e739a2-f91e-40e3-8403-a222447a80cc",
   "metadata": {},
   "source": [
    "# 7 -Write a python program to calculate the hypotenuse of a right angled triangle"
   ]
  },
  {
   "cell_type": "code",
   "execution_count": 14,
   "id": "5c18aa34-97d3-4eee-8ff6-05e2d45362fd",
   "metadata": {},
   "outputs": [
    {
     "name": "stdout",
     "output_type": "stream",
     "text": [
      "The  Hypotenuse of triangle is : 5.0\n"
     ]
    }
   ],
   "source": [
    "from math import sqrt\n",
    "base=3\n",
    "height=4\n",
    "hypotenuse= sqrt(base**2 + height**2)\n",
    "print('The  Hypotenuse of triangle is :',hypotenuse)"
   ]
  },
  {
   "cell_type": "markdown",
   "id": "2d7834b1-357f-4ad9-9c7b-427201cc6479",
   "metadata": {},
   "source": [
    "# 8 -Write a python program to swap two variables"
   ]
  },
  {
   "cell_type": "code",
   "execution_count": 17,
   "id": "7e95577a-e75a-4c0d-ad24-a57cb6f7f6a5",
   "metadata": {},
   "outputs": [
    {
     "name": "stdout",
     "output_type": "stream",
     "text": [
      "Value of a: 10\n",
      "Value of b: 5\n"
     ]
    }
   ],
   "source": [
    "a= 5\n",
    "b= 10\n",
    "\n",
    "x = a     # x is temporary variable\n",
    "a = b\n",
    "b = x\n",
    "\n",
    "print('Value of a:',a)\n",
    "print('Value of b:',b)"
   ]
  },
  {
   "cell_type": "markdown",
   "id": "48424227-1ec6-4921-8345-b6f9711c8a73",
   "metadata": {},
   "source": [
    "# 9 -Write a program to calculate the area of square of side 10 cm"
   ]
  },
  {
   "cell_type": "code",
   "execution_count": 19,
   "id": "45d59e5e-2c18-4f62-87ba-e3c48de85eed",
   "metadata": {},
   "outputs": [
    {
     "name": "stdout",
     "output_type": "stream",
     "text": [
      "Area of square is: 100\n"
     ]
    }
   ],
   "source": [
    "a=10\n",
    "\n",
    "Area= a*a\n",
    "\n",
    "print('Area of square is:', Area)"
   ]
  },
  {
   "cell_type": "markdown",
   "id": "29df821b-3937-4a91-8883-23b7a53557a0",
   "metadata": {},
   "source": [
    "# 10 -Write a program to convert 250 kg into gram"
   ]
  },
  {
   "cell_type": "code",
   "execution_count": 22,
   "id": "fdc9bab0-5e5d-4ed9-9cab-2b6b17aeb596",
   "metadata": {},
   "outputs": [
    {
     "name": "stdout",
     "output_type": "stream",
     "text": [
      "250 kg is 250000 grams\n"
     ]
    }
   ],
   "source": [
    "kg=250\n",
    "gram=250*1000\n",
    "\n",
    "print('250 kg is',gram,'grams')"
   ]
  },
  {
   "cell_type": "code",
   "execution_count": null,
   "id": "e043fd4b-b374-4832-a569-4196d03d1b81",
   "metadata": {},
   "outputs": [],
   "source": []
  }
 ],
 "metadata": {
  "kernelspec": {
   "display_name": "Python 3 (ipykernel)",
   "language": "python",
   "name": "python3"
  },
  "language_info": {
   "codemirror_mode": {
    "name": "ipython",
    "version": 3
   },
   "file_extension": ".py",
   "mimetype": "text/x-python",
   "name": "python",
   "nbconvert_exporter": "python",
   "pygments_lexer": "ipython3",
   "version": "3.11.5"
  }
 },
 "nbformat": 4,
 "nbformat_minor": 5
}
