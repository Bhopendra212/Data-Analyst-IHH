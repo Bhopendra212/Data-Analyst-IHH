{
 "cells": [
  {
   "cell_type": "code",
   "execution_count": 1,
   "id": "81f2e8da-2a42-43e0-b3ec-e0a182e9fd4a",
   "metadata": {},
   "outputs": [
    {
     "name": "stdout",
     "output_type": "stream",
     "text": [
      "[12, 23, 13, 26, 34, 35]\n"
     ]
    }
   ],
   "source": [
    "L=[12,23,13,26,34,35]\n",
    "print(L)"
   ]
  },
  {
   "cell_type": "code",
   "execution_count": 2,
   "id": "0d3e2269-bbd8-48d8-b5a0-be1f5d8621ad",
   "metadata": {},
   "outputs": [
    {
     "name": "stdout",
     "output_type": "stream",
     "text": [
      "<class 'list'>\n"
     ]
    }
   ],
   "source": [
    "print(type(L))"
   ]
  },
  {
   "cell_type": "code",
   "execution_count": 3,
   "id": "7e1939af-cc60-4e8e-bd11-e2d16fe4db63",
   "metadata": {},
   "outputs": [
    {
     "name": "stdout",
     "output_type": "stream",
     "text": [
      "[89, 14, -14, 0, -56, 76, 'hello', 56.34]\n"
     ]
    }
   ],
   "source": [
    "a=[89,14,-14,0,-56,76,\"hello\",56.34]\n",
    "print(a)"
   ]
  },
  {
   "cell_type": "markdown",
   "id": "c36211ad-feb5-4d4b-90c5-7f18cc86cfd5",
   "metadata": {},
   "source": [
    "# indexing on list"
   ]
  },
  {
   "cell_type": "code",
   "execution_count": 5,
   "id": "92d64052-8884-4cff-9379-bd892dc9f289",
   "metadata": {},
   "outputs": [
    {
     "name": "stdout",
     "output_type": "stream",
     "text": [
      "13\n"
     ]
    }
   ],
   "source": [
    "a=[13,34,25,25,16,-32,\"hello\",\"teacher\",-3,4]\n",
    "print(a[0])"
   ]
  },
  {
   "cell_type": "code",
   "execution_count": 6,
   "id": "08294d63-a90e-4383-a20e-20ffdd50f2c3",
   "metadata": {},
   "outputs": [
    {
     "name": "stdout",
     "output_type": "stream",
     "text": [
      "-32\n"
     ]
    }
   ],
   "source": [
    "a=[13,34,25,25,16,-32,\"hello\",\"teacher\",-3,4]\n",
    "print(a[5])"
   ]
  },
  {
   "cell_type": "code",
   "execution_count": 7,
   "id": "dd457c2f-2328-4ab3-9deb-7b0785ebc3c4",
   "metadata": {},
   "outputs": [
    {
     "name": "stdout",
     "output_type": "stream",
     "text": [
      "4\n"
     ]
    }
   ],
   "source": [
    "a=[13,34,25,25,16,-32,\"hello\",\"teacher\",-3,4]\n",
    "print(a[-1])"
   ]
  },
  {
   "cell_type": "code",
   "execution_count": 8,
   "id": "23beb8fc-cd75-4003-a5e1-1d96ada12c63",
   "metadata": {},
   "outputs": [
    {
     "name": "stdout",
     "output_type": "stream",
     "text": [
      "teacher\n"
     ]
    }
   ],
   "source": [
    "a=[13,34,25,25,16,-32,\"hello\",\"teacher\",-3,4]\n",
    "print(a[-3])"
   ]
  },
  {
   "cell_type": "markdown",
   "id": "10f34d20-b163-4107-bca5-2c544870b398",
   "metadata": {},
   "source": [
    "# Slicing in List"
   ]
  },
  {
   "cell_type": "code",
   "execution_count": 10,
   "id": "884ddba0-c446-450d-89f5-42dfd08c7a78",
   "metadata": {},
   "outputs": [
    {
     "name": "stdout",
     "output_type": "stream",
     "text": [
      "9\n"
     ]
    }
   ],
   "source": [
    "a=[13,34,25,25,16,-32,\"hello\",\"teacher\",\"student\"]\n",
    "print(len(a))"
   ]
  },
  {
   "cell_type": "code",
   "execution_count": 12,
   "id": "4e00b64a-751d-4689-9e7e-cb3d6034c7c3",
   "metadata": {},
   "outputs": [
    {
     "name": "stdout",
     "output_type": "stream",
     "text": [
      "[13, 34, 25, 25, 16, -32]\n"
     ]
    }
   ],
   "source": [
    "a=[13,34,25,25,16,-32,\"hello\",\"teacher\",\"student\"]\n",
    "print(a[0:6])"
   ]
  },
  {
   "cell_type": "code",
   "execution_count": 13,
   "id": "f16b55e5-b6a5-45da-80a3-339719726915",
   "metadata": {},
   "outputs": [
    {
     "name": "stdout",
     "output_type": "stream",
     "text": [
      "['hello', 'teacher', 'student']\n"
     ]
    }
   ],
   "source": [
    "a=[13,34,25,25,16,-32,\"hello\",\"teacher\",\"student\"]\n",
    "print(a[6:9])"
   ]
  },
  {
   "cell_type": "code",
   "execution_count": 14,
   "id": "184b92b9-d1f4-43ad-9595-534f612303b2",
   "metadata": {},
   "outputs": [
    {
     "name": "stdout",
     "output_type": "stream",
     "text": [
      "[13, 34, 25, 25, 16, -32]\n",
      "['hello', 'teacher', 'student']\n"
     ]
    }
   ],
   "source": [
    "a=[13,34,25,25,16,-32,\"hello\",\"teacher\",\"student\"]\n",
    "b=a[0:6]\n",
    "print(b)\n",
    "c=a[6:9]\n",
    "print(c)"
   ]
  },
  {
   "cell_type": "code",
   "execution_count": 15,
   "id": "a13dc817-3321-4f07-af6c-5d5400a1e982",
   "metadata": {},
   "outputs": [
    {
     "name": "stdout",
     "output_type": "stream",
     "text": [
      "[13, 34, 25, 25, 16]\n"
     ]
    }
   ],
   "source": [
    "a=[13,34,25,25,16,-32,\"hello\",\"teacher\",\"student\"]\n",
    "print(a[:5])"
   ]
  },
  {
   "cell_type": "code",
   "execution_count": 16,
   "id": "d3be7d4b-c54e-4cf6-8aee-fb8a00464d37",
   "metadata": {},
   "outputs": [
    {
     "name": "stdout",
     "output_type": "stream",
     "text": [
      "[13, 25, 16, 'hello', 'student']\n"
     ]
    }
   ],
   "source": [
    "a=[13,34,25,25,16,-32,\"hello\",\"teacher\",\"student\"]\n",
    "print(a[0:9:2])"
   ]
  },
  {
   "cell_type": "code",
   "execution_count": 17,
   "id": "ea0507b6-ff70-41e8-93c8-f83b461df7b0",
   "metadata": {},
   "outputs": [
    {
     "name": "stdout",
     "output_type": "stream",
     "text": [
      "[13, 16, 'student']\n"
     ]
    }
   ],
   "source": [
    "a=[13,34,25,25,16,-32,\"hello\",\"teacher\",\"student\"]\n",
    "print(a[0:9:4])"
   ]
  },
  {
   "cell_type": "code",
   "execution_count": 18,
   "id": "177ab905-e90c-4a75-9873-e7bd3984a50a",
   "metadata": {},
   "outputs": [
    {
     "name": "stdout",
     "output_type": "stream",
     "text": [
      "[13, 25, 'hello']\n"
     ]
    }
   ],
   "source": [
    "a=[13,34,25,25,16,-32,\"hello\",\"teacher\",\"student\"]\n",
    "print(a[0::3])"
   ]
  },
  {
   "cell_type": "code",
   "execution_count": 19,
   "id": "b7bf29af-24d7-4180-a9b1-4505c77ce24e",
   "metadata": {},
   "outputs": [
    {
     "name": "stdout",
     "output_type": "stream",
     "text": [
      "[13, 25, 'hello']\n"
     ]
    }
   ],
   "source": [
    "a=[13,34,25,25,16,-32,\"hello\",\"teacher\",\"student\"]\n",
    "print(a[::3])"
   ]
  },
  {
   "cell_type": "code",
   "execution_count": 21,
   "id": "9cd803f6-ac0f-4d2a-bc1d-dc3688b43ba6",
   "metadata": {},
   "outputs": [
    {
     "name": "stdout",
     "output_type": "stream",
     "text": [
      "['student', 'teacher', 'hello', -32, 16, 25, 25, 34, 13]\n"
     ]
    }
   ],
   "source": [
    "a=[13,34,25,25,16,-32,\"hello\",\"teacher\",\"student\"]\n",
    "print(a[::-1])                      # reverse the list"
   ]
  },
  {
   "cell_type": "code",
   "execution_count": 25,
   "id": "4f8794ee-9675-4493-83b5-d8f93b9d6175",
   "metadata": {},
   "outputs": [
    {
     "name": "stdout",
     "output_type": "stream",
     "text": [
      "[132, 23, 45, 65, 23, -34]\n",
      "[26, 29, 'apple', 'orange', 'lemon']\n",
      "[-34, 23, 65, 45, 23, 132]\n",
      "['lemon', 'orange', 'apple', 29, 26]\n"
     ]
    }
   ],
   "source": [
    "\"\"\"Devide the list into 2 list and reverse it\"\"\"\n",
    "\n",
    "l=[132,23,45,65,23,-34,26,29,\"apple\",\"orange\",\"lemon\"]\n",
    "a=l[0:6]\n",
    "print(a)\n",
    "b=l[6:11]\n",
    "print(b)\n",
    "print(a[::-1])\n",
    "print(b[::-1])"
   ]
  },
  {
   "cell_type": "markdown",
   "id": "2dfb7a55-7470-43bd-bc1e-cb71efe3a2b9",
   "metadata": {},
   "source": [
    "# append() method"
   ]
  },
  {
   "cell_type": "code",
   "execution_count": 26,
   "id": "57859c9d-6d36-40f2-bbcd-946084ac0dca",
   "metadata": {},
   "outputs": [
    {
     "name": "stdout",
     "output_type": "stream",
     "text": [
      "[12, 24, 23, 56, 52, 36, 57, 18, 67, 99]\n"
     ]
    }
   ],
   "source": [
    "a=[12,24,23,56,52]\n",
    "b=[36,57,18,67,99]\n",
    "c=a+b\n",
    "print(c)"
   ]
  },
  {
   "cell_type": "code",
   "execution_count": 28,
   "id": "6b5dce1d-33be-424d-bb5b-57cbf6e5769f",
   "metadata": {},
   "outputs": [
    {
     "name": "stdout",
     "output_type": "stream",
     "text": [
      "[12, 34, 25, 28, 99, 14, -5]\n"
     ]
    }
   ],
   "source": [
    "m=[12,34,25,28,99,14]\n",
    "m.append(-5)\n",
    "print(m)"
   ]
  },
  {
   "cell_type": "code",
   "execution_count": 29,
   "id": "367d651e-979e-4882-8dcb-28c041c9f453",
   "metadata": {},
   "outputs": [
    {
     "name": "stdout",
     "output_type": "stream",
     "text": [
      "[12, 24, 14, 16, 99, 46]\n",
      "[12, 24, 14, 16, 99, 46, ['hello', 'students']]\n"
     ]
    }
   ],
   "source": [
    "L=[12,24,14,16,99,46]\n",
    "print(L)\n",
    "a=[\"hello\",\"students\"]\n",
    "L.append(a)\n",
    "print(L)"
   ]
  },
  {
   "cell_type": "code",
   "execution_count": 30,
   "id": "d0fec35e-800c-4a2d-9a89-f0046225e8e5",
   "metadata": {},
   "outputs": [
    {
     "name": "stdout",
     "output_type": "stream",
     "text": [
      "[12, 24, 14, 16, 99, 46]\n",
      "[12, 24, 14, 16, 99, 46, ['hello', 'students']]\n",
      "[12, 24, 14, 16, 99, 46, ['hello', 'students'], [29, 39, 49, 59]]\n"
     ]
    }
   ],
   "source": [
    "L=[12,24,14,16,99,46]\n",
    "print(L)\n",
    "a=[\"hello\",\"students\"]\n",
    "L.append(a)\n",
    "print(L)\n",
    "b=[29,39,49,59]\n",
    "L.append(b)\n",
    "print(L)"
   ]
  },
  {
   "cell_type": "code",
   "execution_count": 32,
   "id": "f11c1829-e2cf-43bf-bde4-1818f0f50fd2",
   "metadata": {},
   "outputs": [
    {
     "name": "stdout",
     "output_type": "stream",
     "text": [
      "[45, 56, 42, 23, 33, [78, 56]]\n"
     ]
    }
   ],
   "source": [
    "a=[45,56,42,23,33]\n",
    "b=[78,56]\n",
    "a.append(b)\n",
    "print(a)"
   ]
  },
  {
   "cell_type": "markdown",
   "id": "61dea1a6-c3b8-44c6-8a80-772196bd4895",
   "metadata": {},
   "source": [
    "# extend() method"
   ]
  },
  {
   "cell_type": "code",
   "execution_count": 34,
   "id": "537558cd-4115-421c-9630-70f6bed45365",
   "metadata": {},
   "outputs": [
    {
     "name": "stdout",
     "output_type": "stream",
     "text": [
      "[45, 56, 42, 23, 33, 78, 56, 99]\n"
     ]
    }
   ],
   "source": [
    "a=[45,56,42,23,33]\n",
    "a.extend([78,56,99])\n",
    "print(a)"
   ]
  },
  {
   "cell_type": "code",
   "execution_count": 36,
   "id": "ab115099-b323-4b1f-9ad8-8cdf5c29fe0c",
   "metadata": {},
   "outputs": [
    {
     "name": "stdout",
     "output_type": "stream",
     "text": [
      "[45, 56, 42, 23, 33, 'students', 'datascience', 'apple']\n"
     ]
    }
   ],
   "source": [
    "a=[45,56,42,23,33]\n",
    "a.extend([\"students\",\"datascience\",\"apple\"])\n",
    "print(a)"
   ]
  },
  {
   "cell_type": "markdown",
   "id": "42b58fbe-9054-4bfd-b92e-08aa7762fe1b",
   "metadata": {},
   "source": [
    "# insert() method"
   ]
  },
  {
   "cell_type": "code",
   "execution_count": 37,
   "id": "9e1c77be-b32c-4336-8367-477669e0ac10",
   "metadata": {},
   "outputs": [
    {
     "name": "stdout",
     "output_type": "stream",
     "text": [
      "[1, 2, 3, 4, 5, 6]\n",
      "[1, 2, -10, 3, 4, 5, 6]\n"
     ]
    }
   ],
   "source": [
    "L=[1,2,3,4,5,6]\n",
    "print(L)\n",
    "L.insert(2,-10)\n",
    "print(L)\n"
   ]
  },
  {
   "cell_type": "code",
   "execution_count": 38,
   "id": "2c29a6d0-cfd8-494e-a212-62ecfb51a4f7",
   "metadata": {},
   "outputs": [
    {
     "name": "stdout",
     "output_type": "stream",
     "text": [
      "[1, 2, 3, 4, 5, 6]\n",
      "[1, 2, 'hello', 3, 4, 5, 6]\n"
     ]
    }
   ],
   "source": [
    "L=[1,2,3,4,5,6]\n",
    "print(L)\n",
    "L.insert(2,\"hello\")\n",
    "print(L)"
   ]
  },
  {
   "cell_type": "markdown",
   "id": "206a368a-d993-4608-9e4b-f6b3a2490f0b",
   "metadata": {},
   "source": [
    "# remove() method"
   ]
  },
  {
   "cell_type": "code",
   "execution_count": 39,
   "id": "ceae0069-03a4-4974-99a4-07c44e823c20",
   "metadata": {},
   "outputs": [
    {
     "name": "stdout",
     "output_type": "stream",
     "text": [
      "[1, 2, 3, 4, 6, 7, 8, 9]\n"
     ]
    }
   ],
   "source": [
    "a=[1,2,3,4,5,6,7,8,9]\n",
    "a.remove(5)\n",
    "print(a)"
   ]
  },
  {
   "cell_type": "code",
   "execution_count": 40,
   "id": "73c5150e-0d6b-4d23-955d-cf6e8904dce1",
   "metadata": {},
   "outputs": [
    {
     "name": "stdout",
     "output_type": "stream",
     "text": [
      "[1, 2, 3, 4, 5, 6, 7, 8, 9, 'hello', 'datascience']\n"
     ]
    }
   ],
   "source": [
    "a=[1,2,3,4,5,6,7,8,9,\"hello\",\"apple\",\"datascience\"]\n",
    "a.remove(\"apple\")\n",
    "print(a)"
   ]
  },
  {
   "cell_type": "code",
   "execution_count": 42,
   "id": "7c65ec55-13e0-4efd-8e92-6b9b0d29d1a1",
   "metadata": {},
   "outputs": [
    {
     "name": "stdout",
     "output_type": "stream",
     "text": [
      "[23, 34, 44, 45, 55, 66, [-11, -22, -33]]\n",
      "[23, 34, 44, 45, 55, 66, [-11, -22, -33], ['cat', 'dog', 'rat']]\n"
     ]
    }
   ],
   "source": [
    "b=[23,34,44,45,55,66]\n",
    "c=[-11,-22,-33]\n",
    "b.append(c)\n",
    "print(b)\n",
    "l=[\"cat\",\"dog\",\"rat\"]\n",
    "b.append(l)\n",
    "print(b)"
   ]
  },
  {
   "cell_type": "code",
   "execution_count": 43,
   "id": "3467f18b-684c-429c-95b7-608d63b30b0b",
   "metadata": {},
   "outputs": [
    {
     "name": "stdout",
     "output_type": "stream",
     "text": [
      "[23, 34, 44, 45, 55, 66, [-11, -22, -33]]\n",
      "[23, 34, 44, 45, 55, 66, [-11, -22, -33], ['cat', 'dog', 'rat']]\n",
      "[23, 34, 44, 45, 55, 66, ['cat', 'dog', 'rat']]\n"
     ]
    }
   ],
   "source": [
    "b=[23,34,44,45,55,66]\n",
    "c=[-11,-22,-33]\n",
    "b.append(c)\n",
    "print(b)\n",
    "l=[\"cat\",\"dog\",\"rat\"]\n",
    "b.append(l)\n",
    "print(b)\n",
    "b.remove(c)\n",
    "print(b)"
   ]
  },
  {
   "cell_type": "markdown",
   "id": "b197aa26-c53b-4038-b399-be6b138d7da8",
   "metadata": {},
   "source": [
    "# pop() method"
   ]
  },
  {
   "cell_type": "code",
   "execution_count": 46,
   "id": "40db13d5-acd7-496d-a051-8f130d8c9d95",
   "metadata": {},
   "outputs": [
    {
     "name": "stdout",
     "output_type": "stream",
     "text": [
      "[23, 34, 44, 45, 66]\n"
     ]
    }
   ],
   "source": [
    "b=[23,34,44,45,55,66]\n",
    "b.pop(4)                # deleting value with the help of index number\n",
    "print(b)"
   ]
  },
  {
   "cell_type": "code",
   "execution_count": 48,
   "id": "a85cb288-e89d-45c9-89c9-a36be49852d6",
   "metadata": {},
   "outputs": [
    {
     "name": "stdout",
     "output_type": "stream",
     "text": [
      "[23, 34, 44, 45, 55, 66, [1.2, 2.2, 3.2]]\n",
      "[23, 34, 44, 45, 55, 66, [1.2, 2.2, 3.2], ['apple', 'cat', 'dog']]\n",
      "[23, 34, 44, 45, 55, 66, ['apple', 'cat', 'dog']]\n"
     ]
    }
   ],
   "source": [
    "b=[23,34,44,45,55,66]\n",
    "a=[1.2,2.2,3.2]\n",
    "b.append(a)\n",
    "print(b)\n",
    "t=[\"apple\",\"cat\",\"dog\"]\n",
    "b.append(t)\n",
    "print(b)\n",
    "b.pop(6)\n",
    "print(b)"
   ]
  },
  {
   "cell_type": "code",
   "execution_count": 50,
   "id": "3e93e07a-97fb-4b98-8936-998277b4a193",
   "metadata": {},
   "outputs": [
    {
     "name": "stdout",
     "output_type": "stream",
     "text": [
      "[11, 22, 33, 55, 'red']\n"
     ]
    }
   ],
   "source": [
    "a=[11,22,33,44,55,\"red\"]\n",
    "a.pop(3)\n",
    "print(a)"
   ]
  },
  {
   "cell_type": "markdown",
   "id": "5786f417-9645-47cb-8e2d-7db8b3cefd00",
   "metadata": {},
   "source": [
    "# clear() method"
   ]
  },
  {
   "cell_type": "code",
   "execution_count": 52,
   "id": "265f5626-932f-4e05-89b1-982a82eaeb47",
   "metadata": {},
   "outputs": [
    {
     "name": "stdout",
     "output_type": "stream",
     "text": [
      "[]\n"
     ]
    }
   ],
   "source": [
    "a=[11,22,33,44,55]\n",
    "a.clear()                                  # clear all the elements which gives empty list\n",
    "print(a)"
   ]
  },
  {
   "cell_type": "code",
   "execution_count": 54,
   "id": "7273355f-c8b9-4de2-b25f-f4bc2121a149",
   "metadata": {},
   "outputs": [
    {
     "name": "stdout",
     "output_type": "stream",
     "text": [
      "5\n",
      "[]\n",
      "0\n"
     ]
    }
   ],
   "source": [
    "a=[11,22,33,44,55]\n",
    "print(len(a))\n",
    "a.clear()                                  # clear all the elements which gives empty list\n",
    "print(a)\n",
    "print(len(a))"
   ]
  },
  {
   "cell_type": "markdown",
   "id": "199f159c-4c7b-4fbd-abd2-5b6f0cccf767",
   "metadata": {},
   "source": [
    "# count() method"
   ]
  },
  {
   "cell_type": "code",
   "execution_count": 55,
   "id": "c3bf0506-4b76-4a07-98fc-27585b0453a2",
   "metadata": {},
   "outputs": [
    {
     "name": "stdout",
     "output_type": "stream",
     "text": [
      "3\n"
     ]
    }
   ],
   "source": [
    "a=[11,22,33,44,55,66,33,77,88,33]\n",
    "b=a.count(33)\n",
    "print(b)"
   ]
  },
  {
   "cell_type": "code",
   "execution_count": 56,
   "id": "dc25affa-f839-4356-ab26-3690b10bc50e",
   "metadata": {},
   "outputs": [
    {
     "name": "stdout",
     "output_type": "stream",
     "text": [
      "2\n"
     ]
    }
   ],
   "source": [
    "a=[11,88,33,44,55,66,33,77,88,33]\n",
    "b=a.count(88)\n",
    "print(b)"
   ]
  },
  {
   "cell_type": "code",
   "execution_count": 58,
   "id": "c443b851-dea1-48dd-b34c-5ff035dc715b",
   "metadata": {},
   "outputs": [
    {
     "name": "stdout",
     "output_type": "stream",
     "text": [
      "0\n"
     ]
    }
   ],
   "source": [
    "a=[11,88,33,44,55,66,33,77,88,33]\n",
    "b=a.count(10)                  # number not available in the list\n",
    "print(b)"
   ]
  },
  {
   "cell_type": "markdown",
   "id": "3c3ae6da-5406-426b-a5a5-b42f220b9b26",
   "metadata": {},
   "source": [
    "# max() method"
   ]
  },
  {
   "cell_type": "code",
   "execution_count": 59,
   "id": "66f4d2af-714d-4ad1-aa02-6ad64e8b1543",
   "metadata": {},
   "outputs": [
    {
     "name": "stdout",
     "output_type": "stream",
     "text": [
      "88\n"
     ]
    }
   ],
   "source": [
    "a=[11,88,33,44,55,66,33,77,88,33]\n",
    "print(max(a))"
   ]
  },
  {
   "cell_type": "code",
   "execution_count": 60,
   "id": "3817f62c-5be6-4933-9dac-29594c219df6",
   "metadata": {},
   "outputs": [
    {
     "name": "stdout",
     "output_type": "stream",
     "text": [
      "88.9\n"
     ]
    }
   ],
   "source": [
    "a=[11,88,33,4.4,55,6.6,3.3,77,88.9,33]\n",
    "print(max(a))"
   ]
  },
  {
   "cell_type": "code",
   "execution_count": 61,
   "id": "43df043e-4b29-4053-a70b-3cd78e9fa351",
   "metadata": {},
   "outputs": [
    {
     "name": "stdout",
     "output_type": "stream",
     "text": [
      "world\n"
     ]
    }
   ],
   "source": [
    "a=[\"hello\",\"world\"]\n",
    "print(max(a))"
   ]
  },
  {
   "cell_type": "code",
   "execution_count": 62,
   "id": "235749e8-f660-4166-80fc-fb66bc112004",
   "metadata": {},
   "outputs": [
    {
     "name": "stdout",
     "output_type": "stream",
     "text": [
      "zebra\n"
     ]
    }
   ],
   "source": [
    "a=[\"hello\",\"world\",\"apple\",\"zebra\"]\n",
    "print(max(a))"
   ]
  },
  {
   "cell_type": "code",
   "execution_count": 63,
   "id": "29354fd4-5fcd-4db7-a26c-f580bcbdedc5",
   "metadata": {},
   "outputs": [
    {
     "name": "stdout",
     "output_type": "stream",
     "text": [
      "zebra\n"
     ]
    }
   ],
   "source": [
    "a=[\"hello\",\"world\",\"apple\",\"zebra\",\"datascience\"]\n",
    "print(max(a))"
   ]
  },
  {
   "cell_type": "markdown",
   "id": "424f7ebc-888d-451b-a022-9831890ca20b",
   "metadata": {},
   "source": [
    "# min() method"
   ]
  },
  {
   "cell_type": "code",
   "execution_count": 65,
   "id": "e51e9197-9508-48d2-981e-95dac596ee48",
   "metadata": {},
   "outputs": [
    {
     "name": "stdout",
     "output_type": "stream",
     "text": [
      "11\n"
     ]
    }
   ],
   "source": [
    "a=[11,88,33,44,55,66,33,77,88,33]\n",
    "print(min(a))"
   ]
  },
  {
   "cell_type": "code",
   "execution_count": 67,
   "id": "4e5021b0-f917-4555-bc3f-9356e996cc78",
   "metadata": {},
   "outputs": [
    {
     "name": "stdout",
     "output_type": "stream",
     "text": [
      "hey\n"
     ]
    }
   ],
   "source": [
    "a=[\"hey\",\"play\",\"student\"]\n",
    "print(min(a))"
   ]
  },
  {
   "cell_type": "code",
   "execution_count": 68,
   "id": "8626dead-7647-491e-b2be-127234900dbd",
   "metadata": {},
   "outputs": [
    {
     "name": "stdout",
     "output_type": "stream",
     "text": [
      "-55\n"
     ]
    }
   ],
   "source": [
    "a=[11,88,33,4.4,-55,6.6,3.3,77,88.9,33]\n",
    "print(min(a))"
   ]
  },
  {
   "cell_type": "code",
   "execution_count": 69,
   "id": "69a39c2c-c5e7-463f-b219-08a40de5c222",
   "metadata": {},
   "outputs": [
    {
     "name": "stdout",
     "output_type": "stream",
     "text": [
      "apple\n"
     ]
    }
   ],
   "source": [
    "a=[\"hey\",\"play\",\"student\",\"apple\",\"horse\",\"bat\"]\n",
    "print(min(a))"
   ]
  },
  {
   "cell_type": "code",
   "execution_count": 70,
   "id": "e5dc2ba0-1a58-499b-aef5-fde4cde4c4fa",
   "metadata": {},
   "outputs": [
    {
     "name": "stdout",
     "output_type": "stream",
     "text": [
      "Apple\n"
     ]
    }
   ],
   "source": [
    "a=[\"hey\",\"play\",\"student\",\"apple\",\"horse\",\"bat\",\"Apple\"]\n",
    "print(min(a))"
   ]
  },
  {
   "cell_type": "markdown",
   "id": "2ff4ba64-5d70-4d15-be46-574781a49d39",
   "metadata": {},
   "source": [
    "# sort() method"
   ]
  },
  {
   "cell_type": "code",
   "execution_count": 71,
   "id": "5e663317-84bf-4892-908b-43c56a143f7c",
   "metadata": {},
   "outputs": [
    {
     "name": "stdout",
     "output_type": "stream",
     "text": [
      "[7, 12, 23, 34, 45, 56, 67, 78, 89]\n"
     ]
    }
   ],
   "source": [
    "a=[12,23,34,45,56,67,78,89,7]\n",
    "a.sort()                      # ascending order\n",
    "print(a)"
   ]
  },
  {
   "cell_type": "code",
   "execution_count": 73,
   "id": "527dfcc0-576f-456d-90a2-73ae4a59569f",
   "metadata": {},
   "outputs": [
    {
     "name": "stdout",
     "output_type": "stream",
     "text": [
      "[89, 78, 67, 56, 45, 34, 23, 12, 7]\n"
     ]
    }
   ],
   "source": [
    "a=[12,23,34,45,56,67,78,89,7]\n",
    "a.sort(reverse=True)          # descending order\n",
    "print(a)"
   ]
  },
  {
   "cell_type": "code",
   "execution_count": 74,
   "id": "402f6419-b122-4a5e-848f-84a6eabc71d3",
   "metadata": {},
   "outputs": [
    {
     "name": "stdout",
     "output_type": "stream",
     "text": [
      "['aunty', 'bravo', 'brother', 'neighbours', 'nephew']\n"
     ]
    }
   ],
   "source": [
    "b=[\"aunty\",\"neighbours\",\"bravo\",\"brother\",\"nephew\"]\n",
    "b.sort()\n",
    "print(b)"
   ]
  },
  {
   "cell_type": "code",
   "execution_count": 75,
   "id": "90d5e229-1b63-4b0d-b162-5c0d9940d19d",
   "metadata": {},
   "outputs": [
    {
     "name": "stdout",
     "output_type": "stream",
     "text": [
      "['nephew', 'neighbours', 'brother', 'bravo', 'aunty']\n"
     ]
    }
   ],
   "source": [
    "b=[\"aunty\",\"neighbours\",\"bravo\",\"brother\",\"nephew\"]\n",
    "b.sort(reverse=True)\n",
    "print(b)"
   ]
  },
  {
   "cell_type": "markdown",
   "id": "c5e1e9dd-cd4a-4885-a93f-87bf74ee28f7",
   "metadata": {},
   "source": [
    "# reverse() method"
   ]
  },
  {
   "cell_type": "code",
   "execution_count": 78,
   "id": "f7d1079c-1e43-4d9a-b276-d7f50dc4cfb9",
   "metadata": {},
   "outputs": [
    {
     "name": "stdout",
     "output_type": "stream",
     "text": [
      "12\n",
      "[7, 89, 78, 67, 56, 45, 34, 23, 12]\n",
      "7\n"
     ]
    }
   ],
   "source": [
    "a=[12,23,34,45,56,67,78,89,7]\n",
    "print(a[0])\n",
    "a.reverse()\n",
    "print(a)\n",
    "print(a[0])"
   ]
  },
  {
   "cell_type": "code",
   "execution_count": 79,
   "id": "8b0c208c-6b49-423e-80f2-4c64208ce3d6",
   "metadata": {},
   "outputs": [
    {
     "name": "stdout",
     "output_type": "stream",
     "text": [
      "['mat', 'hen', 'cat', 'apple']\n"
     ]
    }
   ],
   "source": [
    "a=[\"apple\",\"cat\",\"hen\",\"mat\"]\n",
    "a.reverse()\n",
    "print(a)"
   ]
  },
  {
   "cell_type": "markdown",
   "id": "8bb1c736-7db9-465e-8a90-ea0c900247ea",
   "metadata": {},
   "source": [
    "# index() method"
   ]
  },
  {
   "cell_type": "code",
   "execution_count": 80,
   "id": "71c60c3c-3209-4fe8-ab9c-f6e8d338ec58",
   "metadata": {},
   "outputs": [
    {
     "name": "stdout",
     "output_type": "stream",
     "text": [
      "12\n"
     ]
    }
   ],
   "source": [
    "a=[12,23,34,45,56,67,78,89,7]\n",
    "print(a[0])"
   ]
  },
  {
   "cell_type": "code",
   "execution_count": 82,
   "id": "c5d47dc1-180c-4472-a273-7f7cfde14e02",
   "metadata": {},
   "outputs": [
    {
     "name": "stdout",
     "output_type": "stream",
     "text": [
      "4\n"
     ]
    }
   ],
   "source": [
    "a=[12,23,34,45,56,67,78,89,7]\n",
    "print(a.index(56))"
   ]
  },
  {
   "cell_type": "markdown",
   "id": "f6f01174-8587-4267-ab88-47337d508260",
   "metadata": {},
   "source": [
    "# why we need copy() method"
   ]
  },
  {
   "cell_type": "code",
   "execution_count": 83,
   "id": "2fc60da0-9c0b-4ce7-b95c-3b5e0873eadd",
   "metadata": {},
   "outputs": [
    {
     "name": "stdout",
     "output_type": "stream",
     "text": [
      "[12, 45, 32, 15, 78]\n"
     ]
    }
   ],
   "source": [
    "L=[12,45,32,15,78]\n",
    "L1=[]\n",
    "L1=L\n",
    "print(L1)"
   ]
  },
  {
   "cell_type": "code",
   "execution_count": 84,
   "id": "3fc78163-6bbe-49e3-b77d-36135fcc2466",
   "metadata": {},
   "outputs": [
    {
     "name": "stdout",
     "output_type": "stream",
     "text": [
      "[12, 45, 'hello', 15, 78]\n"
     ]
    }
   ],
   "source": [
    "L[2]=\"hello\"\n",
    "print(L)"
   ]
  },
  {
   "cell_type": "code",
   "execution_count": 85,
   "id": "b6a0929f-c1f8-4748-a3f2-0475552e7f68",
   "metadata": {},
   "outputs": [
    {
     "name": "stdout",
     "output_type": "stream",
     "text": [
      "[12, 45, 'hello', 15, 78]\n"
     ]
    }
   ],
   "source": [
    "print(L1)"
   ]
  },
  {
   "cell_type": "markdown",
   "id": "7dea4bef-442d-46cf-94a4-cafd0b6be0ed",
   "metadata": {},
   "source": [
    "# copy() method"
   ]
  },
  {
   "cell_type": "code",
   "execution_count": 86,
   "id": "58c5dec2-2da7-43a2-9059-c5337334221e",
   "metadata": {},
   "outputs": [
    {
     "name": "stdout",
     "output_type": "stream",
     "text": [
      "[12, 45, 32, 15, 78]\n"
     ]
    }
   ],
   "source": [
    "L=[12,45,32,15,78]\n",
    "L1=L.copy()\n",
    "print(L1)"
   ]
  },
  {
   "cell_type": "code",
   "execution_count": 87,
   "id": "99bbc2a2-1909-4163-b76e-f78ecc784e78",
   "metadata": {},
   "outputs": [
    {
     "name": "stdout",
     "output_type": "stream",
     "text": [
      "[12, 45, 'students', 15, 78]\n"
     ]
    }
   ],
   "source": [
    "L1[2]=\"students\"\n",
    "print(L1)"
   ]
  },
  {
   "cell_type": "code",
   "execution_count": 88,
   "id": "7d3e5e7c-1dbb-4996-be4a-118888b44d27",
   "metadata": {},
   "outputs": [
    {
     "name": "stdout",
     "output_type": "stream",
     "text": [
      "[12, 45, 32, 15, 78]\n"
     ]
    }
   ],
   "source": [
    "print(L)"
   ]
  },
  {
   "cell_type": "code",
   "execution_count": 91,
   "id": "2bb442a7-9df3-4688-b055-0a2d784ca784",
   "metadata": {},
   "outputs": [
    {
     "name": "stdin",
     "output_type": "stream",
     "text": [
      "Enter the number of elements you want in the list 5\n",
      "Enter elements 5\n",
      "Enter elements 6\n",
      "Enter elements 7\n",
      "Enter elements 8\n",
      "Enter elements 9\n"
     ]
    },
    {
     "name": "stdout",
     "output_type": "stream",
     "text": [
      "[5, 6, 7, 8, 9]\n",
      "[9, 8, 7, 6, 5]\n"
     ]
    }
   ],
   "source": [
    "\"\"\" Take the input of the list from the user and then reverse the list\"\"\"\n",
    "a=[]\n",
    "b=int(input(\"Enter the number of elements you want in the list\"))\n",
    "for i in range(b):\n",
    "    a.append(int(input(\"Enter elements\")))\n",
    "print(a)\n",
    "a.reverse()\n",
    "print(a)"
   ]
  },
  {
   "cell_type": "code",
   "execution_count": 92,
   "id": "5bf4f901-aeb3-48ae-9ad9-7bb940a66431",
   "metadata": {},
   "outputs": [
    {
     "name": "stdin",
     "output_type": "stream",
     "text": [
      "how many items you want in the list 5\n",
      "Enter elements 45\n",
      "Enter elements 14\n",
      "Enter elements 78\n",
      "Enter elements 35\n",
      "Enter elements 21\n"
     ]
    },
    {
     "name": "stdout",
     "output_type": "stream",
     "text": [
      "[45, 14, 78, 35, 21]\n",
      "[21, 14, 78, 35, 45]\n"
     ]
    }
   ],
   "source": [
    "\"\"\"Take the input from user and interchange the first and the last element of the list\"\"\"\n",
    "\n",
    "a=[]\n",
    "b=int(input(\"how many items you want in the list\"))\n",
    "for i in range(b):\n",
    "    a.append(int(input(\"Enter elements\")))\n",
    "\n",
    "print(a)\n",
    "temp=a[0]\n",
    "a[0]=a[4]\n",
    "a[4]=temp\n",
    "print(a)\n"
   ]
  },
  {
   "cell_type": "code",
   "execution_count": null,
   "id": "72ef72e7-12d8-46ae-bc71-1c3d5f8e17ac",
   "metadata": {},
   "outputs": [],
   "source": []
  },
  {
   "cell_type": "code",
   "execution_count": null,
   "id": "a7233c4d-424c-4dd1-aa3c-c8837ef5fc8a",
   "metadata": {},
   "outputs": [],
   "source": []
  },
  {
   "cell_type": "code",
   "execution_count": null,
   "id": "752c5471-2dd4-4331-b9d8-68b1dc822b5f",
   "metadata": {},
   "outputs": [],
   "source": []
  },
  {
   "cell_type": "code",
   "execution_count": null,
   "id": "25f7251d-a3f7-41f7-90af-5d9b89431d9f",
   "metadata": {},
   "outputs": [],
   "source": []
  },
  {
   "cell_type": "code",
   "execution_count": null,
   "id": "d94011e5-49ab-43ef-9965-c287eeb79353",
   "metadata": {},
   "outputs": [],
   "source": []
  },
  {
   "cell_type": "code",
   "execution_count": null,
   "id": "23490c3f-320a-4a2f-b294-e2fc01aef5b6",
   "metadata": {},
   "outputs": [],
   "source": []
  },
  {
   "cell_type": "code",
   "execution_count": null,
   "id": "3c370c22-b947-4507-aa83-1e6fc90ad714",
   "metadata": {},
   "outputs": [],
   "source": []
  },
  {
   "cell_type": "code",
   "execution_count": null,
   "id": "d0060623-5b37-4c4c-8a44-b42cf6b82aee",
   "metadata": {},
   "outputs": [],
   "source": []
  },
  {
   "cell_type": "code",
   "execution_count": null,
   "id": "bbf54340-a929-4fa7-89fa-bbf4e5305c71",
   "metadata": {},
   "outputs": [],
   "source": []
  },
  {
   "cell_type": "code",
   "execution_count": null,
   "id": "243fe92a-da48-4fa0-b5b8-9b06eb11b610",
   "metadata": {},
   "outputs": [],
   "source": []
  },
  {
   "cell_type": "code",
   "execution_count": null,
   "id": "0b23b327-9867-4a89-a632-d6539f2fbcbf",
   "metadata": {},
   "outputs": [],
   "source": []
  },
  {
   "cell_type": "code",
   "execution_count": null,
   "id": "0c4deb5d-8dc6-48b9-8da5-17089f0ce6d0",
   "metadata": {},
   "outputs": [],
   "source": []
  },
  {
   "cell_type": "code",
   "execution_count": null,
   "id": "930c82e0-68db-41db-96c9-d425e49fedcd",
   "metadata": {},
   "outputs": [],
   "source": []
  },
  {
   "cell_type": "code",
   "execution_count": null,
   "id": "6907ecd1-4627-4a27-80a2-f88739cd4a52",
   "metadata": {},
   "outputs": [],
   "source": []
  },
  {
   "cell_type": "code",
   "execution_count": null,
   "id": "2a62ad75-f178-4395-9c57-3512009c66b7",
   "metadata": {},
   "outputs": [],
   "source": []
  }
 ],
 "metadata": {
  "kernelspec": {
   "display_name": "Python 3 (ipykernel)",
   "language": "python",
   "name": "python3"
  },
  "language_info": {
   "codemirror_mode": {
    "name": "ipython",
    "version": 3
   },
   "file_extension": ".py",
   "mimetype": "text/x-python",
   "name": "python",
   "nbconvert_exporter": "python",
   "pygments_lexer": "ipython3",
   "version": "3.11.5"
  }
 },
 "nbformat": 4,
 "nbformat_minor": 5
}
