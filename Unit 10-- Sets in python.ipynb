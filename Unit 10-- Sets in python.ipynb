{
 "cells": [
  {
   "cell_type": "code",
   "execution_count": 4,
   "id": "8ab2e0e5-c7d3-469e-a311-82e71b1e5467",
   "metadata": {},
   "outputs": [
    {
     "name": "stdout",
     "output_type": "stream",
     "text": [
      "{12, 13, 14, 15}\n",
      "<class 'set'>\n"
     ]
    }
   ],
   "source": [
    "s={12,13,14,15}\n",
    "print(s)\n",
    "print(type(s))"
   ]
  },
  {
   "cell_type": "code",
   "execution_count": 2,
   "id": "2d23d519-cdfa-4ba5-b5bd-c060564348d1",
   "metadata": {},
   "outputs": [
    {
     "name": "stdout",
     "output_type": "stream",
     "text": [
      "{12, 13, 14, 15}\n"
     ]
    }
   ],
   "source": [
    "print(s)"
   ]
  },
  {
   "cell_type": "code",
   "execution_count": 3,
   "id": "bcea78d5-c6a6-40a7-bc3a-a3167f415310",
   "metadata": {},
   "outputs": [
    {
     "name": "stdout",
     "output_type": "stream",
     "text": [
      "{1, 2, 3, 4, 34.56, 6, 7, 8, 'cat', 'apple', 12.35, -9, -5}\n"
     ]
    }
   ],
   "source": [
    "a={1,2,3,4,6,7,8,-5,-9,12.35,34.56,'apple','cat'}\n",
    "print(a)"
   ]
  },
  {
   "cell_type": "markdown",
   "id": "d319c6df-68af-4e24-ba3a-b9c37f2aa190",
   "metadata": {},
   "source": [
    "# unordered"
   ]
  },
  {
   "cell_type": "code",
   "execution_count": 6,
   "id": "ffe9eafc-5141-41e6-a159-391fda2eee20",
   "metadata": {},
   "outputs": [
    {
     "ename": "TypeError",
     "evalue": "'set' object is not subscriptable",
     "output_type": "error",
     "traceback": [
      "\u001b[1;31m---------------------------------------------------------------------------\u001b[0m",
      "\u001b[1;31mTypeError\u001b[0m                                 Traceback (most recent call last)",
      "Cell \u001b[1;32mIn[6], line 2\u001b[0m\n\u001b[0;32m      1\u001b[0m b\u001b[38;5;241m=\u001b[39m{\u001b[38;5;241m1\u001b[39m,\u001b[38;5;241m2\u001b[39m,\u001b[38;5;241m3\u001b[39m,\u001b[38;5;241m4\u001b[39m,\u001b[38;5;241m6\u001b[39m,\u001b[38;5;241m7\u001b[39m,\u001b[38;5;241m8\u001b[39m,\u001b[38;5;241m-\u001b[39m\u001b[38;5;241m5\u001b[39m,\u001b[38;5;241m-\u001b[39m\u001b[38;5;241m9\u001b[39m,\u001b[38;5;241m12.35\u001b[39m,\u001b[38;5;241m34.56\u001b[39m,\u001b[38;5;124m'\u001b[39m\u001b[38;5;124mapple\u001b[39m\u001b[38;5;124m'\u001b[39m,\u001b[38;5;124m'\u001b[39m\u001b[38;5;124mcat\u001b[39m\u001b[38;5;124m'\u001b[39m}\n\u001b[1;32m----> 2\u001b[0m \u001b[38;5;28mprint\u001b[39m(\u001b[43mb\u001b[49m\u001b[43m[\u001b[49m\u001b[38;5;241;43m0\u001b[39;49m\u001b[43m]\u001b[49m)\n",
      "\u001b[1;31mTypeError\u001b[0m: 'set' object is not subscriptable"
     ]
    }
   ],
   "source": [
    "b={1,2,3,4,6,7,8,-5,-9,12.35,34.56,'apple','cat'}\n",
    "print(b[0])"
   ]
  },
  {
   "cell_type": "markdown",
   "id": "ac45afe5-1a4b-44ea-96fe-c919ea54f183",
   "metadata": {},
   "source": [
    "# duplicates not allowed"
   ]
  },
  {
   "cell_type": "code",
   "execution_count": 7,
   "id": "870a3b1c-65d2-4f68-b2b1-0d3a74213075",
   "metadata": {},
   "outputs": [
    {
     "name": "stdout",
     "output_type": "stream",
     "text": [
      "{33, 66, 22, 55, 11, 44}\n"
     ]
    }
   ],
   "source": [
    "A={11,22,33,11,44,55,33,66}\n",
    "print(A)"
   ]
  },
  {
   "cell_type": "code",
   "execution_count": 8,
   "id": "7b97115d-b4a3-4942-89fa-c50e73a20ed7",
   "metadata": {},
   "outputs": [
    {
     "name": "stdout",
     "output_type": "stream",
     "text": [
      "{33, 66, 2.3, 4.5, 'apple', 11, 44, 22, 55}\n"
     ]
    }
   ],
   "source": [
    "A={11,22,33,11,44,55,33,66,2.3,4.5,'apple',2.3,'apple'}\n",
    "print(A)"
   ]
  },
  {
   "cell_type": "markdown",
   "id": "ca362fdf-e039-4cb0-a57f-182f631b3f16",
   "metadata": {},
   "source": [
    "# length of the set"
   ]
  },
  {
   "cell_type": "code",
   "execution_count": 9,
   "id": "c4182447-52ab-4039-83b5-8cb55d429ed3",
   "metadata": {},
   "outputs": [
    {
     "name": "stdout",
     "output_type": "stream",
     "text": [
      "8\n"
     ]
    }
   ],
   "source": [
    "a={12,13,14,15,11,22,33,44}\n",
    "print(len(a))"
   ]
  },
  {
   "cell_type": "code",
   "execution_count": 10,
   "id": "2187d7a0-c876-436a-a951-af6217e6eebe",
   "metadata": {},
   "outputs": [
    {
     "name": "stdout",
     "output_type": "stream",
     "text": [
      "{False, True}\n"
     ]
    }
   ],
   "source": [
    "a={True,False,True,False}\n",
    "print(a)"
   ]
  },
  {
   "cell_type": "code",
   "execution_count": 11,
   "id": "460eab24-0e81-4c1f-89ab-64c64735523a",
   "metadata": {},
   "outputs": [
    {
     "name": "stdout",
     "output_type": "stream",
     "text": [
      "{33, 11, 12, 13, 14, 15, 44, 22}\n"
     ]
    }
   ],
   "source": [
    "a={12,13,14,15,11,22,33,44}\n",
    "print(a)"
   ]
  },
  {
   "cell_type": "markdown",
   "id": "8bb1997e-98e4-4566-9255-86228a5151f5",
   "metadata": {},
   "source": [
    "# access items"
   ]
  },
  {
   "cell_type": "code",
   "execution_count": 12,
   "id": "004bf3d0-4582-4971-af4e-7d0a6ba5d522",
   "metadata": {},
   "outputs": [
    {
     "name": "stdout",
     "output_type": "stream",
     "text": [
      "33\n",
      "66\n",
      "2.2\n",
      "orange\n",
      "1.2\n",
      "apple\n",
      "11\n",
      "44\n",
      "77\n",
      "22\n",
      "55\n",
      "88\n"
     ]
    }
   ],
   "source": [
    "s={11,22,33,44,55,66,77,88,1.2,2.2,'apple','orange'}\n",
    "for i in s:\n",
    "    print(i)"
   ]
  },
  {
   "cell_type": "code",
   "execution_count": 13,
   "id": "529758a1-c4be-4269-8adb-a5dc62d4e9ef",
   "metadata": {},
   "outputs": [
    {
     "name": "stdout",
     "output_type": "stream",
     "text": [
      "True\n"
     ]
    }
   ],
   "source": [
    "\"\"\" Check if apple is in set or not ?\"\"\"\n",
    "s={11,22,33,44,55,66,77,88,1.2,2.2,'apple','orange'}\n",
    "print('apple'in s)"
   ]
  },
  {
   "cell_type": "code",
   "execution_count": 14,
   "id": "80ea62b9-4d53-4bf6-ad6b-9f719e9f9118",
   "metadata": {},
   "outputs": [
    {
     "name": "stdout",
     "output_type": "stream",
     "text": [
      "True\n"
     ]
    }
   ],
   "source": [
    "\"\"\" Check if 33 is in set or not ?\"\"\"\n",
    "s={11,22,33,44,55,66,77,88,1.2,2.2,'apple','orange'}\n",
    "print(33 in s)"
   ]
  },
  {
   "cell_type": "code",
   "execution_count": 15,
   "id": "c5a07917-e89f-4549-a2c9-6b908c6ca528",
   "metadata": {},
   "outputs": [
    {
     "name": "stdout",
     "output_type": "stream",
     "text": [
      "False\n"
     ]
    }
   ],
   "source": [
    "s={11,22,33,44,55,66,77,88,1.2,2.2,'apple','orange'}\n",
    "print(99 in s)"
   ]
  },
  {
   "cell_type": "markdown",
   "id": "d36be96c-5116-4d79-abb3-842e3fe25338",
   "metadata": {},
   "source": [
    "# add items"
   ]
  },
  {
   "cell_type": "code",
   "execution_count": 16,
   "id": "56f1a43f-06e4-416d-8d10-7e65cc5e005a",
   "metadata": {},
   "outputs": [
    {
     "name": "stdout",
     "output_type": "stream",
     "text": [
      "{33, 'orange', 'green', 'blue', 11, 44, 'red', 55, 22, 23}\n"
     ]
    }
   ],
   "source": [
    "a={23,11,22,33,44,55,'red','blue','green'}\n",
    "a.add('orange')\n",
    "print(a)"
   ]
  },
  {
   "cell_type": "code",
   "execution_count": 18,
   "id": "ac95fa68-5866-4cb6-bfb7-8526f9719491",
   "metadata": {},
   "outputs": [
    {
     "name": "stdout",
     "output_type": "stream",
     "text": [
      "{33, 1.45, 'green', 'blue', 11, 44, 'red', 55, 22, 23}\n"
     ]
    }
   ],
   "source": [
    "a={23,11,22,33,44,55,'red','blue','green'}\n",
    "a.add(1.45)\n",
    "print(a)"
   ]
  },
  {
   "cell_type": "code",
   "execution_count": 19,
   "id": "1cef8aa6-31f9-483e-a49b-e92b407ee134",
   "metadata": {},
   "outputs": [
    {
     "ename": "TypeError",
     "evalue": "set.add() takes exactly one argument (2 given)",
     "output_type": "error",
     "traceback": [
      "\u001b[1;31m---------------------------------------------------------------------------\u001b[0m",
      "\u001b[1;31mTypeError\u001b[0m                                 Traceback (most recent call last)",
      "Cell \u001b[1;32mIn[19], line 2\u001b[0m\n\u001b[0;32m      1\u001b[0m a\u001b[38;5;241m=\u001b[39m{\u001b[38;5;241m23\u001b[39m,\u001b[38;5;241m11\u001b[39m,\u001b[38;5;241m22\u001b[39m,\u001b[38;5;241m33\u001b[39m,\u001b[38;5;241m44\u001b[39m,\u001b[38;5;241m55\u001b[39m,\u001b[38;5;124m'\u001b[39m\u001b[38;5;124mred\u001b[39m\u001b[38;5;124m'\u001b[39m,\u001b[38;5;124m'\u001b[39m\u001b[38;5;124mblue\u001b[39m\u001b[38;5;124m'\u001b[39m,\u001b[38;5;124m'\u001b[39m\u001b[38;5;124mgreen\u001b[39m\u001b[38;5;124m'\u001b[39m}\n\u001b[1;32m----> 2\u001b[0m \u001b[43ma\u001b[49m\u001b[38;5;241;43m.\u001b[39;49m\u001b[43madd\u001b[49m\u001b[43m(\u001b[49m\u001b[38;5;241;43m3\u001b[39;49m\u001b[43m,\u001b[49m\u001b[38;5;241;43m5\u001b[39;49m\u001b[43m)\u001b[49m\n\u001b[0;32m      3\u001b[0m \u001b[38;5;28mprint\u001b[39m(a)\n",
      "\u001b[1;31mTypeError\u001b[0m: set.add() takes exactly one argument (2 given)"
     ]
    }
   ],
   "source": [
    "a={23,11,22,33,44,55,'red','blue','green'}\n",
    "a.add(3,5)\n",
    "print(a)"
   ]
  },
  {
   "cell_type": "markdown",
   "id": "c0e0421f-6389-4eb0-aa37-8120fc7026f9",
   "metadata": {},
   "source": [
    "# update() method"
   ]
  },
  {
   "cell_type": "code",
   "execution_count": 22,
   "id": "b0e1864a-17d7-4ff5-9dd7-e5041b40eaca",
   "metadata": {},
   "outputs": [
    {
     "name": "stdout",
     "output_type": "stream",
     "text": [
      "{33, 'green', 'blue', 11, 44, 'red', 23, 22, 55}\n"
     ]
    }
   ],
   "source": [
    "a={23,11,22,33,44,55}\n",
    "b={'red','blue','green'}\n",
    "a.update(b)\n",
    "print(a)"
   ]
  },
  {
   "cell_type": "code",
   "execution_count": 23,
   "id": "1cfebd7e-e121-4910-89e0-050b297bf1a7",
   "metadata": {},
   "outputs": [
    {
     "name": "stdout",
     "output_type": "stream",
     "text": [
      "{33, 2.89, 5.56, 'green', 'red', 11, 44, 23, 22, 55}\n"
     ]
    }
   ],
   "source": [
    "a={23,11,22,33,44,55}\n",
    "b={'red',2.89,'green',5.56}\n",
    "b.update(a)\n",
    "print(b)"
   ]
  },
  {
   "cell_type": "markdown",
   "id": "976d9cbe-bb6c-44d6-8e7a-44996202805c",
   "metadata": {},
   "source": [
    "# remove item"
   ]
  },
  {
   "cell_type": "code",
   "execution_count": 24,
   "id": "99850ac2-c865-4c97-b67f-338632b5bfcd",
   "metadata": {},
   "outputs": [
    {
     "name": "stdout",
     "output_type": "stream",
     "text": [
      "{33, 'green', 'blue', 11, 44, 'red', 22, 23}\n"
     ]
    }
   ],
   "source": [
    "a={23,11,22,33,44,55,'red','blue','green'}\n",
    "a.remove(55)\n",
    "print(a)"
   ]
  },
  {
   "cell_type": "code",
   "execution_count": 25,
   "id": "c47d3c20-27fa-48ba-b86a-403310efdd58",
   "metadata": {},
   "outputs": [
    {
     "name": "stdout",
     "output_type": "stream",
     "text": [
      "{33, 'green', 'blue', 11, 44, 55, 22, 23}\n"
     ]
    }
   ],
   "source": [
    "a={23,11,22,33,44,55,'red','blue','green'}\n",
    "a.remove('red')\n",
    "print(a)"
   ]
  },
  {
   "cell_type": "markdown",
   "id": "257726da-d87a-4606-a88e-fcc483b7a5da",
   "metadata": {},
   "source": [
    "# discard() method"
   ]
  },
  {
   "cell_type": "code",
   "execution_count": 26,
   "id": "9de24a0b-9443-411c-98cf-58923464ffa8",
   "metadata": {},
   "outputs": [
    {
     "name": "stdout",
     "output_type": "stream",
     "text": [
      "{33, 'green', 'blue', 11, 44, 55, 22, 23}\n"
     ]
    }
   ],
   "source": [
    "a={23,11,22,33,44,55,'red','blue','green'}\n",
    "a.discard('red')\n",
    "print(a)"
   ]
  },
  {
   "cell_type": "code",
   "execution_count": 27,
   "id": "d6738aa2-e930-426b-b6cc-067e77657352",
   "metadata": {},
   "outputs": [
    {
     "name": "stdout",
     "output_type": "stream",
     "text": [
      "{2.2, 'green', 'blue', 11, 44, 'red', 55, 23}\n"
     ]
    }
   ],
   "source": [
    "a={23,11,2.2,3.3,44,55,'red','blue','green'}\n",
    "a.discard(3.3)\n",
    "print(a)"
   ]
  },
  {
   "cell_type": "code",
   "execution_count": 28,
   "id": "4c720d09-1660-4925-90ba-a5905cad92c4",
   "metadata": {},
   "outputs": [
    {
     "ename": "TypeError",
     "evalue": "set.discard() takes exactly one argument (2 given)",
     "output_type": "error",
     "traceback": [
      "\u001b[1;31m---------------------------------------------------------------------------\u001b[0m",
      "\u001b[1;31mTypeError\u001b[0m                                 Traceback (most recent call last)",
      "Cell \u001b[1;32mIn[28], line 2\u001b[0m\n\u001b[0;32m      1\u001b[0m a\u001b[38;5;241m=\u001b[39m{\u001b[38;5;241m23\u001b[39m,\u001b[38;5;241m11\u001b[39m,\u001b[38;5;241m22\u001b[39m,\u001b[38;5;241m33\u001b[39m,\u001b[38;5;241m44\u001b[39m,\u001b[38;5;241m55\u001b[39m,\u001b[38;5;124m'\u001b[39m\u001b[38;5;124mred\u001b[39m\u001b[38;5;124m'\u001b[39m,\u001b[38;5;124m'\u001b[39m\u001b[38;5;124mblue\u001b[39m\u001b[38;5;124m'\u001b[39m,\u001b[38;5;124m'\u001b[39m\u001b[38;5;124mgreen\u001b[39m\u001b[38;5;124m'\u001b[39m}\n\u001b[1;32m----> 2\u001b[0m \u001b[43ma\u001b[49m\u001b[38;5;241;43m.\u001b[39;49m\u001b[43mdiscard\u001b[49m\u001b[43m(\u001b[49m\u001b[38;5;124;43m'\u001b[39;49m\u001b[38;5;124;43mred\u001b[39;49m\u001b[38;5;124;43m'\u001b[39;49m\u001b[43m,\u001b[49m\u001b[38;5;124;43m'\u001b[39;49m\u001b[38;5;124;43mblue\u001b[39;49m\u001b[38;5;124;43m'\u001b[39;49m\u001b[43m)\u001b[49m\n\u001b[0;32m      3\u001b[0m \u001b[38;5;28mprint\u001b[39m(a)\n",
      "\u001b[1;31mTypeError\u001b[0m: set.discard() takes exactly one argument (2 given)"
     ]
    }
   ],
   "source": [
    "a={23,11,22,33,44,55,'red','blue','green'}\n",
    "a.discard('red','blue')\n",
    "print(a)"
   ]
  },
  {
   "cell_type": "code",
   "execution_count": 29,
   "id": "714ce72d-455e-4320-bfbf-1b8bf796b2e4",
   "metadata": {},
   "outputs": [
    {
     "ename": "TypeError",
     "evalue": "set.remove() takes exactly one argument (2 given)",
     "output_type": "error",
     "traceback": [
      "\u001b[1;31m---------------------------------------------------------------------------\u001b[0m",
      "\u001b[1;31mTypeError\u001b[0m                                 Traceback (most recent call last)",
      "Cell \u001b[1;32mIn[29], line 2\u001b[0m\n\u001b[0;32m      1\u001b[0m a\u001b[38;5;241m=\u001b[39m{\u001b[38;5;241m23\u001b[39m,\u001b[38;5;241m11\u001b[39m,\u001b[38;5;241m22\u001b[39m,\u001b[38;5;241m33\u001b[39m,\u001b[38;5;241m44\u001b[39m,\u001b[38;5;241m55\u001b[39m,\u001b[38;5;124m'\u001b[39m\u001b[38;5;124mred\u001b[39m\u001b[38;5;124m'\u001b[39m,\u001b[38;5;124m'\u001b[39m\u001b[38;5;124mblue\u001b[39m\u001b[38;5;124m'\u001b[39m,\u001b[38;5;124m'\u001b[39m\u001b[38;5;124mgreen\u001b[39m\u001b[38;5;124m'\u001b[39m}\n\u001b[1;32m----> 2\u001b[0m \u001b[43ma\u001b[49m\u001b[38;5;241;43m.\u001b[39;49m\u001b[43mremove\u001b[49m\u001b[43m(\u001b[49m\u001b[38;5;124;43m'\u001b[39;49m\u001b[38;5;124;43mred\u001b[39;49m\u001b[38;5;124;43m'\u001b[39;49m\u001b[43m,\u001b[49m\u001b[38;5;124;43m'\u001b[39;49m\u001b[38;5;124;43mblue\u001b[39;49m\u001b[38;5;124;43m'\u001b[39;49m\u001b[43m)\u001b[49m\n\u001b[0;32m      3\u001b[0m \u001b[38;5;28mprint\u001b[39m(a)\n",
      "\u001b[1;31mTypeError\u001b[0m: set.remove() takes exactly one argument (2 given)"
     ]
    }
   ],
   "source": [
    "a={23,11,22,33,44,55,'red','blue','green'}\n",
    "a.remove('red','blue')\n",
    "print(a)"
   ]
  },
  {
   "cell_type": "markdown",
   "id": "b495ed92-26f5-46a7-baf7-121986694eb7",
   "metadata": {},
   "source": [
    "# pop() method"
   ]
  },
  {
   "cell_type": "code",
   "execution_count": 30,
   "id": "dfe5df61-474d-4e3d-9940-61d1ad3c700a",
   "metadata": {},
   "outputs": [
    {
     "name": "stdout",
     "output_type": "stream",
     "text": [
      "{'green', 'blue', 11, 44, 'red', -11, 22, 23, 55}\n"
     ]
    }
   ],
   "source": [
    "a={23,11,22,33,44,55,'red','blue','green',-11}\n",
    "a.pop()\n",
    "print(a)"
   ]
  },
  {
   "cell_type": "code",
   "execution_count": 31,
   "id": "7fb195dd-7f75-40e6-a17d-95f89c904c38",
   "metadata": {},
   "outputs": [
    {
     "name": "stdout",
     "output_type": "stream",
     "text": [
      "{5.67, 'green', 'blue', 11, 44, 'red', 'hello', -11, 22, 23, 55}\n"
     ]
    }
   ],
   "source": [
    "a={23,11,22,33,44,55,'red','blue','green',-11,'hello',5.67}\n",
    "a.pop()\n",
    "print(a)"
   ]
  },
  {
   "cell_type": "markdown",
   "id": "d67ce0b7-4deb-49d3-8ef4-797d4b399ea1",
   "metadata": {},
   "source": [
    "# clear() method"
   ]
  },
  {
   "cell_type": "code",
   "execution_count": 33,
   "id": "12a61fd4-639e-4275-9e0a-2fb4c11f0ada",
   "metadata": {},
   "outputs": [
    {
     "name": "stdout",
     "output_type": "stream",
     "text": [
      "set()\n",
      "<class 'set'>\n"
     ]
    }
   ],
   "source": [
    "a={23,11,22,33,44,55,'red','blue','green'}\n",
    "a.clear()\n",
    "print(a)\n",
    "print(type(a))"
   ]
  },
  {
   "cell_type": "markdown",
   "id": "8a5218e4-803a-4cc1-8c20-97e682cee60c",
   "metadata": {},
   "source": [
    "# delete() method"
   ]
  },
  {
   "cell_type": "code",
   "execution_count": 34,
   "id": "308a6196-54e8-43b5-a232-74041e376936",
   "metadata": {},
   "outputs": [
    {
     "ename": "NameError",
     "evalue": "name 'a' is not defined",
     "output_type": "error",
     "traceback": [
      "\u001b[1;31m---------------------------------------------------------------------------\u001b[0m",
      "\u001b[1;31mNameError\u001b[0m                                 Traceback (most recent call last)",
      "Cell \u001b[1;32mIn[34], line 3\u001b[0m\n\u001b[0;32m      1\u001b[0m a\u001b[38;5;241m=\u001b[39m{\u001b[38;5;241m23\u001b[39m,\u001b[38;5;241m11\u001b[39m,\u001b[38;5;241m22\u001b[39m,\u001b[38;5;241m33\u001b[39m,\u001b[38;5;241m44\u001b[39m,\u001b[38;5;241m55\u001b[39m,\u001b[38;5;124m'\u001b[39m\u001b[38;5;124mred\u001b[39m\u001b[38;5;124m'\u001b[39m,\u001b[38;5;124m'\u001b[39m\u001b[38;5;124mblue\u001b[39m\u001b[38;5;124m'\u001b[39m,\u001b[38;5;124m'\u001b[39m\u001b[38;5;124mgreen\u001b[39m\u001b[38;5;124m'\u001b[39m}\n\u001b[0;32m      2\u001b[0m \u001b[38;5;28;01mdel\u001b[39;00m(a)\n\u001b[1;32m----> 3\u001b[0m \u001b[38;5;28mprint\u001b[39m(\u001b[43ma\u001b[49m)\n",
      "\u001b[1;31mNameError\u001b[0m: name 'a' is not defined"
     ]
    }
   ],
   "source": [
    "a={23,11,22,33,44,55,'red','blue','green'}\n",
    "del(a)\n",
    "print(a)"
   ]
  },
  {
   "cell_type": "markdown",
   "id": "64666cfd-21d2-437c-8940-c509454ddf0a",
   "metadata": {},
   "source": [
    "# python- join sets -- Union() method"
   ]
  },
  {
   "cell_type": "code",
   "execution_count": 36,
   "id": "53157a3c-6665-449a-82b8-6b4f3b70df7e",
   "metadata": {},
   "outputs": [
    {
     "ename": "TypeError",
     "evalue": "unsupported operand type(s) for +: 'set' and 'set'",
     "output_type": "error",
     "traceback": [
      "\u001b[1;31m---------------------------------------------------------------------------\u001b[0m",
      "\u001b[1;31mTypeError\u001b[0m                                 Traceback (most recent call last)",
      "Cell \u001b[1;32mIn[36], line 3\u001b[0m\n\u001b[0;32m      1\u001b[0m a\u001b[38;5;241m=\u001b[39m{\u001b[38;5;241m23\u001b[39m,\u001b[38;5;241m11\u001b[39m,\u001b[38;5;241m22\u001b[39m,\u001b[38;5;241m33\u001b[39m,\u001b[38;5;241m44\u001b[39m,\u001b[38;5;241m55\u001b[39m}\n\u001b[0;32m      2\u001b[0m b\u001b[38;5;241m=\u001b[39m{\u001b[38;5;124m'\u001b[39m\u001b[38;5;124mred\u001b[39m\u001b[38;5;124m'\u001b[39m,\u001b[38;5;124m'\u001b[39m\u001b[38;5;124mblue\u001b[39m\u001b[38;5;124m'\u001b[39m,\u001b[38;5;124m'\u001b[39m\u001b[38;5;124mgreen\u001b[39m\u001b[38;5;124m'\u001b[39m}\n\u001b[1;32m----> 3\u001b[0m \u001b[38;5;28mprint\u001b[39m(\u001b[43ma\u001b[49m\u001b[38;5;241;43m+\u001b[39;49m\u001b[43mb\u001b[49m)       \u001b[38;5;66;03m# cannot add 2 sets by this method\u001b[39;00m\n",
      "\u001b[1;31mTypeError\u001b[0m: unsupported operand type(s) for +: 'set' and 'set'"
     ]
    }
   ],
   "source": [
    "a={23,11,22,33,44,55}\n",
    "b={'red','blue','green'}\n",
    "print(a+b)       # cannot add 2 sets by this method"
   ]
  },
  {
   "cell_type": "code",
   "execution_count": 37,
   "id": "1ac9a7d7-6b9b-4f4d-b1e1-f1459a5189d7",
   "metadata": {},
   "outputs": [
    {
     "name": "stdout",
     "output_type": "stream",
     "text": [
      "{33, 55, 22, 23, 11, 44}\n",
      "{'blue', 'red', 'green'}\n",
      "{33, 'green', 'blue', 11, 44, 'red', 23, 22, 55}\n"
     ]
    }
   ],
   "source": [
    "a={23,11,22,33,44,55}\n",
    "b={'red','blue','green'}\n",
    "c=a.union(b)\n",
    "print(a)\n",
    "print(b)\n",
    "print(c)"
   ]
  },
  {
   "cell_type": "code",
   "execution_count": 38,
   "id": "06e0924e-f68d-42d2-a2d9-e09efe79c915",
   "metadata": {},
   "outputs": [
    {
     "name": "stdout",
     "output_type": "stream",
     "text": [
      "{1.1, 3.3, 55, 22, 23, 44}\n",
      "{'blue', 'red', 'green'}\n",
      "{1.1, 3.3, 'green', 'blue', 'red', 44, 23, 22, 55}\n"
     ]
    }
   ],
   "source": [
    "a={23,1.1,22,3.3,44,55}\n",
    "b={'red','blue','green'}\n",
    "c=a.union(b)\n",
    "print(a)\n",
    "print(b)\n",
    "print(c)"
   ]
  },
  {
   "cell_type": "markdown",
   "id": "956ce599-fc5a-434c-bf08-82f22b7f8406",
   "metadata": {},
   "source": [
    "# difference between union and update method"
   ]
  },
  {
   "cell_type": "code",
   "execution_count": 39,
   "id": "1e6f1915-5735-4742-a27c-a4b32053fb85",
   "metadata": {},
   "outputs": [
    {
     "name": "stdout",
     "output_type": "stream",
     "text": [
      "{1, 2, 3, 4, 5, 6}\n"
     ]
    }
   ],
   "source": [
    "\"\"\"update method\"\"\"\n",
    "a={1,2,3}\n",
    "b={4,5,6}\n",
    "a.update(b)              # update() method add the items in the existing set\n",
    "print(a)"
   ]
  },
  {
   "cell_type": "code",
   "execution_count": 41,
   "id": "a6d14778-696c-4d0d-8f62-206653935d83",
   "metadata": {},
   "outputs": [
    {
     "name": "stdout",
     "output_type": "stream",
     "text": [
      "None\n"
     ]
    }
   ],
   "source": [
    "a={1,2,3}\n",
    "b={4,5,6}\n",
    "c=a.update(b)            # cannot allow update() function in other variable            \n",
    "print(c)"
   ]
  },
  {
   "cell_type": "code",
   "execution_count": 43,
   "id": "26b5e270-3141-4b28-936d-6f6b88fb48f3",
   "metadata": {},
   "outputs": [
    {
     "name": "stdout",
     "output_type": "stream",
     "text": [
      "{1, 2, 3, 4, 5, 6}\n"
     ]
    }
   ],
   "source": [
    "a={1,2,3}\n",
    "b={4,5,6}\n",
    "c=a.union(b)              # union() method add the items in the new set   \n",
    "print(c)"
   ]
  },
  {
   "cell_type": "markdown",
   "id": "7ac227c9-51aa-4914-a3cb-57f64057f099",
   "metadata": {},
   "source": [
    "# intersection_update() method"
   ]
  },
  {
   "cell_type": "code",
   "execution_count": 44,
   "id": "f2caf32a-3745-48bb-93b8-fa7f847cfb41",
   "metadata": {},
   "outputs": [
    {
     "name": "stdout",
     "output_type": "stream",
     "text": [
      "{1, 5}\n"
     ]
    }
   ],
   "source": [
    "a={1,2,3,5}\n",
    "b={4,5,6,1}\n",
    "a.intersection_update(b)                  \n",
    "print(a)"
   ]
  },
  {
   "cell_type": "code",
   "execution_count": 45,
   "id": "447f83f8-aab4-4324-9153-a33f14789e5d",
   "metadata": {},
   "outputs": [
    {
     "name": "stdout",
     "output_type": "stream",
     "text": [
      "{'red'}\n"
     ]
    }
   ],
   "source": [
    "a={23,1.1,22,3.3,44,55,'red'}\n",
    "b={'red','blue','green'}\n",
    "b.intersection_update(a)\n",
    "print(b)"
   ]
  },
  {
   "cell_type": "markdown",
   "id": "986b0381-3f8c-4b15-a6a8-f1cfcff211f4",
   "metadata": {},
   "source": [
    "# intersection() method"
   ]
  },
  {
   "cell_type": "code",
   "execution_count": 48,
   "id": "7ef38db5-6ff1-4bcb-a69b-58feba7eb505",
   "metadata": {},
   "outputs": [
    {
     "name": "stdout",
     "output_type": "stream",
     "text": [
      "{'red'}\n"
     ]
    }
   ],
   "source": [
    "a={23,1.1,22,3.3,44,55,'red'}\n",
    "b={'red','blue','green'}\n",
    "c=b.intersection(a)\n",
    "print(c)"
   ]
  },
  {
   "cell_type": "code",
   "execution_count": 51,
   "id": "78eca457-a69c-4004-944c-4c5f82eb6e48",
   "metadata": {},
   "outputs": [
    {
     "name": "stdout",
     "output_type": "stream",
     "text": [
      "{2.2, 4.4}\n"
     ]
    }
   ],
   "source": [
    "x={1.2,2.2,3.3,4.4,5.5}\n",
    "y={4.4,3.5,2.2}\n",
    "z=x.intersection(y)\n",
    "print(z)"
   ]
  },
  {
   "cell_type": "markdown",
   "id": "c17ab0e0-77c4-4a12-bb01-1c869a981ca4",
   "metadata": {},
   "source": [
    "# difference() method"
   ]
  },
  {
   "cell_type": "code",
   "execution_count": 52,
   "id": "25b8066a-029e-4709-a6a1-c70875920529",
   "metadata": {},
   "outputs": [
    {
     "name": "stdout",
     "output_type": "stream",
     "text": [
      "{33, 66, 'goa', 'apple', 11, 44, 55}\n"
     ]
    }
   ],
   "source": [
    "\"\"\"return a set that contains the items that only exist in set x not in set y\"\"\"\n",
    "\n",
    "x={11,22,33,44,55,66,'apple','mumbai','goa'}\n",
    "y={99,88,77,13,12,'mumbai',22}\n",
    "z=x.difference(y)\n",
    "print(z)"
   ]
  },
  {
   "cell_type": "code",
   "execution_count": 53,
   "id": "31ac834c-8230-4bf5-9066-650d5a19bb6c",
   "metadata": {},
   "outputs": [
    {
     "name": "stdout",
     "output_type": "stream",
     "text": [
      "{99, 12, 13, 77, 88}\n"
     ]
    }
   ],
   "source": [
    "x={11,22,33,44,55,66,'apple','mumbai','goa'}\n",
    "y={99,88,77,13,12,'mumbai',22}\n",
    "z=y.difference(x)\n",
    "print(z)"
   ]
  },
  {
   "cell_type": "markdown",
   "id": "fb307dba-4844-4696-ba18-e6c2dab30a4d",
   "metadata": {},
   "source": [
    "# difference_update() method"
   ]
  },
  {
   "cell_type": "code",
   "execution_count": 54,
   "id": "8775f985-deb4-4754-9292-e39789e61ac5",
   "metadata": {},
   "outputs": [
    {
     "name": "stdout",
     "output_type": "stream",
     "text": [
      "{33, 11, 44, 'hello', 22, 55}\n"
     ]
    }
   ],
   "source": [
    "\"\"\" remove the items that exists in both sets\"\"\"\n",
    "\n",
    "a={11,22,33,44,55,66,'hello','apple'}\n",
    "b={66,'apple'}\n",
    "a.difference_update(b)\n",
    "print(a)"
   ]
  },
  {
   "cell_type": "code",
   "execution_count": 56,
   "id": "9f391428-074f-494e-870b-411fd7857149",
   "metadata": {},
   "outputs": [
    {
     "name": "stdout",
     "output_type": "stream",
     "text": [
      "{33, 66, 'apple', 11, 44, 'hello', 22, 55}\n",
      "set()\n"
     ]
    }
   ],
   "source": [
    "a={11,22,33,44,55,66,'hello','apple'}\n",
    "b={66,'apple'}\n",
    "b.difference_update(a)\n",
    "print(a)\n",
    "print(b)"
   ]
  },
  {
   "cell_type": "markdown",
   "id": "a8bbd94f-757f-4b42-ab9f-56db39d22b54",
   "metadata": {},
   "source": [
    "# symmetric_difference_update() method"
   ]
  },
  {
   "cell_type": "markdown",
   "id": "898e3609-5784-4341-89d6-f09aa79cf72d",
   "metadata": {},
   "source": [
    "\"\"\"this method will keep only the elements that are NOT present in both sets\"\"\""
   ]
  },
  {
   "cell_type": "code",
   "execution_count": 57,
   "id": "834643d1-9df1-4685-b6c2-e7e6b19d8f3c",
   "metadata": {},
   "outputs": [
    {
     "name": "stdout",
     "output_type": "stream",
     "text": [
      "{33, 41, 11, 44, 'hello', 51, 21, 22, 55, 31}\n"
     ]
    }
   ],
   "source": [
    "a={11,22,33,44,55,66,'hello','apple'}\n",
    "b={21,31,41,51,66,'apple'}\n",
    "a.symmetric_difference_update(b)\n",
    "print(a)"
   ]
  },
  {
   "cell_type": "code",
   "execution_count": 58,
   "id": "69d6c361-d87e-4214-8a8c-39f5d907afb8",
   "metadata": {},
   "outputs": [
    {
     "name": "stdout",
     "output_type": "stream",
     "text": [
      "{33, 41, 11, 44, 'hello', 51, 21, 22, 55, 31}\n"
     ]
    }
   ],
   "source": [
    "a={11,22,33,44,55,66,'hello','apple'}\n",
    "b={21,31,41,51,66,'apple'}\n",
    "b.symmetric_difference_update(a)\n",
    "print(b)"
   ]
  },
  {
   "cell_type": "markdown",
   "id": "cd0db31d-f1e9-4b25-9fad-9a13b18cedbd",
   "metadata": {},
   "source": [
    "# symmetric_difference() method"
   ]
  },
  {
   "cell_type": "markdown",
   "id": "50782f4a-f3d8-4cfa-aa09-6acb81c38d7f",
   "metadata": {},
   "source": [
    "\"\"\"This method will return a new set,that contains only the elements that are NOT present in both sets\"\"\""
   ]
  },
  {
   "cell_type": "code",
   "execution_count": 59,
   "id": "cd7ea293-7e95-4846-9d35-8a2ca4d547b6",
   "metadata": {},
   "outputs": [
    {
     "name": "stdout",
     "output_type": "stream",
     "text": [
      "{33, 41, 11, 44, 'hello', 51, 21, 22, 55, 31}\n"
     ]
    }
   ],
   "source": [
    "a={11,22,33,44,55,66,'hello','apple'}\n",
    "b={21,31,41,51,66,'apple'}\n",
    "c=a.symmetric_difference(b)\n",
    "print(c)"
   ]
  },
  {
   "cell_type": "code",
   "execution_count": 60,
   "id": "0877e2c2-98aa-4983-ac5b-ea399b653beb",
   "metadata": {},
   "outputs": [
    {
     "name": "stdout",
     "output_type": "stream",
     "text": [
      "{33, 41, 11, 44, 'hello', 51, 21, 22, 55, 31}\n"
     ]
    }
   ],
   "source": [
    "a={11,22,33,44,55,66,'hello','apple'}\n",
    "b={21,31,41,51,66,'apple'}\n",
    "c=b.symmetric_difference(a)\n",
    "print(c)"
   ]
  },
  {
   "cell_type": "markdown",
   "id": "fd347903-2ef0-4d2c-9a53-fd4a47f3b78c",
   "metadata": {},
   "source": [
    "# isdisjoint() method"
   ]
  },
  {
   "cell_type": "markdown",
   "id": "427eb221-628c-4c97-8f59-b6f09897753b",
   "metadata": {},
   "source": [
    "\"\"\"return True if no item in set x is present in set y\"\"\""
   ]
  },
  {
   "cell_type": "code",
   "execution_count": 62,
   "id": "65f198c2-f9bc-4019-b77b-5cadaa06e869",
   "metadata": {},
   "outputs": [
    {
     "name": "stdout",
     "output_type": "stream",
     "text": [
      "True\n"
     ]
    }
   ],
   "source": [
    "x={1,2,3,\"apple\"}\n",
    "y={4,5,6}\n",
    "z=x.isdisjoint(y)\n",
    "print(z)"
   ]
  },
  {
   "cell_type": "code",
   "execution_count": 63,
   "id": "4e29d1dc-f5b0-4bb7-aef9-e412b50c69d1",
   "metadata": {},
   "outputs": [
    {
     "name": "stdout",
     "output_type": "stream",
     "text": [
      "False\n"
     ]
    }
   ],
   "source": [
    "x={1,2,3,\"apple\"}\n",
    "y={4,5,6,1}\n",
    "z=x.isdisjoint(y)\n",
    "print(z)"
   ]
  },
  {
   "cell_type": "markdown",
   "id": "f332ce8f-06e8-49ff-9bd1-073e20642483",
   "metadata": {},
   "source": [
    "# issubset() method"
   ]
  },
  {
   "cell_type": "markdown",
   "id": "8693dde0-fd7d-4ed0-9571-845ad29e9098",
   "metadata": {},
   "source": [
    "\"\"\"return whether another set contains this set or not\"\"\""
   ]
  },
  {
   "cell_type": "code",
   "execution_count": 64,
   "id": "0c9eb603-0a4d-4a14-a719-478593befc4d",
   "metadata": {},
   "outputs": [
    {
     "name": "stdout",
     "output_type": "stream",
     "text": [
      "True\n"
     ]
    }
   ],
   "source": [
    "a={1,2,3,4}\n",
    "b={1,2,3,4,5,6,7}\n",
    "c=a.issubset(b)\n",
    "print(c)"
   ]
  },
  {
   "cell_type": "code",
   "execution_count": 65,
   "id": "5631f098-518d-4008-a330-860c0ed3c920",
   "metadata": {},
   "outputs": [
    {
     "name": "stdout",
     "output_type": "stream",
     "text": [
      "False\n"
     ]
    }
   ],
   "source": [
    "a={1,2,3,4}\n",
    "b={1,2,3,4,5,6,7}\n",
    "c=b.issubset(a)\n",
    "print(c)"
   ]
  },
  {
   "cell_type": "code",
   "execution_count": 66,
   "id": "7b8a2fa1-2dd9-4afd-90be-614ac9930acd",
   "metadata": {},
   "outputs": [
    {
     "name": "stdout",
     "output_type": "stream",
     "text": [
      "True\n"
     ]
    }
   ],
   "source": [
    "a={1,2,3,4}\n",
    "b={1,2,3,4}\n",
    "c=a.issubset(b)\n",
    "print(c)"
   ]
  },
  {
   "cell_type": "markdown",
   "id": "ec920206-9122-4f02-8d1e-a466848b9591",
   "metadata": {},
   "source": [
    "# issuperset() method"
   ]
  },
  {
   "cell_type": "markdown",
   "id": "c4f7a62c-2df4-4e77-b528-a63fe4b9798b",
   "metadata": {},
   "source": [
    "\"\"\"return True if all items set y are presend in set x\"\"\""
   ]
  },
  {
   "cell_type": "code",
   "execution_count": 68,
   "id": "028803ca-29eb-4140-95d0-122fd0b43792",
   "metadata": {},
   "outputs": [
    {
     "name": "stdout",
     "output_type": "stream",
     "text": [
      "True\n"
     ]
    }
   ],
   "source": [
    "x={'apple','cherry','north','mumbai','python',1,2,3}\n",
    "y={'apple',1,2,3,'north'}\n",
    "z=x.issuperset(y)\n",
    "print(z)"
   ]
  },
  {
   "cell_type": "code",
   "execution_count": 69,
   "id": "6801e83a-4270-48bb-9932-b377c900f433",
   "metadata": {},
   "outputs": [
    {
     "name": "stdout",
     "output_type": "stream",
     "text": [
      "False\n"
     ]
    }
   ],
   "source": [
    "x={'apple','cherry','north','mumbai','python',1,2,3}\n",
    "y={'apple',1,2,3,'north'}\n",
    "z=y.issuperset(x)\n",
    "print(z)"
   ]
  },
  {
   "cell_type": "code",
   "execution_count": 70,
   "id": "a36288d4-90a7-494f-b2e8-ada969b0fdc4",
   "metadata": {},
   "outputs": [
    {
     "name": "stdout",
     "output_type": "stream",
     "text": [
      "True\n"
     ]
    }
   ],
   "source": [
    "a={1,2,3}\n",
    "b={1,2,3}\n",
    "c=a.issuperset(b)\n",
    "print(c)"
   ]
  },
  {
   "cell_type": "code",
   "execution_count": 71,
   "id": "276260c4-4a13-4098-9760-5ffd701e622e",
   "metadata": {},
   "outputs": [
    {
     "name": "stdout",
     "output_type": "stream",
     "text": [
      "True\n"
     ]
    }
   ],
   "source": [
    "a={1,2,3}\n",
    "b={1,2,3}\n",
    "c=b.issuperset(a)\n",
    "print(c)"
   ]
  },
  {
   "cell_type": "code",
   "execution_count": 73,
   "id": "086a364d-dc30-4747-8633-5327d0352518",
   "metadata": {},
   "outputs": [
    {
     "name": "stdout",
     "output_type": "stream",
     "text": [
      "{1}\n",
      "<class 'set'>\n"
     ]
    }
   ],
   "source": [
    "a={1}\n",
    "print(a)\n",
    "print(type(a))"
   ]
  },
  {
   "cell_type": "code",
   "execution_count": 75,
   "id": "3dc3ad83-c271-4e95-9933-b700335eb429",
   "metadata": {},
   "outputs": [
    {
     "name": "stdout",
     "output_type": "stream",
     "text": [
      "{}\n",
      "<class 'dict'>\n"
     ]
    }
   ],
   "source": [
    "b={}\n",
    "print(b)\n",
    "print(type(b))"
   ]
  },
  {
   "cell_type": "code",
   "execution_count": 76,
   "id": "fc5907d7-92d0-478d-8dde-51a0d0ae8478",
   "metadata": {},
   "outputs": [
    {
     "name": "stdout",
     "output_type": "stream",
     "text": [
      "set()\n",
      "<class 'set'>\n"
     ]
    }
   ],
   "source": [
    "a=set()\n",
    "print(a)\n",
    "print(type(a))"
   ]
  },
  {
   "cell_type": "markdown",
   "id": "beded04a-cf83-49a8-bde4-dc475f2ac3dd",
   "metadata": {},
   "source": [
    "# set() function"
   ]
  },
  {
   "cell_type": "code",
   "execution_count": 77,
   "id": "87044427-fc78-4449-8d4f-6314631efe9b",
   "metadata": {},
   "outputs": [
    {
     "name": "stdout",
     "output_type": "stream",
     "text": [
      "[1, 2, 3, 4]\n",
      "<class 'list'>\n",
      "{1, 2, 3, 4}\n",
      "<class 'set'>\n"
     ]
    }
   ],
   "source": [
    "a=[1,2,3,4]\n",
    "b=set(a)\n",
    "print(a)\n",
    "print(type(a))\n",
    "print(b)\n",
    "print(type(b))"
   ]
  },
  {
   "cell_type": "code",
   "execution_count": 78,
   "id": "1fe3746b-9c80-44c6-8dfa-1504a24442b2",
   "metadata": {},
   "outputs": [
    {
     "name": "stdout",
     "output_type": "stream",
     "text": [
      "{33, 22, 55, 11, 44}\n",
      "<class 'set'>\n",
      "[33, 22, 55, 11, 44]\n",
      "<class 'list'>\n"
     ]
    }
   ],
   "source": [
    "s={11,22,33,44,55}\n",
    "l=list(s)\n",
    "print(s)\n",
    "print(type(s))\n",
    "print(l)\n",
    "print(type(l))"
   ]
  },
  {
   "cell_type": "code",
   "execution_count": 79,
   "id": "f3e76cdf-cd60-41c5-adcd-bb47ef72cba0",
   "metadata": {},
   "outputs": [
    {
     "name": "stdout",
     "output_type": "stream",
     "text": [
      "(11, 22, 33, 44, 55)\n",
      "<class 'tuple'>\n",
      "{33, 11, 44, 22, 55}\n",
      "<class 'set'>\n"
     ]
    }
   ],
   "source": [
    "t=(11,22,33,44,55)\n",
    "s=set(t)\n",
    "print(t)\n",
    "print(type(t))\n",
    "print(s)\n",
    "print(type(s))"
   ]
  },
  {
   "cell_type": "code",
   "execution_count": 80,
   "id": "855618c2-d052-48e2-bd9e-3500be19474c",
   "metadata": {},
   "outputs": [
    {
     "name": "stdout",
     "output_type": "stream",
     "text": [
      "{33, 66, 22, 55, 11, 44}\n",
      "<class 'set'>\n",
      "(33, 66, 22, 55, 11, 44)\n",
      "<class 'tuple'>\n"
     ]
    }
   ],
   "source": [
    "s={11,22,33,44,55,66}\n",
    "t=tuple(s)\n",
    "print(s)\n",
    "print(type(s))\n",
    "print(t)\n",
    "print(type(t))"
   ]
  },
  {
   "cell_type": "markdown",
   "id": "3bc99158-e0ba-46ad-925e-003d7efabd35",
   "metadata": {},
   "source": [
    "# min() in set"
   ]
  },
  {
   "cell_type": "code",
   "execution_count": 81,
   "id": "e89b3166-8d33-4a20-a9c1-f468f9b7687c",
   "metadata": {},
   "outputs": [
    {
     "name": "stdout",
     "output_type": "stream",
     "text": [
      "-22\n"
     ]
    }
   ],
   "source": [
    "a={12,13,16,17,-22}\n",
    "print(min(a))"
   ]
  },
  {
   "cell_type": "code",
   "execution_count": 83,
   "id": "758f1500-7019-446b-8022-54e767875738",
   "metadata": {},
   "outputs": [
    {
     "name": "stdout",
     "output_type": "stream",
     "text": [
      "boy\n"
     ]
    }
   ],
   "source": [
    "a={'mumbai','boy','cat','mat','python'}\n",
    "print(min(a))"
   ]
  },
  {
   "cell_type": "markdown",
   "id": "1a8328b3-d8d7-44b9-92b1-67228694c15d",
   "metadata": {},
   "source": [
    "# max() in set"
   ]
  },
  {
   "cell_type": "code",
   "execution_count": 84,
   "id": "0c82da3f-2277-4eaf-8283-3ee2c1ca462d",
   "metadata": {},
   "outputs": [
    {
     "name": "stdout",
     "output_type": "stream",
     "text": [
      "17\n"
     ]
    }
   ],
   "source": [
    "a={12,13,16,17,-22}\n",
    "print(max(a))"
   ]
  },
  {
   "cell_type": "code",
   "execution_count": 85,
   "id": "2706ee44-bd1a-483d-85c2-22f983a2b5b5",
   "metadata": {},
   "outputs": [
    {
     "name": "stdout",
     "output_type": "stream",
     "text": [
      "python\n"
     ]
    }
   ],
   "source": [
    "a={'mumbai','boy','cat','mat','python'}\n",
    "print(max(a))"
   ]
  },
  {
   "cell_type": "markdown",
   "id": "95f48fa7-b43a-448c-9903-ce01d15614f3",
   "metadata": {},
   "source": [
    "# copy() method"
   ]
  },
  {
   "cell_type": "markdown",
   "id": "356668ca-688a-4d39-b734-47ff373c9bdc",
   "metadata": {},
   "source": [
    "\"\"\"why we need copy method ?\"\"\""
   ]
  },
  {
   "cell_type": "code",
   "execution_count": 86,
   "id": "03d29bad-66b7-4e79-8a72-3e5568a2024f",
   "metadata": {},
   "outputs": [
    {
     "name": "stdout",
     "output_type": "stream",
     "text": [
      "{1, 2, 3, 4, 5, 6, 7, 10}\n",
      "{1, 2, 3, 4, 5, 6, 7, 10}\n"
     ]
    }
   ],
   "source": [
    "a={1,2,3,4,5,6,7}\n",
    "b=a\n",
    "a.add(10)\n",
    "print(a)\n",
    "print(b)"
   ]
  },
  {
   "cell_type": "code",
   "execution_count": 87,
   "id": "1d76d704-6855-46d7-a3e7-03a6141834e6",
   "metadata": {},
   "outputs": [
    {
     "name": "stdout",
     "output_type": "stream",
     "text": [
      "{1, 2, 3, 4, 5, 6, 7, 10}\n",
      "{1, 2, 3, 4, 5, 6, 7}\n"
     ]
    }
   ],
   "source": [
    "a={1,2,3,4,5,6,7}\n",
    "b=a.copy()\n",
    "a.add(10)\n",
    "print(a)\n",
    "print(b)"
   ]
  },
  {
   "cell_type": "code",
   "execution_count": 90,
   "id": "9c1d4eb1-e37e-488a-b5cb-b9f83468d838",
   "metadata": {},
   "outputs": [
    {
     "name": "stdout",
     "output_type": "stream",
     "text": [
      "{2, 4, 6, 8, 9}\n",
      "{1, 2, 3, 4, 6}\n",
      "{2, 4, 6}\n",
      "[2, 4, 6]\n"
     ]
    }
   ],
   "source": [
    "\"\"\"Intersection of 2 lists\"\"\"\n",
    "a=[2,4,6,8,9]\n",
    "b=[1,2,6,3,4]\n",
    "c=set(a)\n",
    "d=set(b)\n",
    "print(c)\n",
    "print(d)\n",
    "x=c.intersection(d)\n",
    "print(x)\n",
    "x=list(x)\n",
    "print(x)"
   ]
  },
  {
   "cell_type": "code",
   "execution_count": 91,
   "id": "a762613f-dc25-4d60-abce-62a3f8d41153",
   "metadata": {},
   "outputs": [
    {
     "name": "stdin",
     "output_type": "stream",
     "text": [
      "enter the number of elements 3\n",
      "enter elements: 1\n",
      "enter elements: 2\n",
      "enter elements: 3\n"
     ]
    },
    {
     "name": "stdout",
     "output_type": "stream",
     "text": [
      "{'3', '1', '2'}\n"
     ]
    }
   ],
   "source": [
    "\"\"\" Taking input in set from user\"\"\"\n",
    "\n",
    "a=set()\n",
    "n=int(input('enter the number of elements'))\n",
    "for i in range(n):\n",
    "    b=input('enter elements:')\n",
    "    a.add(b)\n",
    "print(a)"
   ]
  },
  {
   "cell_type": "code",
   "execution_count": 92,
   "id": "07812cfb-927c-4188-9add-8857fdd92cd8",
   "metadata": {},
   "outputs": [
    {
     "name": "stdin",
     "output_type": "stream",
     "text": [
      "enter the number of elements 10\n",
      "enter elements: 1\n",
      "enter elements: 2\n",
      "enter elements: 3\n",
      "enter elements: 4\n",
      "enter elements: 5\n",
      "enter elements: 6\n",
      "enter elements: 7\n",
      "enter elements: 8\n",
      "enter elements: 9\n",
      "enter elements: 0\n"
     ]
    },
    {
     "name": "stdout",
     "output_type": "stream",
     "text": [
      "{'7', '4', '8', '2', '9', '6', '0', '3', '1', '5'}\n"
     ]
    }
   ],
   "source": [
    "\"\"\" Taking input in set from user\"\"\"\n",
    "\n",
    "a=set()\n",
    "n=int(input('enter the number of elements'))\n",
    "for i in range(n):\n",
    "    b=input('enter elements:')\n",
    "    a.add(b)\n",
    "print(a)"
   ]
  },
  {
   "cell_type": "code",
   "execution_count": 94,
   "id": "71dc8231-df7c-4380-951c-c1588c80a684",
   "metadata": {},
   "outputs": [
    {
     "name": "stdout",
     "output_type": "stream",
     "text": [
      "{1, 6}\n",
      "[1, 6]\n"
     ]
    }
   ],
   "source": [
    "\"\"\"python program to find the common items in 3 lists using sets\"\"\"\n",
    "\n",
    "a1=[1,2,3,4,5,6]\n",
    "a2=[1,6,5,7,8,9]\n",
    "a3=[1,6,3,8,9,2]\n",
    "a=set(a1)\n",
    "b=set(a2)\n",
    "c=set(a3)\n",
    "d=a.intersection(b,c)\n",
    "print(d)\n",
    "print(list(d))"
   ]
  },
  {
   "cell_type": "code",
   "execution_count": null,
   "id": "8d44274c-d2e2-404c-b179-3f8203ae378b",
   "metadata": {},
   "outputs": [],
   "source": []
  },
  {
   "cell_type": "code",
   "execution_count": null,
   "id": "f837e773-d724-4a6f-a9d0-e92159bb6b3c",
   "metadata": {},
   "outputs": [],
   "source": []
  },
  {
   "cell_type": "code",
   "execution_count": null,
   "id": "5be2be7d-ad6a-4030-981d-db5fcc36fe28",
   "metadata": {},
   "outputs": [],
   "source": []
  },
  {
   "cell_type": "code",
   "execution_count": null,
   "id": "8f352fb3-c380-43c0-8e18-921eae099555",
   "metadata": {},
   "outputs": [],
   "source": []
  },
  {
   "cell_type": "code",
   "execution_count": null,
   "id": "e721f03e-5ab4-4c80-97f3-40418511c865",
   "metadata": {},
   "outputs": [],
   "source": []
  },
  {
   "cell_type": "code",
   "execution_count": null,
   "id": "7ef08ce4-f8f7-41a5-a4b1-784e0c4ba611",
   "metadata": {},
   "outputs": [],
   "source": []
  }
 ],
 "metadata": {
  "kernelspec": {
   "display_name": "Python 3 (ipykernel)",
   "language": "python",
   "name": "python3"
  },
  "language_info": {
   "codemirror_mode": {
    "name": "ipython",
    "version": 3
   },
   "file_extension": ".py",
   "mimetype": "text/x-python",
   "name": "python",
   "nbconvert_exporter": "python",
   "pygments_lexer": "ipython3",
   "version": "3.11.5"
  }
 },
 "nbformat": 4,
 "nbformat_minor": 5
}
