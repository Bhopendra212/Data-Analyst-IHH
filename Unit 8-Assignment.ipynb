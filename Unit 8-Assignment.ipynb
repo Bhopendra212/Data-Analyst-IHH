{
 "cells": [
  {
   "cell_type": "markdown",
   "id": "462be483-df12-4780-a9c1-043740e31f39",
   "metadata": {},
   "source": [
    "# question 1:- python program to interchange first and last elements in the last\n",
    "# Input:-[12,35,9,56,24]\n",
    "# output:-[24,35,9,56,12]"
   ]
  },
  {
   "cell_type": "code",
   "execution_count": 1,
   "id": "7d16da93-25cf-442d-8b2c-43234fc3530a",
   "metadata": {},
   "outputs": [
    {
     "name": "stdout",
     "output_type": "stream",
     "text": [
      "[24, 35, 9, 56, 12]\n"
     ]
    }
   ],
   "source": [
    "L=[12,35,9,56,24]\n",
    "temp=L[0]\n",
    "L[0]=L[4]\n",
    "L[4]=temp\n",
    "print(L)"
   ]
  },
  {
   "cell_type": "markdown",
   "id": "0f121b76-f2c8-4915-b2ca-d8d7de397560",
   "metadata": {},
   "source": [
    "# question 2:- Find the sum and average of list in python\n",
    "# input=[4,5,1,2,9,7,10,8]\n",
    "# output= Sum=46      average=5.75"
   ]
  },
  {
   "cell_type": "code",
   "execution_count": 6,
   "id": "e35b45f7-28df-4cda-8478-b1ef70628e03",
   "metadata": {},
   "outputs": [
    {
     "name": "stdout",
     "output_type": "stream",
     "text": [
      "Sum is: 46\n",
      "Average is: 5.75\n"
     ]
    }
   ],
   "source": [
    "a=[4,5,1,2,9,7,10,8]\n",
    "count=0\n",
    "\n",
    "for i in a:\n",
    "    count+=i\n",
    "avg=count/len(a)\n",
    "print(\"Sum is:\",count)\n",
    "print(\"Average is:\",avg)"
   ]
  },
  {
   "cell_type": "markdown",
   "id": "6f42345e-a246-4ca2-8cf1-76c05230cecc",
   "metadata": {},
   "source": [
    "# question 3:- python program to find second largest number in a list\n",
    "# input=[70,11,20,4,100]\n",
    "# output=70"
   ]
  },
  {
   "cell_type": "code",
   "execution_count": 7,
   "id": "99cf9eb6-613c-405f-b372-18c6652bbd5e",
   "metadata": {},
   "outputs": [
    {
     "name": "stdout",
     "output_type": "stream",
     "text": [
      "70\n"
     ]
    }
   ],
   "source": [
    "x=[70,11,20,4,100]\n",
    "x.sort(reverse=True)\n",
    "print(x[1])"
   ]
  },
  {
   "cell_type": "markdown",
   "id": "3d67db32-1dee-4817-9b29-41b8766c4e0c",
   "metadata": {},
   "source": [
    "# question 4:- program to count +ve and -ve numbers in a list\n",
    "# input=[10,-21,4,-45,66,-93,1]"
   ]
  },
  {
   "cell_type": "code",
   "execution_count": 12,
   "id": "74d6901d-4077-4f1a-842c-e7dbaec7a296",
   "metadata": {},
   "outputs": [
    {
     "name": "stdout",
     "output_type": "stream",
     "text": [
      "positive number in the list is: 4\n",
      "negative number in the list is: 3\n"
     ]
    }
   ],
   "source": [
    "a=[10,-21,4,-45,66,-93,1]\n",
    "b,c=0,0\n",
    "for i in a:\n",
    "    if i>=0:\n",
    "        b+=1\n",
    "    else:\n",
    "        c+=1\n",
    "\n",
    "print(\"positive number in the list is:\",b)\n",
    "print(\"negative number in the list is:\",c)"
   ]
  },
  {
   "cell_type": "markdown",
   "id": "3bdfcc18-392d-4364-b539-6f8bc94930bc",
   "metadata": {},
   "source": [
    "# question 5:- program to print duplicates from a list of integers\n",
    "# input=[1,2,1,2,3,4,5,1,1,2,5,6,7,8,9,9]\n",
    "# output=[1,2,5,9]"
   ]
  },
  {
   "cell_type": "code",
   "execution_count": 17,
   "id": "a23e4771-3094-491d-a12b-27f9224724a1",
   "metadata": {},
   "outputs": [
    {
     "name": "stdout",
     "output_type": "stream",
     "text": [
      "[1, 2, 5, 9]\n"
     ]
    }
   ],
   "source": [
    "a=[1,2,1,2,3,4,5,1,1,2,5,6,7,8,9,9]\n",
    "uniq=[]\n",
    "dupli=[]\n",
    "for i in a:\n",
    "    if i not in uniq:\n",
    "        uniq.append(i)\n",
    "    elif i not in dupli:\n",
    "            dupli.append(i)\n",
    "\n",
    "print(dupli)"
   ]
  },
  {
   "cell_type": "markdown",
   "id": "a47ee87c-0674-4d8c-9501-e2e4c4c9e43a",
   "metadata": {},
   "source": [
    "# question 6:- find the values that are greater than 200 in the list \n",
    "# input=[220,330,500]\n",
    "# output=True"
   ]
  },
  {
   "cell_type": "code",
   "execution_count": 26,
   "id": "579eb380-3b0e-453f-bee0-af8a1bc28505",
   "metadata": {},
   "outputs": [
    {
     "name": "stdout",
     "output_type": "stream",
     "text": [
      "True\n",
      "True\n",
      "False\n",
      "True\n"
     ]
    }
   ],
   "source": [
    "a=[220,330,100,500]\n",
    "for i in a:\n",
    "    if i>200:\n",
    "        print(\"True\")\n",
    "    else:\n",
    "        print(\"False\")"
   ]
  },
  {
   "cell_type": "markdown",
   "id": "9d94449c-6de1-4330-bea6-894a5e6e7c9c",
   "metadata": {},
   "source": [
    "# question 7:- remove empty list from list\n",
    "# input=[5,6,[],3,[],[],9]\n",
    "# output=[5,6,3,9]"
   ]
  },
  {
   "cell_type": "code",
   "execution_count": 31,
   "id": "3530f3f7-fdf9-494e-9eed-428f8026e14e",
   "metadata": {},
   "outputs": [
    {
     "name": "stdout",
     "output_type": "stream",
     "text": [
      "List after removing empty list [5, 6, 3, 9]\n"
     ]
    }
   ],
   "source": [
    "a=[5,6,[],3,[],[],9]\n",
    "while [] in a:\n",
    "    a.remove([])\n",
    "print('List after removing empty list',a)"
   ]
  },
  {
   "cell_type": "markdown",
   "id": "ce1bf50a-3a8f-4438-a187-7018df21087c",
   "metadata": {},
   "source": [
    "# question 8:- how to count unique values in the list\n",
    "# input=[1,2,2,5,8,4,4,8]\n",
    "# unique items are=5"
   ]
  },
  {
   "cell_type": "code",
   "execution_count": 32,
   "id": "b6dae75b-83b3-4b3a-80fb-0380018ae578",
   "metadata": {},
   "outputs": [
    {
     "name": "stdout",
     "output_type": "stream",
     "text": [
      "unique values are 5\n"
     ]
    }
   ],
   "source": [
    "a=[1,2,2,5,8,4,4,8]\n",
    "b=[]\n",
    "count=0\n",
    "for i in a:\n",
    "    if i not in b:\n",
    "        count+=1\n",
    "        b.append(i)\n",
    "print(\"unique values are\",count)\n",
    "    "
   ]
  },
  {
   "cell_type": "markdown",
   "id": "429958f7-09c0-4c85-a9bb-5dfbe131b56e",
   "metadata": {},
   "source": [
    "# question 9:- append a list to the list \n",
    "# input=[1,2,3,0]\n",
    "# input=['Red','Green','Black']\n",
    "# output=[1,2,3,0,'Red','Green','Black']"
   ]
  },
  {
   "cell_type": "code",
   "execution_count": 34,
   "id": "eece48dc-7498-43ed-8c10-4b8baeb7a687",
   "metadata": {},
   "outputs": [
    {
     "name": "stdout",
     "output_type": "stream",
     "text": [
      "[1, 2, 3, 0, 'Red', 'Green', 'Black']\n"
     ]
    }
   ],
   "source": [
    "a=[1,2,3,0]\n",
    "b=['Red','Green','Black']\n",
    "a.extend(b)\n",
    "print(a)"
   ]
  },
  {
   "cell_type": "code",
   "execution_count": 35,
   "id": "f4933643-83e6-409c-ab4b-a2ff2234a2b4",
   "metadata": {},
   "outputs": [
    {
     "name": "stdout",
     "output_type": "stream",
     "text": [
      "[1, 2, 3, 0, 'Red', 'Green', 'Black']\n"
     ]
    }
   ],
   "source": [
    "a=[1,2,3,0]\n",
    "b=['Red','Green','Black']\n",
    "c=a+b\n",
    "print(c)"
   ]
  },
  {
   "cell_type": "markdown",
   "id": "e277833a-65fc-468f-b554-5180b7563f0c",
   "metadata": {},
   "source": [
    "# question 10:- program to replace the last element in alist with another list\n",
    "# data=[1,3,5,7,9,10],[2,4,6,8]\n",
    "# output=[1,3,5,7,9,2,4,6,8]"
   ]
  },
  {
   "cell_type": "code",
   "execution_count": 37,
   "id": "a22f9c4f-2df5-4fc5-bf03-6201ae0f43d8",
   "metadata": {},
   "outputs": [
    {
     "name": "stdout",
     "output_type": "stream",
     "text": [
      "[1, 3, 5, 7, 9, 2, 4, 6, 8]\n"
     ]
    }
   ],
   "source": [
    "a=[1,3,5,7,9,10]\n",
    "b=[2,4,6,8]\n",
    "a[-1:]=b\n",
    "print(a)"
   ]
  },
  {
   "cell_type": "code",
   "execution_count": null,
   "id": "8e53365e-f874-4a75-8f89-6ba7f561cb49",
   "metadata": {},
   "outputs": [],
   "source": []
  },
  {
   "cell_type": "code",
   "execution_count": null,
   "id": "1f20fdf8-b866-4bdd-bcd3-9c8b3a391889",
   "metadata": {},
   "outputs": [],
   "source": []
  },
  {
   "cell_type": "code",
   "execution_count": null,
   "id": "3ea6bd51-2de8-4450-94cb-d0851e64724f",
   "metadata": {},
   "outputs": [],
   "source": []
  },
  {
   "cell_type": "code",
   "execution_count": null,
   "id": "665048d3-6cef-4bc7-89d5-8cbf98d30a53",
   "metadata": {},
   "outputs": [],
   "source": []
  },
  {
   "cell_type": "code",
   "execution_count": null,
   "id": "4e84b6cf-9da6-453c-9328-71df558a6e8b",
   "metadata": {},
   "outputs": [],
   "source": []
  },
  {
   "cell_type": "code",
   "execution_count": null,
   "id": "aadd15c7-67ac-4cfe-8162-5205f235776c",
   "metadata": {},
   "outputs": [],
   "source": []
  },
  {
   "cell_type": "code",
   "execution_count": null,
   "id": "65351682-e751-4e0f-a7b0-3e15e66ea1e0",
   "metadata": {},
   "outputs": [],
   "source": []
  },
  {
   "cell_type": "code",
   "execution_count": null,
   "id": "8a7effda-b19f-4b4a-9356-b2947e99487c",
   "metadata": {},
   "outputs": [],
   "source": []
  },
  {
   "cell_type": "code",
   "execution_count": null,
   "id": "4529669f-3f49-4ef0-b9c9-495ce0744ae5",
   "metadata": {},
   "outputs": [],
   "source": []
  },
  {
   "cell_type": "code",
   "execution_count": null,
   "id": "fd3cb859-0920-4781-89d7-fa6e84d1c344",
   "metadata": {},
   "outputs": [],
   "source": []
  },
  {
   "cell_type": "code",
   "execution_count": null,
   "id": "00a3d8b5-2ffc-4360-bcc3-ceb992f0efd1",
   "metadata": {},
   "outputs": [],
   "source": []
  },
  {
   "cell_type": "code",
   "execution_count": null,
   "id": "cf913894-046c-427c-a73b-a83b276cd173",
   "metadata": {},
   "outputs": [],
   "source": []
  },
  {
   "cell_type": "code",
   "execution_count": null,
   "id": "72a0e0e4-bbe4-4625-af3b-6e0ce5d01a58",
   "metadata": {},
   "outputs": [],
   "source": []
  },
  {
   "cell_type": "code",
   "execution_count": null,
   "id": "c371c060-e0cc-477b-aa49-b50e5073873c",
   "metadata": {},
   "outputs": [],
   "source": []
  },
  {
   "cell_type": "code",
   "execution_count": null,
   "id": "fbac2e7c-bd02-474c-aa69-a4270aebb090",
   "metadata": {},
   "outputs": [],
   "source": []
  },
  {
   "cell_type": "code",
   "execution_count": null,
   "id": "1c312b7c-e378-441e-94d9-94b5fcefcbdb",
   "metadata": {},
   "outputs": [],
   "source": []
  },
  {
   "cell_type": "code",
   "execution_count": null,
   "id": "59557dc8-22a8-465f-adf9-3b6f9e799c80",
   "metadata": {},
   "outputs": [],
   "source": []
  },
  {
   "cell_type": "code",
   "execution_count": null,
   "id": "f375c32e-852c-44fe-9bb6-f0c6fda549e5",
   "metadata": {},
   "outputs": [],
   "source": []
  }
 ],
 "metadata": {
  "kernelspec": {
   "display_name": "Python 3 (ipykernel)",
   "language": "python",
   "name": "python3"
  },
  "language_info": {
   "codemirror_mode": {
    "name": "ipython",
    "version": 3
   },
   "file_extension": ".py",
   "mimetype": "text/x-python",
   "name": "python",
   "nbconvert_exporter": "python",
   "pygments_lexer": "ipython3",
   "version": "3.11.5"
  }
 },
 "nbformat": 4,
 "nbformat_minor": 5
}
