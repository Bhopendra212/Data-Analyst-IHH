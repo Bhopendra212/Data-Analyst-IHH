{
 "cells": [
  {
   "cell_type": "code",
   "execution_count": 1,
   "id": "36769bf6-432a-453f-8ccf-8acaf4df8738",
   "metadata": {},
   "outputs": [
    {
     "name": "stdout",
     "output_type": "stream",
     "text": [
      "{'color': 'red', 'year': '1997', 'sports': 'cricket'}\n",
      "<class 'dict'>\n"
     ]
    }
   ],
   "source": [
    "a={'color':'red',\n",
    "    'year':'1997',\n",
    "    'sports':'cricket'}\n",
    "print(a)\n",
    "print(type(a))"
   ]
  },
  {
   "cell_type": "code",
   "execution_count": 2,
   "id": "578f5d4e-aaeb-4b1c-b2f4-95aa075ff07e",
   "metadata": {},
   "outputs": [
    {
     "name": "stdout",
     "output_type": "stream",
     "text": [
      "1997\n",
      "<class 'dict'>\n"
     ]
    }
   ],
   "source": [
    "a={'color':'red',\n",
    "    'year':'1997',\n",
    "    'sports':'cricket'}\n",
    "print(a['year'])\n",
    "print(type(a))"
   ]
  },
  {
   "cell_type": "markdown",
   "id": "f465f458-a520-4927-aaef-5bb370ad4e96",
   "metadata": {},
   "source": [
    "# duplicate not allowed"
   ]
  },
  {
   "cell_type": "code",
   "execution_count": 3,
   "id": "5e63d23c-8bfa-471d-a2a5-ac192be8f0ed",
   "metadata": {},
   "outputs": [
    {
     "name": "stdout",
     "output_type": "stream",
     "text": [
      "{'color': 'red', 'year': '1997', 'sports': 'tennis'}\n",
      "<class 'dict'>\n"
     ]
    }
   ],
   "source": [
    "a={'color':'red',\n",
    "    'year':'1997',\n",
    "    'sports':'cricket',\n",
    "      'sports':'football',\n",
    "      'sports':'tennis'}\n",
    "print(a)\n",
    "print(type(a))"
   ]
  },
  {
   "cell_type": "code",
   "execution_count": 4,
   "id": "30dbf9ee-6f10-4101-9107-7de52d1f1070",
   "metadata": {},
   "outputs": [
    {
     "name": "stdout",
     "output_type": "stream",
     "text": [
      "{'color': 'red', 'year': '1997', 'sports': 'golf'}\n",
      "<class 'dict'>\n"
     ]
    }
   ],
   "source": [
    "a={'color':'red',\n",
    "    'year':'1997',\n",
    "    'sports':'cricket',\n",
    "      'sports':'football',\n",
    "      'sports':'tennis',\n",
    "        'sports':'golf'}\n",
    "print(a)\n",
    "print(type(a))"
   ]
  },
  {
   "cell_type": "markdown",
   "id": "7fadadac-d160-4001-90ee-b237d4e62ac4",
   "metadata": {},
   "source": [
    "# dictionary length"
   ]
  },
  {
   "cell_type": "code",
   "execution_count": 5,
   "id": "8c91661c-5cb3-46d8-979e-dc358cd27ffc",
   "metadata": {},
   "outputs": [
    {
     "name": "stdout",
     "output_type": "stream",
     "text": [
      "4\n"
     ]
    }
   ],
   "source": [
    "x={'apple':'Fruit',\n",
    "    'red':'color',\n",
    "      'north':'direction',\n",
    "      2:'code'}\n",
    "print(len(x))"
   ]
  },
  {
   "cell_type": "markdown",
   "id": "cf072104-9384-4646-8c0c-1c7284abc9bb",
   "metadata": {},
   "source": [
    "# dictionary item- Data type"
   ]
  },
  {
   "cell_type": "code",
   "execution_count": 8,
   "id": "dde7910f-3deb-400f-a769-7a2e1edc9a78",
   "metadata": {},
   "outputs": [
    {
     "name": "stdout",
     "output_type": "stream",
     "text": [
      "{'color': 'red', 12: 14, 'apple': [1, 2, 3], 3: (-1, -2, -3), 'boy': {2, 3, 4}}\n",
      "<class 'dict'>\n"
     ]
    }
   ],
   "source": [
    "a={'color':'red', 12:14,'apple':[1,2,3],3:(-1,-2,-3),'boy':{2,3,4}}\n",
    "print(a)\n",
    "print(type(a))"
   ]
  },
  {
   "cell_type": "markdown",
   "id": "80190485-1c92-4885-a17c-2af46df441bc",
   "metadata": {},
   "source": [
    "# dict() constructor"
   ]
  },
  {
   "cell_type": "code",
   "execution_count": 9,
   "id": "2cacc25a-a2da-4561-b594-ae5c1763a3f6",
   "metadata": {},
   "outputs": [
    {
     "name": "stdout",
     "output_type": "stream",
     "text": [
      "{'name': 'priya', 'age': 24, 'gender': 'female'}\n",
      "<class 'dict'>\n"
     ]
    }
   ],
   "source": [
    "n=dict(name='priya',age=24,gender='female')\n",
    "print(n)\n",
    "print(type(n))"
   ]
  },
  {
   "cell_type": "markdown",
   "id": "aa512166-b8bc-476e-9771-7320345392bb",
   "metadata": {},
   "source": [
    "# asscssing items\n",
    "# you can access the items of a dictionary by refering to its key name inside the square bracket"
   ]
  },
  {
   "cell_type": "code",
   "execution_count": 10,
   "id": "61500d98-d8cb-4656-bdfc-a04944898caf",
   "metadata": {},
   "outputs": [
    {
     "name": "stdout",
     "output_type": "stream",
     "text": [
      "{1: 'apple', 2: 'boy', 3: 'cat'}\n",
      "boy\n",
      "cat\n"
     ]
    }
   ],
   "source": [
    "n={1:'apple',2:'boy',3:'cat'}\n",
    "print(n)\n",
    "print(n[2])\n",
    "print(n[3])"
   ]
  },
  {
   "cell_type": "markdown",
   "id": "116affff-a199-4abc-9ad4-56c72ca98dfd",
   "metadata": {},
   "source": [
    "# get() method"
   ]
  },
  {
   "cell_type": "code",
   "execution_count": 12,
   "id": "08af7870-69dc-464b-8e7a-d3b17197d0d6",
   "metadata": {},
   "outputs": [
    {
     "name": "stdout",
     "output_type": "stream",
     "text": [
      "boy\n"
     ]
    }
   ],
   "source": [
    "n={1:'apple',2:'boy',3:'cat'}\n",
    "x=n.get(2)\n",
    "print(x)"
   ]
  },
  {
   "cell_type": "markdown",
   "id": "fbc52513-383d-450b-90e2-6c9919e3aa76",
   "metadata": {},
   "source": [
    "# keys() method"
   ]
  },
  {
   "cell_type": "code",
   "execution_count": 13,
   "id": "15355182-79de-4d2c-beef-25d3be3f13e8",
   "metadata": {},
   "outputs": [
    {
     "name": "stdout",
     "output_type": "stream",
     "text": [
      "dict_keys(['apple', 25, 26.3, 'python'])\n"
     ]
    }
   ],
   "source": [
    "m={'apple':12,25:'hello',26.3:'cat','python':-12}\n",
    "x=m.keys()\n",
    "print(x)"
   ]
  },
  {
   "cell_type": "code",
   "execution_count": 14,
   "id": "f3eca841-eed8-433a-a9fa-0f524f4deab1",
   "metadata": {},
   "outputs": [
    {
     "name": "stdout",
     "output_type": "stream",
     "text": [
      "dict_keys(['apple', 25, 26.3, 'python'])\n"
     ]
    }
   ],
   "source": [
    "m={'apple':12,25:'hello',26.3:'cat','python':-12}\n",
    "print(m.keys())"
   ]
  },
  {
   "cell_type": "markdown",
   "id": "705c189d-9861-4d30-bd88-b19d542fe3d5",
   "metadata": {},
   "source": [
    "# values() method"
   ]
  },
  {
   "cell_type": "code",
   "execution_count": 15,
   "id": "0098ec8e-d1ff-404e-9986-9225d977b698",
   "metadata": {},
   "outputs": [
    {
     "name": "stdout",
     "output_type": "stream",
     "text": [
      "dict_values([12, 'hello', 'cat', -12])\n"
     ]
    }
   ],
   "source": [
    "m={'apple':12,25:'hello',26.3:'cat','python':-12}\n",
    "x=m.values()\n",
    "print(x)"
   ]
  },
  {
   "cell_type": "code",
   "execution_count": 17,
   "id": "a1902fad-9316-4586-bf95-b666d405ae4d",
   "metadata": {},
   "outputs": [
    {
     "name": "stdout",
     "output_type": "stream",
     "text": [
      "dict_values([12, 'hello', 'cat', -12])\n",
      "<class 'dict_values'>\n"
     ]
    }
   ],
   "source": [
    "m={'apple':12,25:'hello',26.3:'cat','python':-12}\n",
    "print(m.values())\n",
    "print(type(x))"
   ]
  },
  {
   "cell_type": "markdown",
   "id": "7720e792-e808-449a-b284-634838392545",
   "metadata": {},
   "source": [
    "# items() method"
   ]
  },
  {
   "cell_type": "code",
   "execution_count": 19,
   "id": "a6dd7a68-d2d3-451f-9c4c-309dc2383eb7",
   "metadata": {},
   "outputs": [
    {
     "name": "stdout",
     "output_type": "stream",
     "text": [
      "{'apple': 12, 25: 'hello', 26.3: 'cat', 'python': -12}\n",
      "<class 'dict'>\n"
     ]
    }
   ],
   "source": [
    "m={'apple':12,25:'hello',26.3:'cat','python':-12}\n",
    "x=m.items()\n",
    "print(m)\n",
    "print(type(m))"
   ]
  },
  {
   "cell_type": "markdown",
   "id": "4ced1610-ed86-4258-a79d-cb692db4fd70",
   "metadata": {},
   "source": [
    "# check if key exists"
   ]
  },
  {
   "cell_type": "code",
   "execution_count": 24,
   "id": "bce8475d-7e39-41b7-95bd-0cebf4f017ad",
   "metadata": {},
   "outputs": [
    {
     "name": "stdout",
     "output_type": "stream",
     "text": [
      "yes\n"
     ]
    }
   ],
   "source": [
    "m={'apple':12,25:'hello',26.3:'cat','python':-12}\n",
    "if 25 in m:\n",
    "    print('yes')"
   ]
  },
  {
   "cell_type": "code",
   "execution_count": 28,
   "id": "e48af9f6-a2bd-47ea-92b0-5d2e2abf9c57",
   "metadata": {},
   "outputs": [
    {
     "name": "stdout",
     "output_type": "stream",
     "text": [
      "no\n"
     ]
    }
   ],
   "source": [
    "m={'apple':12,25:'hello',26.3:'cat','python':-12}\n",
    "if 'boy' in m:\n",
    "    print('yes')\n",
    "else:\n",
    "    print(\"no\")"
   ]
  },
  {
   "cell_type": "markdown",
   "id": "0e524f4e-1298-4202-8c89-eea4c7e60ef5",
   "metadata": {},
   "source": [
    "# change values"
   ]
  },
  {
   "cell_type": "code",
   "execution_count": 29,
   "id": "963b8e2c-6a0b-4159-8a8e-7036db68779b",
   "metadata": {},
   "outputs": [
    {
     "name": "stdout",
     "output_type": "stream",
     "text": [
      "{10: 'hello', 11: 'world', 9: ['a', 'b', 'c']}\n"
     ]
    }
   ],
   "source": [
    "b={10:'hello',11:'world',9:[12,13,14]}\n",
    "b[9]=['a','b','c']\n",
    "print(b)"
   ]
  },
  {
   "cell_type": "markdown",
   "id": "7548a972-3946-4754-a144-54f2d4998e7b",
   "metadata": {},
   "source": [
    "# update() method"
   ]
  },
  {
   "cell_type": "code",
   "execution_count": 30,
   "id": "2cb7b451-b961-4671-8cb3-2859eee73757",
   "metadata": {},
   "outputs": [
    {
     "name": "stdout",
     "output_type": "stream",
     "text": [
      "{10: 'hello', 11: 'world', 9: ['a', 'b', 'c']}\n"
     ]
    }
   ],
   "source": [
    "b={10:'hello',11:'world',9:[12,13,14]}\n",
    "b.update({9:['a','b','c']})\n",
    "print(b)"
   ]
  },
  {
   "cell_type": "code",
   "execution_count": 31,
   "id": "54f0594e-9ecc-4790-9f54-58382415ecad",
   "metadata": {},
   "outputs": [
    {
     "name": "stdout",
     "output_type": "stream",
     "text": [
      "{1: 'apple', 2: (11, 22, 33), 3: 'cat', 4: 'python'}\n"
     ]
    }
   ],
   "source": [
    "a={1:'apple',2:'boy',3:'cat',4:'python'}\n",
    "a.update({2:(11,22,33)})\n",
    "print(a)"
   ]
  },
  {
   "cell_type": "markdown",
   "id": "8bc2bb46-1d7a-454d-948c-fa7538d60568",
   "metadata": {},
   "source": [
    "# adding items"
   ]
  },
  {
   "cell_type": "code",
   "execution_count": 34,
   "id": "2b90ca28-47ba-4bd2-b5ca-fea8da357134",
   "metadata": {},
   "outputs": [
    {
     "name": "stdout",
     "output_type": "stream",
     "text": [
      "{'color': 'red', 'country': 'india', 'year': [1989, 1991], 'fruit': 'apple'}\n"
     ]
    }
   ],
   "source": [
    "a={'color':'red','country':'india','year':[1989,1991]}\n",
    "a['fruit']='apple'\n",
    "print(a)"
   ]
  },
  {
   "cell_type": "code",
   "execution_count": 35,
   "id": "35d4645e-50c8-4146-90cc-157cd2442c6d",
   "metadata": {},
   "outputs": [
    {
     "name": "stdout",
     "output_type": "stream",
     "text": [
      "{'color': 'red', 'country': 'india', 'year': [1989, 1991], 'fruit': 'apple'}\n",
      "{'color': 'red', 'country': 'india', 'year': [1989, 1991], 'fruit': 'apple', 9: 'python is so easy'}\n"
     ]
    }
   ],
   "source": [
    "a={'color':'red','country':'india','year':[1989,1991]}\n",
    "a['fruit']='apple'\n",
    "print(a)\n",
    "a[9]='python is so easy'\n",
    "print(a)"
   ]
  },
  {
   "cell_type": "markdown",
   "id": "409ef782-fad8-4e0c-98b4-007554302495",
   "metadata": {},
   "source": [
    "# update() method"
   ]
  },
  {
   "cell_type": "code",
   "execution_count": 37,
   "id": "84836edb-7189-47f6-84ba-5dedfabc4a48",
   "metadata": {},
   "outputs": [
    {
     "name": "stdout",
     "output_type": "stream",
     "text": [
      "{'color': 'red', 'country': 'bharat', 'year': [1989, 1991]}\n",
      "{'color': 'red', 'country': 'bharat', 'year': [1989, 1991], 'capital': 'delhi'}\n"
     ]
    }
   ],
   "source": [
    "a={'color':'red','country':'india','year':[1989,1991]}\n",
    "a.update({'country':'bharat'})\n",
    "print(a)\n",
    "a.update({'capital':'delhi'})\n",
    "print(a)"
   ]
  },
  {
   "cell_type": "markdown",
   "id": "af2ee646-6552-4196-9f77-550b4caf56ea",
   "metadata": {},
   "source": [
    "# removing items-- pop() method"
   ]
  },
  {
   "cell_type": "code",
   "execution_count": 38,
   "id": "448fec09-1e80-4ce1-86b8-ef341fa7cdf0",
   "metadata": {},
   "outputs": [
    {
     "name": "stdout",
     "output_type": "stream",
     "text": [
      "{'color': 'red', 'year': [1989, 1991]}\n"
     ]
    }
   ],
   "source": [
    "a={'color':'red','country':'india','year':[1989,1991]}\n",
    "a.pop('country')\n",
    "print(a)"
   ]
  },
  {
   "cell_type": "markdown",
   "id": "837ed27a-0291-4657-b445-80a39242d862",
   "metadata": {},
   "source": [
    "# popitem() method"
   ]
  },
  {
   "cell_type": "code",
   "execution_count": 39,
   "id": "4737b89a-90b9-4163-81b2-6e9657e8d711",
   "metadata": {},
   "outputs": [
    {
     "name": "stdout",
     "output_type": "stream",
     "text": [
      "{'color': 'red', 'country': 'india'}\n"
     ]
    }
   ],
   "source": [
    "a={'color':'red','country':'india','year':[1989,1991]}\n",
    "a.popitem()\n",
    "print(a)"
   ]
  },
  {
   "cell_type": "markdown",
   "id": "f703ae20-cf4d-49bd-bc52-3869330f1f85",
   "metadata": {},
   "source": [
    "# del() method"
   ]
  },
  {
   "cell_type": "code",
   "execution_count": 40,
   "id": "9fb17164-4c24-4727-8bef-185d9f1b6480",
   "metadata": {},
   "outputs": [
    {
     "name": "stdout",
     "output_type": "stream",
     "text": [
      "{'country': 'india', 'year': [1989, 1991]}\n"
     ]
    }
   ],
   "source": [
    "a={'color':'red','country':'india','year':[1989,1991]}\n",
    "del a['color']\n",
    "print(a)"
   ]
  },
  {
   "cell_type": "code",
   "execution_count": 41,
   "id": "00648a4e-2478-464a-a938-cd275c03c3f1",
   "metadata": {},
   "outputs": [
    {
     "ename": "NameError",
     "evalue": "name 'a' is not defined",
     "output_type": "error",
     "traceback": [
      "\u001b[1;31m---------------------------------------------------------------------------\u001b[0m",
      "\u001b[1;31mNameError\u001b[0m                                 Traceback (most recent call last)",
      "Cell \u001b[1;32mIn[41], line 3\u001b[0m\n\u001b[0;32m      1\u001b[0m a\u001b[38;5;241m=\u001b[39m{\u001b[38;5;124m'\u001b[39m\u001b[38;5;124mcolor\u001b[39m\u001b[38;5;124m'\u001b[39m:\u001b[38;5;124m'\u001b[39m\u001b[38;5;124mred\u001b[39m\u001b[38;5;124m'\u001b[39m,\u001b[38;5;124m'\u001b[39m\u001b[38;5;124mcountry\u001b[39m\u001b[38;5;124m'\u001b[39m:\u001b[38;5;124m'\u001b[39m\u001b[38;5;124mindia\u001b[39m\u001b[38;5;124m'\u001b[39m,\u001b[38;5;124m'\u001b[39m\u001b[38;5;124myear\u001b[39m\u001b[38;5;124m'\u001b[39m:[\u001b[38;5;241m1989\u001b[39m,\u001b[38;5;241m1991\u001b[39m]}\n\u001b[0;32m      2\u001b[0m \u001b[38;5;28;01mdel\u001b[39;00m a\n\u001b[1;32m----> 3\u001b[0m \u001b[38;5;28mprint\u001b[39m(\u001b[43ma\u001b[49m)\n",
      "\u001b[1;31mNameError\u001b[0m: name 'a' is not defined"
     ]
    }
   ],
   "source": [
    "a={'color':'red','country':'india','year':[1989,1991]}\n",
    "del a\n",
    "print(a)"
   ]
  },
  {
   "cell_type": "markdown",
   "id": "3f89f7c8-9d2f-4ddf-93ee-e15f5cba5005",
   "metadata": {},
   "source": [
    "# clear() method"
   ]
  },
  {
   "cell_type": "code",
   "execution_count": 43,
   "id": "b636858c-766b-4e4a-a6ec-b067691713b5",
   "metadata": {},
   "outputs": [
    {
     "name": "stdout",
     "output_type": "stream",
     "text": [
      "{}\n",
      "<class 'dict'>\n"
     ]
    }
   ],
   "source": [
    "a={'color':'red','country':'india','year':[1989,1991]}\n",
    "a.clear()\n",
    "print(a)\n",
    "print(type(a))"
   ]
  },
  {
   "cell_type": "markdown",
   "id": "3c1a41bf-4c72-42f0-a755-be8a23b9d2ca",
   "metadata": {},
   "source": [
    "# copy() method"
   ]
  },
  {
   "cell_type": "code",
   "execution_count": 46,
   "id": "912d72de-3bcb-460d-8f9c-f5df36305817",
   "metadata": {},
   "outputs": [
    {
     "name": "stdout",
     "output_type": "stream",
     "text": [
      "{'color': 'red', 'country': 'india', 'year': [1989, 1991]}\n",
      "{'color': 'blue', 'country': 'india', 'year': [1989, 1991]}\n",
      "{'color': 'blue', 'country': 'india', 'year': [1989, 1991]}\n"
     ]
    }
   ],
   "source": [
    "\"\"\"Why we need copy method\"\"\"\n",
    "\n",
    "a={'color':'red','country':'india','year':[1989,1991]}\n",
    "b=a\n",
    "print(b)\n",
    "a.update({'color':'blue'})\n",
    "print(a)\n",
    "print(b)"
   ]
  },
  {
   "cell_type": "code",
   "execution_count": 49,
   "id": "d788c186-495a-4e76-8727-884ddb99201f",
   "metadata": {},
   "outputs": [
    {
     "name": "stdout",
     "output_type": "stream",
     "text": [
      "{'color': 'red', 'country': 'india', 'year': [1989, 1991]}\n",
      "{'color': 'red', 'country': 'india', 'year': [1989, 1991]}\n",
      "{'color': 'blue', 'country': 'india', 'year': [1989, 1991]}\n"
     ]
    }
   ],
   "source": [
    "a={'color':'red','country':'india','year':[1989,1991]}\n",
    "b=a.copy()\n",
    "print(b)\n",
    "b.update({'color':'blue'})\n",
    "print(a)\n",
    "print(b)"
   ]
  },
  {
   "cell_type": "markdown",
   "id": "b5bf1409-7862-4f6b-8ed1-5d348a5197b5",
   "metadata": {},
   "source": [
    "# make a copy of a dictionary with dict() method"
   ]
  },
  {
   "cell_type": "code",
   "execution_count": 51,
   "id": "16830bd7-b51b-46e0-9161-b2269b7fec54",
   "metadata": {},
   "outputs": [
    {
     "name": "stdout",
     "output_type": "stream",
     "text": [
      "{'color': 'red', 'country': 'india', 'year': [1989, 1991]}\n",
      "{'color': 'red', 'country': 'india', 'year': [1989, 1991]}\n",
      "{'color': 'red', 'country': 'india', 'year': 2023}\n"
     ]
    }
   ],
   "source": [
    "a={'color':'red','country':'india','year':[1989,1991]}\n",
    "b=dict(a)\n",
    "print(b)\n",
    "b.update({'year':2023})\n",
    "print(a)\n",
    "print(b)"
   ]
  },
  {
   "cell_type": "markdown",
   "id": "f31bfac8-c2f8-4c3e-b18d-271e9716f3d4",
   "metadata": {},
   "source": [
    "# Nested dictionaries"
   ]
  },
  {
   "cell_type": "code",
   "execution_count": 56,
   "id": "8838f9e7-e586-4c9f-86c1-b3a04aad6ecb",
   "metadata": {},
   "outputs": [
    {
     "name": "stdout",
     "output_type": "stream",
     "text": [
      "{'class1': {'name': 'rishi', 'section': 'A', 'age': 24}, 'class2': {'name': 'rakhi', 'section': 'B', 'age': 26}, 'class3': {'name': 'rishu', 'section': 'C', 'age': 4}}\n",
      "rishu\n"
     ]
    }
   ],
   "source": [
    "a={\n",
    "   'class1':{'name':'rishi','section':'A','age':24},\n",
    "    'class2':{'name':'rakhi','section':'B','age':26},\n",
    "    'class3':{'name':'rishu','section':'C','age':4}    \n",
    "}\n",
    "print(a)\n",
    "print(a['class3']['name'])"
   ]
  },
  {
   "cell_type": "markdown",
   "id": "68248713-9045-45c4-a540-f45aaf4bff6f",
   "metadata": {},
   "source": [
    "# fromkeys() method"
   ]
  },
  {
   "cell_type": "code",
   "execution_count": 58,
   "id": "14d8d8bd-090f-4cf3-ad27-f2d0f0a3dfb6",
   "metadata": {},
   "outputs": [
    {
     "name": "stdout",
     "output_type": "stream",
     "text": [
      "{'key1': 0, 'key2': 0, 'key3': 0}\n"
     ]
    }
   ],
   "source": [
    "x=('key1','key2','key3')\n",
    "y=0\n",
    "thisdict=dict.fromkeys(x,y)\n",
    "print(thisdict)"
   ]
  },
  {
   "cell_type": "code",
   "execution_count": 59,
   "id": "111ac6fa-81b2-423b-b2f7-2ef8200fdb61",
   "metadata": {},
   "outputs": [
    {
     "name": "stdout",
     "output_type": "stream",
     "text": [
      "{'key1': 23, 'key2': 23, 'key3': 23}\n"
     ]
    }
   ],
   "source": [
    "x=('key1','key2','key3')\n",
    "y=23\n",
    "thisdict=dict.fromkeys(x,y)\n",
    "print(thisdict)"
   ]
  },
  {
   "cell_type": "code",
   "execution_count": 60,
   "id": "fe1d058d-280e-4748-b00a-56db188c1f23",
   "metadata": {},
   "outputs": [
    {
     "name": "stdout",
     "output_type": "stream",
     "text": [
      "{'key1': None, 'key2': None, 'key3': None}\n"
     ]
    }
   ],
   "source": [
    "x=('key1','key2','key3')\n",
    "a=dict.fromkeys(x)\n",
    "print(a)"
   ]
  },
  {
   "cell_type": "markdown",
   "id": "939085e1-3da4-4ecc-bf2c-2cb55a0d6788",
   "metadata": {},
   "source": [
    "# setdefault() method\n",
    "\n",
    "\"\"\"it returns the value of the item with the specified key. If the key does not exist, insert the key with  the specified value\"\"\""
   ]
  },
  {
   "cell_type": "code",
   "execution_count": 61,
   "id": "4f65ca20-0711-42df-92a5-bdc4c8ccbcb0",
   "metadata": {},
   "outputs": [
    {
     "name": "stdout",
     "output_type": "stream",
     "text": [
      "spiderman\n"
     ]
    }
   ],
   "source": [
    "movie={'genure':'comedy',\n",
    "       'title':'spiderman',\n",
    "       'year':2000\n",
    "}\n",
    "x=movie.setdefault('title','xyz')\n",
    "print(x)"
   ]
  },
  {
   "cell_type": "code",
   "execution_count": 63,
   "id": "bbacede3-5d80-45c2-a1ef-43e3325cfae5",
   "metadata": {},
   "outputs": [
    {
     "name": "stdout",
     "output_type": "stream",
     "text": [
      "2 hours\n",
      "{'genure': 'comedy', 'title': 'spiderman', 'year': 2000, 'length': '2 hours'}\n"
     ]
    }
   ],
   "source": [
    "movie={'genure':'comedy',\n",
    "       'title':'spiderman',\n",
    "       'year':2000\n",
    "}\n",
    "x=movie.setdefault('length','2 hours')\n",
    "print(x)\n",
    "print(movie)"
   ]
  },
  {
   "cell_type": "code",
   "execution_count": 67,
   "id": "b48a7fd9-953a-4031-8d3b-57c5f68caeb6",
   "metadata": {},
   "outputs": [
    {
     "name": "stdout",
     "output_type": "stream",
     "text": [
      "['apple', 'tamarind', 'orange', 'sugercane']\n",
      "['apple', 'orange', 'sugercane', 'tamarind']\n",
      "{'apple': 1, 'orange': 3, 'sugercane': 4, 'tamarind': 2}\n"
     ]
    }
   ],
   "source": [
    "\"\"\"python | sort python dictionaries by key\"\"\"\n",
    "\n",
    "p={'apple':1,'tamarind':2,'orange':3,'sugercane':4}\n",
    "a=list(p.keys())\n",
    "print(a)\n",
    "a.sort()\n",
    "print(a)\n",
    "dic={i:p[i] for i in a}\n",
    "print(dic)"
   ]
  },
  {
   "cell_type": "code",
   "execution_count": 68,
   "id": "bb61ed1a-6018-4441-b634-c0bb80bfeda4",
   "metadata": {},
   "outputs": [
    {
     "name": "stdin",
     "output_type": "stream",
     "text": [
      "Enter the number you want in the dictionary: 3\n",
      "enter keys 1\n",
      "enter values apple\n"
     ]
    },
    {
     "name": "stdout",
     "output_type": "stream",
     "text": [
      "{'1': 'apple'}\n"
     ]
    },
    {
     "name": "stdin",
     "output_type": "stream",
     "text": [
      "enter keys 2\n",
      "enter values orange\n"
     ]
    },
    {
     "name": "stdout",
     "output_type": "stream",
     "text": [
      "{'1': 'apple', '2': 'orange'}\n"
     ]
    },
    {
     "name": "stdin",
     "output_type": "stream",
     "text": [
      "enter keys 3\n",
      "enter values cat\n"
     ]
    },
    {
     "name": "stdout",
     "output_type": "stream",
     "text": [
      "{'1': 'apple', '2': 'orange', '3': 'cat'}\n"
     ]
    }
   ],
   "source": [
    "\"\"\"user input--dictionary\"\"\"\n",
    "\n",
    "a={}\n",
    "n=int(input('Enter the number you want in the dictionary:'))\n",
    "for i in range(n):\n",
    "    b=input('enter keys')\n",
    "    c=input('enter values')\n",
    "    a.update({b:c})\n",
    "    print(a)"
   ]
  },
  {
   "cell_type": "code",
   "execution_count": 79,
   "id": "547e22c7-44e6-4024-8a77-e47c80b11366",
   "metadata": {},
   "outputs": [
    {
     "name": "stdin",
     "output_type": "stream",
     "text": [
      "enter the number you want in the dictionary 3\n",
      "enter keys 1\n",
      "enter values python\n"
     ]
    },
    {
     "name": "stdout",
     "output_type": "stream",
     "text": [
      "{'1': 'python'}\n"
     ]
    },
    {
     "name": "stdin",
     "output_type": "stream",
     "text": [
      "enter keys 2\n",
      "enter values cat\n"
     ]
    },
    {
     "name": "stdout",
     "output_type": "stream",
     "text": [
      "{'1': 'python', '2': 'cat'}\n"
     ]
    },
    {
     "name": "stdin",
     "output_type": "stream",
     "text": [
      "enter keys 3\n",
      "enter values mat\n"
     ]
    },
    {
     "name": "stdout",
     "output_type": "stream",
     "text": [
      "{'1': 'python', '2': 'cat', '3': 'mat'}\n",
      "[('1', 'python'), ('2', 'cat'), ('3', 'mat')]\n",
      "[('3', 'mat'), ('2', 'cat'), ('1', 'python')]\n",
      "{'3': 'mat', '2': 'cat', '1': 'python'}\n"
     ]
    }
   ],
   "source": [
    "\"\"\"take the input from the user and reverse the dictionary\"\"\"\n",
    "\n",
    "a={}\n",
    "n=int(input('enter the number you want in the dictionary'))\n",
    "for i in range(n):\n",
    "    b=input('enter keys')\n",
    "    c=input('enter values')\n",
    "    a.update({b:c})\n",
    "    print(a)\n",
    "    m=list(a.items())\n",
    "print(m)\n",
    "m.reverse()\n",
    "print(m)\n",
    "print(dict(m))"
   ]
  },
  {
   "cell_type": "code",
   "execution_count": 81,
   "id": "9c39067e-e750-415e-b795-16e296da8931",
   "metadata": {},
   "outputs": [
    {
     "name": "stdout",
     "output_type": "stream",
     "text": [
      "4\n",
      "1\n",
      "rat\n",
      "cat\n"
     ]
    }
   ],
   "source": [
    "\"\"\"find out max() and min() values in dictionaries\"\"\"\n",
    "\n",
    "a={1:'lion',2:'cat',3:'mat',4:'rat'}\n",
    "b=list(a.keys())\n",
    "c=list(a.values())\n",
    "print(max(b))\n",
    "print(min(b))\n",
    "print(max(c))\n",
    "print(min(c))"
   ]
  },
  {
   "cell_type": "code",
   "execution_count": null,
   "id": "33463bc7-5b28-45a8-9d99-ef78c81dcabe",
   "metadata": {},
   "outputs": [],
   "source": []
  },
  {
   "cell_type": "code",
   "execution_count": null,
   "id": "38203a11-0991-4c2a-942b-62e4bccea310",
   "metadata": {},
   "outputs": [],
   "source": []
  }
 ],
 "metadata": {
  "kernelspec": {
   "display_name": "Python 3 (ipykernel)",
   "language": "python",
   "name": "python3"
  },
  "language_info": {
   "codemirror_mode": {
    "name": "ipython",
    "version": 3
   },
   "file_extension": ".py",
   "mimetype": "text/x-python",
   "name": "python",
   "nbconvert_exporter": "python",
   "pygments_lexer": "ipython3",
   "version": "3.11.5"
  }
 },
 "nbformat": 4,
 "nbformat_minor": 5
}
