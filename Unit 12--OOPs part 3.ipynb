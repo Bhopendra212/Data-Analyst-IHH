{
 "cells": [
  {
   "cell_type": "markdown",
   "id": "287d4a4c-dcbb-4c97-a04b-ba510f7723dd",
   "metadata": {},
   "source": [
    "# abstraction/ abstract class"
   ]
  },
  {
   "cell_type": "code",
   "execution_count": 3,
   "id": "7247b8eb-4611-4547-ac6e-f2ac1bdf455f",
   "metadata": {},
   "outputs": [],
   "source": [
    "import abc\n",
    "class ihh:\n",
    "\n",
    "    @abc.abstractmethod\n",
    "    def student_details(self):\n",
    "        pass\n",
    "\n",
    "    @abc.abstractmethod\n",
    "    def homework_details(self):\n",
    "        pass\n",
    "\n",
    "    @abc.abstractmethod\n",
    "    def exam_details(self):\n",
    "        pass"
   ]
  },
  {
   "cell_type": "code",
   "execution_count": 5,
   "id": "6e6c2d04-0bf2-4d46-8664-b95e99d26bf8",
   "metadata": {},
   "outputs": [],
   "source": [
    "class demo(ihh):\n",
    "    def student_details(self):\n",
    "        print('student details are available here')\n",
    "\n",
    "    def homework_details(self):\n",
    "        print(4+5)"
   ]
  },
  {
   "cell_type": "code",
   "execution_count": 6,
   "id": "f10be83e-5e0e-44c8-9a95-80a14d2dee42",
   "metadata": {},
   "outputs": [],
   "source": [
    "class test(ihh):\n",
    "    def student_details(self):\n",
    "        print('student is enrolled')\n",
    "\n",
    "    def exam_details(self):\n",
    "        print('your exam is on next week')"
   ]
  },
  {
   "cell_type": "code",
   "execution_count": 7,
   "id": "87fca2f5-dfeb-4d39-9984-6cd0759ed494",
   "metadata": {},
   "outputs": [],
   "source": [
    "demo_obj=demo()"
   ]
  },
  {
   "cell_type": "code",
   "execution_count": 8,
   "id": "b1e6bd66-ab96-48cf-ba9a-bc4c629ee140",
   "metadata": {},
   "outputs": [
    {
     "name": "stdout",
     "output_type": "stream",
     "text": [
      "student details are available here\n"
     ]
    }
   ],
   "source": [
    "demo_obj.student_details()"
   ]
  },
  {
   "cell_type": "code",
   "execution_count": 9,
   "id": "5a99626e-7652-4f2d-ba09-63483664fa9e",
   "metadata": {},
   "outputs": [
    {
     "name": "stdout",
     "output_type": "stream",
     "text": [
      "9\n"
     ]
    }
   ],
   "source": [
    "demo_obj.homework_details()"
   ]
  },
  {
   "cell_type": "code",
   "execution_count": 10,
   "id": "02ae4b42-90c3-455c-a4d3-7f85884e1b9a",
   "metadata": {},
   "outputs": [],
   "source": [
    "test_obj=test()"
   ]
  },
  {
   "cell_type": "code",
   "execution_count": 11,
   "id": "fb780437-9364-4f71-8594-6671bca5290e",
   "metadata": {},
   "outputs": [
    {
     "name": "stdout",
     "output_type": "stream",
     "text": [
      "student is enrolled\n"
     ]
    }
   ],
   "source": [
    "test_obj.student_details()"
   ]
  },
  {
   "cell_type": "code",
   "execution_count": 12,
   "id": "f4c1ef41-2406-4541-8be6-ab270ebbb026",
   "metadata": {},
   "outputs": [
    {
     "name": "stdout",
     "output_type": "stream",
     "text": [
      "your exam is on next week\n"
     ]
    }
   ],
   "source": [
    "test_obj.exam_details()"
   ]
  },
  {
   "cell_type": "markdown",
   "id": "147a3e22-c6eb-4801-b6e0-62bd527d14f4",
   "metadata": {},
   "source": [
    "# decorators"
   ]
  },
  {
   "cell_type": "code",
   "execution_count": 13,
   "id": "ea29c756-f9b8-4c14-8f93-4403458863c2",
   "metadata": {},
   "outputs": [],
   "source": [
    "def check():\n",
    "    print('This is check function')"
   ]
  },
  {
   "cell_type": "code",
   "execution_count": 14,
   "id": "9160703b-22f9-499e-a2f1-8eeeaa8ca2bc",
   "metadata": {},
   "outputs": [
    {
     "name": "stdout",
     "output_type": "stream",
     "text": [
      "This is check function\n"
     ]
    }
   ],
   "source": [
    "check()"
   ]
  },
  {
   "cell_type": "code",
   "execution_count": 15,
   "id": "0def86d7-74d7-41ce-84f1-5939539b6cba",
   "metadata": {},
   "outputs": [],
   "source": [
    "def check():\n",
    "    print('this is the starting of the function')\n",
    "    print('this is check function')\n",
    "    print('This is the ending of the function')\n",
    "    "
   ]
  },
  {
   "cell_type": "code",
   "execution_count": 16,
   "id": "91d11de3-5d1e-4fae-952d-56d0fe6e6225",
   "metadata": {},
   "outputs": [
    {
     "name": "stdout",
     "output_type": "stream",
     "text": [
      "this is the starting of the function\n",
      "this is check function\n",
      "This is the ending of the function\n"
     ]
    }
   ],
   "source": [
    "check()"
   ]
  },
  {
   "cell_type": "code",
   "execution_count": 17,
   "id": "e795530a-068d-408d-abd2-a7dfa6b555e0",
   "metadata": {},
   "outputs": [],
   "source": [
    "def check():\n",
    "    print('this is the starting of the function')\n",
    "    print('this is check function')\n",
    "    print(2+3)\n",
    "    print('This is the ending of the function')\n",
    "    "
   ]
  },
  {
   "cell_type": "code",
   "execution_count": 18,
   "id": "baf120fc-ad84-4cc6-8184-650eeb59594d",
   "metadata": {},
   "outputs": [
    {
     "name": "stdout",
     "output_type": "stream",
     "text": [
      "this is the starting of the function\n",
      "this is check function\n",
      "5\n",
      "This is the ending of the function\n"
     ]
    }
   ],
   "source": [
    "check()"
   ]
  },
  {
   "cell_type": "code",
   "execution_count": 29,
   "id": "e4acdf8c-d26f-4c77-bc7f-69b0b987fb28",
   "metadata": {},
   "outputs": [],
   "source": [
    "def decor(func):\n",
    "    def inner_decor():\n",
    "        print('This is the starting of the function')\n",
    "        func()\n",
    "        print('This is the ending of the function')\n",
    "    return inner_decor()"
   ]
  },
  {
   "cell_type": "code",
   "execution_count": 30,
   "id": "4fc001f0-31f2-41e0-8a1f-5f76891fc0d8",
   "metadata": {},
   "outputs": [
    {
     "name": "stdout",
     "output_type": "stream",
     "text": [
      "This is the starting of the function\n",
      "11\n",
      "This is the ending of the function\n"
     ]
    }
   ],
   "source": [
    "@decor\n",
    "def check1():\n",
    "    print(5+6)"
   ]
  },
  {
   "cell_type": "code",
   "execution_count": 31,
   "id": "0928698a-bc5d-4fe6-b70f-b8964017130f",
   "metadata": {},
   "outputs": [
    {
     "name": "stdout",
     "output_type": "stream",
     "text": [
      "This is the starting of the function\n",
      "24\n",
      "This is the ending of the function\n"
     ]
    }
   ],
   "source": [
    "@decor\n",
    "def learn():\n",
    "    print(2*12)"
   ]
  },
  {
   "cell_type": "code",
   "execution_count": 32,
   "id": "6efc7c06-2efb-4bde-9e4d-6e0c675d4792",
   "metadata": {},
   "outputs": [],
   "source": [
    "import time\n",
    "\n",
    "def timer_test(func):\n",
    "    def timer_test_inner():\n",
    "        start=time.time()\n",
    "        func()\n",
    "        end=time.time()\n",
    "        print(end-start)\n",
    "    return timer_test_inner"
   ]
  },
  {
   "cell_type": "code",
   "execution_count": 33,
   "id": "5f457faa-76ef-429d-b510-a4dd7e4ad202",
   "metadata": {},
   "outputs": [],
   "source": [
    "@timer_test\n",
    "def hello():\n",
    "    print(45+789*15789**2)"
   ]
  },
  {
   "cell_type": "code",
   "execution_count": 34,
   "id": "8c3e7ad9-2a95-43fe-bfe1-a28a2402a493",
   "metadata": {},
   "outputs": [
    {
     "name": "stdout",
     "output_type": "stream",
     "text": [
      "196691799114\n",
      "0.0\n"
     ]
    }
   ],
   "source": [
    "hello()"
   ]
  },
  {
   "cell_type": "code",
   "execution_count": 35,
   "id": "335c7033-c9a7-497c-86bf-698863457dc1",
   "metadata": {},
   "outputs": [],
   "source": [
    "@timer_test\n",
    "def demo():\n",
    "    for i in range(1000000):\n",
    "        pass"
   ]
  },
  {
   "cell_type": "code",
   "execution_count": 36,
   "id": "034b497e-6f95-4a0b-a154-9908d145a8e6",
   "metadata": {},
   "outputs": [
    {
     "name": "stdout",
     "output_type": "stream",
     "text": [
      "0.040410757064819336\n"
     ]
    }
   ],
   "source": [
    "demo()"
   ]
  },
  {
   "cell_type": "markdown",
   "id": "17907518-043d-459b-8b94-11a9201dcbb9",
   "metadata": {},
   "source": [
    "# class method"
   ]
  },
  {
   "cell_type": "code",
   "execution_count": 37,
   "id": "247aa516-cfcf-49f7-860d-5a31bd011e60",
   "metadata": {},
   "outputs": [],
   "source": [
    "class apple():\n",
    "    def hello(self):\n",
    "        print('This is an amazing python learning')"
   ]
  },
  {
   "cell_type": "code",
   "execution_count": 38,
   "id": "5d3c424f-013a-4563-9a58-09edc00b748f",
   "metadata": {},
   "outputs": [],
   "source": [
    "app=apple()"
   ]
  },
  {
   "cell_type": "code",
   "execution_count": 39,
   "id": "45d9c012-7bf5-4f6e-b19e-075601bd6823",
   "metadata": {},
   "outputs": [
    {
     "name": "stdout",
     "output_type": "stream",
     "text": [
      "This is an amazing python learning\n"
     ]
    }
   ],
   "source": [
    "app.hello()"
   ]
  },
  {
   "cell_type": "code",
   "execution_count": 46,
   "id": "303f0be6-e596-41ba-b003-3912f2f7ba90",
   "metadata": {},
   "outputs": [],
   "source": [
    "class mobile():\n",
    "    base_price=10000\n",
    "    def __init__(self,number,id_name):\n",
    "        self.number=number\n",
    "        self.id_name=id_name\n",
    "    @classmethod\n",
    "    def revise_new_price(cls,inflation):\n",
    "        cls.base_price=cls.base_price + cls.base_price*inflation\n",
    "\n",
    "    def color(self):\n",
    "        print('The color of mobile is red')"
   ]
  },
  {
   "cell_type": "code",
   "execution_count": 41,
   "id": "cf761c2f-06f5-43cf-9a02-907ab48047d2",
   "metadata": {},
   "outputs": [],
   "source": [
    "mobile.revise_new_price(0.10)"
   ]
  },
  {
   "cell_type": "code",
   "execution_count": 43,
   "id": "c158f8bd-3c77-47c8-bdff-3e52cc40b49e",
   "metadata": {},
   "outputs": [
    {
     "data": {
      "text/plain": [
       "11000.0"
      ]
     },
     "execution_count": 43,
     "metadata": {},
     "output_type": "execute_result"
    }
   ],
   "source": [
    "mobile.base_price"
   ]
  },
  {
   "cell_type": "code",
   "execution_count": 44,
   "id": "6c9bac14-7541-4c4e-a871-e1ed5905a1ed",
   "metadata": {},
   "outputs": [],
   "source": [
    "mobile.revise_new_price(0.08)"
   ]
  },
  {
   "cell_type": "code",
   "execution_count": 45,
   "id": "9080deb8-a99c-4af3-8eb3-19705c09d8ec",
   "metadata": {},
   "outputs": [
    {
     "data": {
      "text/plain": [
       "11880.0"
      ]
     },
     "execution_count": 45,
     "metadata": {},
     "output_type": "execute_result"
    }
   ],
   "source": [
    "mobile.base_price"
   ]
  },
  {
   "cell_type": "code",
   "execution_count": 47,
   "id": "0de08401-cbd1-45af-97c3-2e4b98231944",
   "metadata": {},
   "outputs": [
    {
     "ename": "TypeError",
     "evalue": "mobile.color() missing 1 required positional argument: 'self'",
     "output_type": "error",
     "traceback": [
      "\u001b[1;31m---------------------------------------------------------------------------\u001b[0m",
      "\u001b[1;31mTypeError\u001b[0m                                 Traceback (most recent call last)",
      "Cell \u001b[1;32mIn[47], line 1\u001b[0m\n\u001b[1;32m----> 1\u001b[0m \u001b[43mmobile\u001b[49m\u001b[38;5;241;43m.\u001b[39;49m\u001b[43mcolor\u001b[49m\u001b[43m(\u001b[49m\u001b[43m)\u001b[49m\n",
      "\u001b[1;31mTypeError\u001b[0m: mobile.color() missing 1 required positional argument: 'self'"
     ]
    }
   ],
   "source": [
    "mobile.color()"
   ]
  },
  {
   "cell_type": "code",
   "execution_count": 49,
   "id": "43e9af41-d0a4-4317-8b28-5ba041025cf3",
   "metadata": {},
   "outputs": [],
   "source": [
    "mob=mobile(145,29)"
   ]
  },
  {
   "cell_type": "code",
   "execution_count": 50,
   "id": "179bf6c0-b77d-4266-89c2-8ffc87bf57a3",
   "metadata": {},
   "outputs": [
    {
     "name": "stdout",
     "output_type": "stream",
     "text": [
      "The color of mobile is red\n"
     ]
    }
   ],
   "source": [
    "mob.color()"
   ]
  },
  {
   "cell_type": "code",
   "execution_count": null,
   "id": "ff1384b5-d12e-4b62-ab08-83d19bf75e65",
   "metadata": {},
   "outputs": [],
   "source": []
  },
  {
   "cell_type": "code",
   "execution_count": null,
   "id": "70b48309-8fc1-4279-98c6-ef6d9f4dfdcd",
   "metadata": {},
   "outputs": [],
   "source": []
  },
  {
   "cell_type": "code",
   "execution_count": null,
   "id": "0c990ec4-d1ab-4de3-ac68-9d14c6247718",
   "metadata": {},
   "outputs": [],
   "source": []
  },
  {
   "cell_type": "code",
   "execution_count": null,
   "id": "b61cd2c5-3c7a-44cc-a070-b0be8ebb313f",
   "metadata": {},
   "outputs": [],
   "source": []
  },
  {
   "cell_type": "code",
   "execution_count": null,
   "id": "2a9c67a1-ca1f-498a-b55c-615d844e47af",
   "metadata": {},
   "outputs": [],
   "source": []
  },
  {
   "cell_type": "code",
   "execution_count": null,
   "id": "f2c47cda-b957-443f-8571-59e5e4764855",
   "metadata": {},
   "outputs": [],
   "source": []
  },
  {
   "cell_type": "code",
   "execution_count": null,
   "id": "5481a5c7-e73a-4d2c-ac75-027a22990c89",
   "metadata": {},
   "outputs": [],
   "source": []
  },
  {
   "cell_type": "code",
   "execution_count": null,
   "id": "c91850cb-83fd-41cd-a97f-e611799b63ae",
   "metadata": {},
   "outputs": [],
   "source": []
  },
  {
   "cell_type": "code",
   "execution_count": null,
   "id": "d4ec2c54-de3d-4733-8a07-9178d741153f",
   "metadata": {},
   "outputs": [],
   "source": []
  },
  {
   "cell_type": "code",
   "execution_count": null,
   "id": "d03a6eca-14f6-49fc-bce0-26e45502c7ca",
   "metadata": {},
   "outputs": [],
   "source": []
  },
  {
   "cell_type": "code",
   "execution_count": null,
   "id": "3798d6f8-ff7f-4d27-8c10-9ea12f926bbf",
   "metadata": {},
   "outputs": [],
   "source": []
  },
  {
   "cell_type": "code",
   "execution_count": null,
   "id": "b591e597-0f59-47a0-8516-172059d88b5e",
   "metadata": {},
   "outputs": [],
   "source": []
  },
  {
   "cell_type": "code",
   "execution_count": null,
   "id": "4513cfdf-6773-4bf7-835f-e9e17bfa12e4",
   "metadata": {},
   "outputs": [],
   "source": []
  },
  {
   "cell_type": "code",
   "execution_count": null,
   "id": "f567ed95-f26f-4a2e-8d2f-de1ae6aac85c",
   "metadata": {},
   "outputs": [],
   "source": []
  },
  {
   "cell_type": "code",
   "execution_count": null,
   "id": "90bf3904-2c6f-4aae-9a76-f1bf9a5d529e",
   "metadata": {},
   "outputs": [],
   "source": []
  },
  {
   "cell_type": "code",
   "execution_count": null,
   "id": "7af9e03a-235f-49c8-824a-37dc338e5ae4",
   "metadata": {},
   "outputs": [],
   "source": []
  },
  {
   "cell_type": "code",
   "execution_count": null,
   "id": "a76627dc-fe56-4fba-a301-54c6e102c581",
   "metadata": {},
   "outputs": [],
   "source": []
  },
  {
   "cell_type": "code",
   "execution_count": null,
   "id": "242f3d77-ac5a-42aa-80d2-41f4759d29c4",
   "metadata": {},
   "outputs": [],
   "source": []
  },
  {
   "cell_type": "code",
   "execution_count": null,
   "id": "781d8c5b-85d6-4763-bfce-7dd178a280d3",
   "metadata": {},
   "outputs": [],
   "source": []
  },
  {
   "cell_type": "code",
   "execution_count": null,
   "id": "d9ad78aa-4606-4ca5-9baa-2465a084b771",
   "metadata": {},
   "outputs": [],
   "source": []
  },
  {
   "cell_type": "code",
   "execution_count": null,
   "id": "d67aa302-ff77-404b-b2e0-274a2ec002a0",
   "metadata": {},
   "outputs": [],
   "source": []
  },
  {
   "cell_type": "code",
   "execution_count": null,
   "id": "c39a671a-8d32-40d1-a15a-dc44678c0497",
   "metadata": {},
   "outputs": [],
   "source": []
  },
  {
   "cell_type": "code",
   "execution_count": null,
   "id": "3fb9c256-c737-44d4-b38d-c187f7386d4a",
   "metadata": {},
   "outputs": [],
   "source": []
  },
  {
   "cell_type": "code",
   "execution_count": null,
   "id": "7dfff5cc-96d8-4fde-9c0d-3466d53cf075",
   "metadata": {},
   "outputs": [],
   "source": []
  },
  {
   "cell_type": "code",
   "execution_count": null,
   "id": "bd12239f-fcba-4983-a8bd-83be90f3adee",
   "metadata": {},
   "outputs": [],
   "source": []
  },
  {
   "cell_type": "code",
   "execution_count": null,
   "id": "e07bf3cc-70ae-4fe0-8b89-4530c696c74c",
   "metadata": {},
   "outputs": [],
   "source": []
  },
  {
   "cell_type": "code",
   "execution_count": null,
   "id": "4b901314-1e80-4e20-8f9f-cc6e8e1dcd55",
   "metadata": {},
   "outputs": [],
   "source": []
  }
 ],
 "metadata": {
  "kernelspec": {
   "display_name": "Python 3 (ipykernel)",
   "language": "python",
   "name": "python3"
  },
  "language_info": {
   "codemirror_mode": {
    "name": "ipython",
    "version": 3
   },
   "file_extension": ".py",
   "mimetype": "text/x-python",
   "name": "python",
   "nbconvert_exporter": "python",
   "pygments_lexer": "ipython3",
   "version": "3.11.5"
  }
 },
 "nbformat": 4,
 "nbformat_minor": 5
}
