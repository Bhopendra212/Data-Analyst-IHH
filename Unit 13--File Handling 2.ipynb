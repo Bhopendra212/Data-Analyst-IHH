{
 "cells": [
  {
   "cell_type": "code",
   "execution_count": 1,
   "id": "7cf332b8-87f4-47e8-b3f4-a8cd2fa5d5f2",
   "metadata": {},
   "outputs": [],
   "source": [
    "with open('test.bin','wb') as f:\n",
    "    f.write(b\"\\x01\\x02\\x03\")"
   ]
  },
  {
   "cell_type": "code",
   "execution_count": 7,
   "id": "15b511c1-7df7-47f4-b6af-ab21ee984e9e",
   "metadata": {},
   "outputs": [],
   "source": [
    "with open('test.bin','wb') as f:\n",
    "    f.write(b\"\\x01\\x02\\x03\\x487643454646\")"
   ]
  },
  {
   "cell_type": "code",
   "execution_count": 8,
   "id": "ad913751-6b93-4e2b-b10c-1c1b9be077e9",
   "metadata": {},
   "outputs": [
    {
     "name": "stdout",
     "output_type": "stream",
     "text": [
      "b'\\x01\\x02\\x03H7643454646'\n"
     ]
    }
   ],
   "source": [
    "with open('test.bin','rb') as f:\n",
    "    print(f.read())"
   ]
  },
  {
   "cell_type": "markdown",
   "id": "5d856608-89cf-41d1-b898-1dec4cd8059f",
   "metadata": {},
   "source": [
    "# Buffered read and write other file methods"
   ]
  },
  {
   "cell_type": "code",
   "execution_count": 9,
   "id": "cbcd2899-1f18-4359-964b-c1c0a37e33c4",
   "metadata": {},
   "outputs": [],
   "source": [
    "import io"
   ]
  },
  {
   "cell_type": "code",
   "execution_count": 11,
   "id": "f3ce23b8-5687-4913-b54d-b1191856f09a",
   "metadata": {},
   "outputs": [],
   "source": [
    "with open('demo.txt','wb')as f:\n",
    "    file=io.BufferedWriter(f)\n",
    "\n",
    "    file.write(b\"this is my first file\\n\")\n",
    "    file.write(b\"this is my second file\")\n",
    "    file.flush()"
   ]
  },
  {
   "cell_type": "code",
   "execution_count": 12,
   "id": "baf67969-5526-4a47-84d8-93816adfbe27",
   "metadata": {},
   "outputs": [],
   "source": [
    "with open('demo.txt','wb')as f:\n",
    "    file=io.BufferedWriter(f)\n",
    "\n",
    "    file.write(b\"this is my first file\\n\")\n",
    "    file.write(b\"Data science also integrates domain knowledge from the underlying application domain (e.g., natural sciences, information technology, and medicine).[3] Data science is multifaceted and can be described as a science, a research paradigm, a research method, a discipline, a workflow, and a profession.\")\n",
    "    file.flush()"
   ]
  },
  {
   "cell_type": "code",
   "execution_count": 13,
   "id": "074bd776-f01b-48f6-bcee-0fcd185a452f",
   "metadata": {},
   "outputs": [
    {
     "name": "stdout",
     "output_type": "stream",
     "text": [
      "b'this is my first file\\nData science also integrates domain knowledge from the underlying application domain (e.g., natural sciences, information technology, and medicine).[3] Data science is multifaceted and can be described as a science, a research paradigm, a research method, a discipline, a workflow, and a profession.'\n"
     ]
    }
   ],
   "source": [
    "with open('demo.txt','rb') as f:\n",
    "    file = io.BufferedReader(f)\n",
    "    data=file.read()\n",
    "    print(data)"
   ]
  },
  {
   "cell_type": "markdown",
   "id": "4edf123f-b318-4608-91a7-366b693d84fc",
   "metadata": {},
   "source": [
    "# Logging and Debugger"
   ]
  },
  {
   "cell_type": "code",
   "execution_count": 19,
   "id": "1ad04981-cc5b-4113-b669-822dcc08e97a",
   "metadata": {},
   "outputs": [
    {
     "name": "stdout",
     "output_type": "stream",
     "text": [
      "This is my new class\n"
     ]
    }
   ],
   "source": [
    "print('This is my new class')"
   ]
  },
  {
   "cell_type": "code",
   "execution_count": 18,
   "id": "849ae63f-4ca6-4ab9-b7d1-b76c5dce5e3d",
   "metadata": {},
   "outputs": [
    {
     "name": "stdout",
     "output_type": "stream",
     "text": [
      "I am Rishi\n"
     ]
    }
   ],
   "source": [
    "print('I am Rishi')"
   ]
  },
  {
   "cell_type": "code",
   "execution_count": 20,
   "id": "ee506097-6ef9-474f-91b5-8c0609a922ac",
   "metadata": {},
   "outputs": [],
   "source": [
    "import logging"
   ]
  },
  {
   "cell_type": "code",
   "execution_count": 21,
   "id": "d00832c5-b9ac-465b-8bb5-f462ec1bc310",
   "metadata": {},
   "outputs": [],
   "source": [
    "logging.basicConfig(filename='test.log', level=logging.INFO)"
   ]
  },
  {
   "cell_type": "code",
   "execution_count": 22,
   "id": "1a051760-3009-4c2b-b6f5-14431a12f6fe",
   "metadata": {},
   "outputs": [],
   "source": [
    "logging.info('log this is the execution')"
   ]
  },
  {
   "cell_type": "raw",
   "id": "0a9c4c65-6612-40af-897e-33925bdb02bd",
   "metadata": {},
   "source": [
    "# Levels in the logging\n",
    "1.NOTSET\n",
    "2.DEBUG\n",
    "3.INFO\n",
    "4.WARNING\n",
    "5.ERROR\n",
    "6.CRITICAL"
   ]
  },
  {
   "cell_type": "code",
   "execution_count": 23,
   "id": "0470b93e-41fb-4911-a25c-b69239b04ed6",
   "metadata": {},
   "outputs": [],
   "source": [
    "logging.debug('This is python class')"
   ]
  },
  {
   "cell_type": "code",
   "execution_count": 25,
   "id": "8c4fc71c-7860-400c-aa74-a4b408a138dd",
   "metadata": {},
   "outputs": [],
   "source": [
    "logging.warning('You are late for the class')"
   ]
  },
  {
   "cell_type": "code",
   "execution_count": 26,
   "id": "7e87c56d-3780-410b-928e-bda561845fdd",
   "metadata": {},
   "outputs": [],
   "source": [
    "logging.error('This is error message')"
   ]
  },
  {
   "cell_type": "code",
   "execution_count": 27,
   "id": "9f359828-c05e-4c79-a80d-f56652070001",
   "metadata": {},
   "outputs": [],
   "source": [
    "logging.critical('This is critical message')"
   ]
  },
  {
   "cell_type": "code",
   "execution_count": 28,
   "id": "eae8be1a-2b16-4261-b69e-4cb5b1e35def",
   "metadata": {},
   "outputs": [],
   "source": [
    "logging.shutdown()"
   ]
  },
  {
   "cell_type": "code",
   "execution_count": 34,
   "id": "f85d7252-b468-4ce0-b6f2-0202bb78a1c1",
   "metadata": {},
   "outputs": [],
   "source": [
    "import logging"
   ]
  },
  {
   "cell_type": "code",
   "execution_count": 39,
   "id": "d28e4bb8-d264-4bec-8cfa-72d405f5984a",
   "metadata": {},
   "outputs": [],
   "source": [
    "logging.basicConfig(filename='learn.log', LEVEL=logging.DEBUG, format='%(asctime)s %(name)s %(levelname)s %(message)s')"
   ]
  },
  {
   "cell_type": "code",
   "execution_count": 40,
   "id": "1b99b39b-e3e4-4117-8a95-71f3e795d929",
   "metadata": {},
   "outputs": [],
   "source": [
    "logging.info('This is logging')"
   ]
  },
  {
   "cell_type": "code",
   "execution_count": 41,
   "id": "79f34630-551a-4bc0-83d5-5584bc1a44f9",
   "metadata": {},
   "outputs": [],
   "source": [
    "logging.error('This is error')"
   ]
  },
  {
   "cell_type": "code",
   "execution_count": 38,
   "id": "31f55c13-8a89-4b7d-8ad3-37b93906c3df",
   "metadata": {},
   "outputs": [],
   "source": [
    "logging.critical('This is so critical')"
   ]
  },
  {
   "cell_type": "code",
   "execution_count": 42,
   "id": "c7a36b3e-ce0d-45d6-907e-da8635413531",
   "metadata": {},
   "outputs": [
    {
     "name": "stdout",
     "output_type": "stream",
     "text": [
      "[45]\n",
      "[45, 11]\n",
      "[45, 11, 22]\n",
      "[45, 11, 22, 48]\n",
      "[-53]\n",
      "[-53, -23]\n",
      "[45, 11, 22, 48, 5]\n",
      "[45, 11, 22, 48, 5, 89]\n",
      "[-53, -23, -29]\n",
      "[-53, -23, -29, -2]\n",
      "[45, 11, 22, 48, 5, 89, 33]\n",
      "[-53, -23, -29, -2, -65]\n",
      "[45, 11, 22, 48, 5, 89, 33, 44]\n",
      "[45, 11, 22, 48, 5, 89, 33, 44, 55]\n",
      "[45, 11, 22, 48, 5, 89, 33, 44, 55, 88]\n"
     ]
    }
   ],
   "source": [
    "L=[45,11,22,48,-53,-23,5,89,-29,-2,33,-65,44,55,88]\n",
    "logging.info('saparate this list into 2 list of positive and negative numbers')\n",
    "a=[]\n",
    "b=[]\n",
    "logging.debug('This is debugging')\n",
    "for i in range(len(L)):\n",
    "    logging.info('Making the  list of positive numbers')\n",
    "    if L[i] >= 0:\n",
    "        a.append(L[i])\n",
    "        print(a)\n",
    "        logging.warning('This is warening')\n",
    "    else:\n",
    "        b.append(L[i])\n",
    "        print(b)\n",
    "        logging.warning('This is the warniong for negative number')\n",
    "        "
   ]
  },
  {
   "cell_type": "code",
   "execution_count": 44,
   "id": "9518284f-377c-4e08-bcdb-ce6def08cec2",
   "metadata": {},
   "outputs": [],
   "source": [
    "logging.shutdown()"
   ]
  },
  {
   "cell_type": "code",
   "execution_count": null,
   "id": "22277473-2726-4def-a7a7-611f38161000",
   "metadata": {},
   "outputs": [],
   "source": []
  }
 ],
 "metadata": {
  "kernelspec": {
   "display_name": "Python 3 (ipykernel)",
   "language": "python",
   "name": "python3"
  },
  "language_info": {
   "codemirror_mode": {
    "name": "ipython",
    "version": 3
   },
   "file_extension": ".py",
   "mimetype": "text/x-python",
   "name": "python",
   "nbconvert_exporter": "python",
   "pygments_lexer": "ipython3",
   "version": "3.11.5"
  }
 },
 "nbformat": 4,
 "nbformat_minor": 5
}
