{
 "cells": [
  {
   "cell_type": "markdown",
   "id": "ac8df457-c7a5-433c-a439-d85b0882aa88",
   "metadata": {},
   "source": [
    "# question 1:- Write a python program to create a class representing a circle. Include methods to calculate its area and perimeter"
   ]
  },
  {
   "cell_type": "code",
   "execution_count": 5,
   "id": "f8f183cb-6d50-4219-8ef5-cf3458d69ce3",
   "metadata": {},
   "outputs": [
    {
     "name": "stdin",
     "output_type": "stream",
     "text": [
      "Enter the radius of the circle: 10\n"
     ]
    },
    {
     "name": "stdout",
     "output_type": "stream",
     "text": [
      "Area of the circle: 314.1592653589793\n",
      "Perimeter of the circle: 62.83185307179586\n"
     ]
    }
   ],
   "source": [
    "import math\n",
    "class circle():\n",
    "    def __init__(self,radius):\n",
    "        self.radius=radius\n",
    "\n",
    "    def calculate_circle_area(self):\n",
    "        return math.pi*self.radius**2\n",
    "\n",
    "    def calculate_circle_perimeter(self):\n",
    "        return math.pi*2*self.radius\n",
    "radius=float(input('Enter the radius of the circle:'))\n",
    "circle=circle(radius)\n",
    "area=circle.calculate_circle_area()\n",
    "perimeter=circle.calculate_circle_perimeter()\n",
    "print('Area of the circle:',area)\n",
    "print('Perimeter of the circle:',perimeter)"
   ]
  },
  {
   "cell_type": "markdown",
   "id": "1c0f2643-c6dd-4ff6-9161-03c93560ba8b",
   "metadata": {},
   "source": [
    "# question 2:- write a python program to create a calculator class. Include methods for basic arithmetic operations"
   ]
  },
  {
   "cell_type": "code",
   "execution_count": 7,
   "id": "0fb442f8-d0a5-4e34-9542-13935b221050",
   "metadata": {},
   "outputs": [
    {
     "name": "stdout",
     "output_type": "stream",
     "text": [
      "7 + 5 = 12\n",
      "34 - 21 = 13\n",
      "54 * 2 = 108\n",
      "144 / 2 = 72.0\n",
      "45 / 0 = cannot divide by zero\n"
     ]
    }
   ],
   "source": [
    "class calculator:\n",
    "    def add(self,x,y):\n",
    "        return x+y\n",
    "\n",
    "    def subtract(self,x,y):\n",
    "        return x-y\n",
    "\n",
    "    def multiply(self,x,y):\n",
    "        return x*y\n",
    "\n",
    "    def divide(self,x,y):\n",
    "        if y!=0:\n",
    "            return x/y\n",
    "        else:\n",
    "            return ('cannot divide by zero')\n",
    "\n",
    "calculator=calculator()\n",
    "result=calculator.add(7,5)\n",
    "print('7 + 5 =',result)\n",
    "result=calculator.subtract(34,21)\n",
    "print('34 - 21 =',result)\n",
    "result=calculator.multiply(54,2)\n",
    "print('54 * 2 =',result)\n",
    "result=calculator.divide(144,2)\n",
    "print('144 / 2 =',result)\n",
    "result=calculator.divide(45,0)\n",
    "print('45 / 0 =',result)\n"
   ]
  },
  {
   "cell_type": "markdown",
   "id": "672fbd25-c60a-417b-be0b-ee02d755bb6c",
   "metadata": {},
   "source": [
    "# question 3:- Write a python program to create a person class. Include attributes like name,country and date of birth. Implement a method to determine the age of the person."
   ]
  },
  {
   "cell_type": "code",
   "execution_count": 10,
   "id": "4aa217ef-3498-46fa-824e-4e3db7933ffd",
   "metadata": {},
   "outputs": [
    {
     "name": "stdout",
     "output_type": "stream",
     "text": [
      "Person 1:\n",
      "Name: Rishi\n",
      "Country: Bharat\n",
      "Date of birth: 1989-12-02\n",
      "Age: 33\n",
      "Person 2:\n",
      "Name: Rakhi\n",
      "Country: England\n",
      "Date of birth: 1997-08-30\n",
      "Age: 26\n",
      "Person 3:\n",
      "Name: Rupesh\n",
      "Country: Germany\n",
      "Date of birth: 1993-03-21\n",
      "Age: 30\n"
     ]
    }
   ],
   "source": [
    "from datetime import date\n",
    "class person:\n",
    "    def __init__(self,name,country,date_of_birth):\n",
    "        self.name=name\n",
    "        self.country=country\n",
    "        self.date_of_birth=date_of_birth\n",
    "    def calculate_age(self):\n",
    "        today=date.today()\n",
    "        age=today.year-self.date_of_birth.year\n",
    "        if today < date(today.year,self.date_of_birth.month, self.date_of_birth.day):\n",
    "            age-=1\n",
    "        return age\n",
    "\n",
    "person1= person('Rishi','Bharat',date(1989,12,2))\n",
    "person2= person('Rakhi','England',date(1997,8,30))\n",
    "person3= person('Rupesh','Germany',date(1993,3,21))\n",
    "\n",
    "print('Person 1:')\n",
    "print('Name:',person1.name)\n",
    "print('Country:',person1.country)\n",
    "print('Date of birth:',person1.date_of_birth)\n",
    "print('Age:',person1.calculate_age())\n",
    "\n",
    "print('Person 2:')\n",
    "print('Name:',person2.name)\n",
    "print('Country:',person2.country)\n",
    "print('Date of birth:',person2.date_of_birth)\n",
    "print('Age:',person2.calculate_age())\n",
    "\n",
    "print('Person 3:')\n",
    "print('Name:',person3.name)\n",
    "print('Country:',person3.country)\n",
    "print('Date of birth:',person3.date_of_birth)\n",
    "print('Age:',person3.calculate_age())"
   ]
  },
  {
   "cell_type": "code",
   "execution_count": null,
   "id": "7dfb383a-229a-4589-a482-f6b004c3924d",
   "metadata": {},
   "outputs": [],
   "source": []
  }
 ],
 "metadata": {
  "kernelspec": {
   "display_name": "Python 3 (ipykernel)",
   "language": "python",
   "name": "python3"
  },
  "language_info": {
   "codemirror_mode": {
    "name": "ipython",
    "version": 3
   },
   "file_extension": ".py",
   "mimetype": "text/x-python",
   "name": "python",
   "nbconvert_exporter": "python",
   "pygments_lexer": "ipython3",
   "version": "3.11.5"
  }
 },
 "nbformat": 4,
 "nbformat_minor": 5
}
