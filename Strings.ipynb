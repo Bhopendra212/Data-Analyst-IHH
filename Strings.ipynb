{
 "cells": [
  {
   "cell_type": "code",
   "execution_count": 2,
   "id": "0f42659c-1b70-4305-b558-900d1d9ec0d7",
   "metadata": {},
   "outputs": [
    {
     "name": "stdout",
     "output_type": "stream",
     "text": [
      "In data science python is very important to learn and python is very easy to learn\n"
     ]
    }
   ],
   "source": [
    "s='In data science python is very important to learn'\n",
    "t=' and python is very easy to learn'\n",
    "print(s+t)"
   ]
  },
  {
   "cell_type": "code",
   "execution_count": 5,
   "id": "d3bd6fe9-24ec-4cce-b151-08d5f43b34f4",
   "metadata": {},
   "outputs": [
    {
     "name": "stdout",
     "output_type": "stream",
     "text": [
      "dogdogdog\n"
     ]
    }
   ],
   "source": [
    "a='dog'\n",
    "print(a*3)"
   ]
  },
  {
   "cell_type": "code",
   "execution_count": 6,
   "id": "e4a278c4-d167-4cb7-b809-08a64164e668",
   "metadata": {},
   "outputs": [
    {
     "name": "stdout",
     "output_type": "stream",
     "text": [
      "<class 'int'>\n"
     ]
    }
   ],
   "source": [
    "x=45\n",
    "print(type(x))"
   ]
  },
  {
   "cell_type": "code",
   "execution_count": 7,
   "id": "6732c01b-9936-4cfd-94f9-eafcfd6d9eb7",
   "metadata": {},
   "outputs": [
    {
     "name": "stdout",
     "output_type": "stream",
     "text": [
      "45\n",
      "<class 'str'>\n"
     ]
    }
   ],
   "source": [
    "x=str(x)\n",
    "print(x)\n",
    "print(type(x))"
   ]
  },
  {
   "cell_type": "code",
   "execution_count": 8,
   "id": "5d1119c7-199f-49ab-9e8f-41b791e6fdcf",
   "metadata": {},
   "outputs": [
    {
     "name": "stdout",
     "output_type": "stream",
     "text": [
      "The price of the book  is  12\n"
     ]
    }
   ],
   "source": [
    "price=12\n",
    "m='The price of the book'\n",
    "print(m, ' is ',str(price))"
   ]
  },
  {
   "cell_type": "markdown",
   "id": "b617f22f-1a21-4e0b-94e4-1f49ee115eb0",
   "metadata": {},
   "source": [
    "# Multiline strings"
   ]
  },
  {
   "cell_type": "code",
   "execution_count": 9,
   "id": "96f4c3d7-8a06-4179-8d4e-6991483d1d18",
   "metadata": {},
   "outputs": [],
   "source": [
    "m='hello how are you'"
   ]
  },
  {
   "cell_type": "code",
   "execution_count": 10,
   "id": "093d7a11-87d3-4f14-8e65-0e36d88775fd",
   "metadata": {},
   "outputs": [
    {
     "name": "stdout",
     "output_type": "stream",
     "text": [
      "This is python class\n",
      "we are learning from basics.\n",
      "it is a high level language\n"
     ]
    }
   ],
   "source": [
    "a=\"\"\"This is python class\n",
    "we are learning from basics.\n",
    "it is a high level language\"\"\"\n",
    "print(a)"
   ]
  },
  {
   "cell_type": "code",
   "execution_count": 11,
   "id": "ed60bdcf-374e-4be0-ae53-c6cc0ecf6328",
   "metadata": {},
   "outputs": [
    {
     "name": "stdout",
     "output_type": "stream",
     "text": [
      "This is all about me,\n",
      "i love to travel\n",
      "a:string value\n"
     ]
    }
   ],
   "source": [
    "print(\"\"\"This is all about me,\n",
    "i love to travel\n",
    "a:string value\"\"\")"
   ]
  },
  {
   "cell_type": "markdown",
   "id": "27f6cdf5-2817-47c4-aa8f-e2c8a86ad1ad",
   "metadata": {},
   "source": [
    "# Indexing and slicing in strings"
   ]
  },
  {
   "cell_type": "code",
   "execution_count": 12,
   "id": "4230f260-0b18-4423-a2a1-029ea558441a",
   "metadata": {},
   "outputs": [
    {
     "name": "stdout",
     "output_type": "stream",
     "text": [
      "w\n"
     ]
    }
   ],
   "source": [
    "s=\"why are you so worried about your exams ?\"\n",
    "print(s[0])"
   ]
  },
  {
   "cell_type": "code",
   "execution_count": 13,
   "id": "6b7ed44b-6256-44c1-960e-a9a55b2e0b25",
   "metadata": {},
   "outputs": [
    {
     "name": "stdout",
     "output_type": "stream",
     "text": [
      "u\n"
     ]
    }
   ],
   "source": [
    "s=\"why are you so worried about your exams ?\"\n",
    "print(s[10])"
   ]
  },
  {
   "cell_type": "code",
   "execution_count": 14,
   "id": "ef382eb5-979c-4d23-8454-38cf2d56ed04",
   "metadata": {},
   "outputs": [
    {
     "name": "stdout",
     "output_type": "stream",
     "text": [
      "41\n"
     ]
    }
   ],
   "source": [
    "s=\"why are you so worried about your exams ?\"\n",
    "print(len(s))"
   ]
  },
  {
   "cell_type": "code",
   "execution_count": 15,
   "id": "998c1094-13ee-4a28-9789-5be762c292fe",
   "metadata": {},
   "outputs": [
    {
     "name": "stdout",
     "output_type": "stream",
     "text": [
      "?\n"
     ]
    }
   ],
   "source": [
    "print(s[40])"
   ]
  },
  {
   "cell_type": "code",
   "execution_count": 16,
   "id": "6e1629e9-15f8-4d49-8d36-a90f9b789a00",
   "metadata": {},
   "outputs": [
    {
     "name": "stdout",
     "output_type": "stream",
     "text": [
      "why\n"
     ]
    }
   ],
   "source": [
    "s=\"why are you so worried about your exams ?\"\n",
    "print(s[0:3])"
   ]
  },
  {
   "cell_type": "code",
   "execution_count": 17,
   "id": "cf6f7c6f-38db-4010-b7aa-a1d048cd39fb",
   "metadata": {},
   "outputs": [
    {
     "name": "stdout",
     "output_type": "stream",
     "text": [
      "why ar\n"
     ]
    }
   ],
   "source": [
    "s=\"why are you so worried about your exams ?\"\n",
    "print(s[0:6])"
   ]
  },
  {
   "cell_type": "code",
   "execution_count": 18,
   "id": "f0c9cda4-aac8-4473-a140-6ffe271edae6",
   "metadata": {},
   "outputs": [
    {
     "name": "stdout",
     "output_type": "stream",
     "text": [
      "are you so worried \n"
     ]
    }
   ],
   "source": [
    "s=\"why are you so worried about your exams ?\"\n",
    "print(s[4:23])"
   ]
  },
  {
   "cell_type": "code",
   "execution_count": 19,
   "id": "183eaceb-eac6-47ac-88a8-bbb2e3785f23",
   "metadata": {},
   "outputs": [
    {
     "name": "stdout",
     "output_type": "stream",
     "text": [
      "?\n"
     ]
    }
   ],
   "source": [
    "s=\"why are you so worried about your exams ?\"\n",
    "print(s[-1])"
   ]
  },
  {
   "cell_type": "code",
   "execution_count": 20,
   "id": "ccb79291-c861-4c18-b0af-f43a3840629c",
   "metadata": {},
   "outputs": [
    {
     "name": "stdout",
     "output_type": "stream",
     "text": [
      "m\n"
     ]
    }
   ],
   "source": [
    "s=\"why are you so worried about your exams ?\"\n",
    "print(s[-4])"
   ]
  },
  {
   "cell_type": "code",
   "execution_count": 21,
   "id": "ee182cdc-8a54-45ae-99a1-da12a236783c",
   "metadata": {},
   "outputs": [
    {
     "name": "stdout",
     "output_type": "stream",
     "text": [
      "o\n"
     ]
    }
   ],
   "source": [
    "print(s[-11])"
   ]
  },
  {
   "cell_type": "code",
   "execution_count": 22,
   "id": "e8650f41-5df4-48f7-a525-b913792ffa4b",
   "metadata": {},
   "outputs": [
    {
     "data": {
      "text/plain": [
       "'e you so worried about your exam'"
      ]
     },
     "execution_count": 22,
     "metadata": {},
     "output_type": "execute_result"
    }
   ],
   "source": [
    "s[-35:-3]"
   ]
  },
  {
   "cell_type": "code",
   "execution_count": 23,
   "id": "92580ff8-1deb-4533-9b80-bcb31bdd5639",
   "metadata": {},
   "outputs": [
    {
     "data": {
      "text/plain": [
       "'why are you so worried about your exams ?'"
      ]
     },
     "execution_count": 23,
     "metadata": {},
     "output_type": "execute_result"
    }
   ],
   "source": [
    "s"
   ]
  },
  {
   "cell_type": "code",
   "execution_count": 24,
   "id": "7fa5e71e-14e7-42ff-8bd6-a2b5c6c1d831",
   "metadata": {},
   "outputs": [
    {
     "data": {
      "text/plain": [
       "'wyaeyus '"
      ]
     },
     "execution_count": 24,
     "metadata": {},
     "output_type": "execute_result"
    }
   ],
   "source": [
    "s[0:15:2]"
   ]
  },
  {
   "cell_type": "code",
   "execution_count": 25,
   "id": "a9f6a92c-adce-41d0-afe7-80e78dc004b2",
   "metadata": {},
   "outputs": [
    {
     "data": {
      "text/plain": [
       "'? smaxe ruoy tuoba deirrow os uoy era yhw'"
      ]
     },
     "execution_count": 25,
     "metadata": {},
     "output_type": "execute_result"
    }
   ],
   "source": [
    "s[::-1]"
   ]
  },
  {
   "cell_type": "code",
   "execution_count": 26,
   "id": "321613ab-c655-42d5-b8fd-8da5bad5965a",
   "metadata": {},
   "outputs": [
    {
     "data": {
      "text/plain": [
       "'why are you so worried about your exams ?'"
      ]
     },
     "execution_count": 26,
     "metadata": {},
     "output_type": "execute_result"
    }
   ],
   "source": [
    "s"
   ]
  },
  {
   "cell_type": "code",
   "execution_count": 27,
   "id": "932e53a5-4324-4f75-9a7f-1de2f438d88f",
   "metadata": {},
   "outputs": [
    {
     "data": {
      "text/plain": [
       "' eoswrdb'"
      ]
     },
     "execution_count": 27,
     "metadata": {},
     "output_type": "execute_result"
    }
   ],
   "source": [
    "s[3:26:3]"
   ]
  },
  {
   "cell_type": "code",
   "execution_count": 28,
   "id": "dc969d18-2b8d-4805-a344-d0905fbab5f9",
   "metadata": {},
   "outputs": [
    {
     "data": {
      "text/plain": [
       "'why are you so worried about your exams ?'"
      ]
     },
     "execution_count": 28,
     "metadata": {},
     "output_type": "execute_result"
    }
   ],
   "source": [
    "s"
   ]
  },
  {
   "cell_type": "code",
   "execution_count": 29,
   "id": "4f747e6c-9f73-448f-b077-96341a3dc72d",
   "metadata": {},
   "outputs": [
    {
     "data": {
      "text/plain": [
       "'why are you '"
      ]
     },
     "execution_count": 29,
     "metadata": {},
     "output_type": "execute_result"
    }
   ],
   "source": [
    "s[:12]"
   ]
  },
  {
   "cell_type": "code",
   "execution_count": 30,
   "id": "89786cb7-918e-4c3d-9746-a064dd5a7db8",
   "metadata": {},
   "outputs": [
    {
     "data": {
      "text/plain": [
       "'why are you so worried about your exams ?'"
      ]
     },
     "execution_count": 30,
     "metadata": {},
     "output_type": "execute_result"
    }
   ],
   "source": [
    "s"
   ]
  },
  {
   "cell_type": "code",
   "execution_count": 34,
   "id": "b9cb686a-62a8-4a6b-b526-e9642b420157",
   "metadata": {},
   "outputs": [
    {
     "data": {
      "text/plain": [
       "'wyaeyus ore bu oreas?'"
      ]
     },
     "execution_count": 34,
     "metadata": {},
     "output_type": "execute_result"
    }
   ],
   "source": [
    "s[0::2]"
   ]
  },
  {
   "cell_type": "code",
   "execution_count": 36,
   "id": "fb6ea07c-2708-45f5-b18f-d026b2b78994",
   "metadata": {},
   "outputs": [
    {
     "name": "stdout",
     "output_type": "stream",
     "text": [
      "23\n",
      "35\n",
      "35\n",
      "16\n"
     ]
    }
   ],
   "source": [
    "\"\"\" By using a,b,c,d from a string, apples, oranges mangoes are fruits\"\"\"\n",
    "\n",
    "a='Apples are red in color'\n",
    "b='Oranges are sweet and sour in taste'\n",
    "c='Mangoes are rich source of vitamins'\n",
    "d='These are fruits'\n",
    "print(len(a))\n",
    "print(len(b))\n",
    "print(len(c))\n",
    "print(len(d))"
   ]
  },
  {
   "cell_type": "code",
   "execution_count": 41,
   "id": "3a373816-0c52-421a-ba5d-d05702d26fef",
   "metadata": {},
   "outputs": [
    {
     "name": "stdout",
     "output_type": "stream",
     "text": [
      "23\n",
      "35\n",
      "35\n",
      "16\n",
      "Apples\n",
      "Oranges\n",
      "Mangoes\n",
      "are fruits\n",
      "Apples Oranges Mangoes are fruits\n"
     ]
    }
   ],
   "source": [
    "\"\"\" By using a,b,c,d from a string, apples, oranges mangoes are fruits\"\"\"\n",
    "\n",
    "a='Apples are red in color'\n",
    "b='Oranges are sweet and sour in taste'\n",
    "c='Mangoes are rich source of vitamins'\n",
    "d='These are fruits'\n",
    "print(len(a))\n",
    "print(len(b))\n",
    "print(len(c))\n",
    "print(len(d))\n",
    "print(a[:6])\n",
    "print(b[:7])\n",
    "print(c[:7])\n",
    "print(d[-10:])\n",
    "print(a[:6]+\" \"+b[:7]+\" \"+c[:7]+\" \"+d[-10:])"
   ]
  },
  {
   "cell_type": "code",
   "execution_count": null,
   "id": "566bf2ae-2c8a-4b1e-a6b9-54a2917aefb5",
   "metadata": {},
   "outputs": [],
   "source": []
  }
 ],
 "metadata": {
  "kernelspec": {
   "display_name": "Python 3 (ipykernel)",
   "language": "python",
   "name": "python3"
  },
  "language_info": {
   "codemirror_mode": {
    "name": "ipython",
    "version": 3
   },
   "file_extension": ".py",
   "mimetype": "text/x-python",
   "name": "python",
   "nbconvert_exporter": "python",
   "pygments_lexer": "ipython3",
   "version": "3.11.5"
  }
 },
 "nbformat": 4,
 "nbformat_minor": 5
}
