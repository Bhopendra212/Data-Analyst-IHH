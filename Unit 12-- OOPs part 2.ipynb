{
 "cells": [
  {
   "cell_type": "markdown",
   "id": "7f30aa6e-12aa-4e25-ac10-f1e7897e1718",
   "metadata": {},
   "source": [
    "# encapsulation"
   ]
  },
  {
   "cell_type": "code",
   "execution_count": 1,
   "id": "809e8678-91f8-4038-8884-81056e1f9f2f",
   "metadata": {},
   "outputs": [],
   "source": [
    "class test:\n",
    "    def __init__(self,a,b):\n",
    "        self.a=a\n",
    "        self.b=b"
   ]
  },
  {
   "cell_type": "code",
   "execution_count": 3,
   "id": "c6c51116-9f78-4020-adb6-6d20791ca219",
   "metadata": {},
   "outputs": [],
   "source": [
    "t=test(2,5)"
   ]
  },
  {
   "cell_type": "code",
   "execution_count": 4,
   "id": "32d4ef22-49ec-4132-bb10-cfecb1751fda",
   "metadata": {},
   "outputs": [],
   "source": [
    "t.a=2565"
   ]
  },
  {
   "cell_type": "code",
   "execution_count": 5,
   "id": "db3fb6cd-3ea1-4a7d-a12f-a76e976955d5",
   "metadata": {},
   "outputs": [
    {
     "data": {
      "text/plain": [
       "2565"
      ]
     },
     "execution_count": 5,
     "metadata": {},
     "output_type": "execute_result"
    }
   ],
   "source": [
    "t.a"
   ]
  },
  {
   "cell_type": "code",
   "execution_count": 6,
   "id": "59f6a77b-405d-4467-80e4-032562d901b9",
   "metadata": {},
   "outputs": [
    {
     "data": {
      "text/plain": [
       "5"
      ]
     },
     "execution_count": 6,
     "metadata": {},
     "output_type": "execute_result"
    }
   ],
   "source": [
    "t.b"
   ]
  },
  {
   "cell_type": "code",
   "execution_count": 7,
   "id": "2aa13b21-c810-4407-a8b3-efd325cb26a4",
   "metadata": {},
   "outputs": [],
   "source": [
    "t.b=100"
   ]
  },
  {
   "cell_type": "code",
   "execution_count": 8,
   "id": "714ce7e0-6d00-4316-940b-f389e45be310",
   "metadata": {},
   "outputs": [
    {
     "data": {
      "text/plain": [
       "100"
      ]
     },
     "execution_count": 8,
     "metadata": {},
     "output_type": "execute_result"
    }
   ],
   "source": [
    "t.b"
   ]
  },
  {
   "cell_type": "code",
   "execution_count": 10,
   "id": "5ff8db01-aa52-47b1-979b-b597e17dccaa",
   "metadata": {},
   "outputs": [],
   "source": [
    "class test1:\n",
    "    def __init__(self,a,b):\n",
    "        self.__a=a\n",
    "        self.__b=b"
   ]
  },
  {
   "cell_type": "code",
   "execution_count": 11,
   "id": "4233fea9-7741-480c-a25a-7b5a02136680",
   "metadata": {},
   "outputs": [],
   "source": [
    "t1=test1(25,30)"
   ]
  },
  {
   "cell_type": "code",
   "execution_count": 14,
   "id": "855dab01-9be9-4430-8d55-a58cda2313a2",
   "metadata": {},
   "outputs": [
    {
     "data": {
      "text/plain": [
       "25"
      ]
     },
     "execution_count": 14,
     "metadata": {},
     "output_type": "execute_result"
    }
   ],
   "source": [
    "t1._test1__a"
   ]
  },
  {
   "cell_type": "code",
   "execution_count": 15,
   "id": "3074313f-848c-4938-b091-67885e0ea97a",
   "metadata": {},
   "outputs": [
    {
     "data": {
      "text/plain": [
       "30"
      ]
     },
     "execution_count": 15,
     "metadata": {},
     "output_type": "execute_result"
    }
   ],
   "source": [
    "t1._test1__b"
   ]
  },
  {
   "cell_type": "code",
   "execution_count": 16,
   "id": "107ee302-f818-472c-afb5-410a12d7080e",
   "metadata": {},
   "outputs": [],
   "source": [
    "class bank_account:\n",
    "    def __init__(self,balance):\n",
    "        self.__balance=balance\n",
    "\n",
    "    def deposit(self,amount):\n",
    "        self.__balance=self.__balance+amount\n",
    "\n",
    "    def withdraw(self,amount):\n",
    "        if self.__balance>=amount:\n",
    "            self.__balance=self.__balance-amount\n",
    "        else:\n",
    "            return False\n",
    "    def get_balance(self):\n",
    "        return self.__balance"
   ]
  },
  {
   "cell_type": "code",
   "execution_count": 17,
   "id": "c3988ec9-86c3-4c97-a66e-39069cd408d4",
   "metadata": {},
   "outputs": [],
   "source": [
    "rishi=bank_account(2000)"
   ]
  },
  {
   "cell_type": "code",
   "execution_count": 19,
   "id": "19a150db-1507-46b0-bb86-bbc8ef66b199",
   "metadata": {},
   "outputs": [
    {
     "data": {
      "text/plain": [
       "2000"
      ]
     },
     "execution_count": 19,
     "metadata": {},
     "output_type": "execute_result"
    }
   ],
   "source": [
    "rishi.get_balance()"
   ]
  },
  {
   "cell_type": "code",
   "execution_count": 20,
   "id": "e4e6e7f3-9358-4249-8125-a1e86f6e0e89",
   "metadata": {},
   "outputs": [],
   "source": [
    "rishi.deposit(4000)"
   ]
  },
  {
   "cell_type": "code",
   "execution_count": 21,
   "id": "0569d1c6-daa5-492f-8915-2e1fc1c869b6",
   "metadata": {},
   "outputs": [
    {
     "data": {
      "text/plain": [
       "6000"
      ]
     },
     "execution_count": 21,
     "metadata": {},
     "output_type": "execute_result"
    }
   ],
   "source": [
    "rishi.get_balance()"
   ]
  },
  {
   "cell_type": "code",
   "execution_count": 22,
   "id": "7d671ba7-500b-4407-aba9-3e085c1aea20",
   "metadata": {},
   "outputs": [
    {
     "data": {
      "text/plain": [
       "False"
      ]
     },
     "execution_count": 22,
     "metadata": {},
     "output_type": "execute_result"
    }
   ],
   "source": [
    "rishi.withdraw(7000)"
   ]
  },
  {
   "cell_type": "code",
   "execution_count": 23,
   "id": "0b4132af-bbd7-4ade-9ef4-1f30d3e9b035",
   "metadata": {},
   "outputs": [],
   "source": [
    "rishi.withdraw(2000)"
   ]
  },
  {
   "cell_type": "code",
   "execution_count": 26,
   "id": "3e0f298a-de0b-4664-b678-27c8fbb5f693",
   "metadata": {},
   "outputs": [
    {
     "data": {
      "text/plain": [
       "4000"
      ]
     },
     "execution_count": 26,
     "metadata": {},
     "output_type": "execute_result"
    }
   ],
   "source": [
    "rishi.get_balance()"
   ]
  },
  {
   "cell_type": "markdown",
   "id": "61e7d00c-806e-46a5-abf7-ebba9fc6bfd1",
   "metadata": {},
   "source": [
    "# inheritance"
   ]
  },
  {
   "cell_type": "code",
   "execution_count": 27,
   "id": "f41ad7af-21f7-4c24-ac7a-de5fc3056d31",
   "metadata": {},
   "outputs": [],
   "source": [
    "class demo:\n",
    "    def inherit(self):\n",
    "        print('This is the concept of inheritance')"
   ]
  },
  {
   "cell_type": "code",
   "execution_count": 28,
   "id": "40422262-9172-447d-977c-d18c6c8e0842",
   "metadata": {},
   "outputs": [],
   "source": [
    "class child(demo):\n",
    "    pass"
   ]
  },
  {
   "cell_type": "code",
   "execution_count": 29,
   "id": "60bd0a4b-8a33-4fc3-a0cb-8d464ff6da1f",
   "metadata": {},
   "outputs": [],
   "source": [
    "child_obj=child()"
   ]
  },
  {
   "cell_type": "code",
   "execution_count": 31,
   "id": "f57726a8-65cc-4c9a-9644-15ce18147b8b",
   "metadata": {},
   "outputs": [
    {
     "name": "stdout",
     "output_type": "stream",
     "text": [
      "This is the concept of inheritance\n"
     ]
    }
   ],
   "source": [
    "child_obj.inherit()"
   ]
  },
  {
   "cell_type": "markdown",
   "id": "7263a75f-08c2-4f2a-924a-6d8f77bfad06",
   "metadata": {},
   "source": [
    "# multilevel inheritance"
   ]
  },
  {
   "cell_type": "code",
   "execution_count": 32,
   "id": "a89b2546-f226-4400-82fa-86253d234950",
   "metadata": {},
   "outputs": [],
   "source": [
    "class class1:\n",
    "    def learn(self):\n",
    "        print('This is th method of class1')"
   ]
  },
  {
   "cell_type": "code",
   "execution_count": 33,
   "id": "43bae390-03f7-476f-9e5e-100bd2c233c2",
   "metadata": {},
   "outputs": [],
   "source": [
    "class class2(class1):\n",
    "    def test(self):\n",
    "        print('This is the method of class2')"
   ]
  },
  {
   "cell_type": "code",
   "execution_count": 34,
   "id": "5ea68137-16d1-4495-889c-0c9abebcd4db",
   "metadata": {},
   "outputs": [],
   "source": [
    "class class3(class2):\n",
    "    pass"
   ]
  },
  {
   "cell_type": "code",
   "execution_count": 35,
   "id": "28f2e194-83fb-48ea-afa4-a7b495a6be91",
   "metadata": {},
   "outputs": [],
   "source": [
    "class3_obj=class3()"
   ]
  },
  {
   "cell_type": "code",
   "execution_count": 36,
   "id": "07b9d072-6671-4d78-af3c-f131bf4ef5d2",
   "metadata": {},
   "outputs": [],
   "source": [
    "class2_obj=class2()"
   ]
  },
  {
   "cell_type": "code",
   "execution_count": 37,
   "id": "a4dcbf38-4261-4ec4-bf76-535afb927f1e",
   "metadata": {},
   "outputs": [
    {
     "name": "stdout",
     "output_type": "stream",
     "text": [
      "This is the method of class2\n"
     ]
    }
   ],
   "source": [
    "class3_obj.test()"
   ]
  },
  {
   "cell_type": "code",
   "execution_count": 38,
   "id": "dab996d5-1f24-4249-ac4c-92e02a7af404",
   "metadata": {},
   "outputs": [
    {
     "name": "stdout",
     "output_type": "stream",
     "text": [
      "This is th method of class1\n"
     ]
    }
   ],
   "source": [
    "class3_obj.learn()"
   ]
  },
  {
   "cell_type": "markdown",
   "id": "721a5d3e-b672-4849-83e3-aab7a86c8471",
   "metadata": {},
   "source": [
    "# multiple inheritance"
   ]
  },
  {
   "cell_type": "code",
   "execution_count": 39,
   "id": "aef28b56-2bd1-46f7-bbe6-f4b92a57c2aa",
   "metadata": {},
   "outputs": [],
   "source": [
    "class class1:\n",
    "    def fun1(self):\n",
    "        print('this is class1')"
   ]
  },
  {
   "cell_type": "code",
   "execution_count": 40,
   "id": "f9e93db3-be4b-4ed2-80d3-715acd0d3ac8",
   "metadata": {},
   "outputs": [],
   "source": [
    "class class2:\n",
    "    def fun2(self):\n",
    "        print('this is class2')"
   ]
  },
  {
   "cell_type": "code",
   "execution_count": 41,
   "id": "cdfd5b64-2423-463a-9b38-f8daeb09a5e3",
   "metadata": {},
   "outputs": [],
   "source": [
    "class class3(class1,class2):\n",
    "    pass"
   ]
  },
  {
   "cell_type": "code",
   "execution_count": 42,
   "id": "0b13839e-fb0b-4aca-906c-b124ef3aba3f",
   "metadata": {},
   "outputs": [],
   "source": [
    "class3_obj=class3()"
   ]
  },
  {
   "cell_type": "code",
   "execution_count": 43,
   "id": "74325510-efcc-419e-a619-9565287c591b",
   "metadata": {},
   "outputs": [
    {
     "name": "stdout",
     "output_type": "stream",
     "text": [
      "this is class1\n"
     ]
    }
   ],
   "source": [
    "class3_obj.fun1()"
   ]
  },
  {
   "cell_type": "code",
   "execution_count": 44,
   "id": "90d1b306-dd7d-4f11-b4c4-544bec72f6c3",
   "metadata": {},
   "outputs": [
    {
     "name": "stdout",
     "output_type": "stream",
     "text": [
      "this is class2\n"
     ]
    }
   ],
   "source": [
    "class3_obj.fun2()"
   ]
  },
  {
   "cell_type": "code",
   "execution_count": null,
   "id": "9a8af4e7-7428-4d43-84dc-16f1851103f3",
   "metadata": {},
   "outputs": [],
   "source": []
  }
 ],
 "metadata": {
  "kernelspec": {
   "display_name": "Python 3 (ipykernel)",
   "language": "python",
   "name": "python3"
  },
  "language_info": {
   "codemirror_mode": {
    "name": "ipython",
    "version": 3
   },
   "file_extension": ".py",
   "mimetype": "text/x-python",
   "name": "python",
   "nbconvert_exporter": "python",
   "pygments_lexer": "ipython3",
   "version": "3.11.5"
  }
 },
 "nbformat": 4,
 "nbformat_minor": 5
}
